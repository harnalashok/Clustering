{
  "nbformat": 4,
  "nbformat_minor": 0,
  "metadata": {
    "colab": {
      "provenance": [],
      "include_colab_link": true
    },
    "kernelspec": {
      "name": "python3",
      "display_name": "Python 3"
    }
  },
  "cells": [
    {
      "cell_type": "markdown",
      "metadata": {
        "id": "view-in-github",
        "colab_type": "text"
      },
      "source": [
        "<a href=\"https://colab.research.google.com/github/harnalashok/Clustering/blob/master/generators_in_python.ipynb\" target=\"_parent\"><img src=\"https://colab.research.google.com/assets/colab-badge.svg\" alt=\"Open In Colab\"/></a>"
      ]
    },
    {
      "cell_type": "code",
      "metadata": {
        "id": "pDs1qjOF1UgL"
      },
      "source": [
        "# Last amended: 09th Dec, 2022\n",
        "# Myfolder: /home/ashok/Documents/2. data_augmentation\n",
        "# VM: lubuntu_deeplearning\n",
        "# Ref: Page 136, Chapter 5, Deeplearning with Python by Fracois Chollet\n",
        "#      https://stackoverflow.com/questions/29864366/difference-between-function-and-generator\n",
        "\n",
        "# Objectives:\n",
        "#              a)How a generator works\n",
        "#              b)Applications of a generator\n",
        "\n"
      ],
      "execution_count": null,
      "outputs": []
    },
    {
      "cell_type": "code",
      "metadata": {
        "id": "oJ6uYC2vomby"
      },
      "source": [
        "# 1.0.4 Display output from multiple commands\n",
        "from IPython.core.interactiveshell import InteractiveShell\n",
        "InteractiveShell.ast_node_interactivity = \"all\""
      ],
      "execution_count": 1,
      "outputs": []
    },
    {
      "cell_type": "markdown",
      "source": [
        "## What are iterator, iterable, and iteration?\n",
        "Ref StackOverflow [here](https://stackoverflow.com/a/9884259)"
      ],
      "metadata": {
        "id": "xGOpgXc6755i"
      }
    },
    {
      "cell_type": "markdown",
      "source": [
        "Iterable and iterators<br>\n",
        "An iterable is an object that has an *\\_\\_iter\\_\\_()* method that returns an iterator<br>\n",
        "An iterator has a \\_\\_next\\_\\_() method that returns a value from container. An iterator has a state.<br>\n",
        "Whenever one uses a for loop (`for x in iterable:`) , or `map`, or a `list` comprehension, etc. in Python, the `next` method is called automatically to get each item from the iterator, thus going through the process of iteration. "
      ],
      "metadata": {
        "id": "qSl1PIuS7_FC"
      }
    },
    {
      "cell_type": "code",
      "source": [
        "s = 'cat'          # s is an ITERABLE\n",
        "                   # s is a str object that is immutable\n",
        "                   # s has no state\n",
        "                   # s has a __getitem__() method \n",
        "\n",
        "t = iter(s)        # t is an ITERATOR\n",
        "                   # t has state (it starts by pointing at the \"c\"\n",
        "                   # t has a next() method and an __iter__() method\n",
        "\n",
        "next(t)            # the next() function returns the next value and advances the state\n",
        "\n",
        "next(t)            # the next() function returns the next value and advances\n",
        "\n",
        "next(t)            # the next() function returns the next value and advances\n",
        "\n",
        "next(t)            # next() raises StopIteration to signal that iteration is complete"
      ],
      "metadata": {
        "id": "5ADUOKfO_XEo"
      },
      "execution_count": null,
      "outputs": []
    },
    {
      "cell_type": "markdown",
      "metadata": {
        "id": "pVKjg_dOn2lD"
      },
      "source": [
        "\n",
        "\n",
        "## What is a generator?\n",
        "A generator is very similar to a function\n",
        "that returns an array, in that a generator has parameters, can be called, and generates a sequence of values. However, instead of building an array containing all the values and returning them all at once, a generator yields the values one at a time, which requires less memory and allows the caller to get started processing the first few values immediately. In short, a generator looks like a function but behaves like an iterator.<br>\n",
        "A generator is BOTH an iterable (so can be used in for-loop) and is also an iterator, so has a \\_\\_next\\_\\_() method."
      ]
    },
    {
      "cell_type": "code",
      "metadata": {
        "id": "mfKQ2ObS1oWg"
      },
      "source": [
        "# Example 1\n",
        "# Objective: To get values from 1 to infinity, on demand (lazily)\n",
        "#\n",
        "# 2.0 \n",
        "def mygenerator():\n",
        "    i = 0\n",
        "    # 1.2\n",
        "    while True:\n",
        "        i += 1\n",
        "        yield i     # 'yield' returns a value\n",
        "                    # Unlike in return statement\n",
        "                    # function is not terminated.\n",
        "                    # This statement pauses the\n",
        "                    # function saving all its states\n",
        "                    # and later continues from there\n",
        "                    # on successive calls.\n"
      ],
      "execution_count": 3,
      "outputs": []
    },
    {
      "cell_type": "code",
      "metadata": {
        "id": "dM_Z_tt82tzE",
        "colab": {
          "base_uri": "https://localhost:8080/"
        },
        "outputId": "14872323-1db5-42b1-dff8-a1bea677994b"
      },
      "source": [
        "# 2.1 Using generator as iterator in a for-loop: \n",
        "for item in mygenerator():\n",
        "    # 2.1\n",
        "    print(item)\n",
        "    # 2.2\n",
        "    if item >=4:\n",
        "        break"
      ],
      "execution_count": null,
      "outputs": [
        {
          "output_type": "stream",
          "text": [
            "1\n",
            "2\n",
            "3\n",
            "4\n"
          ],
          "name": "stdout"
        }
      ]
    },
    {
      "cell_type": "code",
      "metadata": {
        "colab": {
          "base_uri": "https://localhost:8080/",
          "height": 214
        },
        "id": "JCn4TvV9pkv7",
        "outputId": "7c0fa116-7c24-49cf-9890-e543cebb7bff"
      },
      "source": [
        "# 2.2 Generator with __iter__() method\n",
        "#     Like an iterable, a generator has __iter__() method\n",
        "#     but it returns the same generator ('return self')\n",
        "#     and Not an iterator\n",
        "\n",
        "# 2.2.1 Lists, tuples, dictionaries,\n",
        "#       and sets are all iterable objects. \n",
        "#       They are iterable containers which \n",
        "#       you can get an iterator from.\n",
        "\n",
        "l = [1,2,3,4]\n",
        "r = l.__iter__()   # Same as iter(l)\n",
        "f\"Type of r is {type(r)}\"\n",
        "print(\"\\n\")\n",
        "f\"Type of r is {iter(r)}\"\n",
        "print(\"\\n\")\n",
        "f\"next() method works on an iterator: {next(r)}\"\n",
        "print(\"\\n\")\n",
        "f\"--------------\"\n",
        "# 2.2.2\n",
        "ir = mygenerator().__iter__()\n",
        "print(\"\\n\")\n",
        "f\"type of ir is {type(ir)}\"\n",
        "print(\"\\n\")\n",
        "f\"Output of next(ir) is: {next(ir)}\""
      ],
      "execution_count": 4,
      "outputs": [
        {
          "output_type": "execute_result",
          "data": {
            "text/plain": [
              "\"Type of r is <class 'list_iterator'>\""
            ],
            "application/vnd.google.colaboratory.intrinsic+json": {
              "type": "string"
            }
          },
          "metadata": {},
          "execution_count": 4
        },
        {
          "output_type": "stream",
          "name": "stdout",
          "text": [
            "\n",
            "\n"
          ]
        },
        {
          "output_type": "execute_result",
          "data": {
            "text/plain": [
              "'Type of r is <list_iterator object at 0x7f639d4272b0>'"
            ],
            "application/vnd.google.colaboratory.intrinsic+json": {
              "type": "string"
            }
          },
          "metadata": {},
          "execution_count": 4
        },
        {
          "output_type": "stream",
          "name": "stdout",
          "text": [
            "\n",
            "\n"
          ]
        },
        {
          "output_type": "execute_result",
          "data": {
            "text/plain": [
              "'next() method works on an iterator: 1'"
            ],
            "application/vnd.google.colaboratory.intrinsic+json": {
              "type": "string"
            }
          },
          "metadata": {},
          "execution_count": 4
        },
        {
          "output_type": "stream",
          "name": "stdout",
          "text": [
            "\n",
            "\n"
          ]
        },
        {
          "output_type": "execute_result",
          "data": {
            "text/plain": [
              "'--------------'"
            ],
            "application/vnd.google.colaboratory.intrinsic+json": {
              "type": "string"
            }
          },
          "metadata": {},
          "execution_count": 4
        },
        {
          "output_type": "stream",
          "name": "stdout",
          "text": [
            "\n",
            "\n"
          ]
        },
        {
          "output_type": "execute_result",
          "data": {
            "text/plain": [
              "\"type of ir is <class 'generator'>\""
            ],
            "application/vnd.google.colaboratory.intrinsic+json": {
              "type": "string"
            }
          },
          "metadata": {},
          "execution_count": 4
        },
        {
          "output_type": "stream",
          "name": "stdout",
          "text": [
            "\n",
            "\n"
          ]
        },
        {
          "output_type": "execute_result",
          "data": {
            "text/plain": [
              "'Output of next(ir) is: 1'"
            ],
            "application/vnd.google.colaboratory.intrinsic+json": {
              "type": "string"
            }
          },
          "metadata": {},
          "execution_count": 4
        }
      ]
    },
    {
      "cell_type": "code",
      "metadata": {
        "colab": {
          "base_uri": "https://localhost:8080/"
        },
        "id": "Y6ODkMXw3Ymz",
        "outputId": "ac114f78-b2aa-4a9c-944d-026a354fb03d"
      },
      "source": [
        "# 2.3 Also like an iterator, \n",
        "#     it returns a value using next()\n",
        "ab = mygenerator()\n",
        "next(ab)"
      ],
      "execution_count": 5,
      "outputs": [
        {
          "output_type": "execute_result",
          "data": {
            "text/plain": [
              "1"
            ]
          },
          "metadata": {},
          "execution_count": 5
        }
      ]
    },
    {
      "cell_type": "code",
      "metadata": {
        "id": "GwubYf3y4GTA"
      },
      "source": [
        "# 2.4 Or use in for loop as an iterable, as\n",
        "for i in ab:\n",
        "    print(i)\n",
        "    if i > 20:\n",
        "        break"
      ],
      "execution_count": null,
      "outputs": []
    },
    {
      "cell_type": "code",
      "metadata": {
        "id": "he3NcpAD4TSQ"
      },
      "source": [
        "## 3\n",
        "## Example 2\n",
        "# 3.1 A generator that takes an argument and\n",
        "#     starts from there\n",
        "def arggen(st):\n",
        "    while True:\n",
        "        st = st * 2\n",
        "        yield st"
      ],
      "execution_count": 7,
      "outputs": []
    },
    {
      "cell_type": "code",
      "metadata": {
        "colab": {
          "base_uri": "https://localhost:8080/"
        },
        "id": "XwxZyO0T4nb5",
        "outputId": "680b6f00-bb08-44e2-84f9-626360f98aef"
      },
      "source": [
        "# 3.2\n",
        "t = arggen(4)\n",
        "print(next(t))\n",
        "print(next(t))"
      ],
      "execution_count": null,
      "outputs": [
        {
          "output_type": "stream",
          "text": [
            "8\n",
            "16\n"
          ],
          "name": "stdout"
        }
      ]
    },
    {
      "cell_type": "code",
      "metadata": {
        "id": "TkxXN3dP5OA9"
      },
      "source": [
        "#################\n",
        "# 4. Another example\n",
        "#    https://realpython.com/introduction-to-python-generators/\n",
        "#################\n",
        "\n",
        "\n",
        "# 4.1 Execution begins at the start of the function\n",
        "#     When calling next() the first time,\n",
        "#     body and continues until the next yield statement\n",
        "#     where the value to the right of the statement is returned,\n",
        "#     subsequent calls to next() continue from the yield statement\n",
        "#     to the end of the function, and loop around and continue from\n",
        "#     the start of the function body until another yield is called.\n",
        "\n",
        "# 4.2\n",
        "def countdown(num):\n",
        "    print('Starting')\n",
        "    i = 0\n",
        "    while num > 0:\n",
        "        i = i+1          # Note that even value of 'i' will be remembered\n",
        "        print(i)         #  between calls even though it is not 'yielded'\n",
        "        yield num\n",
        "        num -= 1"
      ],
      "execution_count": 9,
      "outputs": []
    },
    {
      "cell_type": "code",
      "metadata": {
        "colab": {
          "base_uri": "https://localhost:8080/"
        },
        "id": "itQXUoy_5Ssb",
        "outputId": "a4a2a1df-8477-49a8-e68c-5c900100216d"
      },
      "source": [
        "# 4.3\n",
        "val = countdown(5)\n",
        "val"
      ],
      "execution_count": 10,
      "outputs": [
        {
          "output_type": "execute_result",
          "data": {
            "text/plain": [
              "<generator object countdown at 0x7f639e498970>"
            ]
          },
          "metadata": {},
          "execution_count": 10
        }
      ]
    },
    {
      "cell_type": "code",
      "metadata": {
        "id": "-NunqovV50Eg",
        "colab": {
          "base_uri": "https://localhost:8080/"
        },
        "outputId": "72b3cb5e-73db-4170-b0d1-39e05d9160b7"
      },
      "source": [
        "# 4.4\n",
        "print(next(val))\n",
        "# 4.5\n",
        "print(next(val))"
      ],
      "execution_count": 11,
      "outputs": [
        {
          "output_type": "stream",
          "name": "stdout",
          "text": [
            "Starting\n",
            "1\n",
            "5\n",
            "2\n",
            "4\n"
          ]
        }
      ]
    },
    {
      "cell_type": "markdown",
      "metadata": {
        "id": "DylieZqmsozK"
      },
      "source": [
        "## Applications of Generator"
      ]
    },
    {
      "cell_type": "markdown",
      "metadata": {
        "id": "ahxEVa3uwQR7"
      },
      "source": [
        "### A. In scikit-learn\n",
        "Generating stratified splits of data.\n",
        "`StratifiedShuffleSplit` has NO `.fit` or `.transform` method. But has `.split()` method."
      ]
    },
    {
      "cell_type": "code",
      "metadata": {
        "id": "bw4SC3ibtCCb"
      },
      "source": [
        "# 5.1 Call libraries and create some data\n",
        "import numpy as np\n",
        "from sklearn.model_selection import StratifiedShuffleSplit\n",
        "# 5.2\n",
        "X = np.array([[1, 2], [3, 4], [1, 2], [3, 4], [1, 2], [3, 4]])\n",
        "y = np.array([0, 0, 0, 1, 1, 1])\n"
      ],
      "execution_count": null,
      "outputs": []
    },
    {
      "cell_type": "code",
      "metadata": {
        "id": "-yGu-GvOtRYI",
        "colab": {
          "base_uri": "https://localhost:8080/",
          "height": 36
        },
        "outputId": "03ee797b-5036-4f41-dce8-57abefe6ca43"
      },
      "source": [
        "# 5.3\n",
        "# Instantiate StratifiedShuffleSplit object\n",
        "sss = StratifiedShuffleSplit(\n",
        "                             n_splits=5,\n",
        "                             test_size=0.5,\n",
        "                             random_state=0\n",
        "                             )\n",
        "\n",
        "# 5.4 Unlike other sklearn classes, 'sss'\n",
        "#     HAS NO .fit or .transform method.\n",
        "#     Instead, it has .split() method.\n",
        "#     Get a generator for splitting (X,y)\n",
        "sp = sss.split(X,y)  # 'sp' is a generator\n",
        "f\"Type of sp is {type(sp)}\""
      ],
      "execution_count": null,
      "outputs": [
        {
          "output_type": "execute_result",
          "data": {
            "application/vnd.google.colaboratory.intrinsic+json": {
              "type": "string"
            },
            "text/plain": [
              "\"Type of sp is <class 'generator'>\""
            ]
          },
          "metadata": {
            "tags": []
          },
          "execution_count": 45
        }
      ]
    },
    {
      "cell_type": "code",
      "metadata": {
        "id": "u-mG4ja5t9Zl"
      },
      "source": [
        "# 5.5 A Generator is both an iterable ie has an __iter__()\n",
        "#     method and also is an iterator, that is it has a __next__()\n",
        "#     method\n",
        "print(next(sp))\n",
        "print(next(sp))"
      ],
      "execution_count": null,
      "outputs": []
    },
    {
      "cell_type": "code",
      "metadata": {
        "colab": {
          "base_uri": "https://localhost:8080/"
        },
        "id": "QtI3QOVKv6VE",
        "outputId": "49f1afda-fd86-435a-fc95-dd397161615d"
      },
      "source": [
        "# 5.6 USe 'sp' in a for-loop\n",
        "for train_index, test_index in sp:\n",
        "    print(\"TRAIN:\", train_index, \"TEST:\", test_index)\n",
        "    X_train, X_test = X[train_index], X[test_index]\n",
        "    y_train, y_test = y[train_index], y[test_index]"
      ],
      "execution_count": null,
      "outputs": [
        {
          "output_type": "stream",
          "text": [
            "TRAIN: [5 0 2] TEST: [4 3 1]\n",
            "TRAIN: [4 1 0] TEST: [2 3 5]\n",
            "TRAIN: [0 5 1] TEST: [3 4 2]\n"
          ],
          "name": "stdout"
        }
      ]
    },
    {
      "cell_type": "markdown",
      "metadata": {
        "id": "uMr6v31cwa5Q"
      },
      "source": [
        "### B. Reading a very large file, line-by-line"
      ]
    },
    {
      "cell_type": "code",
      "metadata": {
        "id": "mJvmf1D5k28l"
      },
      "source": [
        "# 6.0 Reading a very large file\n",
        "#     line-by-line:\n",
        "# Ref: https://realpython.com/introduction-to-python-generators/\n"
      ],
      "execution_count": null,
      "outputs": []
    },
    {
      "cell_type": "code",
      "metadata": {
        "id": "TnZpOJw2gyY-"
      },
      "source": [
        "# 6.1 Call libraries\n",
        "import os\n",
        "#Path on our hard-disk\n",
        "#path = \"C:\\\\Users\\\\Administrator\\\\OneDrive\\\\Documents\\\\advertising\"\n",
        "#os.chdir(path)\n",
        "#Path on our Google drive\n",
        "path = \"/content/drive/MyDrive/Colab_data_files/\"\n",
        "os.chdir(path)\n",
        "os.listdir(path)"
      ],
      "execution_count": null,
      "outputs": []
    },
    {
      "cell_type": "code",
      "metadata": {
        "id": "ojDwEvnkloLM"
      },
      "source": [
        "# 6.2 \n",
        "#abc = open(\"advertising.csv\", \"r\")\n",
        "abc = open(\"winequality-red.csv\", \"r\")\n",
        "# 6.2.1\n",
        "type(abc)    # _io.TextIOWrapper\n",
        "\n",
        "# 6.2.2 Read and print complete file\n",
        "print(abc.read())\n"
      ],
      "execution_count": null,
      "outputs": []
    },
    {
      "cell_type": "code",
      "metadata": {
        "id": "Ll4_2VAKmqcV"
      },
      "source": [
        "# 6.3 Define a function to read complete file\n",
        "def csv_reader1(file_name):\n",
        "    for row in open(file_name, \"r\"):\n",
        "        print (row)\n",
        "\n",
        "csv_reader1(\"winequality-red.csv\")       "
      ],
      "execution_count": null,
      "outputs": []
    },
    {
      "cell_type": "code",
      "metadata": {
        "id": "XFQy1PxCm7o1"
      },
      "source": [
        "# 6.4 Define a function to read file, line-by-line\n",
        "def csv_reader2(file_name):\n",
        "    for row in open(file_name, \"r\"):\n",
        "        yield row\n",
        "\n",
        "# 6.5 Read line by line. It is lazy.\n",
        "t = csv_reader2(\"winequality-red.csv\").__iter__()\n",
        "next(t)\n",
        "next(t)"
      ],
      "execution_count": null,
      "outputs": []
    },
    {
      "cell_type": "markdown",
      "metadata": {
        "id": "hQjniTAJyZuP"
      },
      "source": [
        "### C. Reading a very deep SQL database\n",
        "See this [link](https://stackoverflow.com/a/23530101/3282777) in StackOverflow"
      ]
    },
    {
      "cell_type": "markdown",
      "metadata": {
        "id": "FraBgoNXyPXA"
      },
      "source": [
        "### D. As image generator\n",
        "See this [link](https://github.com/harnalashok/deeplearning/blob/main/image_augmentation.ipynb) in github "
      ]
    },
    {
      "cell_type": "code",
      "metadata": {
        "id": "iETN6VwOyOes"
      },
      "source": [
        "############### I am done ##########333"
      ],
      "execution_count": null,
      "outputs": []
    }
  ]
}