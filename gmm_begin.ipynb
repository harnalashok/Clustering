{
  "cells": [
    {
      "cell_type": "markdown",
      "metadata": {
        "id": "view-in-github",
        "colab_type": "text"
      },
      "source": [
        "<a href=\"https://colab.research.google.com/github/harnalashok/Clustering/blob/master/gmm_begin.ipynb\" target=\"_parent\"><img src=\"https://colab.research.google.com/assets/colab-badge.svg\" alt=\"Open In Colab\"/></a>"
      ]
    },
    {
      "cell_type": "markdown",
      "source": [
        "## Gaussian Mixture Modeling\n",
        "Refer [here](https://scikit-learn.org/stable/auto_examples/mixture/plot_gmm.html#sphx-glr-auto-examples-mixture-plot-gmm-py)"
      ],
      "metadata": {
        "id": "mRCm_YtI047D"
      }
    },
    {
      "cell_type": "markdown",
      "source": [
        "### Call libraries"
      ],
      "metadata": {
        "id": "SZCuEcV309tI"
      }
    },
    {
      "cell_type": "code",
      "execution_count": 122,
      "metadata": {
        "id": "fiVdQ4yxU9uC"
      },
      "outputs": [],
      "source": [
        "# 1.0.1 This line should be in the very first cell\n",
        "#        There is now no need to call the show()\n",
        "#       https://stackoverflow.com/a/51659116/3282777\n",
        "%matplotlib inline"
      ]
    },
    {
      "cell_type": "code",
      "source": [
        "# 1.0.2\n",
        "import numpy as np\n",
        "from scipy import linalg\n",
        "import matplotlib.pyplot as plt\n",
        "import matplotlib as mpl\n",
        "from sklearn import mixture"
      ],
      "metadata": {
        "id": "IhJLDewiVGt6"
      },
      "execution_count": 110,
      "outputs": []
    },
    {
      "cell_type": "code",
      "source": [
        "# 1.0.3\n",
        "from IPython.core.interactiveshell import InteractiveShell\n",
        "InteractiveShell.ast_node_interactivity = \"all\""
      ],
      "metadata": {
        "id": "ZneomfEpoWiF"
      },
      "execution_count": 75,
      "outputs": []
    },
    {
      "cell_type": "markdown",
      "metadata": {
        "id": "-Nt7ejX4U9uE"
      },
      "source": [
        "\n",
        "# Gaussian Mixture\n",
        "\n",
        "Note that the Expectation Maximisation model will necessarily use all five components while the Variational Inference model will effectively only use as many as are needed for a good fit. Here we can see that the Expectation Maximisation model splits some components arbitrarily, because it is trying to fit too many components, while the Dirichlet Process model adapts it number of\n",
        "state automatically.\n",
        "\n",
        "This example doesn't show it, as we're in a low-dimensional space, but\n",
        "another advantage of the Dirichlet process model is that it can fit\n",
        "full covariance matrices effectively even when there are less examples\n",
        "per cluster than there are dimensions in the data, due to\n",
        "regularization properties of the inference algorithm.\n"
      ]
    },
    {
      "cell_type": "markdown",
      "source": [
        "### Some Experiments"
      ],
      "metadata": {
        "id": "JOHJLE140ruR"
      }
    },
    {
      "cell_type": "code",
      "source": [
        "# 2.0 Number of samples per component\n",
        "n_samples = 500"
      ],
      "metadata": {
        "id": "7Tf3nJblipNo"
      },
      "execution_count": 59,
      "outputs": []
    },
    {
      "cell_type": "code",
      "source": [
        "# 2.1 What is a dot product?\n",
        "a = np.array([[1, 0], [0, 1]])\n",
        "a\n",
        "print(\"\\n-----\\n\")\n",
        "b = np.array([[4, 1], [2, 2]])\n",
        "b"
      ],
      "metadata": {
        "colab": {
          "base_uri": "https://localhost:8080/"
        },
        "id": "D7SAR6g5n12S",
        "outputId": "dc11c2b5-bbe5-4a90-ab46-cb1d1d5eff9a"
      },
      "execution_count": 77,
      "outputs": [
        {
          "output_type": "execute_result",
          "data": {
            "text/plain": [
              "array([[1, 0],\n",
              "       [0, 1]])"
            ]
          },
          "metadata": {},
          "execution_count": 77
        },
        {
          "output_type": "stream",
          "name": "stdout",
          "text": [
            "\n",
            "-----\n",
            "\n"
          ]
        },
        {
          "output_type": "execute_result",
          "data": {
            "text/plain": [
              "array([[4, 1],\n",
              "       [2, 2]])"
            ]
          },
          "metadata": {},
          "execution_count": 77
        }
      ]
    },
    {
      "cell_type": "code",
      "source": [
        "# 2.1 Perform dot product:\n",
        "np.dot(a,b)"
      ],
      "metadata": {
        "colab": {
          "base_uri": "https://localhost:8080/"
        },
        "id": "QZUGC8lOotos",
        "outputId": "bdcac311-ec03-49e3-cd2d-de96a65f968e"
      },
      "execution_count": 78,
      "outputs": [
        {
          "output_type": "execute_result",
          "data": {
            "text/plain": [
              "array([[4, 1],\n",
              "       [2, 2]])"
            ]
          },
          "metadata": {},
          "execution_count": 78
        }
      ]
    },
    {
      "cell_type": "code",
      "source": [
        "# 2.2 Get 2D normal distribution\n",
        "#     A random standard normal distribution:\n",
        "\n",
        "r = np.random.randn(n_samples, 2)\n",
        "r.shape    # (500,2)\n",
        "r[:5,:]"
      ],
      "metadata": {
        "id": "aeWXOYAgis3Z"
      },
      "execution_count": null,
      "outputs": []
    },
    {
      "cell_type": "code",
      "source": [
        "# 2.3 Scatter plot of this distribution\n",
        "#      It is almost circular\n",
        "\n",
        "plt.scatter(r[:,0],r[:,1]) ;"
      ],
      "metadata": {
        "colab": {
          "base_uri": "https://localhost:8080/",
          "height": 282
        },
        "id": "JeNQwlvOrJAl",
        "outputId": "0ae8943c-3474-446a-ae45-43a70d11df54"
      },
      "execution_count": 98,
      "outputs": [
        {
          "output_type": "execute_result",
          "data": {
            "text/plain": [
              "<matplotlib.collections.PathCollection at 0x7f0bdbb01d10>"
            ]
          },
          "metadata": {},
          "execution_count": 98
        },
        {
          "output_type": "display_data",
          "data": {
            "text/plain": [
              "<Figure size 432x288 with 1 Axes>"
            ],
            "image/png": "[encoded data removed]"
          },
          "metadata": {
            "needs_background": "light"
          }
        }
      ]
    },
    {
      "cell_type": "code",
      "source": [
        "# 2.4 To make the above flat. we will multiply it with\n",
        "#      following array of coeffecients. X will be allowed \n",
        "#       to vary a large range but not y:\n",
        "\n",
        "C = np.array(\n",
        "             [\n",
        "                [0.0, -0.1], \n",
        "                [1.7,  0.4]\n",
        "              ]\n",
        "             )\n",
        "C"
      ],
      "metadata": {
        "colab": {
          "base_uri": "https://localhost:8080/"
        },
        "id": "S8sv870N2Dhv",
        "outputId": "934a9e69-1da2-4704-aeeb-6f5bf8488239"
      },
      "execution_count": 102,
      "outputs": [
        {
          "output_type": "execute_result",
          "data": {
            "text/plain": [
              "array([[ 0. , -0.1],\n",
              "       [ 1.7,  0.4]])"
            ]
          },
          "metadata": {},
          "execution_count": 102
        }
      ]
    },
    {
      "cell_type": "code",
      "source": [
        "# 2.5 Large variation over t[:,0]     # Multiplier  0.0 * x1 + 1.7 * x2\n",
        "#      Small variation over t[:,1]     # Multiplier -0.1*y1+ 0.4 * y2\n",
        "\n",
        "t = np.dot(r, C)    # Each one of the two vertical coeffecients\n",
        "                    #   decide x and y\n",
        "t[:5,:]    "
      ],
      "metadata": {
        "colab": {
          "base_uri": "https://localhost:8080/"
        },
        "id": "pphMSp6fiynw",
        "outputId": "551f67e9-b411-4333-a460-97343b7d8d6d"
      },
      "execution_count": 99,
      "outputs": [
        {
          "output_type": "execute_result",
          "data": {
            "text/plain": [
              "array([[ 0.61279853,  0.10462451],\n",
              "       [ 0.36436098,  0.16466142],\n",
              "       [-1.74023451, -0.36207531],\n",
              "       [-1.69512906, -0.42115569],\n",
              "       [-2.01640725, -0.43772167]])"
            ]
          },
          "metadata": {},
          "execution_count": 99
        }
      ]
    },
    {
      "cell_type": "code",
      "source": [
        "# 2.6\n",
        "plt.scatter(t[:,0], t[:,1]) ;"
      ],
      "metadata": {
        "colab": {
          "base_uri": "https://localhost:8080/",
          "height": 265
        },
        "id": "kGJLPOUSrVRF",
        "outputId": "7aabbc4c-73f2-49c4-fb20-421160592006"
      },
      "execution_count": 111,
      "outputs": [
        {
          "output_type": "display_data",
          "data": {
            "text/plain": [
              "<Figure size 432x288 with 1 Axes>"
            ],
            "image/png": "[encoded data removed]"
          },
          "metadata": {
            "needs_background": "light"
          }
        }
      ]
    },
    {
      "cell_type": "code",
      "source": [
        "# 2.7 Usage of:  np.r_\n",
        "\n",
        "a = np.array([[0, 1, 2], [3, 4, 5]])\n",
        "np.r_[a, a]         # Concatenate along first axis. Note the square brackets\n",
        "print(\"\\n------\\n\")\n",
        "np.vstack([a,a])"
      ],
      "metadata": {
        "colab": {
          "base_uri": "https://localhost:8080/"
        },
        "id": "PQy8PbEjtyPu",
        "outputId": "a1e6d0e3-7c0d-4618-9513-f04b071b78f4"
      },
      "execution_count": 108,
      "outputs": [
        {
          "output_type": "execute_result",
          "data": {
            "text/plain": [
              "array([[0, 1, 2],\n",
              "       [3, 4, 5],\n",
              "       [0, 1, 2],\n",
              "       [3, 4, 5]])"
            ]
          },
          "metadata": {},
          "execution_count": 108
        },
        {
          "output_type": "stream",
          "name": "stdout",
          "text": [
            "\n",
            "------\n",
            "\n"
          ]
        },
        {
          "output_type": "execute_result",
          "data": {
            "text/plain": [
              "array([[0, 1, 2],\n",
              "       [3, 4, 5],\n",
              "       [0, 1, 2],\n",
              "       [3, 4, 5]])"
            ]
          },
          "metadata": {},
          "execution_count": 108
        }
      ]
    },
    {
      "cell_type": "markdown",
      "source": [
        "## Gaussian Mixture Modeling"
      ],
      "metadata": {
        "id": "hdCQrebBD2hH"
      }
    },
    {
      "cell_type": "markdown",
      "source": [
        "### Data generation"
      ],
      "metadata": {
        "id": "gaSgwwVVHJel"
      }
    },
    {
      "cell_type": "code",
      "source": [
        "# 3.0 Generate random sample, two components\n",
        "C = np.array([[0.0, -0.1], [1.7, 0.4]])\n",
        "X = np.r_[\n",
        "           np.dot(np.random.randn(n_samples, 2), C),\n",
        "           0.7 * np.random.randn(n_samples, 2) + np.array([-6, 3]),   # Squash all sides by 70% and translate the axis to (-6,3)\n",
        "         ]"
      ],
      "metadata": {
        "id": "v9ybwNW2VcF1"
      },
      "execution_count": 109,
      "outputs": []
    },
    {
      "cell_type": "markdown",
      "source": [
        "### GMM"
      ],
      "metadata": {
        "id": "o04RF6gvHPdU"
      }
    },
    {
      "cell_type": "code",
      "source": [
        "# 3.1 Fit a Gaussian mixture with EM using five components\n",
        "# Refer: https://scikit-learn.org/stable/modules/generated/sklearn.mixture.GaussianMixture.html\n",
        "\n",
        "gmm = mixture.GaussianMixture(\n",
        "                               n_components=5).fit(X)"
      ],
      "metadata": {
        "id": "RQkaL5l9VjLm"
      },
      "execution_count": 112,
      "outputs": []
    },
    {
      "cell_type": "code",
      "source": [
        "# 3.2 Predict clusters\n",
        "labels = gmm.predict(X)\n",
        "labels"
      ],
      "metadata": {
        "id": "uVz-8WTSZTym"
      },
      "execution_count": null,
      "outputs": []
    },
    {
      "cell_type": "markdown",
      "source": [
        "### Plot now"
      ],
      "metadata": {
        "id": "9XIil2VLHShs"
      }
    },
    {
      "cell_type": "code",
      "source": [
        "# 3.3 Plot. Note five colors \n",
        "ax = plt.subplot(111)\n",
        "ax.scatter(X[:,0],X[:,1],c = labels)\n",
        "plt.xlim(-9.0, 5.0)\n",
        "plt.ylim(-3.0, 6.0)\n",
        "plt.xticks(())\n",
        "plt.yticks(())\n",
        "plt.show() ; "
      ],
      "metadata": {
        "colab": {
          "base_uri": "https://localhost:8080/",
          "height": 252
        },
        "id": "EdazrwbnZjCP",
        "outputId": "53caf644-2d33-4a26-c56c-4cca09997b1a"
      },
      "execution_count": 117,
      "outputs": [
        {
          "output_type": "display_data",
          "data": {
            "text/plain": [
              "<Figure size 432x288 with 1 Axes>"
            ],
            "image/png": "[encoded data removed]"
          },
          "metadata": {}
        }
      ]
    },
    {
      "cell_type": "markdown",
      "source": [
        "\n",
        "## BayesianGaussianMixture Dirichlet Process"
      ],
      "metadata": {
        "id": "f9KyVeoAD9Ue"
      }
    },
    {
      "cell_type": "markdown",
      "source": [
        "### DpGMM"
      ],
      "metadata": {
        "id": "mNta6nPJHV1U"
      }
    },
    {
      "cell_type": "code",
      "source": [
        "# 4.0 Fit a Dirichlet process Gaussian mixture using five components\n",
        "#  over the same data:\n",
        "dpgmm = mixture.BayesianGaussianMixture(n_components=5).fit(X)"
      ],
      "metadata": {
        "id": "p3TNGpE1V1Yo"
      },
      "execution_count": 118,
      "outputs": []
    },
    {
      "cell_type": "code",
      "source": [
        "# 4.1 Get labels\n",
        "labels = dpgmm.predict(X)\n",
        "labels"
      ],
      "metadata": {
        "id": "MOzW5WI3akbB"
      },
      "execution_count": null,
      "outputs": []
    },
    {
      "cell_type": "markdown",
      "source": [
        "### Plot"
      ],
      "metadata": {
        "id": "cDfvy8tKHacd"
      }
    },
    {
      "cell_type": "code",
      "source": [
        "# 4.2 Plot labelled data now:\n",
        "ax = plt.subplot(111)\n",
        "ax.scatter(X[:,0],X[:,1],c = labels)\n",
        "plt.xlim(-9.0, 5.0)\n",
        "plt.ylim(-3.0, 6.0)\n",
        "plt.xticks(())\n",
        "plt.yticks(())\n",
        "plt.show() ; "
      ],
      "metadata": {
        "colab": {
          "base_uri": "https://localhost:8080/",
          "height": 252
        },
        "id": "Yow4Dh7dcpq2",
        "outputId": "dfec6e41-7e04-440c-9afa-2664aaf5e2db"
      },
      "execution_count": 121,
      "outputs": [
        {
          "output_type": "display_data",
          "data": {
            "text/plain": [
              "<Figure size 432x288 with 1 Axes>"
            ],
            "image/png": "[encoded data removed]"
          },
          "metadata": {}
        }
      ]
    },
    {
      "cell_type": "code",
      "source": [
        "########## I am done ############"
      ],
      "metadata": {
        "id": "0p2Lfp1GXToZ"
      },
      "execution_count": null,
      "outputs": []
    }
  ],
  "metadata": {
    "kernelspec": {
      "display_name": "Python 3",
      "language": "python",
      "name": "python3"
    },
    "language_info": {
      "codemirror_mode": {
        "name": "ipython",
        "version": 3
      },
      "file_extension": ".py",
      "mimetype": "text/x-python",
      "name": "python",
      "nbconvert_exporter": "python",
      "pygments_lexer": "ipython3",
      "version": "3.9.12"
    },
    "colab": {
      "name": "gmm_begin.ipynb",
      "provenance": [],
      "collapsed_sections": [
        "JOHJLE140ruR"
      ],
      "include_colab_link": true
    }
  },
  "nbformat": 4,
  "nbformat_minor": 0
}