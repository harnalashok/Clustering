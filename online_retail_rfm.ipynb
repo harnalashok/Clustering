{
  "nbformat": 4,
  "nbformat_minor": 0,
  "metadata": {
    "colab": {
      "name": "online_retail_rfm.ipynb",
      "provenance": [],
      "collapsed_sections": [
        "aCWEj8kSDIYd",
        "TmBic1CNEFQd",
        "expqxbYyfDsG",
        "h6gj6RnW-mAh",
        "Tl3TsETF_Ui3",
        "_4iq0V2UBm8l",
        "uUkxop7tCRro"
      ],
      "include_colab_link": true
    },
    "kernelspec": {
      "name": "python3",
      "display_name": "Python 3"
    },
    "language_info": {
      "name": "python"
    }
  },
  "cells": [
    {
      "cell_type": "markdown",
      "metadata": {
        "id": "view-in-github",
        "colab_type": "text"
      },
      "source": [
        "<a href=\"https://colab.research.google.com/github/harnalashok/Clustering/blob/master/online_retail_rfm.ipynb\" target=\"_parent\"><img src=\"https://colab.research.google.com/assets/colab-badge.svg\" alt=\"Open In Colab\"/></a>"
      ]
    },
    {
      "cell_type": "code",
      "metadata": {
        "id": "nXjnnvNAZAHk"
      },
      "source": [
        "# Last amended: 15th April, 2021\n",
        "# Ref: https://www.kaggle.com/hellbuoy/online-retail-k-means-hierarchical-clustering\n",
        "# My folder:\n",
        "# github: harnalashok/clustering/\n",
        "#\n",
        "# Objectives:\n",
        "#            i) Feature engineering before clustering\n",
        "#           ii) Outlier detection techniques\n",
        "#                 a) Using IQR (Tukey's fences)\n",
        "#                 b) Using region rejection & confidence interval\n",
        "#                 c) Using machine learning for anomaly detection\n",
        "#                    (isolation forests)\n",
        "#          iii) Box-cox transformations\n",
        "#           iv) KMeans clustering\n",
        "#            v) Gaussian Mixture modeling\n",
        "# "
      ],
      "execution_count": null,
      "outputs": []
    },
    {
      "cell_type": "markdown",
      "metadata": {
        "id": "3TBiz0Fyr0Vs"
      },
      "source": [
        "### Transform data\n",
        "Transform and visualize data"
      ]
    },
    {
      "cell_type": "markdown",
      "metadata": {
        "id": "B-zvVtetr5C8"
      },
      "source": [
        "#### Call libraries"
      ]
    },
    {
      "cell_type": "code",
      "metadata": {
        "id": "UGU0da7S3j8l"
      },
      "source": [
        "# 1.0 Import required libraries for dataframe and visualization\n",
        "\n",
        "import numpy as np\n",
        "import pandas as pd\n",
        "\n",
        "# 1.0.1 Graphing\n",
        "import matplotlib.pyplot as plt\n",
        "import seaborn as sns\n",
        "import plotly.express as px\n",
        "\n",
        "\n",
        "# 1.0.2 import required libraries for clustering\n",
        "from sklearn.preprocessing import StandardScaler\n",
        "from sklearn.cluster import KMeans\n",
        "from sklearn.metrics import silhouette_score\n",
        "\n",
        "# 1.0.3\n",
        "import os\n",
        "%matplotlib inline\n",
        "from scipy import stats"
      ],
      "execution_count": 6,
      "outputs": []
    },
    {
      "cell_type": "code",
      "metadata": {
        "id": "pFAW5Jhu3_c9"
      },
      "source": [
        "# 1.1 Display multiple commands output from a cell\n",
        "from IPython.core.interactiveshell import InteractiveShell\n",
        "InteractiveShell.ast_node_interactivity = \"all\""
      ],
      "execution_count": 7,
      "outputs": []
    },
    {
      "cell_type": "markdown",
      "metadata": {
        "id": "DKt5aZsoAfE2"
      },
      "source": [
        "#### Read and explore"
      ]
    },
    {
      "cell_type": "code",
      "metadata": {
        "id": "R1CZ5isW36dD",
        "colab": {
          "base_uri": "https://localhost:8080/"
        },
        "outputId": "e0730576-4bd5-4906-c247-13bee257d9fd"
      },
      "source": [
        "# 1.1.2 My data folder\n",
        "path = \"/content\" \n",
        "os.chdir(path)\n",
        "os.listdir()"
      ],
      "execution_count": 8,
      "outputs": [
        {
          "output_type": "execute_result",
          "data": {
            "text/plain": [
              "['.config', 'onlineretail.zip', 'sample_data']"
            ]
          },
          "metadata": {
            "tags": []
          },
          "execution_count": 8
        }
      ]
    },
    {
      "cell_type": "code",
      "metadata": {
        "id": "sk6G1xP23n3w"
      },
      "source": [
        "# 1.2 Read Data\n",
        "data = pd.read_csv(\n",
        "                   #\"OnlineRetail.csv\",\n",
        "                   \"onlineretail.zip\",\n",
        "                   encoding = \"ISO_8859_1\", # utf_8\n",
        "                   engine = 'python', # Takes time but reads full file\n",
        "                                      # 'c' engine is faster but has problems\n",
        "                                      # at separators. Default is 'c'\n",
        "                   header = 0\n",
        "                   #parse_dates=True        # InvoiceDate does not get converted to date\n",
        "                   )\n"
      ],
      "execution_count": 9,
      "outputs": []
    },
    {
      "cell_type": "code",
      "metadata": {
        "id": "fBi-Hwdt4LIz",
        "colab": {
          "base_uri": "https://localhost:8080/",
          "height": 802
        },
        "outputId": "ffbc283a-6283-496a-8451-2065941953c2"
      },
      "source": [
        "# 1.2.1 \n",
        "data.shape   # (541909, 8)\n",
        "print()\n",
        "data.dtypes  \n",
        "print()\n",
        "data.head()\n",
        "data['StockCode'].value_counts()"
      ],
      "execution_count": 11,
      "outputs": [
        {
          "output_type": "execute_result",
          "data": {
            "text/plain": [
              "(541909, 8)"
            ]
          },
          "metadata": {
            "tags": []
          },
          "execution_count": 11
        },
        {
          "output_type": "stream",
          "text": [
            "\n"
          ],
          "name": "stdout"
        },
        {
          "output_type": "execute_result",
          "data": {
            "text/plain": [
              "InvoiceNo       object\n",
              "StockCode       object\n",
              "Description     object\n",
              "Quantity         int64\n",
              "InvoiceDate     object\n",
              "UnitPrice      float64\n",
              "CustomerID     float64\n",
              "Country         object\n",
              "dtype: object"
            ]
          },
          "metadata": {
            "tags": []
          },
          "execution_count": 11
        },
        {
          "output_type": "stream",
          "text": [
            "\n"
          ],
          "name": "stdout"
        },
        {
          "output_type": "execute_result",
          "data": {
            "text/html": [
              "<div>\n",
              "<style scoped>\n",
              "    .dataframe tbody tr th:only-of-type {\n",
              "        vertical-align: middle;\n",
              "    }\n",
              "\n",
              "    .dataframe tbody tr th {\n",
              "        vertical-align: top;\n",
              "    }\n",
              "\n",
              "    .dataframe thead th {\n",
              "        text-align: right;\n",
              "    }\n",
              "</style>\n",
              "<table border=\"1\" class=\"dataframe\">\n",
              "  <thead>\n",
              "    <tr style=\"text-align: right;\">\n",
              "      <th></th>\n",
              "      <th>InvoiceNo</th>\n",
              "      <th>StockCode</th>\n",
              "      <th>Description</th>\n",
              "      <th>Quantity</th>\n",
              "      <th>InvoiceDate</th>\n",
              "      <th>UnitPrice</th>\n",
              "      <th>CustomerID</th>\n",
              "      <th>Country</th>\n",
              "    </tr>\n",
              "  </thead>\n",
              "  <tbody>\n",
              "    <tr>\n",
              "      <th>0</th>\n",
              "      <td>536365</td>\n",
              "      <td>85123A</td>\n",
              "      <td>WHITE HANGING HEART T-LIGHT HOLDER</td>\n",
              "      <td>6</td>\n",
              "      <td>01-12-2010 08:26</td>\n",
              "      <td>2.55</td>\n",
              "      <td>17850.0</td>\n",
              "      <td>United Kingdom</td>\n",
              "    </tr>\n",
              "    <tr>\n",
              "      <th>1</th>\n",
              "      <td>536365</td>\n",
              "      <td>71053</td>\n",
              "      <td>WHITE METAL LANTERN</td>\n",
              "      <td>6</td>\n",
              "      <td>01-12-2010 08:26</td>\n",
              "      <td>3.39</td>\n",
              "      <td>17850.0</td>\n",
              "      <td>United Kingdom</td>\n",
              "    </tr>\n",
              "    <tr>\n",
              "      <th>2</th>\n",
              "      <td>536365</td>\n",
              "      <td>84406B</td>\n",
              "      <td>CREAM CUPID HEARTS COAT HANGER</td>\n",
              "      <td>8</td>\n",
              "      <td>01-12-2010 08:26</td>\n",
              "      <td>2.75</td>\n",
              "      <td>17850.0</td>\n",
              "      <td>United Kingdom</td>\n",
              "    </tr>\n",
              "    <tr>\n",
              "      <th>3</th>\n",
              "      <td>536365</td>\n",
              "      <td>84029G</td>\n",
              "      <td>KNITTED UNION FLAG HOT WATER BOTTLE</td>\n",
              "      <td>6</td>\n",
              "      <td>01-12-2010 08:26</td>\n",
              "      <td>3.39</td>\n",
              "      <td>17850.0</td>\n",
              "      <td>United Kingdom</td>\n",
              "    </tr>\n",
              "    <tr>\n",
              "      <th>4</th>\n",
              "      <td>536365</td>\n",
              "      <td>84029E</td>\n",
              "      <td>RED WOOLLY HOTTIE WHITE HEART.</td>\n",
              "      <td>6</td>\n",
              "      <td>01-12-2010 08:26</td>\n",
              "      <td>3.39</td>\n",
              "      <td>17850.0</td>\n",
              "      <td>United Kingdom</td>\n",
              "    </tr>\n",
              "  </tbody>\n",
              "</table>\n",
              "</div>"
            ],
            "text/plain": [
              "  InvoiceNo StockCode  ... CustomerID         Country\n",
              "0    536365    85123A  ...    17850.0  United Kingdom\n",
              "1    536365     71053  ...    17850.0  United Kingdom\n",
              "2    536365    84406B  ...    17850.0  United Kingdom\n",
              "3    536365    84029G  ...    17850.0  United Kingdom\n",
              "4    536365    84029E  ...    17850.0  United Kingdom\n",
              "\n",
              "[5 rows x 8 columns]"
            ]
          },
          "metadata": {
            "tags": []
          },
          "execution_count": 11
        },
        {
          "output_type": "execute_result",
          "data": {
            "text/plain": [
              "85123A      2313\n",
              "22423       2203\n",
              "85099B      2159\n",
              "47566       1727\n",
              "20725       1639\n",
              "            ... \n",
              "20678          1\n",
              "DCGS0074       1\n",
              "20957          1\n",
              "20850          1\n",
              "90091          1\n",
              "Name: StockCode, Length: 4070, dtype: int64"
            ]
          },
          "metadata": {
            "tags": []
          },
          "execution_count": 11
        }
      ]
    },
    {
      "cell_type": "code",
      "metadata": {
        "id": "qbZBRTCl7kn2",
        "colab": {
          "base_uri": "https://localhost:8080/"
        },
        "outputId": "4ca6339f-a22f-4ea4-f7b4-27271540a1f8"
      },
      "source": [
        "# 1.2.2 Transform InvoiceDate dtype to datetype\n",
        "data['InvoiceDate'] = pd.to_datetime(data['InvoiceDate'])\n",
        "data.dtypes"
      ],
      "execution_count": 12,
      "outputs": [
        {
          "output_type": "execute_result",
          "data": {
            "text/plain": [
              "InvoiceNo              object\n",
              "StockCode              object\n",
              "Description            object\n",
              "Quantity                int64\n",
              "InvoiceDate    datetime64[ns]\n",
              "UnitPrice             float64\n",
              "CustomerID            float64\n",
              "Country                object\n",
              "dtype: object"
            ]
          },
          "metadata": {
            "tags": []
          },
          "execution_count": 12
        }
      ]
    },
    {
      "cell_type": "code",
      "metadata": {
        "id": "VE40Taql4sNU",
        "colab": {
          "base_uri": "https://localhost:8080/"
        },
        "outputId": "d00ee944-0e4b-4249-9cad-617d79bad6ee"
      },
      "source": [
        "# 1.2.3 Examine data\n",
        "print(\"\\n-----InvoiceNo------\\n\")\n",
        "data.InvoiceNo.value_counts()     # 25900 unique\n",
        "print()\n",
        "print(\"\\n-----StockCode------\\n\")\n",
        "data.StockCode.value_counts()     # 4070  unique\n",
        "print()\n",
        "print(\"\\n----CustomerID-------\\n\")\n",
        "data.CustomerID.value_counts()    # 4372 unique\n",
        "print(\"\\n----Country-------\\n\")\n",
        "data.Country.value_counts()       # 38 unique\n",
        "print()\n",
        "len(data.Country.value_counts())  # 38 unique"
      ],
      "execution_count": 13,
      "outputs": [
        {
          "output_type": "stream",
          "text": [
            "\n",
            "-----InvoiceNo------\n",
            "\n"
          ],
          "name": "stdout"
        },
        {
          "output_type": "execute_result",
          "data": {
            "text/plain": [
              "573585     1114\n",
              "581219      749\n",
              "581492      731\n",
              "580729      721\n",
              "558475      705\n",
              "           ... \n",
              "549447        1\n",
              "574579        1\n",
              "C547193       1\n",
              "560389        1\n",
              "538128        1\n",
              "Name: InvoiceNo, Length: 25900, dtype: int64"
            ]
          },
          "metadata": {
            "tags": []
          },
          "execution_count": 13
        },
        {
          "output_type": "stream",
          "text": [
            "\n",
            "\n",
            "-----StockCode------\n",
            "\n"
          ],
          "name": "stdout"
        },
        {
          "output_type": "execute_result",
          "data": {
            "text/plain": [
              "85123A      2313\n",
              "22423       2203\n",
              "85099B      2159\n",
              "47566       1727\n",
              "20725       1639\n",
              "            ... \n",
              "20678          1\n",
              "DCGS0074       1\n",
              "20957          1\n",
              "20850          1\n",
              "90091          1\n",
              "Name: StockCode, Length: 4070, dtype: int64"
            ]
          },
          "metadata": {
            "tags": []
          },
          "execution_count": 13
        },
        {
          "output_type": "stream",
          "text": [
            "\n",
            "\n",
            "----CustomerID-------\n",
            "\n"
          ],
          "name": "stdout"
        },
        {
          "output_type": "execute_result",
          "data": {
            "text/plain": [
              "17841.0    7983\n",
              "14911.0    5903\n",
              "14096.0    5128\n",
              "12748.0    4642\n",
              "14606.0    2782\n",
              "           ... \n",
              "13391.0       1\n",
              "16579.0       1\n",
              "13366.0       1\n",
              "17763.0       1\n",
              "17846.0       1\n",
              "Name: CustomerID, Length: 4372, dtype: int64"
            ]
          },
          "metadata": {
            "tags": []
          },
          "execution_count": 13
        },
        {
          "output_type": "stream",
          "text": [
            "\n",
            "----Country-------\n",
            "\n"
          ],
          "name": "stdout"
        },
        {
          "output_type": "execute_result",
          "data": {
            "text/plain": [
              "United Kingdom          495478\n",
              "Germany                   9495\n",
              "France                    8557\n",
              "EIRE                      8196\n",
              "Spain                     2533\n",
              "Netherlands               2371\n",
              "Belgium                   2069\n",
              "Switzerland               2002\n",
              "Portugal                  1519\n",
              "Australia                 1259\n",
              "Norway                    1086\n",
              "Italy                      803\n",
              "Channel Islands            758\n",
              "Finland                    695\n",
              "Cyprus                     622\n",
              "Sweden                     462\n",
              "Unspecified                446\n",
              "Austria                    401\n",
              "Denmark                    389\n",
              "Japan                      358\n",
              "Poland                     341\n",
              "Israel                     297\n",
              "USA                        291\n",
              "Hong Kong                  288\n",
              "Singapore                  229\n",
              "Iceland                    182\n",
              "Canada                     151\n",
              "Greece                     146\n",
              "Malta                      127\n",
              "United Arab Emirates        68\n",
              "European Community          61\n",
              "RSA                         58\n",
              "Lebanon                     45\n",
              "Lithuania                   35\n",
              "Brazil                      32\n",
              "Czech Republic              30\n",
              "Bahrain                     19\n",
              "Saudi Arabia                10\n",
              "Name: Country, dtype: int64"
            ]
          },
          "metadata": {
            "tags": []
          },
          "execution_count": 13
        },
        {
          "output_type": "stream",
          "text": [
            "\n"
          ],
          "name": "stdout"
        },
        {
          "output_type": "execute_result",
          "data": {
            "text/plain": [
              "38"
            ]
          },
          "metadata": {
            "tags": []
          },
          "execution_count": 13
        }
      ]
    },
    {
      "cell_type": "code",
      "metadata": {
        "id": "fMp8fZPT5Dt9",
        "colab": {
          "base_uri": "https://localhost:8080/"
        },
        "outputId": "b2d6f851-d70a-4795-ddb7-577746566ce9"
      },
      "source": [
        "# 1.2.4 Are there NAs?\n",
        "data.isnull().sum()   # Yes, there are"
      ],
      "execution_count": 14,
      "outputs": [
        {
          "output_type": "execute_result",
          "data": {
            "text/plain": [
              "InvoiceNo           0\n",
              "StockCode           0\n",
              "Description      1454\n",
              "Quantity            0\n",
              "InvoiceDate         0\n",
              "UnitPrice           0\n",
              "CustomerID     135080\n",
              "Country             0\n",
              "dtype: int64"
            ]
          },
          "metadata": {
            "tags": []
          },
          "execution_count": 14
        }
      ]
    },
    {
      "cell_type": "code",
      "metadata": {
        "id": "pTMYBIYA7S3I",
        "colab": {
          "base_uri": "https://localhost:8080/"
        },
        "outputId": "aac49ee4-3095-4a1c-f933-6a9d2a0ebf6e"
      },
      "source": [
        "# 1.3 Cleanup data. Remove those \n",
        "#     rows where no CustomerIDs\n",
        "\n",
        "data = data[~data[\"CustomerID\"].isnull()]\n",
        "data.shape  # (406829, 8)"
      ],
      "execution_count": 15,
      "outputs": [
        {
          "output_type": "execute_result",
          "data": {
            "text/plain": [
              "(406829, 8)"
            ]
          },
          "metadata": {
            "tags": []
          },
          "execution_count": 15
        }
      ]
    },
    {
      "cell_type": "code",
      "metadata": {
        "id": "t7jc6ayd-AnL",
        "colab": {
          "base_uri": "https://localhost:8080/"
        },
        "outputId": "9005270c-ba19-4003-eecf-e51c9d6a5405"
      },
      "source": [
        "# 1.4 Checking for duplicates. Remove duplicates:\n",
        "\n",
        "data = data[~data.duplicated()]\n",
        "data.shape   # (401604, 8)  ; data.drop_duplicates(keep='first', inplace=True)"
      ],
      "execution_count": 16,
      "outputs": [
        {
          "output_type": "execute_result",
          "data": {
            "text/plain": [
              "(401604, 8)"
            ]
          },
          "metadata": {
            "tags": []
          },
          "execution_count": 16
        }
      ]
    },
    {
      "cell_type": "code",
      "metadata": {
        "id": "LUCqd7kg__pC",
        "colab": {
          "base_uri": "https://localhost:8080/",
          "height": 884
        },
        "outputId": "197561cb-c2d3-4c11-8960-306a7e19e20e"
      },
      "source": [
        "# 1.5 Let us see max and min dates:\n",
        "\n",
        "data.sort_values(by = \"InvoiceDate\", ascending = False).head()\n",
        "data.sort_values(by = \"InvoiceDate\",ascending = False).tail()"
      ],
      "execution_count": 17,
      "outputs": [
        {
          "output_type": "execute_result",
          "data": {
            "text/html": [
              "<div>\n",
              "<style scoped>\n",
              "    .dataframe tbody tr th:only-of-type {\n",
              "        vertical-align: middle;\n",
              "    }\n",
              "\n",
              "    .dataframe tbody tr th {\n",
              "        vertical-align: top;\n",
              "    }\n",
              "\n",
              "    .dataframe thead th {\n",
              "        text-align: right;\n",
              "    }\n",
              "</style>\n",
              "<table border=\"1\" class=\"dataframe\">\n",
              "  <thead>\n",
              "    <tr style=\"text-align: right;\">\n",
              "      <th></th>\n",
              "      <th>InvoiceNo</th>\n",
              "      <th>StockCode</th>\n",
              "      <th>Description</th>\n",
              "      <th>Quantity</th>\n",
              "      <th>InvoiceDate</th>\n",
              "      <th>UnitPrice</th>\n",
              "      <th>CustomerID</th>\n",
              "      <th>Country</th>\n",
              "    </tr>\n",
              "  </thead>\n",
              "  <tbody>\n",
              "    <tr>\n",
              "      <th>394691</th>\n",
              "      <td>570876</td>\n",
              "      <td>23083</td>\n",
              "      <td>SET 6 PAPER TABLE LANTERN STARS</td>\n",
              "      <td>2</td>\n",
              "      <td>2011-12-10 17:19:00</td>\n",
              "      <td>3.75</td>\n",
              "      <td>16085.0</td>\n",
              "      <td>United Kingdom</td>\n",
              "    </tr>\n",
              "    <tr>\n",
              "      <th>394690</th>\n",
              "      <td>570876</td>\n",
              "      <td>22469</td>\n",
              "      <td>HEART OF WICKER SMALL</td>\n",
              "      <td>3</td>\n",
              "      <td>2011-12-10 17:19:00</td>\n",
              "      <td>1.65</td>\n",
              "      <td>16085.0</td>\n",
              "      <td>United Kingdom</td>\n",
              "    </tr>\n",
              "    <tr>\n",
              "      <th>394694</th>\n",
              "      <td>570876</td>\n",
              "      <td>23509</td>\n",
              "      <td>MINI PLAYING CARDS FUN FAIR</td>\n",
              "      <td>4</td>\n",
              "      <td>2011-12-10 17:19:00</td>\n",
              "      <td>0.42</td>\n",
              "      <td>16085.0</td>\n",
              "      <td>United Kingdom</td>\n",
              "    </tr>\n",
              "    <tr>\n",
              "      <th>394695</th>\n",
              "      <td>570876</td>\n",
              "      <td>23048</td>\n",
              "      <td>SET OF 10 LANTERNS FAIRY LIGHT STAR</td>\n",
              "      <td>2</td>\n",
              "      <td>2011-12-10 17:19:00</td>\n",
              "      <td>4.15</td>\n",
              "      <td>16085.0</td>\n",
              "      <td>United Kingdom</td>\n",
              "    </tr>\n",
              "    <tr>\n",
              "      <th>394696</th>\n",
              "      <td>570876</td>\n",
              "      <td>23503</td>\n",
              "      <td>PLAYING CARDS KEEP CALM &amp; CARRY ON</td>\n",
              "      <td>4</td>\n",
              "      <td>2011-12-10 17:19:00</td>\n",
              "      <td>1.25</td>\n",
              "      <td>16085.0</td>\n",
              "      <td>United Kingdom</td>\n",
              "    </tr>\n",
              "  </tbody>\n",
              "</table>\n",
              "</div>"
            ],
            "text/plain": [
              "       InvoiceNo StockCode  ... CustomerID         Country\n",
              "394691    570876     23083  ...    16085.0  United Kingdom\n",
              "394690    570876     22469  ...    16085.0  United Kingdom\n",
              "394694    570876     23509  ...    16085.0  United Kingdom\n",
              "394695    570876     23048  ...    16085.0  United Kingdom\n",
              "394696    570876     23503  ...    16085.0  United Kingdom\n",
              "\n",
              "[5 rows x 8 columns]"
            ]
          },
          "metadata": {
            "tags": []
          },
          "execution_count": 17
        },
        {
          "output_type": "execute_result",
          "data": {
            "text/html": [
              "<div>\n",
              "<style scoped>\n",
              "    .dataframe tbody tr th:only-of-type {\n",
              "        vertical-align: middle;\n",
              "    }\n",
              "\n",
              "    .dataframe tbody tr th {\n",
              "        vertical-align: top;\n",
              "    }\n",
              "\n",
              "    .dataframe thead th {\n",
              "        text-align: right;\n",
              "    }\n",
              "</style>\n",
              "<table border=\"1\" class=\"dataframe\">\n",
              "  <thead>\n",
              "    <tr style=\"text-align: right;\">\n",
              "      <th></th>\n",
              "      <th>InvoiceNo</th>\n",
              "      <th>StockCode</th>\n",
              "      <th>Description</th>\n",
              "      <th>Quantity</th>\n",
              "      <th>InvoiceDate</th>\n",
              "      <th>UnitPrice</th>\n",
              "      <th>CustomerID</th>\n",
              "      <th>Country</th>\n",
              "    </tr>\n",
              "  </thead>\n",
              "  <tbody>\n",
              "    <tr>\n",
              "      <th>3</th>\n",
              "      <td>536365</td>\n",
              "      <td>84029G</td>\n",
              "      <td>KNITTED UNION FLAG HOT WATER BOTTLE</td>\n",
              "      <td>6</td>\n",
              "      <td>2010-01-12 08:26:00</td>\n",
              "      <td>3.39</td>\n",
              "      <td>17850.0</td>\n",
              "      <td>United Kingdom</td>\n",
              "    </tr>\n",
              "    <tr>\n",
              "      <th>1</th>\n",
              "      <td>536365</td>\n",
              "      <td>71053</td>\n",
              "      <td>WHITE METAL LANTERN</td>\n",
              "      <td>6</td>\n",
              "      <td>2010-01-12 08:26:00</td>\n",
              "      <td>3.39</td>\n",
              "      <td>17850.0</td>\n",
              "      <td>United Kingdom</td>\n",
              "    </tr>\n",
              "    <tr>\n",
              "      <th>5</th>\n",
              "      <td>536365</td>\n",
              "      <td>22752</td>\n",
              "      <td>SET 7 BABUSHKA NESTING BOXES</td>\n",
              "      <td>2</td>\n",
              "      <td>2010-01-12 08:26:00</td>\n",
              "      <td>7.65</td>\n",
              "      <td>17850.0</td>\n",
              "      <td>United Kingdom</td>\n",
              "    </tr>\n",
              "    <tr>\n",
              "      <th>6</th>\n",
              "      <td>536365</td>\n",
              "      <td>21730</td>\n",
              "      <td>GLASS STAR FROSTED T-LIGHT HOLDER</td>\n",
              "      <td>6</td>\n",
              "      <td>2010-01-12 08:26:00</td>\n",
              "      <td>4.25</td>\n",
              "      <td>17850.0</td>\n",
              "      <td>United Kingdom</td>\n",
              "    </tr>\n",
              "    <tr>\n",
              "      <th>0</th>\n",
              "      <td>536365</td>\n",
              "      <td>85123A</td>\n",
              "      <td>WHITE HANGING HEART T-LIGHT HOLDER</td>\n",
              "      <td>6</td>\n",
              "      <td>2010-01-12 08:26:00</td>\n",
              "      <td>2.55</td>\n",
              "      <td>17850.0</td>\n",
              "      <td>United Kingdom</td>\n",
              "    </tr>\n",
              "  </tbody>\n",
              "</table>\n",
              "</div>"
            ],
            "text/plain": [
              "  InvoiceNo StockCode  ... CustomerID         Country\n",
              "3    536365    84029G  ...    17850.0  United Kingdom\n",
              "1    536365     71053  ...    17850.0  United Kingdom\n",
              "5    536365     22752  ...    17850.0  United Kingdom\n",
              "6    536365     21730  ...    17850.0  United Kingdom\n",
              "0    536365    85123A  ...    17850.0  United Kingdom\n",
              "\n",
              "[5 rows x 8 columns]"
            ]
          },
          "metadata": {
            "tags": []
          },
          "execution_count": 17
        }
      ]
    },
    {
      "cell_type": "code",
      "metadata": {
        "id": "hzV5qS4jM-WE"
      },
      "source": [
        "# 1.6 Revenue generated, per row:\n",
        "#     Create a new column\n",
        "\n",
        "data['rev'] = data['UnitPrice'] * data['Quantity']"
      ],
      "execution_count": 18,
      "outputs": []
    },
    {
      "cell_type": "markdown",
      "metadata": {
        "id": "Ig6N5I--0Kpk"
      },
      "source": [
        "#### Univariate distributions\n",
        "Plotting with [plotly express](https://plotly.com/python/plotly-express/)"
      ]
    },
    {
      "cell_type": "code",
      "metadata": {
        "id": "uyj3wC2p9BIO"
      },
      "source": [
        "# 2.0 Our data is huge. Sample it\n",
        "small = data.sample(frac=0.1)\n",
        "small.shape"
      ],
      "execution_count": null,
      "outputs": []
    },
    {
      "cell_type": "code",
      "metadata": {
        "id": "5OKkiv_cz_wh"
      },
      "source": [
        "# 2.1\n",
        "# https://plotly.com/python/histograms/\n",
        "# https://plotly.com/python/axes/\n",
        "fig = px.histogram(small, x = \"rev\")\n",
        "fig.update_xaxes(range=[0, 1000])\n",
        "#fig.show()\n",
        "#sns.displot(data = small, x = \"rev\")\n"
      ],
      "execution_count": null,
      "outputs": []
    },
    {
      "cell_type": "code",
      "metadata": {
        "id": "gv0apIo-a--y"
      },
      "source": [
        "sns.displot(data = small, x = \"rev\")"
      ],
      "execution_count": null,
      "outputs": []
    },
    {
      "cell_type": "code",
      "metadata": {
        "id": "FMJXsN4yz_nB"
      },
      "source": [
        "# 2.2\n",
        "# https://plotly.com/python/box-plots/\n",
        "fig = px.box(small, y='rev')\n",
        "fig.show()"
      ],
      "execution_count": null,
      "outputs": []
    },
    {
      "cell_type": "code",
      "metadata": {
        "id": "UJBH9qry-9gO"
      },
      "source": [
        "# 2.3 Country wise distribution\n",
        "fig = px.box(small, x = 'Country',y='rev')\n",
        "fig.show()"
      ],
      "execution_count": null,
      "outputs": []
    },
    {
      "cell_type": "markdown",
      "metadata": {
        "id": "izvPvQaqAUKR"
      },
      "source": [
        "#### Feature Engineering: Extract data"
      ]
    },
    {
      "cell_type": "markdown",
      "metadata": {
        "id": "CkcEyY2FDEky"
      },
      "source": [
        "##### Recency first\n",
        "Takes time"
      ]
    },
    {
      "cell_type": "code",
      "metadata": {
        "id": "Nli8p3iNE7Se"
      },
      "source": [
        "# 2.0\n",
        "df = data.copy()"
      ],
      "execution_count": 61,
      "outputs": []
    },
    {
      "cell_type": "code",
      "metadata": {
        "id": "AiHnqfrp_V8r"
      },
      "source": [
        "# 2.1 \n",
        "grd = df.groupby(\"CustomerID\")"
      ],
      "execution_count": 62,
      "outputs": []
    },
    {
      "cell_type": "code",
      "metadata": {
        "id": "ge2P1yGBOABc",
        "colab": {
          "base_uri": "https://localhost:8080/",
          "height": 69
        },
        "outputId": "f6c655c1-00a5-462b-d8e0-bb067124fe9e"
      },
      "source": [
        "# 2.2 Create an empty dataframe\n",
        "#     having same columns as the original:\n",
        "\n",
        "df_recency = pd.DataFrame(columns = df.columns)\n",
        "df_recency.head()"
      ],
      "execution_count": 63,
      "outputs": [
        {
          "output_type": "execute_result",
          "data": {
            "text/html": [
              "<div>\n",
              "<style scoped>\n",
              "    .dataframe tbody tr th:only-of-type {\n",
              "        vertical-align: middle;\n",
              "    }\n",
              "\n",
              "    .dataframe tbody tr th {\n",
              "        vertical-align: top;\n",
              "    }\n",
              "\n",
              "    .dataframe thead th {\n",
              "        text-align: right;\n",
              "    }\n",
              "</style>\n",
              "<table border=\"1\" class=\"dataframe\">\n",
              "  <thead>\n",
              "    <tr style=\"text-align: right;\">\n",
              "      <th></th>\n",
              "      <th>InvoiceNo</th>\n",
              "      <th>StockCode</th>\n",
              "      <th>Description</th>\n",
              "      <th>Quantity</th>\n",
              "      <th>InvoiceDate</th>\n",
              "      <th>UnitPrice</th>\n",
              "      <th>CustomerID</th>\n",
              "      <th>Country</th>\n",
              "      <th>rev</th>\n",
              "    </tr>\n",
              "  </thead>\n",
              "  <tbody>\n",
              "  </tbody>\n",
              "</table>\n",
              "</div>"
            ],
            "text/plain": [
              "Empty DataFrame\n",
              "Columns: [InvoiceNo, StockCode, Description, Quantity, InvoiceDate, UnitPrice, CustomerID, Country, rev]\n",
              "Index: []"
            ]
          },
          "metadata": {
            "tags": []
          },
          "execution_count": 63
        }
      ]
    },
    {
      "cell_type": "code",
      "metadata": {
        "id": "sUIufCcY_dEV"
      },
      "source": [
        "# 2.3 For every group, customer-wise\n",
        "#     get dataframe, sort is invoice-date wise\n",
        "#     and pick up the last (most-recent date):\n",
        "\n",
        "for i, d in grd:\n",
        "  d = d.reset_index().sort_values(by = ['InvoiceDate'], ascending = False)\n",
        "  df_recency = pd.concat([df_recency, d.head(1)])"
      ],
      "execution_count": 33,
      "outputs": []
    },
    {
      "cell_type": "code",
      "metadata": {
        "id": "WWMnk5EoeOa_"
      },
      "source": [
        "# 2.3\n",
        "df_recency = grd['InvoiceDate'].max().reset_index()\n",
        "df_recency.head()\n",
        "df_recency.shape   # (4372, 2)"
      ],
      "execution_count": null,
      "outputs": []
    },
    {
      "cell_type": "code",
      "metadata": {
        "id": "ZyoNs_cX_2YO",
        "colab": {
          "base_uri": "https://localhost:8080/",
          "height": 487
        },
        "outputId": "627b5693-4915-4083-c9b2-15fd1282c54b"
      },
      "source": [
        "# 2.3.1 Examine extracted information:\n",
        "\n",
        "df_recency.shape     # (4372,2)\n",
        "print()\n",
        "df_recency.head()\n",
        "print()\n",
        "df_recency[['CustomerID', 'InvoiceDate']].head()\n",
        "print()\n",
        "df_recency['InvoiceDate'].min()\n",
        "print()\n",
        "df_recency['recency']= (df_recency['InvoiceDate'].max() - df_recency['InvoiceDate'])/ pd.Timedelta(\"1 days\")\n",
        "print()\n",
        "df_recency = df_recency[['CustomerID', 'recency']]"
      ],
      "execution_count": 65,
      "outputs": [
        {
          "output_type": "execute_result",
          "data": {
            "text/plain": [
              "(4372, 2)"
            ]
          },
          "metadata": {
            "tags": []
          },
          "execution_count": 65
        },
        {
          "output_type": "stream",
          "text": [
            "\n"
          ],
          "name": "stdout"
        },
        {
          "output_type": "execute_result",
          "data": {
            "text/html": [
              "<div>\n",
              "<style scoped>\n",
              "    .dataframe tbody tr th:only-of-type {\n",
              "        vertical-align: middle;\n",
              "    }\n",
              "\n",
              "    .dataframe tbody tr th {\n",
              "        vertical-align: top;\n",
              "    }\n",
              "\n",
              "    .dataframe thead th {\n",
              "        text-align: right;\n",
              "    }\n",
              "</style>\n",
              "<table border=\"1\" class=\"dataframe\">\n",
              "  <thead>\n",
              "    <tr style=\"text-align: right;\">\n",
              "      <th></th>\n",
              "      <th>CustomerID</th>\n",
              "      <th>InvoiceDate</th>\n",
              "    </tr>\n",
              "  </thead>\n",
              "  <tbody>\n",
              "    <tr>\n",
              "      <th>0</th>\n",
              "      <td>12346.0</td>\n",
              "      <td>2011-01-18 10:17:00</td>\n",
              "    </tr>\n",
              "    <tr>\n",
              "      <th>1</th>\n",
              "      <td>12347.0</td>\n",
              "      <td>2011-10-31 12:25:00</td>\n",
              "    </tr>\n",
              "    <tr>\n",
              "      <th>2</th>\n",
              "      <td>12348.0</td>\n",
              "      <td>2011-09-25 13:13:00</td>\n",
              "    </tr>\n",
              "    <tr>\n",
              "      <th>3</th>\n",
              "      <td>12349.0</td>\n",
              "      <td>2011-11-21 09:51:00</td>\n",
              "    </tr>\n",
              "    <tr>\n",
              "      <th>4</th>\n",
              "      <td>12350.0</td>\n",
              "      <td>2011-02-02 16:01:00</td>\n",
              "    </tr>\n",
              "  </tbody>\n",
              "</table>\n",
              "</div>"
            ],
            "text/plain": [
              "   CustomerID         InvoiceDate\n",
              "0     12346.0 2011-01-18 10:17:00\n",
              "1     12347.0 2011-10-31 12:25:00\n",
              "2     12348.0 2011-09-25 13:13:00\n",
              "3     12349.0 2011-11-21 09:51:00\n",
              "4     12350.0 2011-02-02 16:01:00"
            ]
          },
          "metadata": {
            "tags": []
          },
          "execution_count": 65
        },
        {
          "output_type": "stream",
          "text": [
            "\n"
          ],
          "name": "stdout"
        },
        {
          "output_type": "execute_result",
          "data": {
            "text/html": [
              "<div>\n",
              "<style scoped>\n",
              "    .dataframe tbody tr th:only-of-type {\n",
              "        vertical-align: middle;\n",
              "    }\n",
              "\n",
              "    .dataframe tbody tr th {\n",
              "        vertical-align: top;\n",
              "    }\n",
              "\n",
              "    .dataframe thead th {\n",
              "        text-align: right;\n",
              "    }\n",
              "</style>\n",
              "<table border=\"1\" class=\"dataframe\">\n",
              "  <thead>\n",
              "    <tr style=\"text-align: right;\">\n",
              "      <th></th>\n",
              "      <th>CustomerID</th>\n",
              "      <th>InvoiceDate</th>\n",
              "    </tr>\n",
              "  </thead>\n",
              "  <tbody>\n",
              "    <tr>\n",
              "      <th>0</th>\n",
              "      <td>12346.0</td>\n",
              "      <td>2011-01-18 10:17:00</td>\n",
              "    </tr>\n",
              "    <tr>\n",
              "      <th>1</th>\n",
              "      <td>12347.0</td>\n",
              "      <td>2011-10-31 12:25:00</td>\n",
              "    </tr>\n",
              "    <tr>\n",
              "      <th>2</th>\n",
              "      <td>12348.0</td>\n",
              "      <td>2011-09-25 13:13:00</td>\n",
              "    </tr>\n",
              "    <tr>\n",
              "      <th>3</th>\n",
              "      <td>12349.0</td>\n",
              "      <td>2011-11-21 09:51:00</td>\n",
              "    </tr>\n",
              "    <tr>\n",
              "      <th>4</th>\n",
              "      <td>12350.0</td>\n",
              "      <td>2011-02-02 16:01:00</td>\n",
              "    </tr>\n",
              "  </tbody>\n",
              "</table>\n",
              "</div>"
            ],
            "text/plain": [
              "   CustomerID         InvoiceDate\n",
              "0     12346.0 2011-01-18 10:17:00\n",
              "1     12347.0 2011-10-31 12:25:00\n",
              "2     12348.0 2011-09-25 13:13:00\n",
              "3     12349.0 2011-11-21 09:51:00\n",
              "4     12350.0 2011-02-02 16:01:00"
            ]
          },
          "metadata": {
            "tags": []
          },
          "execution_count": 65
        },
        {
          "output_type": "stream",
          "text": [
            "\n"
          ],
          "name": "stdout"
        },
        {
          "output_type": "execute_result",
          "data": {
            "text/plain": [
              "Timestamp('2010-01-12 09:53:00')"
            ]
          },
          "metadata": {
            "tags": []
          },
          "execution_count": 65
        },
        {
          "output_type": "stream",
          "text": [
            "\n",
            "\n"
          ],
          "name": "stdout"
        }
      ]
    },
    {
      "cell_type": "code",
      "metadata": {
        "id": "heZ5ryrwC80-",
        "colab": {
          "base_uri": "https://localhost:8080/",
          "height": 243
        },
        "outputId": "5e29eef1-b9a7-4e98-ebf7-485b0159e3bc"
      },
      "source": [
        "# 2.3.2\n",
        "df_recency.head()\n",
        "print()\n",
        "df_recency.recency.min()  # 0.0"
      ],
      "execution_count": 66,
      "outputs": [
        {
          "output_type": "execute_result",
          "data": {
            "text/html": [
              "<div>\n",
              "<style scoped>\n",
              "    .dataframe tbody tr th:only-of-type {\n",
              "        vertical-align: middle;\n",
              "    }\n",
              "\n",
              "    .dataframe tbody tr th {\n",
              "        vertical-align: top;\n",
              "    }\n",
              "\n",
              "    .dataframe thead th {\n",
              "        text-align: right;\n",
              "    }\n",
              "</style>\n",
              "<table border=\"1\" class=\"dataframe\">\n",
              "  <thead>\n",
              "    <tr style=\"text-align: right;\">\n",
              "      <th></th>\n",
              "      <th>CustomerID</th>\n",
              "      <th>recency</th>\n",
              "    </tr>\n",
              "  </thead>\n",
              "  <tbody>\n",
              "    <tr>\n",
              "      <th>0</th>\n",
              "      <td>12346.0</td>\n",
              "      <td>326.293056</td>\n",
              "    </tr>\n",
              "    <tr>\n",
              "      <th>1</th>\n",
              "      <td>12347.0</td>\n",
              "      <td>40.204167</td>\n",
              "    </tr>\n",
              "    <tr>\n",
              "      <th>2</th>\n",
              "      <td>12348.0</td>\n",
              "      <td>76.170833</td>\n",
              "    </tr>\n",
              "    <tr>\n",
              "      <th>3</th>\n",
              "      <td>12349.0</td>\n",
              "      <td>19.311111</td>\n",
              "    </tr>\n",
              "    <tr>\n",
              "      <th>4</th>\n",
              "      <td>12350.0</td>\n",
              "      <td>311.054167</td>\n",
              "    </tr>\n",
              "  </tbody>\n",
              "</table>\n",
              "</div>"
            ],
            "text/plain": [
              "   CustomerID     recency\n",
              "0     12346.0  326.293056\n",
              "1     12347.0   40.204167\n",
              "2     12348.0   76.170833\n",
              "3     12349.0   19.311111\n",
              "4     12350.0  311.054167"
            ]
          },
          "metadata": {
            "tags": []
          },
          "execution_count": 66
        },
        {
          "output_type": "stream",
          "text": [
            "\n"
          ],
          "name": "stdout"
        },
        {
          "output_type": "execute_result",
          "data": {
            "text/plain": [
              "0.0"
            ]
          },
          "metadata": {
            "tags": []
          },
          "execution_count": 66
        }
      ]
    },
    {
      "cell_type": "markdown",
      "metadata": {
        "id": "aCWEj8kSDIYd"
      },
      "source": [
        "#####Frequency next"
      ]
    },
    {
      "cell_type": "code",
      "metadata": {
        "id": "Pwq8APKYTadU"
      },
      "source": [
        "# 3.0\n",
        "grpd = df.groupby(['CustomerID'])"
      ],
      "execution_count": 50,
      "outputs": []
    },
    {
      "cell_type": "code",
      "metadata": {
        "id": "CKoB6TJnUmu0",
        "colab": {
          "base_uri": "https://localhost:8080/",
          "height": 206
        },
        "outputId": "ef1c3b98-9987-4317-b6e1-e83b93d4bee0"
      },
      "source": [
        "# 3.1 Frequency: How many unique invoice numbers exist\n",
        "#                per customer\n",
        "\n",
        "df_freq = grpd['InvoiceNo'].nunique().reset_index()\n",
        "df_freq.columns = ['CustomerID', 'frequency']\n",
        "df_freq.head()\n"
      ],
      "execution_count": 51,
      "outputs": [
        {
          "output_type": "execute_result",
          "data": {
            "text/html": [
              "<div>\n",
              "<style scoped>\n",
              "    .dataframe tbody tr th:only-of-type {\n",
              "        vertical-align: middle;\n",
              "    }\n",
              "\n",
              "    .dataframe tbody tr th {\n",
              "        vertical-align: top;\n",
              "    }\n",
              "\n",
              "    .dataframe thead th {\n",
              "        text-align: right;\n",
              "    }\n",
              "</style>\n",
              "<table border=\"1\" class=\"dataframe\">\n",
              "  <thead>\n",
              "    <tr style=\"text-align: right;\">\n",
              "      <th></th>\n",
              "      <th>CustomerID</th>\n",
              "      <th>frequency</th>\n",
              "    </tr>\n",
              "  </thead>\n",
              "  <tbody>\n",
              "    <tr>\n",
              "      <th>0</th>\n",
              "      <td>12346.0</td>\n",
              "      <td>2</td>\n",
              "    </tr>\n",
              "    <tr>\n",
              "      <th>1</th>\n",
              "      <td>12347.0</td>\n",
              "      <td>7</td>\n",
              "    </tr>\n",
              "    <tr>\n",
              "      <th>2</th>\n",
              "      <td>12348.0</td>\n",
              "      <td>4</td>\n",
              "    </tr>\n",
              "    <tr>\n",
              "      <th>3</th>\n",
              "      <td>12349.0</td>\n",
              "      <td>1</td>\n",
              "    </tr>\n",
              "    <tr>\n",
              "      <th>4</th>\n",
              "      <td>12350.0</td>\n",
              "      <td>1</td>\n",
              "    </tr>\n",
              "  </tbody>\n",
              "</table>\n",
              "</div>"
            ],
            "text/plain": [
              "   CustomerID  frequency\n",
              "0     12346.0          2\n",
              "1     12347.0          7\n",
              "2     12348.0          4\n",
              "3     12349.0          1\n",
              "4     12350.0          1"
            ]
          },
          "metadata": {
            "tags": []
          },
          "execution_count": 51
        }
      ]
    },
    {
      "cell_type": "markdown",
      "metadata": {
        "id": "y3aVFBXYDbNO"
      },
      "source": [
        "##### Revenue/customer"
      ]
    },
    {
      "cell_type": "code",
      "metadata": {
        "id": "91cR87FNULJy"
      },
      "source": [
        "# 4.0\n",
        "grpd = df.groupby('CustomerID')"
      ],
      "execution_count": null,
      "outputs": []
    },
    {
      "cell_type": "code",
      "metadata": {
        "id": "9yCmfno5VteN"
      },
      "source": [
        "# 4.1 Sum-up all purchases\n",
        "df_rev = grpd['rev'].sum().reset_index()\n",
        "df_rev.columns = ['CustomerID', 'revenue']\n",
        "df_rev.head()"
      ],
      "execution_count": null,
      "outputs": []
    },
    {
      "cell_type": "markdown",
      "metadata": {
        "id": "u6yL5SKn_de-"
      },
      "source": [
        "##### High avg price buyer?"
      ]
    },
    {
      "cell_type": "code",
      "metadata": {
        "id": "vPsqLfK6_rF9"
      },
      "source": [
        "# 4.1\n",
        "grpd = df.groupby('CustomerID')"
      ],
      "execution_count": null,
      "outputs": []
    },
    {
      "cell_type": "code",
      "metadata": {
        "id": "b7fz1jWv_twW"
      },
      "source": [
        "# 4.1.1 Average unit-prices\n",
        "df_up = grpd['UnitPrice'].mean().reset_index()\n",
        "df_up.columns = ['CustomerID', 'avg_unitprice']\n",
        "df_up.head()"
      ],
      "execution_count": null,
      "outputs": []
    },
    {
      "cell_type": "markdown",
      "metadata": {
        "id": "CkLlU-xsnKXU"
      },
      "source": [
        "#### Preferred weekdays of customer"
      ]
    },
    {
      "cell_type": "code",
      "metadata": {
        "id": "iGrXX8vNorj7"
      },
      "source": [
        "# 4.1.2 Create new features, weekday and month\n",
        "df['weekday'] = df['InvoiceDate'].dt.weekday\n",
        "df['month'] = df['InvoiceDate'].dt.month"
      ],
      "execution_count": 67,
      "outputs": []
    },
    {
      "cell_type": "code",
      "metadata": {
        "id": "RXFkyasmoXXC"
      },
      "source": [
        "# 4.1.3 Group by CustomerID\n",
        "grpd = df.groupby('CustomerID')"
      ],
      "execution_count": 68,
      "outputs": []
    },
    {
      "cell_type": "code",
      "metadata": {
        "id": "VvfJzj29nJOT"
      },
      "source": [
        "# 4.1.4 Most preferred day of each customer\n",
        "#       'mode()' is not available in groupby()   \n",
        "\n",
        "df_preferredDay = grpd['weekday'].agg(lambda x:x.value_counts().index[0]).reset_index()\n",
        "df_preferredDay.head()"
      ],
      "execution_count": null,
      "outputs": []
    },
    {
      "cell_type": "markdown",
      "metadata": {
        "id": "wmr1nE0iDrNO"
      },
      "source": [
        "##### Create rfm DataFrame now\n",
        "Merge all datasets"
      ]
    },
    {
      "cell_type": "code",
      "metadata": {
        "id": "Sgon8KUxWUhN"
      },
      "source": [
        "# 5.0\n",
        "rfm = df_rev.merge(df_recency)\n",
        "rfm = rfm.merge(df_freq)\n",
        "rfm = rfm.merge(df_up)\n",
        "rfm = rfm.merge(df_preferredDay)\n",
        "rfm.shape   # (4372, 5)\n",
        "rfm.head()"
      ],
      "execution_count": null,
      "outputs": []
    },
    {
      "cell_type": "markdown",
      "metadata": {
        "id": "U-mqyKUWr-e5"
      },
      "source": [
        "### Country-wise feature engineering"
      ]
    },
    {
      "cell_type": "code",
      "metadata": {
        "id": "2UDa8B-QsDpp"
      },
      "source": [
        "# 6.0 \n",
        "dc = data.copy()"
      ],
      "execution_count": 88,
      "outputs": []
    },
    {
      "cell_type": "code",
      "metadata": {
        "colab": {
          "base_uri": "https://localhost:8080/",
          "height": 206
        },
        "id": "TSjAN89esNsB",
        "outputId": "48e51f08-08db-42a0-b8ab-fee210e6a918"
      },
      "source": [
        "# 6.1 Per country, number of unique customers\n",
        "grpd = dc.groupby('Country')\n",
        "dc_unique_cust = grpd['CustomerID'].nunique().reset_index()\n",
        "dc_unique_cust.head()"
      ],
      "execution_count": 89,
      "outputs": [
        {
          "output_type": "execute_result",
          "data": {
            "text/html": [
              "<div>\n",
              "<style scoped>\n",
              "    .dataframe tbody tr th:only-of-type {\n",
              "        vertical-align: middle;\n",
              "    }\n",
              "\n",
              "    .dataframe tbody tr th {\n",
              "        vertical-align: top;\n",
              "    }\n",
              "\n",
              "    .dataframe thead th {\n",
              "        text-align: right;\n",
              "    }\n",
              "</style>\n",
              "<table border=\"1\" class=\"dataframe\">\n",
              "  <thead>\n",
              "    <tr style=\"text-align: right;\">\n",
              "      <th></th>\n",
              "      <th>Country</th>\n",
              "      <th>CustomerID</th>\n",
              "    </tr>\n",
              "  </thead>\n",
              "  <tbody>\n",
              "    <tr>\n",
              "      <th>0</th>\n",
              "      <td>Australia</td>\n",
              "      <td>9</td>\n",
              "    </tr>\n",
              "    <tr>\n",
              "      <th>1</th>\n",
              "      <td>Austria</td>\n",
              "      <td>11</td>\n",
              "    </tr>\n",
              "    <tr>\n",
              "      <th>2</th>\n",
              "      <td>Bahrain</td>\n",
              "      <td>2</td>\n",
              "    </tr>\n",
              "    <tr>\n",
              "      <th>3</th>\n",
              "      <td>Belgium</td>\n",
              "      <td>25</td>\n",
              "    </tr>\n",
              "    <tr>\n",
              "      <th>4</th>\n",
              "      <td>Brazil</td>\n",
              "      <td>1</td>\n",
              "    </tr>\n",
              "  </tbody>\n",
              "</table>\n",
              "</div>"
            ],
            "text/plain": [
              "     Country  CustomerID\n",
              "0  Australia           9\n",
              "1    Austria          11\n",
              "2    Bahrain           2\n",
              "3    Belgium          25\n",
              "4     Brazil           1"
            ]
          },
          "metadata": {
            "tags": []
          },
          "execution_count": 89
        }
      ]
    },
    {
      "cell_type": "code",
      "metadata": {
        "colab": {
          "base_uri": "https://localhost:8080/",
          "height": 206
        },
        "id": "Y-BZPeLAvT2H",
        "outputId": "4546ee3c-311b-4330-8ced-f1e78cb40411"
      },
      "source": [
        "# 6.2 Per country, number of unique stockcodes\n",
        "grpd = dc.groupby('Country')\n",
        "dc_unique_stock = grpd['StockCode'].nunique().reset_index()\n",
        "dc_unique_stock.head()"
      ],
      "execution_count": 90,
      "outputs": [
        {
          "output_type": "execute_result",
          "data": {
            "text/html": [
              "<div>\n",
              "<style scoped>\n",
              "    .dataframe tbody tr th:only-of-type {\n",
              "        vertical-align: middle;\n",
              "    }\n",
              "\n",
              "    .dataframe tbody tr th {\n",
              "        vertical-align: top;\n",
              "    }\n",
              "\n",
              "    .dataframe thead th {\n",
              "        text-align: right;\n",
              "    }\n",
              "</style>\n",
              "<table border=\"1\" class=\"dataframe\">\n",
              "  <thead>\n",
              "    <tr style=\"text-align: right;\">\n",
              "      <th></th>\n",
              "      <th>Country</th>\n",
              "      <th>StockCode</th>\n",
              "    </tr>\n",
              "  </thead>\n",
              "  <tbody>\n",
              "    <tr>\n",
              "      <th>0</th>\n",
              "      <td>Australia</td>\n",
              "      <td>600</td>\n",
              "    </tr>\n",
              "    <tr>\n",
              "      <th>1</th>\n",
              "      <td>Austria</td>\n",
              "      <td>307</td>\n",
              "    </tr>\n",
              "    <tr>\n",
              "      <th>2</th>\n",
              "      <td>Bahrain</td>\n",
              "      <td>16</td>\n",
              "    </tr>\n",
              "    <tr>\n",
              "      <th>3</th>\n",
              "      <td>Belgium</td>\n",
              "      <td>778</td>\n",
              "    </tr>\n",
              "    <tr>\n",
              "      <th>4</th>\n",
              "      <td>Brazil</td>\n",
              "      <td>32</td>\n",
              "    </tr>\n",
              "  </tbody>\n",
              "</table>\n",
              "</div>"
            ],
            "text/plain": [
              "     Country  StockCode\n",
              "0  Australia        600\n",
              "1    Austria        307\n",
              "2    Bahrain         16\n",
              "3    Belgium        778\n",
              "4     Brazil         32"
            ]
          },
          "metadata": {
            "tags": []
          },
          "execution_count": 90
        }
      ]
    },
    {
      "cell_type": "code",
      "metadata": {
        "id": "VR-UsL12v-qv"
      },
      "source": [
        "# 6.3 Per country total purchases\n",
        "grpd = dc.groupby('Country')\n",
        "dc_rev = grpd['rev'].sum().reset_index()\n",
        "dc_rev.head()"
      ],
      "execution_count": null,
      "outputs": []
    },
    {
      "cell_type": "code",
      "metadata": {
        "colab": {
          "base_uri": "https://localhost:8080/",
          "height": 225
        },
        "id": "QhddlBwKwZx5",
        "outputId": "2668c83b-ef60-4f49-d5f4-439f5cb74c6a"
      },
      "source": [
        "# 6.4 Country-wise final merged data\n",
        "rcs = dc_rev.merge(dc_unique_stock)\n",
        "rcs = rcs.merge(dc_unique_cust)\n",
        "rcs.shape   # (4372, 5)\n",
        "rcs.columns = ['Country','TotalPurchases','StockVariety',\t'CustomerCounts']\n",
        "rcs.head()"
      ],
      "execution_count": 103,
      "outputs": [
        {
          "output_type": "execute_result",
          "data": {
            "text/plain": [
              "(37, 4)"
            ]
          },
          "metadata": {
            "tags": []
          },
          "execution_count": 103
        },
        {
          "output_type": "execute_result",
          "data": {
            "text/html": [
              "<div>\n",
              "<style scoped>\n",
              "    .dataframe tbody tr th:only-of-type {\n",
              "        vertical-align: middle;\n",
              "    }\n",
              "\n",
              "    .dataframe tbody tr th {\n",
              "        vertical-align: top;\n",
              "    }\n",
              "\n",
              "    .dataframe thead th {\n",
              "        text-align: right;\n",
              "    }\n",
              "</style>\n",
              "<table border=\"1\" class=\"dataframe\">\n",
              "  <thead>\n",
              "    <tr style=\"text-align: right;\">\n",
              "      <th></th>\n",
              "      <th>Country</th>\n",
              "      <th>TotalPurchases</th>\n",
              "      <th>StockVariety</th>\n",
              "      <th>CustomerCounts</th>\n",
              "    </tr>\n",
              "  </thead>\n",
              "  <tbody>\n",
              "    <tr>\n",
              "      <th>0</th>\n",
              "      <td>Australia</td>\n",
              "      <td>137009.77</td>\n",
              "      <td>600</td>\n",
              "      <td>9</td>\n",
              "    </tr>\n",
              "    <tr>\n",
              "      <th>1</th>\n",
              "      <td>Austria</td>\n",
              "      <td>10154.32</td>\n",
              "      <td>307</td>\n",
              "      <td>11</td>\n",
              "    </tr>\n",
              "    <tr>\n",
              "      <th>2</th>\n",
              "      <td>Bahrain</td>\n",
              "      <td>548.40</td>\n",
              "      <td>16</td>\n",
              "      <td>2</td>\n",
              "    </tr>\n",
              "    <tr>\n",
              "      <th>3</th>\n",
              "      <td>Belgium</td>\n",
              "      <td>40910.96</td>\n",
              "      <td>778</td>\n",
              "      <td>25</td>\n",
              "    </tr>\n",
              "    <tr>\n",
              "      <th>4</th>\n",
              "      <td>Brazil</td>\n",
              "      <td>1143.60</td>\n",
              "      <td>32</td>\n",
              "      <td>1</td>\n",
              "    </tr>\n",
              "  </tbody>\n",
              "</table>\n",
              "</div>"
            ],
            "text/plain": [
              "     Country  TotalPurchases  StockVariety  CustomerCounts\n",
              "0  Australia       137009.77           600               9\n",
              "1    Austria        10154.32           307              11\n",
              "2    Bahrain          548.40            16               2\n",
              "3    Belgium        40910.96           778              25\n",
              "4     Brazil         1143.60            32               1"
            ]
          },
          "metadata": {
            "tags": []
          },
          "execution_count": 103
        }
      ]
    },
    {
      "cell_type": "code",
      "metadata": {
        "id": "0XWsLfd_1vmG"
      },
      "source": [
        "# 6.5 Scaling the data so that all the features become comparable\n",
        "cols = ['TotalPurchases','StockVariety',\t'CustomerCounts']\n",
        "scaler = StandardScaler()\n",
        "X_scaled = scaler.fit_transform(rcs[cols])\n",
        "\n",
        "# Normalizing the data so that the data approximately\n",
        "# follows a Gaussian distribution\n",
        "#X_normalized = normalize(X_scaled)\n",
        "\n",
        "# Converting the numpy array into a pandas DataFrame\n",
        "X_normalized = pd.DataFrame(X_scaled)\n"
      ],
      "execution_count": 105,
      "outputs": []
    },
    {
      "cell_type": "code",
      "metadata": {
        "colab": {
          "base_uri": "https://localhost:8080/",
          "height": 663
        },
        "id": "7TJ4XrV2zNGO",
        "outputId": "6de3e081-2125-4cc2-9493-2a21e01ab6eb"
      },
      "source": [
        "import numpy as np\n",
        "\n",
        "from matplotlib import pyplot as plt\n",
        "from scipy.cluster.hierarchy import dendrogram\n",
        "from sklearn.cluster import AgglomerativeClustering\n",
        "import scipy.cluster.hierarchy as shc\n",
        "\n",
        "\n",
        "def plot_dendrogram(model, **kwargs):\n",
        "    # Create linkage matrix and then plot the dendrogram\n",
        "\n",
        "    # create the counts of samples under each node\n",
        "    counts = np.zeros(model.children_.shape[0])\n",
        "    n_samples = len(model.labels_)\n",
        "    for i, merge in enumerate(model.children_):\n",
        "        current_count = 0\n",
        "        for child_idx in merge:\n",
        "            if child_idx < n_samples:\n",
        "                current_count += 1  # leaf node\n",
        "            else:\n",
        "                current_count += counts[child_idx - n_samples]\n",
        "        counts[i] = current_count\n",
        "\n",
        "    linkage_matrix = np.column_stack([model.children_, model.distances_,\n",
        "                                      counts]).astype(float)\n",
        "\n",
        "    # Plot the corresponding dendrogram\n",
        "    dendrogram(linkage_matrix, **kwargs)\n",
        "\n",
        "\n",
        "\n",
        "X = X_scaled # Dropping the CUST_ID column from the data\n",
        "#X = X.drop('Country', axis = 1)\n",
        "\n",
        "# setting distance_threshold=0 ensures we compute the full tree.\n",
        "model = AgglomerativeClustering(distance_threshold=0, n_clusters=None)\n",
        "\n",
        "model = model.fit(X)\n",
        "plt.figure(figsize = (10,10))\n",
        "plt.title('Hierarchical Clustering Dendrogram')\n",
        "# plot the top three levels of the dendrogram\n",
        "plot_dendrogram(model, truncate_mode='level', p=8)\n",
        "plt.xlabel(\"Number of points in node (or index of point if no parenthesis).\")\n",
        "plt.show()"
      ],
      "execution_count": 106,
      "outputs": [
        {
          "output_type": "execute_result",
          "data": {
            "text/plain": [
              "<Figure size 720x720 with 0 Axes>"
            ]
          },
          "metadata": {
            "tags": []
          },
          "execution_count": 106
        },
        {
          "output_type": "execute_result",
          "data": {
            "text/plain": [
              "Text(0.5, 1.0, 'Hierarchical Clustering Dendrogram')"
            ]
          },
          "metadata": {
            "tags": []
          },
          "execution_count": 106
        },
        {
          "output_type": "execute_result",
          "data": {
            "text/plain": [
              "Text(0.5, 0, 'Number of points in node (or index of point if no parenthesis).')"
            ]
          },
          "metadata": {
            "tags": []
          },
          "execution_count": 106
        },
        {
          "output_type": "display_data",
          "data": {
            "image/png": "[encoded data removed]",
            "text/plain": [
              "<Figure size 720x720 with 1 Axes>"
            ]
          },
          "metadata": {
            "tags": [],
            "needs_background": "light"
          }
        }
      ]
    },
    {
      "cell_type": "code",
      "metadata": {
        "id": "JdL9b3K61Mgc"
      },
      "source": [
        ""
      ],
      "execution_count": null,
      "outputs": []
    },
    {
      "cell_type": "markdown",
      "metadata": {
        "id": "TmBic1CNEFQd"
      },
      "source": [
        "###Visualize Distributions  "
      ]
    },
    {
      "cell_type": "markdown",
      "metadata": {
        "id": "dWJIJlbYdc9u"
      },
      "source": [
        "#####Univariate"
      ]
    },
    {
      "cell_type": "code",
      "metadata": {
        "id": "1QW9-wi8ixt_"
      },
      "source": [
        "# 5.1\n",
        "fig = px.histogram(rfm, x = \"frequency\")\n",
        "fig.show()"
      ],
      "execution_count": null,
      "outputs": []
    },
    {
      "cell_type": "code",
      "metadata": {
        "id": "B-lO-ZPfQtYI"
      },
      "source": [
        "# 5.2\n",
        "fig = px.histogram(rfm, x = \"recency\")\n",
        "fig.show()"
      ],
      "execution_count": null,
      "outputs": []
    },
    {
      "cell_type": "code",
      "metadata": {
        "id": "OgWIlPuOQzfh"
      },
      "source": [
        "# 5.3\n",
        "fig = px.histogram(rfm, x = \"revenue\")\n",
        "fig.show()"
      ],
      "execution_count": null,
      "outputs": []
    },
    {
      "cell_type": "code",
      "metadata": {
        "id": "8c9ZRl1oDU5O"
      },
      "source": [
        "# 5.3.1\n",
        "fig = px.histogram(rfm, x = \"avg_unitprice\")\n",
        "fig.show()"
      ],
      "execution_count": null,
      "outputs": []
    },
    {
      "cell_type": "markdown",
      "metadata": {
        "id": "QunC_bTldkHF"
      },
      "source": [
        "#####Jointplots"
      ]
    },
    {
      "cell_type": "code",
      "metadata": {
        "id": "aA_af9XyRXGS"
      },
      "source": [
        "# 5.4\n",
        "fig = px.density_heatmap(\n",
        "                         rfm,\n",
        "                         x=\"frequency\",\n",
        "                         y=\"recency\"\n",
        "                         )\n",
        "\n",
        "fig.update_xaxes(range=[0, 50])\n"
      ],
      "execution_count": null,
      "outputs": []
    },
    {
      "cell_type": "code",
      "metadata": {
        "id": "olxONU9iVFma"
      },
      "source": [
        "# 5.5\n",
        "fig = px.density_heatmap(\n",
        "                         rfm,\n",
        "                         x=\"frequency\",\n",
        "                         y=\"recency\",\n",
        "                         marginal_x=\"histogram\"                        \n",
        "                         )\n",
        "\n",
        "fig.update_xaxes(range=[0, 25])"
      ],
      "execution_count": null,
      "outputs": []
    },
    {
      "cell_type": "code",
      "metadata": {
        "id": "8b0btGlqWmQP"
      },
      "source": [
        "# 5.6\n",
        "fig = px.density_contour(rfm, x=\"revenue\", y=\"recency\")\n",
        "fig.update_xaxes(range=[0, 10000])"
      ],
      "execution_count": null,
      "outputs": []
    },
    {
      "cell_type": "code",
      "metadata": {
        "id": "YcT3Y8ScXBae"
      },
      "source": [
        "# 5.7\n",
        "fig = px.density_contour(rfm, x=\"revenue\", y=\"recency\")\n",
        "_=fig.update_traces(contours_coloring=\"fill\", contours_showlabels = True)\n",
        "fig.update_xaxes(range=[0, 10000])"
      ],
      "execution_count": null,
      "outputs": []
    },
    {
      "cell_type": "markdown",
      "metadata": {
        "id": "n1A5Aak9dpYu"
      },
      "source": [
        "### Removing outliers\n",
        "There is no rigid mathematical definition of what constitutes an outlier; determining whether or not an observation is an outlier is ultimately a subjective exercise. There are various methods of outlier detection. Some are graphical such as normal probability plots. Others are model-based. Box plots are a hybrid.\n",
        "\n",
        "Model-based methods which are commonly used for identification assume that the data are from a normal distribution, and identify observations which are deemed \"unlikely\" based on mean and standard deviation: \n",
        "\n",
        "Before we cluster data:\n",
        ">a. Remove outliers<br>\n",
        ">> i) Use IQR method  \n",
        ">> ii)Use z-score  \n",
        ">>iii)Use IsolationForest algorithm  \n",
        "\n",
        ">b. Perform boxcox transformation to make relevant features symmteric"
      ]
    },
    {
      "cell_type": "markdown",
      "metadata": {
        "id": "pbxtrxDNtakm"
      },
      "source": [
        "IQR\n",
        "\n",
        "![image.png](data:image/png;base64,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)\n",
        "\n"
      ]
    },
    {
      "cell_type": "markdown",
      "metadata": {
        "id": "eRvhfNA5vOov"
      },
      "source": [
        "Quantile vs Quartile vs Percentile<br>\n",
        "Refer [here](https://stats.stackexchange.com/a/156787)\n",
        "\n",
        "> 0 quartile = 0 quantile = 0 percentile\n",
        "\n",
        "> 1 quartile = 0.25 quantile = 25 percentile\n",
        "\n",
        "> 2 quartile = .5 quantile = 50 percentile (median)\n",
        "\n",
        "> 3 quartile = .75 quantile = 75 percentile\n",
        "\n",
        "> 4 quartile = 1 quantile = 100 percentile\n"
      ]
    },
    {
      "cell_type": "code",
      "metadata": {
        "id": "jan2A3xqMDdv"
      },
      "source": [
        "# 6.0 One way to look at outliers:\n",
        "\n",
        "_=rfm.boxplot()"
      ],
      "execution_count": null,
      "outputs": []
    },
    {
      "cell_type": "code",
      "metadata": {
        "id": "f0ZY2OUFuMXT"
      },
      "source": [
        "# 6.0.1\n",
        "cols = [\"revenue\", \"frequency\", \"recency\"]\n",
        "cols1 = [\"revenue\", \"frequency\", \"recency\", \"avg_unitprice\"]"
      ],
      "execution_count": null,
      "outputs": []
    },
    {
      "cell_type": "markdown",
      "metadata": {
        "id": "jes5GlO9R0Gz"
      },
      "source": [
        "### Box-cox transformations"
      ]
    },
    {
      "cell_type": "markdown",
      "metadata": {
        "id": "ypjQkUaZQDzB"
      },
      "source": [
        "In statistics, a power transform is a family of functions that are applied to create a monotonic transformation of data using power functions. This is a useful data transformation technique used to stabilize variance, make the data more normal distribution-like, improve the validity of measures of association such as the Pearson correlation between variables and for other data stabilization procedures. "
      ]
    },
    {
      "cell_type": "code",
      "metadata": {
        "id": "TZxxEd4OST5d",
        "colab": {
          "base_uri": "https://localhost:8080/",
          "height": 283
        },
        "outputId": "fe2e7c9b-902d-4434-ff54-4599d5f8e2a8"
      },
      "source": [
        "# Last amended: 15th April, 2021\n",
        "# Myfolder:\n",
        "# https://stats.stackexchange.com/a/336397\n",
        "\n",
        "import matplotlib.pyplot as plt\n",
        "import numpy as np\n",
        "\n",
        "x1 = np.random.lognormal(2,1.3, 500)\n",
        "x1.shape\n",
        "x2 = np.random.lognormal(2,1.3,500)\n",
        "y = 2*x1+x2\n",
        "z = 2*x2+x1\n",
        "\n",
        "_=plt.scatter(y,z)\n",
        "_=plt.xlim(0,500)\n",
        "\n"
      ],
      "execution_count": 4,
      "outputs": [
        {
          "output_type": "execute_result",
          "data": {
            "text/plain": [
              "(500,)"
            ]
          },
          "metadata": {
            "tags": []
          },
          "execution_count": 4
        },
        {
          "output_type": "stream",
          "text": [
            "\n"
          ],
          "name": "stdout"
        },
        {
          "output_type": "display_data",
          "data": {
            "image/png": "[encoded data removed]",
            "text/plain": [
              "<Figure size 432x288 with 1 Axes>"
            ]
          },
          "metadata": {
            "tags": [],
            "needs_background": "light"
          }
        }
      ]
    },
    {
      "cell_type": "code",
      "metadata": {
        "colab": {
          "base_uri": "https://localhost:8080/",
          "height": 265
        },
        "id": "FLsIyfrnTSyn",
        "outputId": "8d2289bb-701e-4513-ed45-0dca8a67fa07"
      },
      "source": [
        "\n",
        "_=plt.scatter(np.log10(y),np.log10(z))\n"
      ],
      "execution_count": 5,
      "outputs": [
        {
          "output_type": "display_data",
          "data": {
            "image/png": "[encoded data removed]",
            "text/plain": [
              "<Figure size 432x288 with 1 Axes>"
            ]
          },
          "metadata": {
            "tags": [],
            "needs_background": "light"
          }
        }
      ]
    },
    {
      "cell_type": "code",
      "metadata": {
        "id": "GSi2Zl3mSBQa"
      },
      "source": [
        "# 6.0.2 Define a function to perform\n",
        "#       boxcox transformation on a dataframe: x\n",
        "\n",
        "from sklearn.preprocessing import power_transform\n",
        "\n",
        "def boxcox(X):\n",
        "  \"\"\"\n",
        "  X: Dataframe on each feature of\n",
        "     which transformation is to be carried out\n",
        "  \"\"\"\n",
        "  dataColumns = X.columns\n",
        "  X = power_transform(X.values, method = 'yeo-johnson')\n",
        "  X = pd.DataFrame(X, columns=dataColumns)\n",
        "  return X"
      ],
      "execution_count": null,
      "outputs": []
    },
    {
      "cell_type": "code",
      "metadata": {
        "id": "LW6kFXsKtsVF"
      },
      "source": [
        "# 6.0.3\n",
        "rfm_boxcox = boxcox(rfm[cols1])\n",
        "\n",
        "_=sns.displot(rfm_boxcox, x = \"frequency\")\n",
        "_=sns.displot(rfm_boxcox, x = \"revenue\")\n",
        "_=sns.displot(rfm_boxcox, x = \"recency\")\n",
        "_=sns.displot(rfm_boxcox, x = \"avg_unitprice\")"
      ],
      "execution_count": null,
      "outputs": []
    },
    {
      "cell_type": "code",
      "metadata": {
        "id": "aeg4HzxVUojm"
      },
      "source": [
        "# 6.1 Calculate few stats:\n",
        "\n",
        "cols = [\"revenue\", \"frequency\", \"recency\"]\n",
        "print(\"\\n\\n----0.99 quantile-----\\n\")\n",
        "rfm[cols].quantile(0.99)\n",
        "print(\"\\n\\n----0.75 quantile-----\\n\")\n",
        "rfm[cols].quantile(0.75)\n",
        "print(\"\\n\\n----0.25 quantile-----\\n\")\n",
        "rfm[cols].quantile(0.25)\n",
        "print(\"\\n\\n----iqr-----\\n\")\n",
        "iqr = rfm[cols].quantile(0.75) - rfm[cols].quantile(0.25)\n",
        "print()\n",
        "iqr  # rev: 1316, recency: 132,frequency: 4.0 "
      ],
      "execution_count": null,
      "outputs": []
    },
    {
      "cell_type": "code",
      "metadata": {
        "id": "wel-JfpcdquB"
      },
      "source": [
        "# 6.2 Use scipy stats:\n",
        "\n",
        "# 6.2.1 Calcluate IQR for each feature:\n",
        "iqr_rev = stats.iqr(rfm.revenue, interpolation = 'midpoint')\n",
        "iqr_recency = stats.iqr(rfm.recency, interpolation = 'midpoint')\n",
        "iqr_freq = stats.iqr(rfm.frequency, interpolation = 'midpoint')\n",
        "\n",
        "# 6.2.2\n",
        "print()\n",
        "print(\"iqr_rev:\", iqr_rev)\n",
        "print(\"iqr_recency: \", iqr_recency)\n",
        "print(\"iqr_freq: \", iqr_freq)"
      ],
      "execution_count": null,
      "outputs": []
    },
    {
      "cell_type": "markdown",
      "metadata": {
        "id": "expqxbYyfDsG"
      },
      "source": [
        "#### Using IQR to calculate outliers"
      ]
    },
    {
      "cell_type": "markdown",
      "metadata": {
        "id": "jOzdK-4ifiVF"
      },
      "source": [
        "#### Remove outlier function"
      ]
    },
    {
      "cell_type": "code",
      "metadata": {
        "id": "ShFyFLu_fJsI"
      },
      "source": [
        "# 6.3 Function removes outliers\n",
        "def rem_outliers(feature, data):\n",
        "  \"\"\"\n",
        "  Given a 'feature' and a DataFrame,\n",
        "  this function removes rows with\n",
        "  outliers in 'feature' and returns\n",
        "  remaining DataFrame.\n",
        "  \"\"\"\n",
        "  # 6.3.1\n",
        "  q1 = data[feature].quantile(0.25)\n",
        "  q3 = data[feature].quantile(0.75)\n",
        "  iqr = q3-q1\n",
        "  # 6.3.2\n",
        "  upper_lt = q3 + iqr * 1.5\n",
        "  lower_lt = q1 - iqr * 1.5\n",
        "  # 6.3.3\n",
        "  return data.loc[(data[feature] >lower_lt) & (data[feature] < upper_lt), : ] "
      ],
      "execution_count": null,
      "outputs": []
    },
    {
      "cell_type": "markdown",
      "metadata": {
        "id": "3UrZqA6Kg8td"
      },
      "source": [
        "#### Remove outlier from 'frequency' feature"
      ]
    },
    {
      "cell_type": "code",
      "metadata": {
        "colab": {
          "base_uri": "https://localhost:8080/"
        },
        "id": "AldqDpc37EBr",
        "outputId": "77e8611a-8f88-43f9-ed33-829108d8c194"
      },
      "source": [
        "# 6.3.1\n",
        "print(rem_outliers.__doc__)"
      ],
      "execution_count": null,
      "outputs": [
        {
          "output_type": "stream",
          "text": [
            "\n",
            "  Given a 'feature' and a DataFrame,\n",
            "  this function removes rows with\n",
            "  outliers in 'feature' and returns\n",
            "  remaining DataFrame.\n",
            "  \n"
          ],
          "name": "stdout"
        }
      ]
    },
    {
      "cell_type": "code",
      "metadata": {
        "id": "ntrVj5QPgtHE"
      },
      "source": [
        "# 7.0 Remove outliers from 'frequency' feature:\n",
        "rfm_freq = rem_outliers('frequency', rfm) \n",
        "rfm_freq.shape    # (3913,4)\n",
        "rfm_freq.head()\n"
      ],
      "execution_count": null,
      "outputs": []
    },
    {
      "cell_type": "code",
      "metadata": {
        "id": "a110xvGqgaKD"
      },
      "source": [
        "# 7.1 Do outlier still remain in other\n",
        "#     features also?\n",
        "\n",
        "fig = px.histogram(rfm_freq, x = \"frequency\", width=600, height=400)\n",
        "fig1 = px.histogram(rfm_freq, x = \"recency\", width=600, height=400)\n",
        "fig2 = px.histogram(rfm_freq, x = \"revenue\", width=600, height=400)\n",
        "\n",
        "fig.show()\n",
        "fig1.show()\n",
        "fig2.show()"
      ],
      "execution_count": null,
      "outputs": []
    },
    {
      "cell_type": "code",
      "metadata": {
        "id": "WXqMfgXChQHo"
      },
      "source": [
        "# 7.2 Look at boxplots also:\n",
        "fig = plt.figure(figsize=(8,6))\n",
        "_=rfm_freq[cols1].boxplot()"
      ],
      "execution_count": null,
      "outputs": []
    },
    {
      "cell_type": "markdown",
      "metadata": {
        "id": "FyJbnM3mhCd7"
      },
      "source": [
        "#### Remove outlier from 'recency' feature"
      ]
    },
    {
      "cell_type": "code",
      "metadata": {
        "id": "jorJhLxDtFEF"
      },
      "source": [
        "# 7.3\n",
        "rfm_recency = rem_outliers('recency', rfm) \n",
        "\n",
        "# 7.3.1\n",
        "rfm_recency.shape    # (4244, 4)\n",
        "rfm_recency.head()\n"
      ],
      "execution_count": null,
      "outputs": []
    },
    {
      "cell_type": "code",
      "metadata": {
        "id": "FGjt61aRhY8d"
      },
      "source": [
        "# 7.4 So after removal from 'recency'\n",
        "#     let us look at outliers again\n",
        "\n",
        "fig = px.histogram(rfm_recency, x = \"frequency\", width=600, height=400)\n",
        "fig1 = px.histogram(rfm_recency, x = \"recency\", width=600, height=400)\n",
        "fig2 = px.histogram(rfm_recency, x = \"revenue\", width=600, height=400)\n",
        "\n",
        "fig.show()\n",
        "fig1.show()\n",
        "fig2.show()"
      ],
      "execution_count": null,
      "outputs": []
    },
    {
      "cell_type": "markdown",
      "metadata": {
        "id": "BvzKMivchiek"
      },
      "source": [
        "#### Remove outliers from 'revenue' feature"
      ]
    },
    {
      "cell_type": "code",
      "metadata": {
        "id": "QkN-X2geuEuk"
      },
      "source": [
        "# 7.5\n",
        "rfm_revenue = rem_outliers('revenue', rfm) \n",
        "\n",
        "# 7.5.1\n",
        "rfm_revenue.shape    # (4244, 4)\n",
        "rfm_revenue.head()\n"
      ],
      "execution_count": null,
      "outputs": []
    },
    {
      "cell_type": "code",
      "metadata": {
        "id": "TFzdSySZhs6I"
      },
      "source": [
        "# 7.5.2\n",
        "fig = px.histogram(rfm_revenue, x = \"frequency\", width=600, height=400)\n",
        "fig1 = px.histogram(rfm_revenue, x = \"recency\", width=600, height=400)\n",
        "fig2 = px.histogram(rfm_revenue, x = \"revenue\", width=600, height=400)\n",
        "\n",
        "fig.show()\n",
        "fig1.show()\n",
        "fig2.show()"
      ],
      "execution_count": null,
      "outputs": []
    },
    {
      "cell_type": "markdown",
      "metadata": {
        "id": "Auxu1_-piHdT"
      },
      "source": [
        "#### Remove both 'revenue' and 'frequency' outliers"
      ]
    },
    {
      "cell_type": "code",
      "metadata": {
        "id": "OdOr5vVAu6ht"
      },
      "source": [
        "# 7.6 Remove both 'revenue' and 'frequency' outliers\n",
        "rfm_freq2 = rem_outliers('frequency', rfm_revenue) \n",
        "rfm_freq2.shape    # (4244, 4)\n",
        "rfm_freq2.head()\n"
      ],
      "execution_count": null,
      "outputs": []
    },
    {
      "cell_type": "code",
      "metadata": {
        "id": "FTJEODmqitKS"
      },
      "source": [
        "# 7.5.3\n",
        "\n",
        "fig = px.histogram(rfm_freq2, x = \"frequency\", width=600, height=400)\n",
        "fig1 = px.histogram(rfm_freq2, x = \"recency\", width=600, height=400)\n",
        "fig2 = px.histogram(rfm_freq2, x = \"revenue\", width=600, height=400)\n",
        "\n",
        "fig.show()\n",
        "fig1.show()\n",
        "fig2.show()"
      ],
      "execution_count": null,
      "outputs": []
    },
    {
      "cell_type": "markdown",
      "metadata": {
        "id": "PBbH1eRQierq"
      },
      "source": [
        "#### Another way to remove outliers\n",
        "Look at 5th percentile and 95th percentile"
      ]
    },
    {
      "cell_type": "code",
      "metadata": {
        "id": "e0dpUn6kyFbb"
      },
      "source": [
        "#8.0 Another way\n",
        "\n",
        "#8.1  Removing (statistical) outliers for revenue\n",
        "lower_rev = rfm.revenue.quantile(0.05)\n",
        "upper_rev = rfm.revenue.quantile(0.95)\n",
        "rfm_aw = rfm[(rfm.revenue >= lower_rev) & (rfm.revenue <= upper_rev)]\n",
        "\n",
        "#8.2 Removing (statistical) outliers for recency\n",
        "lower_rec = rfm.recency.quantile(0.05)\n",
        "upper_rec = rfm.recency.quantile(0.95)\n",
        "rfm_aw = rfm_aw[(rfm_aw.recency >= lower_rec) & (rfm_aw.recency <= upper_rec)]\n",
        "\n",
        "#8.3 Removing (statistical) outliers for frequency\n",
        "lower_freq = rfm_aw.frequency.quantile(0.05)\n",
        "upper_freq = rfm_aw.frequency.quantile(0.95)\n",
        "rfm_aw = rfm_aw[(rfm_aw.frequency >= lower_freq) & (rfm_aw.frequency <= upper_freq)]\n",
        "\n",
        "#8.3.1 Removing (statistical) outliers for avg_unitprice\n",
        "lower_up = rfm_aw.avg_unitprice.quantile(0.05)\n",
        "upper_up = rfm_aw.avg_unitprice.quantile(0.95)\n",
        "rfm_aw = rfm_aw[(rfm_aw.avg_unitprice >= lower_up) & (rfm_aw.avg_unitprice <= upper_up)]\n",
        "\n",
        "\n",
        "# 8.4\n",
        "rfm_aw.shape  # (3442, 5)\n",
        "rfm_aw.head()"
      ],
      "execution_count": null,
      "outputs": []
    },
    {
      "cell_type": "code",
      "metadata": {
        "id": "4TcVg-1Z1Yul"
      },
      "source": [
        "# 8.5\n",
        "fig = px.histogram(rfm_aw, x = \"frequency\", width=600, height=400)\n",
        "fig1 = px.histogram(rfm_aw, x = \"recency\", width=600, height=400)\n",
        "fig2 = px.histogram(rfm_aw, x = \"revenue\", width=600, height=400)\n",
        "fig3 = px.histogram(rfm_aw, x = \"avg_unitprice\", width=600, height=400)\n",
        "\n",
        "fig.show()\n",
        "fig1.show()\n",
        "fig2.show()\n",
        "fig3.show()"
      ],
      "execution_count": null,
      "outputs": []
    },
    {
      "cell_type": "markdown",
      "metadata": {
        "id": "hUCvtATtRXlQ"
      },
      "source": [
        "#### Box-cox transformation\n",
        "Perform boxcox transformation on 'inlier' data"
      ]
    },
    {
      "cell_type": "code",
      "metadata": {
        "id": "IGGpFqfZRCWZ"
      },
      "source": [
        "# 8.5.1 Now that outliers have been\n",
        "#       removed from data, we can perform boxcox\n",
        "#       transformation here.\n",
        "#       Boxcox transformation will also scale data.\n",
        "#       You can use:\n",
        "\n",
        "# rfm_aw = boxcox(rfm_aw)\n"
      ],
      "execution_count": null,
      "outputs": []
    },
    {
      "cell_type": "markdown",
      "metadata": {
        "id": "P7tbSL10-Jje"
      },
      "source": [
        "##### Scale Data now"
      ]
    },
    {
      "cell_type": "code",
      "metadata": {
        "id": "2pJ7GzKc-Oj6"
      },
      "source": [
        "# 9.0 Rescaling the attributes\n",
        "\n",
        "rfm_df = rfm_aw[cols1]\n",
        "\n",
        "# 9.1 Instantiate\n",
        "scaler = StandardScaler()\n",
        "\n",
        "# 9.2 fit_transform\n",
        "X = scaler.fit_transform(rfm_df)\n",
        "X.shape  # (3096, 4)"
      ],
      "execution_count": null,
      "outputs": []
    },
    {
      "cell_type": "code",
      "metadata": {
        "id": "_xKtxCvD-UXi"
      },
      "source": [
        "# 9.3 Transform scaled numpy data to DataFrame\n",
        "rfm_df_scaled = pd.DataFrame(X)\n",
        "rfm_df_scaled.columns = ['revenue', 'frequency', 'recency', 'avg_unitprice']\n",
        "rfm_df_scaled.head()"
      ],
      "execution_count": null,
      "outputs": []
    },
    {
      "cell_type": "markdown",
      "metadata": {
        "id": "h6gj6RnW-mAh"
      },
      "source": [
        "### Isolation forest for outlier removal\n",
        "See [here](https://quantdare.com/isolation-forest-algorithm/)"
      ]
    },
    {
      "cell_type": "markdown",
      "metadata": {
        "id": "HHd5hdTb-z5L"
      },
      "source": [
        "How do we separate each point? The simple procedure is as follows for each point of the data set:\n",
        "\n",
        "1.    Select the point to isolate.\n",
        "2.     For each feature, set the range to isolate between the minimum and the maximum.\n",
        "3.     Choose a feature randomly.\n",
        "4.     Pick a value that’s in the range, again randomly:\n",
        ">i)         If the chosen value keeps the point above, switch the minimum of the range of the feature to the value.  \n",
        ">ii)        If the chosen value keeps the point below, switch the maximum of the range of the feature to the value.\n",
        "5. Repeat steps 3 & 4 until the point is isolated. That is, until the point is the only one which is inside the range for all features.\n",
        "6. Count how many times you’ve had to repeat steps 3 & 4. We call this quantity the isolation number.\n",
        "\n",
        "The algorithm claims that a point is an outlier if it doesn’t have to repeat the steps 3 & 4 several times."
      ]
    },
    {
      "cell_type": "code",
      "metadata": {
        "id": "lW9uLp_R_par"
      },
      "source": [
        "# 10.0\n",
        "from sklearn.ensemble import IsolationForest\n",
        "\n",
        "# 10.0.1 Instantiate a quick model\n",
        "clf = IsolationForest(random_state=0)\n",
        "\n",
        "# 10.0.2 Train the model:\n",
        "clf.fit(X)\n",
        "\n",
        "# # 10.0.3 PRedict outliers and inliers \n",
        "# predict()\n",
        "#   Returns 'is_inlier' ndarray of shape (n_samples,)\n",
        "#   For each observation, tells whether or not (+1 or -1)\n",
        "#   it should be considered as an inlier according to the fitted model.\n",
        "\n",
        "out = clf.predict(X)\n",
        "out[:10]"
      ],
      "execution_count": null,
      "outputs": []
    },
    {
      "cell_type": "code",
      "metadata": {
        "colab": {
          "base_uri": "https://localhost:8080/"
        },
        "id": "h5QVhCBbJorI",
        "outputId": "8c22732b-bea9-42e2-bc2d-2fc4016df2ea"
      },
      "source": [
        "# 10.0.4 So extract 'normal' data\n",
        "X_normal = X[out == 1]\n",
        "X_normal.shape   # (2220, 4)"
      ],
      "execution_count": null,
      "outputs": [
        {
          "output_type": "execute_result",
          "data": {
            "text/plain": [
              "(2220, 4)"
            ]
          },
          "metadata": {
            "tags": []
          },
          "execution_count": 69
        }
      ]
    },
    {
      "cell_type": "code",
      "metadata": {
        "id": "CC7cyCA1NRkj"
      },
      "source": [
        "# 10.0.5 Transform scaled numpy data to DataFrame\n",
        "X_normal = pd.DataFrame(X_normal)\n",
        "X_normal.columns = ['revenue', 'frequency', 'recency', 'avg_unitprice']\n",
        "X_normal.head()"
      ],
      "execution_count": null,
      "outputs": []
    },
    {
      "cell_type": "code",
      "metadata": {
        "id": "JwBd7th6N085"
      },
      "source": [
        "# 10.1 Visualize the 'normal' data\n",
        "fig1 = px.histogram(X_normal, x = \"revenue\", width = 400, height= 400)\n",
        "fig2 = px.histogram(X_normal, x = \"frequency\", width = 400, height= 400)\n",
        "fig3 = px.histogram(X_normal, x = \"recency\", width = 400, height= 400)\n",
        "fig4 = px.histogram(X_normal, x = \"avg_unitprice\", width = 400, height= 400)\n",
        "\n",
        "# 10.1.1\n",
        "fig1.show()\n",
        "fig2.show()\n",
        "fig3.show()\n",
        "fig4.show()"
      ],
      "execution_count": null,
      "outputs": []
    },
    {
      "cell_type": "markdown",
      "metadata": {
        "id": "Tl3TsETF_Ui3"
      },
      "source": [
        "### KMeans clustering\n",
        "We use data without boxcox transformation"
      ]
    },
    {
      "cell_type": "markdown",
      "metadata": {
        "id": "GejrczkhACxH"
      },
      "source": [
        "#### Scree plot\n",
        "How many clusters?"
      ]
    },
    {
      "cell_type": "code",
      "metadata": {
        "id": "An_ssVxv4oks"
      },
      "source": [
        "# 11.0 Elbow-curve/SSD\n",
        "\n",
        "ssd = []\n",
        "range_n_clusters = [2, 3, 4, 5, 6, 7, 8]\n",
        "for num_clusters in range_n_clusters:\n",
        "    kmeans = KMeans(n_clusters=num_clusters, max_iter=50)\n",
        "    _=kmeans.fit(rfm_df_scaled)\n",
        "  \n",
        "    ssd.append(kmeans.inertia_)\n",
        "    \n",
        "# 11.1 plot the SSDs for each n_clusters\n",
        "_=plt.plot(ssd)"
      ],
      "execution_count": null,
      "outputs": []
    },
    {
      "cell_type": "markdown",
      "metadata": {
        "id": "cQW5N9D3AcSP"
      },
      "source": [
        "#### Silhoutte Score"
      ]
    },
    {
      "cell_type": "code",
      "metadata": {
        "id": "HzsPuv3W4xAy"
      },
      "source": [
        "# 11.2 Silhouette analysis\n",
        "range_n_clusters = [2, 3, 4, 5, 6, 7, 8]\n",
        "\n",
        "for num_clusters in range_n_clusters:\n",
        "    \n",
        "    # intialise kmeans\n",
        "    kmeans = KMeans(n_clusters=num_clusters, max_iter=50)\n",
        "    _=kmeans.fit(rfm_df_scaled)\n",
        "    \n",
        "    cluster_labels = kmeans.labels_\n",
        "    \n",
        "    # silhouette score\n",
        "    silhouette_avg = silhouette_score(rfm_df_scaled, cluster_labels)\n",
        "    print(\"For n_clusters={0}, the silhouette score is {1}\".format(num_clusters, silhouette_avg))"
      ],
      "execution_count": null,
      "outputs": []
    },
    {
      "cell_type": "markdown",
      "metadata": {
        "id": "0x0OZmZ9Aflf"
      },
      "source": [
        "#### Final model"
      ]
    },
    {
      "cell_type": "code",
      "metadata": {
        "id": "1uGsrWgi5BiZ"
      },
      "source": [
        "# 11.3 Final model with k=3\n",
        "#      Why 3? From domain knowledge, I think 3 would be OK.\n",
        "\n",
        "kmeans = KMeans(n_clusters=3, max_iter=50)\n",
        "_=kmeans.fit(rfm_df_scaled)"
      ],
      "execution_count": null,
      "outputs": []
    },
    {
      "cell_type": "code",
      "metadata": {
        "id": "yjWeXzCH5FgQ"
      },
      "source": [
        "# 11.4 Assign cluster labels\n",
        "rfm_df_scaled['Cluster_Id'] = kmeans.labels_\n",
        "rfm_df_scaled.head()"
      ],
      "execution_count": null,
      "outputs": []
    },
    {
      "cell_type": "markdown",
      "metadata": {
        "id": "_4iq0V2UBm8l"
      },
      "source": [
        "### Are clusters distinguishable cluster_ID wise"
      ]
    },
    {
      "cell_type": "code",
      "metadata": {
        "id": "l0OYAWei5S4h"
      },
      "source": [
        "# 11.5.1 Draw boxplots\n",
        "#sns.boxplot(x='Cluster_Id', y='revenue', data=rfm_df_scaled);\n",
        "fig = px.box(rfm_df_scaled, x='Cluster_Id', y=\"revenue\")\n",
        "fig.show()"
      ],
      "execution_count": null,
      "outputs": []
    },
    {
      "cell_type": "code",
      "metadata": {
        "id": "nX8W1rds52O4"
      },
      "source": [
        "# 11.5.2 Draw boxplots\n",
        "#sns.boxplot(x='Cluster_Id', y='recency', data=rfm_aw);\n",
        "fig = px.box(rfm_df_scaled, x='Cluster_Id', y=\"recency\")\n",
        "fig.show()"
      ],
      "execution_count": null,
      "outputs": []
    },
    {
      "cell_type": "code",
      "metadata": {
        "id": "tvthQrwz53Wo"
      },
      "source": [
        "# 11.5.3\n",
        "fig = px.box(rfm_df_scaled, x='Cluster_Id', y=\"frequency\")\n",
        "fig.show()\n",
        "# sns.boxplot(x='Cluster_Id', y='frequency', data=rfm_aw);"
      ],
      "execution_count": null,
      "outputs": []
    },
    {
      "cell_type": "code",
      "metadata": {
        "id": "XBaJWhc6HQxF"
      },
      "source": [
        "# 11.5.4\n",
        "fig = px.box(rfm_df_scaled, x='Cluster_Id', y=\"avg_unitprice\")\n",
        "fig.show()\n",
        "# sns.boxplot(x='Cluster_Id', y='frequency', data=rfm_aw);"
      ],
      "execution_count": null,
      "outputs": []
    },
    {
      "cell_type": "code",
      "metadata": {
        "id": "_mCDEYY4HicO"
      },
      "source": [
        "# 11.5.5 Are medians significantly different\n",
        "#        If there is an overlap in error-bars, then no\n",
        "#        Note: Some medians are negative\n",
        "\n",
        "ax=sns.barplot(data = rfm_df_scaled,\n",
        "            x='Cluster_Id', \n",
        "            y=\"avg_unitprice\",\n",
        "            estimator = np.median)\n"
      ],
      "execution_count": null,
      "outputs": []
    },
    {
      "cell_type": "markdown",
      "metadata": {
        "id": "uUkxop7tCRro"
      },
      "source": [
        "### Gaussian Mixture Model"
      ]
    },
    {
      "cell_type": "markdown",
      "metadata": {
        "id": "8VmieW9ULPYE"
      },
      "source": [
        "#### Perform boxcox again\n",
        "This time with data without outliers"
      ]
    },
    {
      "cell_type": "code",
      "metadata": {
        "id": "GiAKTS39eGJP"
      },
      "source": [
        "# 11.0 Boxcox transformation\n",
        "from sklearn.preprocessing import power_transform\n",
        "\n",
        "# 11.1\n",
        "rfm_boxcox = power_transform(\n",
        "                              rfm_df_scaled[cols1],\n",
        "                              method = 'yeo-johnson'\n",
        "                              )\n",
        "\n",
        "# 11.2 PErform boxcox again\n",
        "rfm_boxcox = pd.DataFrame(rfm_boxcox, columns=cols1)\n",
        "_=sns.displot(rfm_boxcox, x = \"frequency\")\n",
        "_=sns.displot(rfm_boxcox, x = \"revenue\")\n",
        "_=sns.displot(rfm_boxcox, x = \"recency\")\n",
        "_=sns.displot(rfm_boxcox, x = \"avg_unitprice\")"
      ],
      "execution_count": null,
      "outputs": []
    },
    {
      "cell_type": "code",
      "metadata": {
        "id": "XObYpL9HxQ4i"
      },
      "source": [
        "# 11.4\n",
        "_=sns.displot(rfm_df_scaled, x = \"frequency\")\n",
        "_=sns.displot(rfm_boxcox, x = \"frequency\")\n",
        "\n",
        "# 11.5\n",
        "print()\n",
        "_=sns.displot(rfm_df_scaled, x = \"recency\")\n",
        "_=sns.displot(rfm_boxcox, x = \"recency\")\n",
        "\n",
        "# 11.6\n",
        "print()\n",
        "_=sns.displot(rfm_df_scaled, x = \"revenue\")\n",
        "_=sns.displot(rfm_boxcox, x = \"revenue\")\n",
        "\n",
        "# 11.7\n",
        "print()\n",
        "_=sns.displot(rfm_df_scaled, x = \"avg_unitprice\")\n",
        "_=sns.displot(rfm_boxcox, x = \"avg_unitprice\")"
      ],
      "execution_count": null,
      "outputs": []
    },
    {
      "cell_type": "code",
      "metadata": {
        "id": "g-RymBYnx1cr"
      },
      "source": [
        "# 12.0 Create a dataset\n",
        "#      that mixes boxcox and scaled transformations\n",
        "\n",
        "rfm_mix = rfm_df_scaled.copy()\n",
        "rfm_mix['frequency']= rfm_boxcox['frequency']\n",
        "rfm_mix['recency'] = rfm_boxcox['recency']\n",
        "#rfm_mix['revenue'] = rfm_boxcox['revenue']\n",
        "rfm_mix['avg_unitprice'] = rfm_boxcox['avg_unitprice']\n",
        "rfm_mix.head()"
      ],
      "execution_count": null,
      "outputs": []
    },
    {
      "cell_type": "code",
      "metadata": {
        "id": "zgxIb6Tuftlp"
      },
      "source": [
        "# 12.0 Import GaussianMixture class\n",
        "from sklearn.mixture import GaussianMixture\n",
        "\n",
        "# 12.1 Instantiate model\n",
        "gm = GaussianMixture(\n",
        "                     n_components = 3,\n",
        "                     n_init = 30,\n",
        "                     max_iter = 200)\n",
        "\n",
        "# 12.2 Train the algorithm\n",
        "cols = ['frequency', 'recency', 'revenue']\n",
        "\n",
        "# 12.3\n",
        "gm.fit(rfm_mix[cols])\n",
        "\n",
        "# 12.4 Where are the clsuter centers\n",
        "print(\"\\n-----cluster means----\\n\")\n",
        "gm.means_\n",
        "\n",
        "# 12.5 Did algorithm converge?\n",
        "print(\"\\n-----Did it converge?----\\n\")\n",
        "gm.converged_\n",
        "\n",
        "# 12.6 How many iterations did it perform?\n",
        "print(\"\\n-----How many iteratons?----\\n\")\n",
        "gm.n_iter_"
      ],
      "execution_count": null,
      "outputs": []
    },
    {
      "cell_type": "code",
      "metadata": {
        "colab": {
          "base_uri": "https://localhost:8080/"
        },
        "id": "ZYARJYTFnBYO",
        "outputId": "a96e2eb9-8890-477a-f50c-c7f18f91fcc7"
      },
      "source": [
        "# 13.0\n",
        "silhouette_avg = silhouette_score(rfm_mix[cols], gm.predict(rfm_mix[cols]))\n",
        "silhouette_avg"
      ],
      "execution_count": null,
      "outputs": [
        {
          "output_type": "execute_result",
          "data": {
            "text/plain": [
              "0.32076077374305717"
            ]
          },
          "metadata": {
            "tags": []
          },
          "execution_count": 345
        }
      ]
    },
    {
      "cell_type": "code",
      "metadata": {
        "id": "My4VoY2wgC85"
      },
      "source": [
        "# 13.1 Predict clusters labels\n",
        "cid = gm.predict(rfm_mix[cols])"
      ],
      "execution_count": null,
      "outputs": []
    },
    {
      "cell_type": "code",
      "metadata": {
        "id": "DhHzG-lR92yQ"
      },
      "source": [
        "# 13.2\n",
        "rfm_mix['cid'] = cid\n",
        "rfm_mix.head()"
      ],
      "execution_count": null,
      "outputs": []
    },
    {
      "cell_type": "markdown",
      "metadata": {
        "id": "KswHuddh00jJ"
      },
      "source": [
        "#### In each cluster, one feature is a distinguishing feature"
      ]
    },
    {
      "cell_type": "code",
      "metadata": {
        "id": "OHvzT7ah-DCQ"
      },
      "source": [
        "# 14.0\n",
        "sns.boxplot(x='cid', y='revenue', data=rfm_mix);"
      ],
      "execution_count": null,
      "outputs": []
    },
    {
      "cell_type": "code",
      "metadata": {
        "id": "Kz7oIB8E-Q_Z"
      },
      "source": [
        "# 14.1\n",
        "sns.boxplot(x='cid', y='recency', data=rfm_mix);"
      ],
      "execution_count": null,
      "outputs": []
    },
    {
      "cell_type": "code",
      "metadata": {
        "id": "eHpOLxmU-ake"
      },
      "source": [
        "# 14.2\n",
        "sns.boxplot(x='cid', y='frequency', data=rfm_mix);"
      ],
      "execution_count": null,
      "outputs": []
    },
    {
      "cell_type": "markdown",
      "metadata": {
        "id": "0IDjtK0G1caN"
      },
      "source": [
        "> Cluster 1: High revenue + low recency + high frequency  \n",
        "\n",
        "> Cluster 2: Low revenue + high recency + low frequency  \n",
        "\n",
        "> Cluster 3: Low revenue + low recency + low frequency  \n"
      ]
    },
    {
      "cell_type": "code",
      "metadata": {
        "id": "RihtbjugNQa3"
      },
      "source": [
        "############# I am done ###########"
      ],
      "execution_count": null,
      "outputs": []
    },
    {
      "cell_type": "markdown",
      "metadata": {
        "id": "mPa47ThqNO6M"
      },
      "source": [
        ""
      ]
    },
    {
      "cell_type": "code",
      "metadata": {
        "id": "Nc4hFU_FgTdJ"
      },
      "source": [
        "bic = []\n",
        "aic = []\n",
        "cols = ['frequency', 'recency', 'revenue']\n",
        "for i in range(10):\n",
        "    print()\n",
        "    print(\"No of clusters: \", i)\n",
        "    print()\n",
        "    gm = GaussianMixture(\n",
        "                     n_components = i+1,\n",
        "                     n_init = 10,\n",
        "                     max_iter = 200,\n",
        "                     init_params=\"kmeans\")\n",
        "    gm.fit(rfm_df_boxcox)\n",
        "    bic.append(gm.bic(rfm_df_boxcox))\n",
        "    aic.append(gm.aic(rfm_df_boxcox))"
      ],
      "execution_count": null,
      "outputs": []
    },
    {
      "cell_type": "code",
      "metadata": {
        "id": "sfUX3Ruq-pUA"
      },
      "source": [
        "bic = []\n",
        "aic = []\n",
        "cols = ['frequency', 'recency', 'revenue']\n",
        "for i in range(50):\n",
        "    print()\n",
        "    print(\"No of clusters: \", i)\n",
        "    print()\n",
        "    gm = GaussianMixture(\n",
        "                     n_components = i+1,\n",
        "                     n_init = 10,\n",
        "                     max_iter = 100)\n",
        "    gm.fit(rfm_df_scaled[cols])\n",
        "    bic.append(gm.bic(rfm_df_scaled[cols]))\n",
        "    aic.append(gm.aic(rfm_df_scaled[cols]))"
      ],
      "execution_count": null,
      "outputs": []
    },
    {
      "cell_type": "code",
      "metadata": {
        "colab": {
          "base_uri": "https://localhost:8080/",
          "height": 36
        },
        "id": "8YV1dhBp76-y",
        "outputId": "7c212e37-6d7d-4d3a-f28a-8456132411b9"
      },
      "source": [
        "str(5) + str(\"aa\")"
      ],
      "execution_count": null,
      "outputs": [
        {
          "output_type": "execute_result",
          "data": {
            "application/vnd.google.colaboratory.intrinsic+json": {
              "type": "string"
            },
            "text/plain": [
              "'5aa'"
            ]
          },
          "metadata": {
            "tags": []
          },
          "execution_count": 240
        }
      ]
    },
    {
      "cell_type": "code",
      "metadata": {
        "id": "sZC3OggbL8Us"
      },
      "source": [
        "# https://scikit-learn.org/stable/auto_examples/mixture/plot_gmm_selection.html\n",
        "bic = []\n",
        "aic = []\n",
        "lowest_bic = np.infty\n",
        "n_components_range = range(1, 15)\n",
        "cv_types = ['spherical', 'tied', 'diag', 'full']\n",
        "\n",
        "for cv_type in cv_types:\n",
        "    for n_components in n_components_range:\n",
        "        # Fit a Gaussian mixture with EM\n",
        "        gm = GaussianMixture(n_components=n_components,\n",
        "                                      covariance_type=cv_type)\n",
        "        gm.fit(rfm_mix[cols])\n",
        "        bic.append(cv_type + \":\" +str(gm.bic(rfm_mix[cols])))\n",
        "        aic.append(cv_type + \":\" +str(gm.aic(rfm_mix[cols])))\n",
        "        if gm.bic(rfm_mix[cols]) < lowest_bic:\n",
        "            lowest_bic = gm.bic(rfm_mix[cols])\n",
        "            best_gm = gm"
      ],
      "execution_count": null,
      "outputs": []
    },
    {
      "cell_type": "code",
      "metadata": {
        "id": "gckQFgPsAQPA"
      },
      "source": [
        "aic\n",
        "print()\n",
        "bic"
      ],
      "execution_count": null,
      "outputs": []
    },
    {
      "cell_type": "code",
      "metadata": {
        "id": "_6TyIe8E17-i"
      },
      "source": [
        "rfm_mix.to_csv(\"rfm_mix.csv\",index=False)"
      ],
      "execution_count": null,
      "outputs": []
    },
    {
      "cell_type": "code",
      "metadata": {
        "id": "J67otaVl9SWH"
      },
      "source": [
        "####### I am done ##############"
      ],
      "execution_count": null,
      "outputs": []
    }
  ]
}