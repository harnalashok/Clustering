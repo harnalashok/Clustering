{
  "nbformat": 4,
  "nbformat_minor": 0,
  "metadata": {
    "colab": {
      "name": "online_retail_rfm.ipynb",
      "provenance": [],
      "collapsed_sections": [
        "expqxbYyfDsG"
      ],
      "include_colab_link": true
    },
    "kernelspec": {
      "name": "python3",
      "display_name": "Python 3"
    },
    "language_info": {
      "name": "python"
    }
  },
  "cells": [
    {
      "cell_type": "markdown",
      "metadata": {
        "id": "view-in-github",
        "colab_type": "text"
      },
      "source": [
        "<a href=\"https://colab.research.google.com/github/harnalashok/Clustering/blob/master/online_retail_rfm.ipynb\" target=\"_parent\"><img src=\"https://colab.research.google.com/assets/colab-badge.svg\" alt=\"Open In Colab\"/></a>"
      ]
    },
    {
      "cell_type": "code",
      "metadata": {
        "id": "nXjnnvNAZAHk"
      },
      "source": [
        "# Last amended: 18th April, 2021\n",
        "# Ref: https://www.kaggle.com/hellbuoy/online-retail-k-means-hierarchical-clustering\n",
        "# My folder:\n",
        "# github: harnalashok/clustering/\n",
        "#\n",
        "# Objectives:\n",
        "#            i) Feature engineering before clustering\n",
        "#           ii) Outlier detection techniques\n",
        "#                 a) Using IQR (Tukey's fences)\n",
        "#                 b) Using region rejection & confidence interval\n",
        "#                 c) Using machine learning for anomaly detection\n",
        "#                    (isolation forests)\n",
        "#          iii) Box-cox transformations\n",
        "#           iv) Agglomerative clustering\n",
        "#            v) KMeans clustering\n",
        "#           vi) Gaussian Mixture modeling\n",
        "# "
      ],
      "execution_count": null,
      "outputs": []
    },
    {
      "cell_type": "markdown",
      "metadata": {
        "id": "3TBiz0Fyr0Vs"
      },
      "source": [
        "### Transform data\n",
        "Transform and visualize data  \n",
        "Extract customer-wise `rfm` components  \n",
        "\n",
        "<font size= 2> (#1.0 - #5.0)</font>"
      ]
    },
    {
      "cell_type": "markdown",
      "metadata": {
        "id": "B-zvVtetr5C8"
      },
      "source": [
        "#### Call libraries"
      ]
    },
    {
      "cell_type": "code",
      "metadata": {
        "id": "UGU0da7S3j8l"
      },
      "source": [
        "# 1.0 Import required libraries for dataframe and visualization\n",
        "\n",
        "import numpy as np\n",
        "import pandas as pd\n",
        "\n",
        "# 1.0.1 Graphing\n",
        "import matplotlib.pyplot as plt\n",
        "import seaborn as sns\n",
        "import plotly.express as px\n",
        "\n",
        "\n",
        "# 1.0.2 import required libraries for clustering\n",
        "from sklearn.preprocessing import StandardScaler\n",
        "from sklearn.cluster import KMeans\n",
        "from sklearn.metrics import silhouette_score\n",
        "from sklearn.cluster import AgglomerativeClustering\n",
        "import scipy.cluster.hierarchy as shc\n",
        "\n",
        "# 1.0.3 Boxcox transform function\n",
        "from sklearn.preprocessing import power_transform\n",
        "\n",
        "# 1.0.4\n",
        "import os\n",
        "%matplotlib inline\n",
        "from scipy import stats"
      ],
      "execution_count": 200,
      "outputs": []
    },
    {
      "cell_type": "code",
      "metadata": {
        "id": "pFAW5Jhu3_c9"
      },
      "source": [
        "# 1.1 Display multiple commands output from a cell\n",
        "from IPython.core.interactiveshell import InteractiveShell\n",
        "InteractiveShell.ast_node_interactivity = \"all\""
      ],
      "execution_count": 201,
      "outputs": []
    },
    {
      "cell_type": "markdown",
      "metadata": {
        "id": "DKt5aZsoAfE2"
      },
      "source": [
        "#### Read and explore"
      ]
    },
    {
      "cell_type": "code",
      "metadata": {
        "id": "R1CZ5isW36dD"
      },
      "source": [
        "# 1.1.2 My data folder\n",
        "path = \"/content\" \n",
        "os.chdir(path)\n",
        "os.listdir()"
      ],
      "execution_count": null,
      "outputs": []
    },
    {
      "cell_type": "code",
      "metadata": {
        "id": "sk6G1xP23n3w"
      },
      "source": [
        "# 1.2 Read Data\n",
        "data = pd.read_csv(\n",
        "                   #\"OnlineRetail.csv\",\n",
        "                   \"onlineretail.zip\",\n",
        "                   encoding = \"ISO_8859_1\", # utf_8\n",
        "                   engine = 'python', # Takes time but reads full file\n",
        "                                      # 'c' engine is faster but has problems\n",
        "                                      # at separators. Default is 'c'\n",
        "                   header = 0\n",
        "                   #parse_dates=True        # InvoiceDate does not get converted to date\n",
        "                   )\n"
      ],
      "execution_count": 203,
      "outputs": []
    },
    {
      "cell_type": "code",
      "metadata": {
        "id": "fBi-Hwdt4LIz"
      },
      "source": [
        "# 1.2.1 \n",
        "data.shape   # (541909, 8)\n",
        "print()\n",
        "data.dtypes  \n",
        "print()\n",
        "data.head()\n",
        "data['StockCode'].value_counts()"
      ],
      "execution_count": null,
      "outputs": []
    },
    {
      "cell_type": "code",
      "metadata": {
        "id": "qbZBRTCl7kn2"
      },
      "source": [
        "# 1.2.2 Transform InvoiceDate dtype to datetype\n",
        "data['InvoiceDate'] = pd.to_datetime(data['InvoiceDate'])\n",
        "data.dtypes"
      ],
      "execution_count": null,
      "outputs": []
    },
    {
      "cell_type": "code",
      "metadata": {
        "id": "VE40Taql4sNU"
      },
      "source": [
        "# 1.2.3 Examine data\n",
        "print(\"\\n-----InvoiceNo------\\n\")\n",
        "data.InvoiceNo.value_counts()     # 25900 unique\n",
        "print()\n",
        "print(\"\\n-----StockCode------\\n\")\n",
        "data.StockCode.value_counts()     # 4070  unique\n",
        "print()\n",
        "print(\"\\n----CustomerID-------\\n\")\n",
        "data.CustomerID.value_counts()    # 4372 unique\n",
        "print(\"\\n----Country-------\\n\")\n",
        "data.Country.value_counts()       # 38 unique\n",
        "print()\n",
        "len(data.Country.value_counts())  # 38 unique"
      ],
      "execution_count": null,
      "outputs": []
    },
    {
      "cell_type": "code",
      "metadata": {
        "id": "fMp8fZPT5Dt9"
      },
      "source": [
        "# 1.2.4 Are there NAs?\n",
        "data.isnull().sum()   # Yes, there are"
      ],
      "execution_count": null,
      "outputs": []
    },
    {
      "cell_type": "code",
      "metadata": {
        "id": "pTMYBIYA7S3I"
      },
      "source": [
        "# 1.3 Cleanup data. Remove those \n",
        "#     rows where no CustomerIDs\n",
        "\n",
        "data = data[~data[\"CustomerID\"].isnull()]\n",
        "data.shape  # (406829, 8)"
      ],
      "execution_count": null,
      "outputs": []
    },
    {
      "cell_type": "code",
      "metadata": {
        "id": "t7jc6ayd-AnL"
      },
      "source": [
        "# 1.4 Checking for duplicates. Remove duplicates:\n",
        "\n",
        "data = data[~data.duplicated()]\n",
        "data.shape   # (401604, 8)  ; data.drop_duplicates(keep='first', inplace=True)"
      ],
      "execution_count": null,
      "outputs": []
    },
    {
      "cell_type": "code",
      "metadata": {
        "id": "LUCqd7kg__pC"
      },
      "source": [
        "# 1.5 Let us see max and min dates:\n",
        "\n",
        "data.sort_values(by = \"InvoiceDate\", ascending = False).head()\n",
        "data.sort_values(by = \"InvoiceDate\",ascending = False).tail()"
      ],
      "execution_count": null,
      "outputs": []
    },
    {
      "cell_type": "code",
      "metadata": {
        "id": "hzV5qS4jM-WE"
      },
      "source": [
        "# 1.6 Revenue generated, per row:\n",
        "#     Create a new column\n",
        "\n",
        "data['rev'] = data['UnitPrice'] * data['Quantity']"
      ],
      "execution_count": 211,
      "outputs": []
    },
    {
      "cell_type": "markdown",
      "metadata": {
        "id": "Ig6N5I--0Kpk"
      },
      "source": [
        "#### Univariate distributions\n",
        "Plotting with [plotly express](https://plotly.com/python/plotly-express/)"
      ]
    },
    {
      "cell_type": "code",
      "metadata": {
        "id": "uyj3wC2p9BIO"
      },
      "source": [
        "# 2.0 Our data is huge. Sample it\n",
        "small = data.sample(frac=0.1)\n",
        "small.shape"
      ],
      "execution_count": null,
      "outputs": []
    },
    {
      "cell_type": "code",
      "metadata": {
        "id": "5OKkiv_cz_wh"
      },
      "source": [
        "# 2.1\n",
        "# https://plotly.com/python/histograms/\n",
        "# https://plotly.com/python/axes/\n",
        "fig = px.histogram(small, x = \"rev\")\n",
        "fig.update_xaxes(range=[0, 1000])"
      ],
      "execution_count": null,
      "outputs": []
    },
    {
      "cell_type": "code",
      "metadata": {
        "id": "FMJXsN4yz_nB"
      },
      "source": [
        "# 2.2\n",
        "# https://plotly.com/python/box-plots/\n",
        "fig = px.box(small, y='rev')\n",
        "fig.show()"
      ],
      "execution_count": null,
      "outputs": []
    },
    {
      "cell_type": "code",
      "metadata": {
        "id": "UJBH9qry-9gO"
      },
      "source": [
        "# 2.3 Country wise distribution\n",
        "fig = px.box(small, x = 'Country',y='rev')\n",
        "fig.show()"
      ],
      "execution_count": null,
      "outputs": []
    },
    {
      "cell_type": "markdown",
      "metadata": {
        "id": "izvPvQaqAUKR"
      },
      "source": [
        "#### Feature Engineering to get RFM data: Extract data"
      ]
    },
    {
      "cell_type": "markdown",
      "metadata": {
        "id": "CkcEyY2FDEky"
      },
      "source": [
        "##### Recency first\n"
      ]
    },
    {
      "cell_type": "code",
      "metadata": {
        "id": "Nli8p3iNE7Se"
      },
      "source": [
        "# 2.0\n",
        "df = data.copy()"
      ],
      "execution_count": 216,
      "outputs": []
    },
    {
      "cell_type": "code",
      "metadata": {
        "id": "AiHnqfrp_V8r"
      },
      "source": [
        "# 2.1 \n",
        "grd = df.groupby(\"CustomerID\")"
      ],
      "execution_count": 217,
      "outputs": []
    },
    {
      "cell_type": "code",
      "metadata": {
        "id": "WWMnk5EoeOa_"
      },
      "source": [
        "# 2.2\n",
        "df_recency = grd['InvoiceDate'].max().reset_index()\n",
        "df_recency.head()\n",
        "df_recency.shape   # (4372, 2)"
      ],
      "execution_count": null,
      "outputs": []
    },
    {
      "cell_type": "code",
      "metadata": {
        "id": "ZyoNs_cX_2YO"
      },
      "source": [
        "# 2.3 Examine extracted information:\n",
        "\n",
        "df_recency.shape     # (4372,2)\n",
        "print()\n",
        "df_recency.head()\n",
        "print()\n",
        "df_recency[['CustomerID', 'InvoiceDate']].head()\n",
        "print()\n",
        "df_recency['InvoiceDate'].min()\n",
        "print()\n",
        "df_recency['recency']= (df_recency['InvoiceDate'].max() - df_recency['InvoiceDate'])/ pd.Timedelta(\"1 days\")\n",
        "print()\n",
        "df_recency = df_recency[['CustomerID', 'recency']]"
      ],
      "execution_count": null,
      "outputs": []
    },
    {
      "cell_type": "code",
      "metadata": {
        "id": "heZ5ryrwC80-"
      },
      "source": [
        "# 2.3.1\n",
        "df_recency.head()\n",
        "print()\n",
        "df_recency.recency.min()  # 0.0"
      ],
      "execution_count": null,
      "outputs": []
    },
    {
      "cell_type": "markdown",
      "metadata": {
        "id": "aCWEj8kSDIYd"
      },
      "source": [
        "#####Frequency next"
      ]
    },
    {
      "cell_type": "code",
      "metadata": {
        "id": "Pwq8APKYTadU"
      },
      "source": [
        "# 3.0\n",
        "grpd = df.groupby(['CustomerID'])"
      ],
      "execution_count": 221,
      "outputs": []
    },
    {
      "cell_type": "code",
      "metadata": {
        "id": "CKoB6TJnUmu0"
      },
      "source": [
        "# 3.1 Frequency: How many unique invoice numbers exist\n",
        "#                per customer\n",
        "\n",
        "df_freq = grpd['InvoiceNo'].nunique().reset_index()\n",
        "df_freq.columns = ['CustomerID', 'frequency']\n",
        "df_freq.head()\n"
      ],
      "execution_count": null,
      "outputs": []
    },
    {
      "cell_type": "markdown",
      "metadata": {
        "id": "y3aVFBXYDbNO"
      },
      "source": [
        "##### Revenue/customer"
      ]
    },
    {
      "cell_type": "code",
      "metadata": {
        "id": "91cR87FNULJy"
      },
      "source": [
        "# 4.0\n",
        "grpd = df.groupby('CustomerID')"
      ],
      "execution_count": 223,
      "outputs": []
    },
    {
      "cell_type": "code",
      "metadata": {
        "id": "9yCmfno5VteN"
      },
      "source": [
        "# 4.1 Sum-up all purchases\n",
        "df_rev = grpd['rev'].sum().reset_index()\n",
        "df_rev.columns = ['CustomerID', 'revenue']\n",
        "df_rev.head()"
      ],
      "execution_count": null,
      "outputs": []
    },
    {
      "cell_type": "markdown",
      "metadata": {
        "id": "u6yL5SKn_de-"
      },
      "source": [
        "##### High avg price buyer?"
      ]
    },
    {
      "cell_type": "code",
      "metadata": {
        "id": "vPsqLfK6_rF9"
      },
      "source": [
        "# 4.1\n",
        "grpd = df.groupby('CustomerID')"
      ],
      "execution_count": 225,
      "outputs": []
    },
    {
      "cell_type": "code",
      "metadata": {
        "id": "b7fz1jWv_twW"
      },
      "source": [
        "# 4.1.1 Average unit-prices\n",
        "df_up = grpd['UnitPrice'].mean().reset_index()\n",
        "df_up.columns = ['CustomerID', 'avg_unitprice']\n",
        "df_up.head()"
      ],
      "execution_count": null,
      "outputs": []
    },
    {
      "cell_type": "markdown",
      "metadata": {
        "id": "CkLlU-xsnKXU"
      },
      "source": [
        "##### Preferred weekdays of customer"
      ]
    },
    {
      "cell_type": "code",
      "metadata": {
        "id": "iGrXX8vNorj7"
      },
      "source": [
        "# 4.1.2 Create new features, weekday and month\n",
        "df['weekday'] = df['InvoiceDate'].dt.weekday\n",
        "df['month'] = df['InvoiceDate'].dt.month"
      ],
      "execution_count": 227,
      "outputs": []
    },
    {
      "cell_type": "code",
      "metadata": {
        "id": "RXFkyasmoXXC"
      },
      "source": [
        "# 4.1.3 Group by CustomerID\n",
        "grpd = df.groupby('CustomerID')"
      ],
      "execution_count": 228,
      "outputs": []
    },
    {
      "cell_type": "code",
      "metadata": {
        "id": "VvfJzj29nJOT"
      },
      "source": [
        "# 4.1.4 Most preferred day of each customer\n",
        "#       'mode()' is not available in groupby()\n",
        "#       See: https://stackoverflow.com/a/15223034   \n",
        "\n",
        "df_preferredDay = grpd['weekday'].agg(lambda x:x.value_counts().index[0]).reset_index()\n",
        "df_preferredDay.head()"
      ],
      "execution_count": null,
      "outputs": []
    },
    {
      "cell_type": "markdown",
      "metadata": {
        "id": "wmr1nE0iDrNO"
      },
      "source": [
        "##### Create `rfm` DataFrame now\n",
        "Merge all grouped datasets"
      ]
    },
    {
      "cell_type": "code",
      "metadata": {
        "id": "Sgon8KUxWUhN"
      },
      "source": [
        "# 5.0\n",
        "rfm = df_rev.merge(df_recency)\n",
        "rfm = rfm.merge(df_freq)\n",
        "rfm = rfm.merge(df_up)\n",
        "rfm = rfm.merge(df_preferredDay)\n",
        "rfm.shape   # (4372, 6)\n",
        "rfm.head()"
      ],
      "execution_count": null,
      "outputs": []
    },
    {
      "cell_type": "markdown",
      "metadata": {
        "id": "U-mqyKUWr-e5"
      },
      "source": [
        "### Country-wise Clustering\n",
        "Extract contry-wise summary components: <font size= 2>`TotalPurchases`, \t`StockVariety`, \t`CustomerCounts`  \n",
        "\n",
        " (#6.0 - #6.6)</font>"
      ]
    },
    {
      "cell_type": "markdown",
      "metadata": {
        "id": "5T_5hcGq6mv1"
      },
      "source": [
        "#### Country-wise feature engineering\n",
        "Create three new features. Per country:\n",
        "- number of unique customers\n",
        "- number of unique stockcodes\n",
        "- total purchases"
      ]
    },
    {
      "cell_type": "code",
      "metadata": {
        "id": "2UDa8B-QsDpp"
      },
      "source": [
        "# 6.0 Make another copy of dataset\n",
        "#     And group on Country\n",
        "dc = data.copy()\n",
        "# 6.0.1\n",
        "grpd = dc.groupby('Country')"
      ],
      "execution_count": 107,
      "outputs": []
    },
    {
      "cell_type": "code",
      "metadata": {
        "id": "TSjAN89esNsB"
      },
      "source": [
        "# 6.1 Per country, number of unique customers\n",
        "dc_unique_cust =  grpd['CustomerID'].nunique().reset_index()\n",
        "\n",
        "# 6.2 Per country, number of unique stockcodes\n",
        "dc_unique_stock = grpd['StockCode'].nunique().reset_index()\n",
        "\n",
        "# 6.3 Per country total purchases\n",
        "dc_rev = grpd['rev'].sum().reset_index()"
      ],
      "execution_count": 108,
      "outputs": []
    },
    {
      "cell_type": "code",
      "metadata": {
        "id": "QhddlBwKwZx5"
      },
      "source": [
        "# 6.4 Country-wise merge all above features\n",
        "rcs = dc_rev.merge(dc_unique_stock)\n",
        "rcs = rcs.merge(dc_unique_cust)\n",
        "rcs.shape   # (4372, 5)\n",
        "rcs.columns = ['Country','TotalPurchases','StockVariety',\t'CustomerCounts']\n",
        "rcs.head()   # (37,4)"
      ],
      "execution_count": null,
      "outputs": []
    },
    {
      "cell_type": "code",
      "metadata": {
        "id": "0XWsLfd_1vmG"
      },
      "source": [
        "# 6.5 Scaling the data so that all the features become comparable\n",
        "cols = ['TotalPurchases','StockVariety',\t'CustomerCounts']\n",
        "scaler = StandardScaler()\n",
        "X = scaler.fit_transform(rcs[cols])\n",
        "\n",
        "# 6.6 Converting the numpy array into a pandas DataFrame\n",
        "X = pd.DataFrame(X)\n",
        "X.columns = ['TotalPurchases', \t'StockVariety', \t'CustomerCounts']\n",
        "X.head()"
      ],
      "execution_count": null,
      "outputs": []
    },
    {
      "cell_type": "markdown",
      "metadata": {
        "id": "TD6olucgaYcT"
      },
      "source": [
        "### Agglomerative clustering\n",
        "Perform modeling and create dendogram:  \n",
        "<font size= 2> (#7.0 - #8.5)</font>"
      ]
    },
    {
      "cell_type": "markdown",
      "metadata": {
        "id": "7TpFz2KjaZnS"
      },
      "source": [
        "#### About hierarchical clustering"
      ]
    },
    {
      "cell_type": "markdown",
      "metadata": {
        "id": "zNf3qP8ZTewc"
      },
      "source": [
        "\n",
        "In data mining and statistics, hierarchical clustering (also called hierarchical cluster analysis or HCA) is a method of cluster analysis which seeks to build a hierarchy of clusters. Strategies for hierarchical clustering generally fall into two types:\n",
        "\n",
        ">Agglomerative: This is a \"bottom-up\" approach: each observation starts in its own cluster, and pairs of clusters are merged as one moves up the hierarchy.  \n",
        "\n",
        ">Divisive: This is a \"top-down\" approach: all observations start in one cluster, and splits are performed recursively as one moves down the hierarchy.\n",
        "\n",
        "See this [reference](https://scikit-learn.org/stable/modules/clustering.html#hierarchical-clustering)\n"
      ]
    },
    {
      "cell_type": "markdown",
      "metadata": {
        "id": "yzIxGSZNUt-L"
      },
      "source": [
        "A dendogram with levels of clustering:  \n",
        "In the figure below, we start with 9 clusters. The closest ones are combined at the first level and then we have 7 clusters. The number of black lines that intersect with blue lines represents the number of clusters.\n",
        "\n",
        "![image.png](data:image/png;base64,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)\n"
      ]
    },
    {
      "cell_type": "markdown",
      "metadata": {
        "id": "sb8DTJDsXyQb"
      },
      "source": [
        "The linkage criteria determines the metric used for the merge strategy:\n",
        "\n",
        "- Ward minimizes the sum of squared differences within all clusters. It is a variance-minimizing approach and in this sense is similar to the k-means objective function but tackled with an agglomerative hierarchical approach.\n",
        "\n",
        "- Maximum or complete linkage minimizes the maximum distance between observations of pairs of clusters.\n",
        "\n",
        "- Average linkage minimizes the average of the distances between all observations of pairs of clusters.\n",
        "\n",
        "- Single linkage minimizes the distance between the closest observations of pairs of clusters.\n"
      ]
    },
    {
      "cell_type": "markdown",
      "metadata": {
        "id": "slpWJllDZQLD"
      },
      "source": [
        "Linkages in agglomerative clustering:\n",
        "\n",
        "![image.png](data:image/png;base64,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)"
      ]
    },
    {
      "cell_type": "markdown",
      "metadata": {
        "id": "0XY8b1WmagEL"
      },
      "source": [
        "#### Modeling our Country data"
      ]
    },
    {
      "cell_type": "code",
      "metadata": {
        "id": "PRoOJFAcDkW6"
      },
      "source": [
        "# 7.0 Perform Agglomerative clustering\n",
        "#     Setting distance_threshold=0 ensures we compute the full tree.\n",
        "# Ref: https://towardsdatascience.com/hierarchical-clustering-explained-e58d2f936323\n",
        "#      https://scikit-learn.org/stable/modules/generated/sklearn.cluster.AgglomerativeClustering.html\n",
        "\n",
        "# 7.1\n",
        "cols = [\"TotalPurchases\", \t\"StockVariety\", \t\"CustomerCounts\"]\n",
        "model = AgglomerativeClustering(\n",
        "                                 n_clusters=5,  # Get 5 cluster-labels only\n",
        "                                )\n",
        "# 7.2\n",
        "model = model.fit(X[cols])\n",
        "\n",
        "# 7.2.1 \n",
        "X[cols].shape  # (37,3) 37 nodes from 0 to 36"
      ],
      "execution_count": null,
      "outputs": []
    },
    {
      "cell_type": "code",
      "metadata": {
        "id": "pOzq54sWNaqr"
      },
      "source": [
        "# 7.3 How clusters have been formed:\n",
        "z = shc.linkage(model.children_,'ward')\n",
        "z"
      ],
      "execution_count": null,
      "outputs": []
    },
    {
      "cell_type": "code",
      "metadata": {
        "id": "iqcIxiWVNe17"
      },
      "source": [
        "# 7.4 Draw dendogram:\n",
        "\n",
        "_= plt.figure(figsize = (20,10))\n",
        "dn = shc.dendrogram(z)  # Total nodes are 36 NOT 37"
      ],
      "execution_count": null,
      "outputs": []
    },
    {
      "cell_type": "code",
      "metadata": {
        "id": "yoDgmXLHF6xm"
      },
      "source": [
        "# 7.5 Get some details about the dendogram\n",
        "#     Even though countries are 37\n",
        "#     List of leaf-nodes\n",
        "print(dn['leaves'])\n",
        "# Maximum listed node number\n",
        "print(max(dn['leaves']))\n",
        "# Minimum listed node number\n",
        "print(min(dn['leaves']))"
      ],
      "execution_count": null,
      "outputs": []
    },
    {
      "cell_type": "markdown",
      "metadata": {
        "id": "87B4E7J8PSLj"
      },
      "source": [
        "#### Understanding formation of Dendogram"
      ]
    },
    {
      "cell_type": "code",
      "metadata": {
        "id": "SAravmUMw8ST"
      },
      "source": [
        "# 8.0 Add two more columns to \n",
        "#     our dataset: X\n",
        "\n",
        "# The following copy is being made\n",
        "# to avoid a confusion that sometimes \n",
        "# arises. Do not modify it.\n",
        "\n",
        "G = X.copy()\n",
        "\n",
        "G['Country'] = rcs['Country']\n",
        "G['c_label'] = model.labels_\n",
        "\n",
        "# 8.1 Look at X\n",
        "G.sort_values(by= 'c_label')  "
      ],
      "execution_count": null,
      "outputs": []
    },
    {
      "cell_type": "code",
      "metadata": {
        "id": "CcVyTPRRPQ3i"
      },
      "source": [
        "# 8.2 Define a function to show relevant\n",
        "#     rows, given cluster label(s) or nodes:\n",
        "#     \n",
        "\n",
        "def showData(label1,label2, label3 = None):\n",
        "  \"\"\"\n",
        "  labelX: cluster labels and NOT node label\n",
        "          You will get empty dataframe otherwise\n",
        "  \"\"\"\n",
        "  if (label3 is None):\n",
        "      return G.loc[(G['c_label'] == label1) | (G['c_label'] == label2), :]\n",
        "  else:\n",
        "      return G.loc[(G['c_label'] == label1) | (G['c_label'] == label2)| (G['c_label'] == label3), :]    "
      ],
      "execution_count": 117,
      "outputs": []
    },
    {
      "cell_type": "code",
      "metadata": {
        "id": "4zXoFsm7PMIe"
      },
      "source": [
        "# 8.3 Now display data, given cluster labels:\n",
        "#     Note that each value or datapoint is \n",
        "#     a z-score value:\n",
        "\n",
        "print(showData(10,24))\n",
        "print(\"xxxxxxx\")\n",
        "print(showData(33,34))\n",
        "print(\"xxxxxxx\")\n",
        "print(showData(0,6))"
      ],
      "execution_count": null,
      "outputs": []
    },
    {
      "cell_type": "markdown",
      "metadata": {
        "id": "NcbBboSZPiQq"
      },
      "source": [
        "Interpretation of Linkage data with created \n",
        "\n",
        "\n",
        "![image.png](data:image/png;base64,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)"
      ]
    },
    {
      "cell_type": "markdown",
      "metadata": {
        "id": "vnP0oPp5Nsa3"
      },
      "source": [
        "#### Visualize clusters created by hierarchical clustering\n",
        "<font size =2>(#8.4-#8.5)</font>"
      ]
    },
    {
      "cell_type": "code",
      "metadata": {
        "id": "f-teq9isImP-"
      },
      "source": [
        "# 8.4 Removing UK from data which is totally different\n",
        "G = G.loc[ ~(G['Country'] == 'United Kingdom'), :]"
      ],
      "execution_count": 119,
      "outputs": []
    },
    {
      "cell_type": "code",
      "metadata": {
        "id": "GKGZyk04He15"
      },
      "source": [
        "# 8.5 Boxplots for each of the features with respect to ClusterID\n",
        "\n",
        "fig, ax = plt.subplots(1,3, figsize = (16,6))\n",
        "_=sns.boxplot(data = G, y = 'TotalPurchases', x = 'c_label', ax = ax[0])\n",
        "_=sns.boxplot(data = G, y = 'StockVariety', x = 'c_label', ax = ax[1])\n",
        "_=sns.boxplot(data = G, y = 'CustomerCounts', x = 'c_label', ax = ax[2])"
      ],
      "execution_count": null,
      "outputs": []
    },
    {
      "cell_type": "markdown",
      "metadata": {
        "id": "TmBic1CNEFQd"
      },
      "source": [
        "###Visualize *rfm* Distributions  \n",
        "\n",
        "Draw univariate and jointplots of `rfm` features using plotly express  \n",
        "<font size=2>(#9.1--#9.7)</font>"
      ]
    },
    {
      "cell_type": "markdown",
      "metadata": {
        "id": "dWJIJlbYdc9u"
      },
      "source": [
        "#####Univariate"
      ]
    },
    {
      "cell_type": "code",
      "metadata": {
        "id": "1QW9-wi8ixt_"
      },
      "source": [
        "# 9.1\n",
        "fig = px.histogram(rfm, x = \"frequency\")\n",
        "fig.show()"
      ],
      "execution_count": null,
      "outputs": []
    },
    {
      "cell_type": "code",
      "metadata": {
        "id": "B-lO-ZPfQtYI"
      },
      "source": [
        "# 9.2\n",
        "fig = px.histogram(rfm, x = \"recency\")\n",
        "fig.show()"
      ],
      "execution_count": null,
      "outputs": []
    },
    {
      "cell_type": "code",
      "metadata": {
        "id": "OgWIlPuOQzfh"
      },
      "source": [
        "# 9.3\n",
        "fig = px.histogram(rfm, x = \"revenue\")\n",
        "fig.show()"
      ],
      "execution_count": null,
      "outputs": []
    },
    {
      "cell_type": "code",
      "metadata": {
        "id": "8c9ZRl1oDU5O"
      },
      "source": [
        "# 9.3.1\n",
        "fig = px.histogram(rfm, x = \"avg_unitprice\")\n",
        "fig.show()"
      ],
      "execution_count": null,
      "outputs": []
    },
    {
      "cell_type": "markdown",
      "metadata": {
        "id": "QunC_bTldkHF"
      },
      "source": [
        "#####Jointplots"
      ]
    },
    {
      "cell_type": "code",
      "metadata": {
        "id": "aA_af9XyRXGS"
      },
      "source": [
        "# 9.4\n",
        "fig = px.density_heatmap(\n",
        "                         rfm,\n",
        "                         x=\"frequency\",\n",
        "                         y=\"recency\"\n",
        "                         )\n",
        "# 9.4.1. Set x-limits\n",
        "fig.update_xaxes(range=[0, 50])\n"
      ],
      "execution_count": null,
      "outputs": []
    },
    {
      "cell_type": "code",
      "metadata": {
        "id": "olxONU9iVFma"
      },
      "source": [
        "# 9.5\n",
        "fig = px.density_heatmap(\n",
        "                         rfm,\n",
        "                         x=\"frequency\",\n",
        "                         y=\"recency\",\n",
        "                         marginal_x=\"histogram\"                        \n",
        "                         )\n",
        "# 9.5.1 Set x-limits\n",
        "fig.update_xaxes(range=[0, 25])"
      ],
      "execution_count": null,
      "outputs": []
    },
    {
      "cell_type": "code",
      "metadata": {
        "id": "8b0btGlqWmQP"
      },
      "source": [
        "# 9.6\n",
        "fig = px.density_contour(rfm, x=\"revenue\", y=\"recency\")\n",
        "fig.update_xaxes(range=[0, 10000])"
      ],
      "execution_count": null,
      "outputs": []
    },
    {
      "cell_type": "code",
      "metadata": {
        "id": "YcT3Y8ScXBae"
      },
      "source": [
        "# 9.7\n",
        "fig = px.density_contour(rfm, x=\"revenue\", y=\"recency\")\n",
        "_=fig.update_traces(contours_coloring=\"fill\", contours_showlabels = True)\n",
        "fig.update_xaxes(range=[0, 10000])"
      ],
      "execution_count": null,
      "outputs": []
    },
    {
      "cell_type": "markdown",
      "metadata": {
        "id": "Qr7f-Sqp7kbq"
      },
      "source": [
        "### Removing outliers\n",
        "How to remove them?  \n",
        "\n",
        "<font size =2>(#10-#10.0.1)</font>"
      ]
    },
    {
      "cell_type": "markdown",
      "metadata": {
        "id": "n1A5Aak9dpYu"
      },
      "source": [
        "#### About Removing outliers\n",
        "There is no rigid mathematical definition of what constitutes an outlier; determining whether or not an observation is an outlier is ultimately a subjective exercise. There are various methods of outlier detection. Some are graphical such as normal probability plots. Others are model-based. Box plots are a hybrid.\n",
        "\n",
        "Model-based methods which are commonly used for identification assume that the data are from a normal distribution, and identify observations which are deemed \"unlikely\" based on mean and standard deviation: \n",
        "\n",
        "Before we cluster data:\n",
        ">a. Remove outliers<br>\n",
        ">> i) Use IQR method  \n",
        ">> ii)Use z-score  \n",
        ">>iii)Use IsolationForest algorithm  \n",
        "\n",
        ">b. Perform boxcox transformation to make relevant features symmteric"
      ]
    },
    {
      "cell_type": "markdown",
      "metadata": {
        "id": "pbxtrxDNtakm"
      },
      "source": [
        "IQR\n",
        "\n",
        "![image.png](data:image/png;base64,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)\n",
        "\n"
      ]
    },
    {
      "cell_type": "markdown",
      "metadata": {
        "id": "eRvhfNA5vOov"
      },
      "source": [
        "Quantile vs Quartile vs Percentile<br>\n",
        "Refer [here](https://stats.stackexchange.com/a/156787)\n",
        "\n",
        "> 0 quartile = 0 quantile = 0 percentile\n",
        "\n",
        "> 1 quartile = 0.25 quantile = 25 percentile\n",
        "\n",
        "> 2 quartile = .5 quantile = 50 percentile (median)\n",
        "\n",
        "> 3 quartile = .75 quantile = 75 percentile\n",
        "\n",
        "> 4 quartile = 1 quantile = 100 percentile\n"
      ]
    },
    {
      "cell_type": "code",
      "metadata": {
        "id": "jan2A3xqMDdv"
      },
      "source": [
        "# 10.0 One way to look at outliers in rfm data:\n",
        "\n",
        "_=rfm.boxplot()"
      ],
      "execution_count": null,
      "outputs": []
    },
    {
      "cell_type": "code",
      "metadata": {
        "id": "f0ZY2OUFuMXT"
      },
      "source": [
        "# 10.0.1\n",
        "cols = [\"revenue\", \"frequency\", \"recency\"]\n",
        "cols1 = [\"revenue\", \"frequency\", \"recency\", \"avg_unitprice\"]\n",
        "cols2 = [\"revenue\", \"frequency\", \"recency\", \"avg_unitprice\", \"weekday\"]"
      ],
      "execution_count": 232,
      "outputs": []
    },
    {
      "cell_type": "markdown",
      "metadata": {
        "id": "jes5GlO9R0Gz"
      },
      "source": [
        "### Box-cox transformations\n",
        "<font size=2>(#11--#11.3)<font>"
      ]
    },
    {
      "cell_type": "markdown",
      "metadata": {
        "id": "ypjQkUaZQDzB"
      },
      "source": [
        "In statistics, a power transform is a family of functions that are applied to create a monotonic transformation of data using power functions. This is a useful data transformation technique used to stabilize variance, make the data more normal distribution-like, improve the validity of measures of association such as the Pearson correlation between variables and for other data stabilization procedures. "
      ]
    },
    {
      "cell_type": "markdown",
      "metadata": {
        "id": "rY9d-SzEf5ZM"
      },
      "source": [
        "#### Variance Stabilization--An example"
      ]
    },
    {
      "cell_type": "code",
      "metadata": {
        "id": "TZxxEd4OST5d"
      },
      "source": [
        "# 11.0 Last amended: 15th April, 2021\n",
        "# Myfolder:\n",
        "# https://stats.stackexchange.com/a/336397\n",
        "\n",
        "x1 = np.random.lognormal(2,1.3, 500)  # 500 elements\n",
        "x2 = np.random.lognormal(2,1.3,500)   # 500 elements\n",
        "X = 2*x1+x2\n",
        "Y = 2*x2+x1   \n",
        "D = pd.DataFrame({'x' : X, 'y': Y })\n",
        "D.head()"
      ],
      "execution_count": null,
      "outputs": []
    },
    {
      "cell_type": "code",
      "metadata": {
        "id": "tp6-YMCXpukz"
      },
      "source": [
        "# 11.0.1 Sactter plot of D\n",
        "\n",
        "_=plt.scatter(D.x,D.y)\n",
        "_=plt.title(\"Variance increases as X-increases: Heteroskedasticity\")\n",
        "_=plt.xlim(0,500)\n",
        "_=plt.xlabel(\"X -->\")\n",
        "_=plt.ylabel(\"Y -->\")"
      ],
      "execution_count": null,
      "outputs": []
    },
    {
      "cell_type": "code",
      "metadata": {
        "id": "otfL_Gsyol5k"
      },
      "source": [
        "# 11.1  Define a function to perform\n",
        "#       boxcox transformation on a dataframe\n",
        "\n",
        "def boxcox(X):\n",
        "  \"\"\"\n",
        "  X: DataFrame on each feature of\n",
        "     which transformation is to be carried out\n",
        "  \"\"\"\n",
        "  tr = power_transform(X.values, method = 'yeo-johnson')\n",
        "  tr = pd.DataFrame(tr, columns= X.columns)\n",
        "  return tr"
      ],
      "execution_count": 380,
      "outputs": []
    },
    {
      "cell_type": "code",
      "metadata": {
        "id": "WhGcFHU0nNCo"
      },
      "source": [
        "# 11.2 Perform boxcox of D and plot:\n",
        "D = boxcox(D)\n",
        "_= plt.scatter(D['x'], D['y'])"
      ],
      "execution_count": null,
      "outputs": []
    },
    {
      "cell_type": "markdown",
      "metadata": {
        "id": "wkmoQ_ezsMql"
      },
      "source": [
        "#### Boxcox of rfm features\n",
        "Should boxcox be used?"
      ]
    },
    {
      "cell_type": "code",
      "metadata": {
        "id": "LW6kFXsKtsVF"
      },
      "source": [
        "# 11.3\n",
        "rfm_boxcox = boxcox(rfm[cols])\n",
        "\n",
        "_=sns.displot(rfm_boxcox, x = \"frequency\")\n",
        "_=sns.displot(rfm_boxcox, x = \"revenue\")\n",
        "_=sns.displot(rfm_boxcox, x = \"recency\")\n",
        "#_=sns.displot(rfm_boxcox, x = \"avg_unitprice\")"
      ],
      "execution_count": null,
      "outputs": []
    },
    {
      "cell_type": "markdown",
      "metadata": {
        "id": "7042oFnGyAPx"
      },
      "source": [
        "### Statistical methods to remove outliers  \n",
        "IQR based and percentile based  \n",
        "<font size=2>(#12--#13.5)<font>"
      ]
    },
    {
      "cell_type": "markdown",
      "metadata": {
        "id": "ws_1w_3yygiZ"
      },
      "source": [
        "#### rfm data: few statistics"
      ]
    },
    {
      "cell_type": "code",
      "metadata": {
        "id": "aeg4HzxVUojm"
      },
      "source": [
        "# 12.0 Calculate few stats:\n",
        "\n",
        "cols = [\"revenue\", \"frequency\", \"recency\"]\n",
        "print(\"\\n\\n----0.99 quantile-----\\n\")\n",
        "rfm[cols].quantile(0.99)    # Or 99th percentile\n",
        "\n",
        "print(\"\\n\\n----0.75 quantile-----\\n\")\n",
        "rfm[cols].quantile(0.75)    # Or 75th percentile\n",
        "\n",
        "print(\"\\n\\n----0.25 quantile-----\\n\")\n",
        "rfm[cols].quantile(0.25)    # Or 25th percentile\n",
        "\n",
        "# 12.1\n",
        "print(\"\\n\\n----iqr-----\\n\")\n",
        "iqr = rfm[cols].quantile(0.75) - rfm[cols].quantile(0.25)\n",
        "\n",
        "iqr  # rev: 1316, frequency: 4.0, recency: 132,"
      ],
      "execution_count": null,
      "outputs": []
    },
    {
      "cell_type": "markdown",
      "metadata": {
        "id": "expqxbYyfDsG"
      },
      "source": [
        "#### Using IQR to calculate outliers"
      ]
    },
    {
      "cell_type": "markdown",
      "metadata": {
        "id": "jOzdK-4ifiVF"
      },
      "source": [
        "##### Define a function to remove outliers"
      ]
    },
    {
      "cell_type": "code",
      "metadata": {
        "id": "ShFyFLu_fJsI"
      },
      "source": [
        "# 12.2 Function removes outliers\n",
        "def rem_outliers(data):\n",
        "  \"\"\"\n",
        "  Given a DataFrame,\n",
        "  this function removes rows with\n",
        "  outliers in every feature and returns\n",
        "  remaining DataFrame.\n",
        "  \"\"\"\n",
        "  for i in range(data.shape[1]):\n",
        "    # 12.3\n",
        "    q1 = data.iloc[:,i].quantile(0.25)\n",
        "    q3 = data.iloc[:,i].quantile(0.75)\n",
        "    iqr = q3-q1\n",
        "    # 12.4\n",
        "    upper_lt = q3 + iqr * 1.5\n",
        "    lower_lt = q1 - iqr * 1.5\n",
        "    data = data.loc[(data.iloc[:,i] >lower_lt) & (data.iloc[:,i] < upper_lt), : ]\n",
        "\n",
        "  # 12.5\n",
        "  return data  "
      ],
      "execution_count": 234,
      "outputs": []
    },
    {
      "cell_type": "code",
      "metadata": {
        "id": "hZOXqIZFzbB7"
      },
      "source": [
        "# 12.6 Apply the function now to 'rfm'\n",
        "rfm_aw_iqr = rfm[cols].copy()\n",
        "rfm_aw_iqr = rem_outliers(rfm_aw_iqr)\n",
        "rfm_aw_iqr.shape   # (3582, 3)"
      ],
      "execution_count": null,
      "outputs": []
    },
    {
      "cell_type": "code",
      "metadata": {
        "id": "JqzZ8W6ow7qF"
      },
      "source": [
        "# 12.7 Display the inliers:\n",
        "fig, ax = plt.subplots(1,3, figsize = (16,6))\n",
        "_=sns.histplot(data = rfm_aw_iqr, x = \"recency\", ax = ax[0] )\n",
        "_=sns.histplot(data = rfm_aw_iqr, x = \"revenue\" ,ax = ax[1])\n",
        "_=sns.histplot(data = rfm_aw_iqr, x = \"frequency\" ,ax = ax[2])\n"
      ],
      "execution_count": null,
      "outputs": []
    },
    {
      "cell_type": "markdown",
      "metadata": {
        "id": "PBbH1eRQierq"
      },
      "source": [
        "#### Percentile boundaries for outliers\n",
        "Look at 5th percentile and 95th percentile"
      ]
    },
    {
      "cell_type": "code",
      "metadata": {
        "id": "e0dpUn6kyFbb"
      },
      "source": [
        "# 13.0 Using percentile as cut-off\n",
        "\n",
        "# 13.1 Remove rows from data where values for a \n",
        "#      feature are below, ll, and above ul:\n",
        "def filter(data,feature,ll,ul):\n",
        "  return data[(data[feature] >= ll) & (data[feature] <= ul)].copy()\n",
        "  \n",
        "\n",
        "#13.1  Removing (statistical) outliers for revenue\n",
        "lower_rev = rfm.revenue.quantile(0.05)\n",
        "upper_rev = rfm.revenue.quantile(0.95)\n",
        "rfm_aw_per = filter(rfm,'revenue',lower_rev,upper_rev)\n",
        "\n",
        "#13.2 Removing (statistical) outliers for recency\n",
        "lower_rec = rfm.recency.quantile(0.05)\n",
        "upper_rec = rfm.recency.quantile(0.95)\n",
        "rfm_aw_per = filter(rfm_aw_per,'recency',lower_rec,upper_rec)\n",
        "\n",
        "#13.3 Removing (statistical) outliers for frequency\n",
        "lower_freq = rfm.frequency.quantile(0.05)\n",
        "upper_freq = rfm.frequency.quantile(0.95)\n",
        "rfm_aw_per = dc(rfm_aw_per,'frequency',lower_freq,upper_freq)\n",
        "\n",
        "#13.3.1 Removing (statistical) outliers for avg_unitprice\n",
        "#lower_up = rfm_aw.avg_unitprice.quantile(0.05)\n",
        "#upper_up = rfm_aw.avg_unitprice.quantile(0.95)\n",
        "#rfm_aw = rfm_aw[(rfm_aw.avg_unitprice >= lower_up) & (rfm_aw.avg_unitprice <= upper_up)].copy()\n",
        "\n",
        "# 13.4\n",
        "rfm_aw_per.shape  # (3538, 6)\n",
        "rfm_aw_per.head()\n"
      ],
      "execution_count": null,
      "outputs": []
    },
    {
      "cell_type": "code",
      "metadata": {
        "id": "4TcVg-1Z1Yul"
      },
      "source": [
        "# 13.5 Visualize the inliers data now:\n",
        "\n",
        "fig, ax = plt.subplots(1,3, figsize = (16,6))\n",
        "_=sns.histplot(data = rfm_aw_per, x = \"frequency\", ax = ax[0])\n",
        "_=sns.histplot(data = rfm_aw_per, x = \"recency\", ax = ax[1])\n",
        "_=sns.histplot(data = rfm_aw_per, x = \"revenue\", ax = ax[2])"
      ],
      "execution_count": null,
      "outputs": []
    },
    {
      "cell_type": "markdown",
      "metadata": {
        "id": "h6gj6RnW-mAh"
      },
      "source": [
        "### Isolation forest for outlier removal  \n",
        "<font size =2>(#14.0--#14.1)<font>  \n",
        "\n",
        "See [here](https://quantdare.com/isolation-forest-algorithm/)"
      ]
    },
    {
      "cell_type": "markdown",
      "metadata": {
        "id": "I2uusrh78ajS"
      },
      "source": [
        "#### How does it work?"
      ]
    },
    {
      "cell_type": "markdown",
      "metadata": {
        "id": "HHd5hdTb-z5L"
      },
      "source": [
        "How do we separate each point? The simple procedure is as follows for each point of the data set:\n",
        "\n",
        "1.    Select the point to isolate.\n",
        "2.     For each feature, set the range to isolate between the minimum and the maximum.\n",
        "3.     Choose a feature randomly.\n",
        "4.     Pick a value that’s in the range, again randomly:\n",
        ">i)         If the chosen value keeps the point above, switch the minimum of the range of the feature to the value.  \n",
        ">ii)        If the chosen value keeps the point below, switch the maximum of the range of the feature to the value.\n",
        "5. Repeat steps 3 & 4 until the point is isolated. That is, until the point is the only one which is inside the range for all features.\n",
        "6. Count how many times you’ve had to repeat steps 3 & 4. We call this quantity the isolation number.\n",
        "\n",
        "The algorithm claims that a point is an outlier if it doesn’t have to repeat the steps 3 & 4 several times."
      ]
    },
    {
      "cell_type": "markdown",
      "metadata": {
        "id": "OBGWy7dk14Z_"
      },
      "source": [
        "Isolating anomaly from non-anomaly:\n",
        "\n",
        "![image.png](data:image/png;base64,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)"
      ]
    },
    {
      "cell_type": "markdown",
      "metadata": {
        "id": "XXZdaNktaBc5"
      },
      "source": [
        "Try to isolate the 'red' dot below. How many tries would it require? Then try to isolate 'yellow' dot. How many tries?\n",
        "\n",
        "![image.png](data:image/png;base64,iVBORw0KGgoAAAANSUhEUgAAAjUAAAANCAYAAABRo59xAAAFO0lEQVR4nO2bX0hbdxTH82C30Y46ig8tjCH2wYfJQAbSlzFkrmIx1iSN9Q8sK0MsFR3BbNdlWNNqjEm1adWqMTG0adNGG2ci2tZqRrtga/YnViWTIYLdSkVQBg0ELgrfPThlpcmNFb33up4PnKdLzsn5nYfv93eSKwEhenzBOVR1DqPMPICK1iF4x37/X9UjCIIgiO1AIvQXiMebLLDhCIuK1iGc0A9A3uzHiUuPoTCPQd5wB6dM/VhYDm8qT2h+ceMMqzqHEZj5SxT1CIIgCPHgC86hxuyGWu8EY3TtSr0VrakRQmB9wTnU2N1QX3GCsQg/0IrWIcibH6LEGnollC3jKNK7wa6scuZw+iYh07k3zlDe7Ieirh9650+C1yMIgiCEJxxhwRhdqCvUwH84HRPvpyKQnAaztAzlOsdr6W2lxYtTl3pRafEKcqEVranhU2DDERaMxYU6hwb+qXRMzKYiMJMG8+0ylF96vYFu14biB38ISsOdqP2vh8I0gjZPIGaOidnnkJ/vi36GhiEMPv5DsHoEQRCEOGCMLvhSMwCJ5JUIHUpBqbY7rt46fL/hs/oOJNlO472rXyHJdhqfNrag9uZ9nrpYQ5Smhm+BZSwu+IIZWDuOlyM0n4LSpvgD3e4NRUXrEBTmMc4zOHnlVxSc69lSjoLWn1HS0CdYPYIgCEJ4vA8mYc4/E9XQrIfzExmsPQ9i5piYfY7MhjZIPPmvxJGLFzAwPsNbP6I0NXwKrHdsEubbZxDN0KyHc1QG6yD3QLd7Q5GrvY7CjiecZ1BiDSFTbdtyjv9+lu96BEEQhPAwRhcCyWmcpubpgYNQfWePmaOsrQ8H7KVRTc27N75AgcHJWz+iNDV8CixjcSEwkwYuU/N08SBUhtgD3YkNxSlTP5Qt45z9F3Y8Qa72+pZyFLYHITt7S7B6BEEQhPAoNFYs70vkNDWQSDj1Nud7O97qPRnV1Eg8+bxeaEVpavgUWMVZK5ZfJILL1ADcA92JDUW7NwBZ433OM5A3P4TWNhIzB9fPeDLjKC66HwlWjyAIghCecp0DoUMpnIZmeV8iFBprzBwlF25hv+PLqIbmHVcxpLXXeOtHUj84H3cjwnfk6e8izxBfYI/VemI+zzf5kHt+MOqz440jkNavia9MZ0NoPgVchmb5RSKOVVti1srW9nAaqKxvb7z2GRR3TeNzxonC9uCWnq9HTo0befq7KOqcQok1hKLOKRxvHEG2tgfFXdOC1aOgoKCgED4UOi8cR6ScpsaXmgEFE1vH8kwj+NCkj2pqPmjTIEcfW6u3M+oH58W5qWFXVqE818spsMdrXHHfSqpoHYLSOPySwMqMo1AZ+zf++Gsd9MM5KgWXqfEFM1Dn8MSss1MbitlnS1DU9kDR9ONGD8Vd05A3+yHX9WIs9Oem8lwdnkAOcw2ZahtymGu46H6EcIQVvB5BEAQhLOzKKlSMDQv7k6IaGjZhD1Rft8XV27K2PnzUokOCWwmJJx8JbiWSr2hQaHLGfdFmOxGlqQH4E1h2ZRUqgw0Ly0mIZmjYlT1QGeIPdDMGaiuEIywabvo3esiqsqOqcxhPF//eck4x1SMIgiCEZfbZElQaC7wfZyH89t4NM+M/nI7SyssITM5tKk/3/V9wtLobmWobjlZ3w+R+yPuFVrSmBuBPYGefLUFlsMA7loVwZC/WzYx/Kh2lTZcRmNncQGlDQRAEQexGwhEWZvs9SKusyFTbkK22osbs3nUXWlGbGj4JR1iYb9+DVPvvQL+xosa++wZKEARBEG8q/wBmjcfG2WLP2wAAAABJRU5ErkJggg==)"
      ]
    },
    {
      "cell_type": "markdown",
      "metadata": {
        "id": "kIKw9lnh8gZh"
      },
      "source": [
        "#### Modeling using Isolation forest\n",
        "Isolation forest need no pre-scaling of data"
      ]
    },
    {
      "cell_type": "code",
      "metadata": {
        "id": "lW9uLp_R_par"
      },
      "source": [
        "# 14.0\n",
        "from sklearn.ensemble import IsolationForest\n",
        "\n",
        "\n",
        "# 14.0.1 Instantiate a quick model\n",
        "clf = IsolationForest(random_state=0)\n",
        "\n",
        "# 14.0.2 Train the model:\n",
        "clf.fit(rfm[cols].values)\n",
        "\n",
        "# # 14.0.3 Predict outliers and inliers \n",
        "# predict()\n",
        "#   Returns 'is_inlier' ndarray of shape (n_samples,)\n",
        "#   For each observation, tells whether or not (+1 or -1)\n",
        "#   it should be considered as an inlier according to the fitted model.\n",
        "\n",
        "outlier_labels = clf.predict(rfm[cols].values)\n",
        "print()\n",
        "outlier_labels[:10]"
      ],
      "execution_count": null,
      "outputs": []
    },
    {
      "cell_type": "code",
      "metadata": {
        "id": "h5QVhCBbJorI"
      },
      "source": [
        "# 14.0.4 So extract 'normal' data\n",
        "#        '1' is normal, '-1' is anomaly\n",
        "rfm_aw_isf = rfm[cols][outlier_labels == 1]\n",
        "rfm_aw_isf.shape   # (3946, 3)\n",
        "rfm_aw_isf.head()"
      ],
      "execution_count": null,
      "outputs": []
    },
    {
      "cell_type": "markdown",
      "metadata": {
        "id": "IPiRHx6k8r25"
      },
      "source": [
        "##### Visualize non-anomalous data"
      ]
    },
    {
      "cell_type": "code",
      "metadata": {
        "id": "JwBd7th6N085"
      },
      "source": [
        "# 14.1 Visualize the 'normal' data:\n",
        "\n",
        "fig, ax = plt.subplots(1,3, figsize = (16,6))\n",
        "_=sns.histplot(data = rfm_aw_isf, x = \"frequency\", ax = ax[0])\n",
        "_=sns.histplot(data = rfm_aw_isf, x = \"recency\", ax = ax[1])\n",
        "_=sns.histplot(data = rfm_aw_isf, x = \"revenue\", ax = ax[2])"
      ],
      "execution_count": null,
      "outputs": []
    },
    {
      "cell_type": "markdown",
      "metadata": {
        "id": "xPt9N5yBI-Ti"
      },
      "source": [
        "## Clustering"
      ]
    },
    {
      "cell_type": "markdown",
      "metadata": {
        "id": "F8uule2ZH5ls"
      },
      "source": [
        "### Process inliers for clustering\n",
        "\n",
        "<font size =2>(#15--#16.3)<font>\n",
        "\n",
        "Scale data from which outliers are removed  \n",
        "and optionally perform boxcox.  \n",
        "\n",
        "We have three sets of non-anomalous data:\n",
        "- `rfm_aw_iqr`: From IQR boundaries\n",
        "- `rfm_aw_per`: From percentile boundaries\n",
        "- `rfm_aw_isf`: From isolation forests\n",
        "\n",
        "Let us use one of them by turn:"
      ]
    },
    {
      "cell_type": "code",
      "metadata": {
        "id": "BeLISyoDQWWa"
      },
      "source": [
        "# 15.0 Just rewrite boxcox function\n",
        "#      once again:\n",
        "\n",
        "def boxcox(X):\n",
        "  \"\"\"\n",
        "  X: DataFrame on each feature of\n",
        "     which transformation is to be carried out\n",
        "  \"\"\"\n",
        "  tr = power_transform(X.values, method = 'yeo-johnson')\n",
        "  tr = pd.DataFrame(tr, columns= X.columns)\n",
        "  return tr"
      ],
      "execution_count": 242,
      "outputs": []
    },
    {
      "cell_type": "code",
      "metadata": {
        "id": "gTnXMRS4IBDD"
      },
      "source": [
        "#15.1 Which dataset to select?\n",
        "#     We have three of them. Select one:\n",
        "\n",
        "# 15.2 Percentile data\n",
        "#rfm_aw = rfm_aw_per[cols].copy()\n",
        "\n",
        "\n",
        "\n",
        "# 15.3 \n",
        "# IQR data\n",
        "#rfm_aw = rfm_aw_iqr[cols].copy()  # (3582, 3)\n",
        "\n",
        "\n",
        "#15.4\n",
        "# Isolation forest data\n",
        "rfm_aw = rfm_aw_isf[cols].copy()  # (3946, 3)\n",
        "\n",
        "\n",
        "# 15.5\n",
        "# No outlier removal\n",
        "#rfm_aw = rfm[cols].copy()\n",
        "\n",
        "\n",
        "# 15.6 \n",
        "rfm_aw.shape"
      ],
      "execution_count": null,
      "outputs": []
    },
    {
      "cell_type": "code",
      "metadata": {
        "id": "pHFZBnHEP4X2"
      },
      "source": [
        "# 15.7 Apply boxcox to selected dataset:\n",
        "\n",
        "#rfm_aw = boxcox(rfm_aw[cols])\n",
        "#rfm_aw.shape"
      ],
      "execution_count": 244,
      "outputs": []
    },
    {
      "cell_type": "code",
      "metadata": {
        "id": "ddZ64BV1IGxG"
      },
      "source": [
        "# 16.0 Rescaling the attributes\n",
        "\n",
        "# 16.1 Instantiate\n",
        "scaler = StandardScaler()\n",
        "\n",
        "# 16.2 fit_transform\n",
        "X = scaler.fit_transform(rfm_aw)\n",
        "X.shape  "
      ],
      "execution_count": null,
      "outputs": []
    },
    {
      "cell_type": "code",
      "metadata": {
        "id": "fBIXE97yIRx9"
      },
      "source": [
        "# 16.3 Transform scaled numpy data to DataFrame\n",
        "rfm_df_scaled = pd.DataFrame(X)\n",
        "rfm_df_scaled.columns = cols\n",
        "rfm_df_scaled.head()"
      ],
      "execution_count": null,
      "outputs": []
    },
    {
      "cell_type": "markdown",
      "metadata": {
        "id": "Tl3TsETF_Ui3"
      },
      "source": [
        "### KMeans clustering\n",
        "We use data without boxcox transformation  \n",
        "<font size = 2>(#18-#18.6.3)</font>"
      ]
    },
    {
      "cell_type": "markdown",
      "metadata": {
        "id": "GejrczkhACxH"
      },
      "source": [
        "#### Scree plot\n",
        "How many clusters?"
      ]
    },
    {
      "cell_type": "code",
      "metadata": {
        "id": "An_ssVxv4oks"
      },
      "source": [
        "# 18.0 Elbow-curve/SSD\n",
        "#      We are using rfm_df_scaled that was \n",
        "#      created by removing anomalies beyond\n",
        "#      5% and 95%\n",
        "\n",
        "ssd = []\n",
        "range_n_clusters = [2, 3, 4, 5, 6, 7, 8]\n",
        "for num_clusters in range_n_clusters:\n",
        "    kmeans = KMeans(n_clusters=num_clusters, max_iter=50)\n",
        "    _=kmeans.fit(rfm_df_scaled[cols])\n",
        "  \n",
        "    ssd.append(kmeans.inertia_)\n",
        "    \n",
        "# 18.1 plot the SSDs for each n_clusters\n",
        "_=plt.plot(range_n_clusters,ssd)"
      ],
      "execution_count": null,
      "outputs": []
    },
    {
      "cell_type": "markdown",
      "metadata": {
        "id": "cQW5N9D3AcSP"
      },
      "source": [
        "#### Silhoutte Score"
      ]
    },
    {
      "cell_type": "code",
      "metadata": {
        "id": "HzsPuv3W4xAy"
      },
      "source": [
        "# 18.2 Silhouette analysis\n",
        "range_n_clusters = [2, 3, 4, 5, 6, 7, 8]\n",
        "score =[]\n",
        "\n",
        "for num_clusters in range_n_clusters:\n",
        "    \n",
        "    # 18.2.1 intialise kmeans\n",
        "    kmeans = KMeans(\n",
        "                    n_clusters=num_clusters,\n",
        "                    n_init=50,\n",
        "                    max_iter=200,\n",
        "                    algorithm = 'full'\n",
        "                    )\n",
        "    # 18.2.2\n",
        "    _=kmeans.fit(rfm_df_scaled[cols])\n",
        "    \n",
        "    # 18.2.3\n",
        "    cluster_labels = kmeans.labels_\n",
        "    \n",
        "    # 18.2.4 Silhouette score\n",
        "    silhouette_avg = silhouette_score(rfm_df_scaled, cluster_labels)\n",
        "    score.append(silhouette_avg)\n",
        "    #print(\"For n_clusters={0}, the silhouette score is {1}\".format(num_clusters, silhouette_avg))\n",
        "\n",
        "# 18.3\n",
        "_=plt.plot(range(2, len(range_n_clusters)+2),score)\n",
        "_=plt.title(\"Silhoutte score for clusters\")\n",
        "_=plt.xlabel(\"Clusters-->\")\n",
        "_=plt.ylabel(\"Silhoutte score-->\")"
      ],
      "execution_count": null,
      "outputs": []
    },
    {
      "cell_type": "markdown",
      "metadata": {
        "id": "0x0OZmZ9Aflf"
      },
      "source": [
        "#### Final model"
      ]
    },
    {
      "cell_type": "code",
      "metadata": {
        "id": "1uGsrWgi5BiZ"
      },
      "source": [
        "# 18.4 Final model with k=3\n",
        "#      Why 3? From domain knowledge, I think 3 would be OK.\n",
        "\n",
        "kmeans = KMeans(\n",
        "                n_clusters=3,\n",
        "                n_init=50,\n",
        "                max_iter=200,\n",
        "                algorithm = 'full'\n",
        "                )\n",
        "\n",
        "# 18.5\n",
        "_=kmeans.fit(rfm_df_scaled[cols])"
      ],
      "execution_count": 272,
      "outputs": []
    },
    {
      "cell_type": "code",
      "metadata": {
        "id": "yjWeXzCH5FgQ"
      },
      "source": [
        "# 18.6 Assign cluster labels\n",
        "rfm_df_scaled['cluster_id'] = kmeans.labels_\n",
        "rfm_df_scaled.head()\n",
        "rfm_df_scaled['cluster_id'].value_counts()"
      ],
      "execution_count": null,
      "outputs": []
    },
    {
      "cell_type": "markdown",
      "metadata": {
        "id": "_4iq0V2UBm8l"
      },
      "source": [
        "### Are clusters interpretable:\n",
        "Look at clusters, cluster_ID wise\n"
      ]
    },
    {
      "cell_type": "code",
      "metadata": {
        "id": "l0OYAWei5S4h"
      },
      "source": [
        "# 18.6.1 Draw boxplots\n",
        "fig, ax = plt.subplots(1,3, figsize = (16,6))\n",
        "_=sns.boxplot(\n",
        "                data = rfm_df_scaled,\n",
        "                y = 'revenue',\n",
        "                x = 'cluster_id',\n",
        "                ax = ax[0]\n",
        "              )\n",
        "\n",
        "# 18.6.2\n",
        "_=sns.boxplot(\n",
        "                data = rfm_df_scaled,\n",
        "                y = 'frequency',\n",
        "                x = 'cluster_id',\n",
        "                ax = ax[1]\n",
        "              )\n",
        "\n",
        "# 18.6.3\n",
        "_=sns.boxplot(\n",
        "                data = rfm_df_scaled,\n",
        "                y = 'recency',\n",
        "                x = 'cluster_id',\n",
        "                ax = ax[2]\n",
        "              )\n"
      ],
      "execution_count": null,
      "outputs": []
    },
    {
      "cell_type": "markdown",
      "metadata": {
        "id": "uUkxop7tCRro"
      },
      "source": [
        "### Gaussian Mixture Model\n",
        "<font size = 2>(#19.1--#23.2)<font>"
      ]
    },
    {
      "cell_type": "code",
      "metadata": {
        "id": "zgxIb6Tuftlp"
      },
      "source": [
        "# 19.1 Import GaussianMixture class\n",
        "from sklearn.mixture import GaussianMixture\n",
        "\n",
        "# 19.2 Instantiate model\n",
        "#      'tied' with 2 components gives 0.83\n",
        "gm = GaussianMixture(\n",
        "                     n_components = 3,\n",
        "                     n_init = 200,  # The number of initializations \n",
        "                                   # to perform. The best results are kept.\n",
        "                     max_iter = 400,\n",
        "                     covariance_type= 'tied'\n",
        "                     )  # 'tied', 'diag', 'full', \n",
        "\n",
        "\n",
        "# 19.3\n",
        "gm.fit(rfm_df_scaled[cols])\n",
        "\n",
        "# 19.4 Where are the clsuter centers\n",
        "print(\"\\n-----cluster means----\\n\")\n",
        "gm.means_\n",
        "\n",
        "# 19.5 Did algorithm converge?\n",
        "print(\"\\n-----Did it converge?----\\n\")\n",
        "gm.converged_\n",
        "\n",
        "# 19.6 How many iterations did it perform?\n",
        "print(\"\\n-----How many iteratons?----\\n\")\n",
        "gm.n_iter_"
      ],
      "execution_count": null,
      "outputs": []
    },
    {
      "cell_type": "code",
      "metadata": {
        "id": "ZYARJYTFnBYO"
      },
      "source": [
        "# 20.0\n",
        "# We will use Mahalanobis distance. It is an open\n",
        "# question whether the Silhoutte scores of KMEans\n",
        "# model and GMM are comparable as the distance\n",
        "# metrics are different.\n",
        "\n",
        "silhouette_avg = silhouette_score(\n",
        "                                  X = rfm_df_scaled[cols],\n",
        "                                  metric = 'mahalanobis',\n",
        "                                  labels =gm.predict(rfm_df_scaled[cols])\n",
        "                                  )\n",
        "# 20.1\n",
        "print(\"Silhoutte score as per Mahalanobis distance: \",silhouette_avg)"
      ],
      "execution_count": null,
      "outputs": []
    },
    {
      "cell_type": "code",
      "metadata": {
        "id": "My4VoY2wgC85"
      },
      "source": [
        "# 21.0 Predict clusters labels\n",
        "cid = gm.predict(rfm_df_scaled[cols])"
      ],
      "execution_count": 258,
      "outputs": []
    },
    {
      "cell_type": "code",
      "metadata": {
        "id": "DhHzG-lR92yQ"
      },
      "source": [
        "# 21.1\n",
        "rfm_df_scaled['cid'] = cid\n",
        "rfm_df_scaled.head()\n",
        "rfm_df_scaled['cid'].value_counts()"
      ],
      "execution_count": null,
      "outputs": []
    },
    {
      "cell_type": "markdown",
      "metadata": {
        "id": "KswHuddh00jJ"
      },
      "source": [
        "#### In each cluster, one feature is a distinguishing feature"
      ]
    },
    {
      "cell_type": "code",
      "metadata": {
        "id": "Kz7oIB8E-Q_Z"
      },
      "source": [
        "# 22.1\n",
        "fig, ax = plt.subplots(1,3, figsize = (16,6))\n",
        "sns.boxplot(x='cid', y='recency', data=rfm_df_scaled,ax = ax[0]);\n",
        "sns.boxplot(x='cid', y='frequency', data=rfm_df_scaled,ax = ax[1]);\n",
        "sns.boxplot(x='cid', y='revenue', data=rfm_df_scaled, ax = ax[2]);\n"
      ],
      "execution_count": null,
      "outputs": []
    },
    {
      "cell_type": "markdown",
      "metadata": {
        "id": "SEU-eeaDxAsb"
      },
      "source": [
        "### Clusters from KMeans and GMM--Compare\n",
        "<font size = 2>(#23--#24.2)"
      ]
    },
    {
      "cell_type": "markdown",
      "metadata": {
        "id": "evaSuYks7hug"
      },
      "source": [
        "#### Compare through graphs"
      ]
    },
    {
      "cell_type": "code",
      "metadata": {
        "id": "6mLQhaWgaAQU"
      },
      "source": [
        "# 23 Plot in 2-D clusters of KMeans and GMM\n",
        "#    Both appear almost the same:\n",
        "\n",
        "fig, ax = plt.subplots(1,2, figsize = (16,6))\n",
        "\n",
        "# 23.1 Cluster from GMM\n",
        "\n",
        "sns.scatterplot(\n",
        "                x='revenue',\n",
        "                y='recency',\n",
        "                hue = 'cid',\n",
        "                data=rfm_df_scaled,\n",
        "                palette=\"deep\",\n",
        "                ax = ax[0]\n",
        "                );\n",
        "\n",
        "# 23.2 Cluster from KMEans\n",
        "sns.scatterplot(\n",
        "                x='revenue',\n",
        "                y='recency',\n",
        "                hue = 'cluster_id',\n",
        "                data=rfm_df_scaled,\n",
        "                palette=\"deep\",\n",
        "                ax = ax[1]\n",
        "                );               "
      ],
      "execution_count": null,
      "outputs": []
    },
    {
      "cell_type": "markdown",
      "metadata": {
        "id": "PQmRDO7_7a-_"
      },
      "source": [
        "#### Compare the clusters numerically"
      ]
    },
    {
      "cell_type": "code",
      "metadata": {
        "id": "SWdtUXLX7oiv"
      },
      "source": [
        "# 24. Define a function to extract stat\n",
        "def cluster_stat(clusterid, a_cols):\n",
        "  grpd = rfm_df_scaled[a_cols].groupby(clusterid)\n",
        "  return grpd.agg([np.mean, np.median, np.std])\n"
      ],
      "execution_count": 301,
      "outputs": []
    },
    {
      "cell_type": "code",
      "metadata": {
        "id": "8jvFI0vU3TJL"
      },
      "source": [
        "# 24.1 KMeans clusters\n",
        "a_cols = a_cols = ['revenue', 'frequency', 'recency', 'cluster_id']\n",
        "cluster_stat('cluster_id',a_cols)"
      ],
      "execution_count": null,
      "outputs": []
    },
    {
      "cell_type": "code",
      "metadata": {
        "id": "YU_hc2Tl7Pb5"
      },
      "source": [
        "# 24.2 GMM clusters\n",
        "a_cols = ['revenue', 'frequency', 'recency', 'cid']\n",
        "cluster_stat('cid', a_cols)"
      ],
      "execution_count": null,
      "outputs": []
    },
    {
      "cell_type": "markdown",
      "metadata": {
        "id": "HH16sUAx8h3V"
      },
      "source": [
        "#### Another way to interpret"
      ]
    },
    {
      "cell_type": "markdown",
      "metadata": {
        "id": "0IDjtK0G1caN"
      },
      "source": [
        "> Cluster 1: High revenue + low recency + high frequency  \n",
        "\n",
        "> Cluster 2: Low revenue + high recency + low frequency  \n",
        "\n",
        "> Cluster 3: Low revenue + low recency + low frequency  \n"
      ]
    },
    {
      "cell_type": "code",
      "metadata": {
        "id": "RihtbjugNQa3"
      },
      "source": [
        "############# I am done ###########"
      ],
      "execution_count": 262,
      "outputs": []
    },
    {
      "cell_type": "markdown",
      "metadata": {
        "id": "Ky4dagu_xNOV"
      },
      "source": [
        "### Misc"
      ]
    },
    {
      "cell_type": "markdown",
      "metadata": {
        "id": "mPa47ThqNO6M"
      },
      "source": [
        ""
      ]
    },
    {
      "cell_type": "code",
      "metadata": {
        "id": "Nc4hFU_FgTdJ"
      },
      "source": [
        "bic = []\n",
        "aic = []\n",
        "for i in range(10):\n",
        "    print()\n",
        "    print(\"No of clusters: \", i)\n",
        "    print()\n",
        "    gm = GaussianMixture(\n",
        "                     n_components = i+1,\n",
        "                     n_init = 80,\n",
        "                     max_iter = 200,\n",
        "                     covariance_type= 'tied',\n",
        "                     init_params=\"kmeans\")\n",
        "    gm.fit(rfm_df_scaled)\n",
        "    bic.append(gm.bic(rfm_df_scaled))\n",
        "    aic.append(gm.aic(rfm_df_scaled))"
      ],
      "execution_count": null,
      "outputs": []
    },
    {
      "cell_type": "code",
      "metadata": {
        "id": "fNfyiJIQPs-O"
      },
      "source": [
        "aic\n",
        "bic"
      ],
      "execution_count": null,
      "outputs": []
    },
    {
      "cell_type": "code",
      "metadata": {
        "id": "sZC3OggbL8Us"
      },
      "source": [
        "# https://scikit-learn.org/stable/auto_examples/mixture/plot_gmm_selection.html\n",
        "bic = []\n",
        "aic = []\n",
        "lowest_bic = np.infty\n",
        "n_components_range = range(1, 15)\n",
        "cv_types = ['spherical', 'tied', 'diag', 'full']\n",
        "\n",
        "for cv_type in cv_types:\n",
        "    for n_components in n_components_range:\n",
        "        # Fit a Gaussian mixture with EM\n",
        "        gm = GaussianMixture(n_components=n_components,\n",
        "                                      covariance_type=cv_type)\n",
        "        gm.fit(rfm_mix[cols])\n",
        "        bic.append(cv_type + \":\" +str(gm.bic(rfm_mix[cols])))\n",
        "        aic.append(cv_type + \":\" +str(gm.aic(rfm_mix[cols])))\n",
        "        if gm.bic(rfm_mix[cols]) < lowest_bic:\n",
        "            lowest_bic = gm.bic(rfm_mix[cols])\n",
        "            best_gm = gm"
      ],
      "execution_count": null,
      "outputs": []
    },
    {
      "cell_type": "code",
      "metadata": {
        "id": "gckQFgPsAQPA"
      },
      "source": [
        "aic\n",
        "print()\n",
        "bic"
      ],
      "execution_count": null,
      "outputs": []
    },
    {
      "cell_type": "code",
      "metadata": {
        "id": "_6TyIe8E17-i"
      },
      "source": [
        "rfm_mix.to_csv(\"rfm_mix.csv\",index=False)"
      ],
      "execution_count": null,
      "outputs": []
    },
    {
      "cell_type": "code",
      "metadata": {
        "id": "LCLt5jk2ZyKL"
      },
      "source": [
        "sns.scatterplot(data=tips, x=\"total_bill\", y=\"tip\", hue=\"time\")"
      ],
      "execution_count": null,
      "outputs": []
    },
    {
      "cell_type": "code",
      "metadata": {
        "id": "J67otaVl9SWH"
      },
      "source": [
        "####### I am done ##############"
      ],
      "execution_count": null,
      "outputs": []
    }
  ]
}