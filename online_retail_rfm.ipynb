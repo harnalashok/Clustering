{
  "nbformat": 4,
  "nbformat_minor": 0,
  "metadata": {
    "colab": {
      "name": "online_retail_rfm.ipynb",
      "provenance": [],
      "collapsed_sections": [
        "expqxbYyfDsG"
      ],
      "include_colab_link": true
    },
    "kernelspec": {
      "name": "python3",
      "display_name": "Python 3"
    },
    "language_info": {
      "name": "python"
    }
  },
  "cells": [
    {
      "cell_type": "markdown",
      "metadata": {
        "id": "view-in-github",
        "colab_type": "text"
      },
      "source": [
        "<a href=\"https://colab.research.google.com/github/harnalashok/Clustering/blob/master/online_retail_rfm.ipynb\" target=\"_parent\"><img src=\"https://colab.research.google.com/assets/colab-badge.svg\" alt=\"Open In Colab\"/></a>"
      ]
    },
    {
      "cell_type": "code",
      "metadata": {
        "id": "nXjnnvNAZAHk"
      },
      "source": [
        "# Last amended: 15th April, 2021\n",
        "# Ref: https://www.kaggle.com/hellbuoy/online-retail-k-means-hierarchical-clustering\n",
        "# My folder:\n",
        "# github: harnalashok/clustering/\n",
        "#\n",
        "# Objectives:\n",
        "#            i) Feature engineering before clustering\n",
        "#           ii) Outlier detection techniques\n",
        "#                 a) Using IQR (Tukey's fences)\n",
        "#                 b) Using region rejection & confidence interval\n",
        "#                 c) Using machine learning for anomaly detection\n",
        "#                    (isolation forests)\n",
        "#          iii) Box-cox transformations\n",
        "#           iv) KMeans clustering\n",
        "#            v) Gaussian Mixture modeling\n",
        "# "
      ],
      "execution_count": null,
      "outputs": []
    },
    {
      "cell_type": "markdown",
      "metadata": {
        "id": "3TBiz0Fyr0Vs"
      },
      "source": [
        "### Transform data\n",
        "Transform and visualize data"
      ]
    },
    {
      "cell_type": "markdown",
      "metadata": {
        "id": "B-zvVtetr5C8"
      },
      "source": [
        "#### Call libraries"
      ]
    },
    {
      "cell_type": "code",
      "metadata": {
        "id": "UGU0da7S3j8l"
      },
      "source": [
        "# 1.0 Import required libraries for dataframe and visualization\n",
        "\n",
        "import numpy as np\n",
        "import pandas as pd\n",
        "\n",
        "# 1.0.1 Graphing\n",
        "import matplotlib.pyplot as plt\n",
        "import seaborn as sns\n",
        "import plotly.express as px\n",
        "\n",
        "\n",
        "# 1.0.2 import required libraries for clustering\n",
        "from sklearn.preprocessing import StandardScaler\n",
        "from sklearn.cluster import KMeans\n",
        "from sklearn.metrics import silhouette_score\n",
        "from sklearn.cluster import AgglomerativeClustering\n",
        "import scipy.cluster.hierarchy as shc\n",
        "\n",
        "# 1.0.3\n",
        "import os\n",
        "%matplotlib inline\n",
        "from scipy import stats"
      ],
      "execution_count": 257,
      "outputs": []
    },
    {
      "cell_type": "code",
      "metadata": {
        "id": "pFAW5Jhu3_c9"
      },
      "source": [
        "# 1.1 Display multiple commands output from a cell\n",
        "from IPython.core.interactiveshell import InteractiveShell\n",
        "InteractiveShell.ast_node_interactivity = \"all\""
      ],
      "execution_count": 258,
      "outputs": []
    },
    {
      "cell_type": "markdown",
      "metadata": {
        "id": "DKt5aZsoAfE2"
      },
      "source": [
        "#### Read and explore"
      ]
    },
    {
      "cell_type": "code",
      "metadata": {
        "id": "R1CZ5isW36dD",
        "colab": {
          "base_uri": "https://localhost:8080/"
        },
        "outputId": "2117faeb-8042-4c14-e110-d745a513f43e"
      },
      "source": [
        "# 1.1.2 My data folder\n",
        "path = \"/content\" \n",
        "os.chdir(path)\n",
        "os.listdir()"
      ],
      "execution_count": 259,
      "outputs": [
        {
          "output_type": "execute_result",
          "data": {
            "text/plain": [
              "['.config', 'onlineretail.zip', 'sample_data']"
            ]
          },
          "metadata": {
            "tags": []
          },
          "execution_count": 259
        }
      ]
    },
    {
      "cell_type": "code",
      "metadata": {
        "id": "sk6G1xP23n3w"
      },
      "source": [
        "# 1.2 Read Data\n",
        "data = pd.read_csv(\n",
        "                   #\"OnlineRetail.csv\",\n",
        "                   \"onlineretail.zip\",\n",
        "                   encoding = \"ISO_8859_1\", # utf_8\n",
        "                   engine = 'python', # Takes time but reads full file\n",
        "                                      # 'c' engine is faster but has problems\n",
        "                                      # at separators. Default is 'c'\n",
        "                   header = 0\n",
        "                   #parse_dates=True        # InvoiceDate does not get converted to date\n",
        "                   )\n"
      ],
      "execution_count": 260,
      "outputs": []
    },
    {
      "cell_type": "code",
      "metadata": {
        "id": "fBi-Hwdt4LIz"
      },
      "source": [
        "# 1.2.1 \n",
        "data.shape   # (541909, 8)\n",
        "print()\n",
        "data.dtypes  \n",
        "print()\n",
        "data.head()\n",
        "data['StockCode'].value_counts()"
      ],
      "execution_count": null,
      "outputs": []
    },
    {
      "cell_type": "code",
      "metadata": {
        "id": "qbZBRTCl7kn2"
      },
      "source": [
        "# 1.2.2 Transform InvoiceDate dtype to datetype\n",
        "data['InvoiceDate'] = pd.to_datetime(data['InvoiceDate'])\n",
        "data.dtypes"
      ],
      "execution_count": null,
      "outputs": []
    },
    {
      "cell_type": "code",
      "metadata": {
        "id": "VE40Taql4sNU"
      },
      "source": [
        "# 1.2.3 Examine data\n",
        "print(\"\\n-----InvoiceNo------\\n\")\n",
        "data.InvoiceNo.value_counts()     # 25900 unique\n",
        "print()\n",
        "print(\"\\n-----StockCode------\\n\")\n",
        "data.StockCode.value_counts()     # 4070  unique\n",
        "print()\n",
        "print(\"\\n----CustomerID-------\\n\")\n",
        "data.CustomerID.value_counts()    # 4372 unique\n",
        "print(\"\\n----Country-------\\n\")\n",
        "data.Country.value_counts()       # 38 unique\n",
        "print()\n",
        "len(data.Country.value_counts())  # 38 unique"
      ],
      "execution_count": null,
      "outputs": []
    },
    {
      "cell_type": "code",
      "metadata": {
        "id": "fMp8fZPT5Dt9"
      },
      "source": [
        "# 1.2.4 Are there NAs?\n",
        "data.isnull().sum()   # Yes, there are"
      ],
      "execution_count": null,
      "outputs": []
    },
    {
      "cell_type": "code",
      "metadata": {
        "id": "pTMYBIYA7S3I"
      },
      "source": [
        "# 1.3 Cleanup data. Remove those \n",
        "#     rows where no CustomerIDs\n",
        "\n",
        "data = data[~data[\"CustomerID\"].isnull()]\n",
        "data.shape  # (406829, 8)"
      ],
      "execution_count": null,
      "outputs": []
    },
    {
      "cell_type": "code",
      "metadata": {
        "id": "t7jc6ayd-AnL"
      },
      "source": [
        "# 1.4 Checking for duplicates. Remove duplicates:\n",
        "\n",
        "data = data[~data.duplicated()]\n",
        "data.shape   # (401604, 8)  ; data.drop_duplicates(keep='first', inplace=True)"
      ],
      "execution_count": null,
      "outputs": []
    },
    {
      "cell_type": "code",
      "metadata": {
        "id": "LUCqd7kg__pC"
      },
      "source": [
        "# 1.5 Let us see max and min dates:\n",
        "\n",
        "data.sort_values(by = \"InvoiceDate\", ascending = False).head()\n",
        "data.sort_values(by = \"InvoiceDate\",ascending = False).tail()"
      ],
      "execution_count": null,
      "outputs": []
    },
    {
      "cell_type": "code",
      "metadata": {
        "id": "hzV5qS4jM-WE"
      },
      "source": [
        "# 1.6 Revenue generated, per row:\n",
        "#     Create a new column\n",
        "\n",
        "data['rev'] = data['UnitPrice'] * data['Quantity']"
      ],
      "execution_count": 268,
      "outputs": []
    },
    {
      "cell_type": "markdown",
      "metadata": {
        "id": "Ig6N5I--0Kpk"
      },
      "source": [
        "#### Univariate distributions\n",
        "Plotting with [plotly express](https://plotly.com/python/plotly-express/)"
      ]
    },
    {
      "cell_type": "code",
      "metadata": {
        "id": "uyj3wC2p9BIO"
      },
      "source": [
        "# 2.0 Our data is huge. Sample it\n",
        "small = data.sample(frac=0.1)\n",
        "small.shape"
      ],
      "execution_count": null,
      "outputs": []
    },
    {
      "cell_type": "code",
      "metadata": {
        "id": "5OKkiv_cz_wh"
      },
      "source": [
        "# 2.1\n",
        "# https://plotly.com/python/histograms/\n",
        "# https://plotly.com/python/axes/\n",
        "fig = px.histogram(small, x = \"rev\")\n",
        "fig.update_xaxes(range=[0, 1000])\n",
        "#fig.show()\n",
        "#sns.displot(data = small, x = \"rev\")\n"
      ],
      "execution_count": null,
      "outputs": []
    },
    {
      "cell_type": "code",
      "metadata": {
        "id": "FMJXsN4yz_nB"
      },
      "source": [
        "# 2.2\n",
        "# https://plotly.com/python/box-plots/\n",
        "fig = px.box(small, y='rev')\n",
        "fig.show()"
      ],
      "execution_count": null,
      "outputs": []
    },
    {
      "cell_type": "code",
      "metadata": {
        "id": "UJBH9qry-9gO"
      },
      "source": [
        "# 2.3 Country wise distribution\n",
        "fig = px.box(small, x = 'Country',y='rev')\n",
        "fig.show()"
      ],
      "execution_count": null,
      "outputs": []
    },
    {
      "cell_type": "markdown",
      "metadata": {
        "id": "izvPvQaqAUKR"
      },
      "source": [
        "#### Feature Engineering to get RFM data: Extract data"
      ]
    },
    {
      "cell_type": "markdown",
      "metadata": {
        "id": "CkcEyY2FDEky"
      },
      "source": [
        "##### Recency first\n",
        "Takes time"
      ]
    },
    {
      "cell_type": "code",
      "metadata": {
        "id": "Nli8p3iNE7Se"
      },
      "source": [
        "# 2.0\n",
        "df = data.copy()"
      ],
      "execution_count": 273,
      "outputs": []
    },
    {
      "cell_type": "code",
      "metadata": {
        "id": "AiHnqfrp_V8r"
      },
      "source": [
        "# 2.1 \n",
        "grd = df.groupby(\"CustomerID\")"
      ],
      "execution_count": 274,
      "outputs": []
    },
    {
      "cell_type": "code",
      "metadata": {
        "id": "ge2P1yGBOABc"
      },
      "source": [
        "# 2.2 Create an empty dataframe\n",
        "#     having same columns as the original:\n",
        "\n",
        "df_recency = pd.DataFrame(columns = df.columns)\n",
        "df_recency.head()"
      ],
      "execution_count": null,
      "outputs": []
    },
    {
      "cell_type": "code",
      "metadata": {
        "id": "WWMnk5EoeOa_"
      },
      "source": [
        "# 2.3\n",
        "df_recency = grd['InvoiceDate'].max().reset_index()\n",
        "df_recency.head()\n",
        "df_recency.shape   # (4372, 2)"
      ],
      "execution_count": null,
      "outputs": []
    },
    {
      "cell_type": "code",
      "metadata": {
        "id": "ZyoNs_cX_2YO"
      },
      "source": [
        "# 2.3.1 Examine extracted information:\n",
        "\n",
        "df_recency.shape     # (4372,2)\n",
        "print()\n",
        "df_recency.head()\n",
        "print()\n",
        "df_recency[['CustomerID', 'InvoiceDate']].head()\n",
        "print()\n",
        "df_recency['InvoiceDate'].min()\n",
        "print()\n",
        "df_recency['recency']= (df_recency['InvoiceDate'].max() - df_recency['InvoiceDate'])/ pd.Timedelta(\"1 days\")\n",
        "print()\n",
        "df_recency = df_recency[['CustomerID', 'recency']]"
      ],
      "execution_count": null,
      "outputs": []
    },
    {
      "cell_type": "code",
      "metadata": {
        "id": "heZ5ryrwC80-"
      },
      "source": [
        "# 2.3.2\n",
        "df_recency.head()\n",
        "print()\n",
        "df_recency.recency.min()  # 0.0"
      ],
      "execution_count": null,
      "outputs": []
    },
    {
      "cell_type": "markdown",
      "metadata": {
        "id": "aCWEj8kSDIYd"
      },
      "source": [
        "#####Frequency next"
      ]
    },
    {
      "cell_type": "code",
      "metadata": {
        "id": "Pwq8APKYTadU"
      },
      "source": [
        "# 3.0\n",
        "grpd = df.groupby(['CustomerID'])"
      ],
      "execution_count": 280,
      "outputs": []
    },
    {
      "cell_type": "code",
      "metadata": {
        "id": "CKoB6TJnUmu0"
      },
      "source": [
        "# 3.1 Frequency: How many unique invoice numbers exist\n",
        "#                per customer\n",
        "\n",
        "df_freq = grpd['InvoiceNo'].nunique().reset_index()\n",
        "df_freq.columns = ['CustomerID', 'frequency']\n",
        "df_freq.head()\n"
      ],
      "execution_count": null,
      "outputs": []
    },
    {
      "cell_type": "markdown",
      "metadata": {
        "id": "y3aVFBXYDbNO"
      },
      "source": [
        "##### Revenue/customer"
      ]
    },
    {
      "cell_type": "code",
      "metadata": {
        "id": "91cR87FNULJy"
      },
      "source": [
        "# 4.0\n",
        "grpd = df.groupby('CustomerID')"
      ],
      "execution_count": 282,
      "outputs": []
    },
    {
      "cell_type": "code",
      "metadata": {
        "id": "9yCmfno5VteN"
      },
      "source": [
        "# 4.1 Sum-up all purchases\n",
        "df_rev = grpd['rev'].sum().reset_index()\n",
        "df_rev.columns = ['CustomerID', 'revenue']\n",
        "df_rev.head()"
      ],
      "execution_count": null,
      "outputs": []
    },
    {
      "cell_type": "markdown",
      "metadata": {
        "id": "u6yL5SKn_de-"
      },
      "source": [
        "##### High avg price buyer?"
      ]
    },
    {
      "cell_type": "code",
      "metadata": {
        "id": "vPsqLfK6_rF9"
      },
      "source": [
        "# 4.1\n",
        "grpd = df.groupby('CustomerID')"
      ],
      "execution_count": 284,
      "outputs": []
    },
    {
      "cell_type": "code",
      "metadata": {
        "id": "b7fz1jWv_twW"
      },
      "source": [
        "# 4.1.1 Average unit-prices\n",
        "df_up = grpd['UnitPrice'].mean().reset_index()\n",
        "df_up.columns = ['CustomerID', 'avg_unitprice']\n",
        "df_up.head()"
      ],
      "execution_count": null,
      "outputs": []
    },
    {
      "cell_type": "markdown",
      "metadata": {
        "id": "CkLlU-xsnKXU"
      },
      "source": [
        "##### Preferred weekdays of customer"
      ]
    },
    {
      "cell_type": "code",
      "metadata": {
        "id": "iGrXX8vNorj7"
      },
      "source": [
        "# 4.1.2 Create new features, weekday and month\n",
        "df['weekday'] = df['InvoiceDate'].dt.weekday\n",
        "df['month'] = df['InvoiceDate'].dt.month"
      ],
      "execution_count": 286,
      "outputs": []
    },
    {
      "cell_type": "code",
      "metadata": {
        "id": "RXFkyasmoXXC"
      },
      "source": [
        "# 4.1.3 Group by CustomerID\n",
        "grpd = df.groupby('CustomerID')"
      ],
      "execution_count": 287,
      "outputs": []
    },
    {
      "cell_type": "code",
      "metadata": {
        "id": "VvfJzj29nJOT"
      },
      "source": [
        "# 4.1.4 Most preferred day of each customer\n",
        "#       'mode()' is not available in groupby()\n",
        "#       See: https://stackoverflow.com/a/15223034   \n",
        "\n",
        "df_preferredDay = grpd['weekday'].agg(lambda x:x.value_counts().index[0]).reset_index()\n",
        "df_preferredDay.head()"
      ],
      "execution_count": null,
      "outputs": []
    },
    {
      "cell_type": "markdown",
      "metadata": {
        "id": "wmr1nE0iDrNO"
      },
      "source": [
        "##### Create rfm DataFrame now\n",
        "Merge all datasets"
      ]
    },
    {
      "cell_type": "code",
      "metadata": {
        "id": "Sgon8KUxWUhN"
      },
      "source": [
        "# 5.0\n",
        "rfm = df_rev.merge(df_recency)\n",
        "rfm = rfm.merge(df_freq)\n",
        "rfm = rfm.merge(df_up)\n",
        "rfm = rfm.merge(df_preferredDay)\n",
        "rfm.shape   # (4372, 6)\n",
        "rfm.head()"
      ],
      "execution_count": null,
      "outputs": []
    },
    {
      "cell_type": "markdown",
      "metadata": {
        "id": "U-mqyKUWr-e5"
      },
      "source": [
        "### Country-wise feature engineering"
      ]
    },
    {
      "cell_type": "code",
      "metadata": {
        "id": "2UDa8B-QsDpp"
      },
      "source": [
        "# 6.0 Make another copy of dataset\n",
        "#     And group on Country\n",
        "dc = data.copy()\n",
        "# 6.0.1\n",
        "grpd = dc.groupby('Country')"
      ],
      "execution_count": 290,
      "outputs": []
    },
    {
      "cell_type": "code",
      "metadata": {
        "id": "TSjAN89esNsB"
      },
      "source": [
        "# 6.1 Per country, number of unique customers\n",
        "dc_unique_cust =  grpd['CustomerID'].nunique().reset_index()\n",
        "\n",
        "# 6.2 Per country, number of unique stockcodes\n",
        "dc_unique_stock = grpd['StockCode'].nunique().reset_index()\n",
        "\n",
        "# 6.3 Per country total purchases\n",
        "dc_rev = grpd['rev'].sum().reset_index()"
      ],
      "execution_count": 291,
      "outputs": []
    },
    {
      "cell_type": "code",
      "metadata": {
        "id": "QhddlBwKwZx5"
      },
      "source": [
        "# 6.4 Country-wise merge all above features\n",
        "rcs = dc_rev.merge(dc_unique_stock)\n",
        "rcs = rcs.merge(dc_unique_cust)\n",
        "rcs.shape   # (4372, 5)\n",
        "rcs.columns = ['Country','TotalPurchases','StockVariety',\t'CustomerCounts']\n",
        "rcs.head()   # (37,4)"
      ],
      "execution_count": null,
      "outputs": []
    },
    {
      "cell_type": "code",
      "metadata": {
        "id": "0XWsLfd_1vmG"
      },
      "source": [
        "# 6.5 Scaling the data so that all the features become comparable\n",
        "cols = ['TotalPurchases','StockVariety',\t'CustomerCounts']\n",
        "scaler = StandardScaler()\n",
        "X = scaler.fit_transform(rcs[cols])\n",
        "\n",
        "# 6.6 Converting the numpy array into a pandas DataFrame\n",
        "X = pd.DataFrame(X)\n",
        "X.columns = ['TotalPurchases', \t'StockVariety', \t'CustomerCounts']\n",
        "X.head()"
      ],
      "execution_count": null,
      "outputs": []
    },
    {
      "cell_type": "markdown",
      "metadata": {
        "id": "TD6olucgaYcT"
      },
      "source": [
        "### Agglomerative clustering"
      ]
    },
    {
      "cell_type": "markdown",
      "metadata": {
        "id": "7TpFz2KjaZnS"
      },
      "source": [
        "#### About hierarchical clustering"
      ]
    },
    {
      "cell_type": "markdown",
      "metadata": {
        "id": "zNf3qP8ZTewc"
      },
      "source": [
        "\n",
        "In data mining and statistics, hierarchical clustering (also called hierarchical cluster analysis or HCA) is a method of cluster analysis which seeks to build a hierarchy of clusters. Strategies for hierarchical clustering generally fall into two types:\n",
        "\n",
        ">Agglomerative: This is a \"bottom-up\" approach: each observation starts in its own cluster, and pairs of clusters are merged as one moves up the hierarchy.  \n",
        "\n",
        ">Divisive: This is a \"top-down\" approach: all observations start in one cluster, and splits are performed recursively as one moves down the hierarchy.\n",
        "\n",
        "See this [reference](https://scikit-learn.org/stable/modules/clustering.html#hierarchical-clustering)\n"
      ]
    },
    {
      "cell_type": "markdown",
      "metadata": {
        "id": "yzIxGSZNUt-L"
      },
      "source": [
        "A dendogram with levels of clustering:  \n",
        "In the figure below, we start with 9 clusters. The closest ones are combined at the first level and then we have 7 clusters. The number of black lines that intersect with blue lines represents the number of clusters.\n",
        "\n",
        "![image.png](data:image/png;base64,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)\n"
      ]
    },
    {
      "cell_type": "markdown",
      "metadata": {
        "id": "sb8DTJDsXyQb"
      },
      "source": [
        "The linkage criteria determines the metric used for the merge strategy:\n",
        "\n",
        "- Ward minimizes the sum of squared differences within all clusters. It is a variance-minimizing approach and in this sense is similar to the k-means objective function but tackled with an agglomerative hierarchical approach.\n",
        "\n",
        "- Maximum or complete linkage minimizes the maximum distance between observations of pairs of clusters.\n",
        "\n",
        "- Average linkage minimizes the average of the distances between all observations of pairs of clusters.\n",
        "\n",
        "- Single linkage minimizes the distance between the closest observations of pairs of clusters.\n"
      ]
    },
    {
      "cell_type": "markdown",
      "metadata": {
        "id": "0XY8b1WmagEL"
      },
      "source": [
        "#### Modeling our Country data"
      ]
    },
    {
      "cell_type": "code",
      "metadata": {
        "id": "PRoOJFAcDkW6"
      },
      "source": [
        "# 7.0 Perform Agglomerative clustering\n",
        "#     Setting distance_threshold=0 ensures we compute the full tree.\n",
        "# Ref: https://towardsdatascience.com/hierarchical-clustering-explained-e58d2f936323\n",
        "#      https://scikit-learn.org/stable/modules/generated/sklearn.cluster.AgglomerativeClustering.html\n",
        "\n",
        "# 7.1\n",
        "cols = [\"TotalPurchases\", \t\"StockVariety\", \t\"CustomerCounts\"]\n",
        "model = AgglomerativeClustering(\n",
        "                                distance_threshold=0,\n",
        "                                n_clusters=None  \n",
        "                                )\n",
        "# 7.2\n",
        "model = model.fit(X[cols])"
      ],
      "execution_count": 294,
      "outputs": []
    },
    {
      "cell_type": "code",
      "metadata": {
        "id": "huipZSLK9n7J"
      },
      "source": [
        "# 7.3 How clusters have been formed:\n",
        "z = shc.linkage(model.children_,'ward')\n",
        "z"
      ],
      "execution_count": null,
      "outputs": []
    },
    {
      "cell_type": "code",
      "metadata": {
        "id": "B87REKVk-dxo"
      },
      "source": [
        "# 7.4 Draw dendogram:\n",
        "\n",
        "_= plt.figure(figsize = (20,10))\n",
        "dn = shc.dendrogram(z)"
      ],
      "execution_count": null,
      "outputs": []
    },
    {
      "cell_type": "markdown",
      "metadata": {
        "id": "55bK4FErYs4D"
      },
      "source": [
        "##### Looking at clusters"
      ]
    },
    {
      "cell_type": "code",
      "metadata": {
        "id": "x79BOSu5Ll1G"
      },
      "source": [
        "# 7.5 Add two more columns to \n",
        "#     our dataset: X\n",
        "\n",
        "X['Country'] = rcs['Country']\n",
        "X['c_label'] = model.labels_\n",
        "X.head(2)"
      ],
      "execution_count": null,
      "outputs": []
    },
    {
      "cell_type": "code",
      "metadata": {
        "id": "THuBF7mSPBYd"
      },
      "source": [
        "# 8.0 Define a function to show relevant\n",
        "#     rows, given cluster label(s) or nodes:\n",
        "\n",
        "def showData(label1,label2, label3 = None):\n",
        "  if (label3 is None):\n",
        "      return X.loc[(X['c_label'] == label1) | (X['c_label'] == label2), :]\n",
        "  else:\n",
        "      return X.loc[(X['c_label'] == label1) | (X['c_label'] == label2)| (X['c_label'] == label3), :]    "
      ],
      "execution_count": 298,
      "outputs": []
    },
    {
      "cell_type": "code",
      "metadata": {
        "id": "x-pcpdCjPvMN"
      },
      "source": [
        "# 8.1 Now display data, given cluster labels:\n",
        "#     Note that each value or datapoint is \n",
        "#     a z-score value:\n",
        "\n",
        "print(showData(10,24))\n",
        "print(\"xxxxxxx\")\n",
        "print(showData(33,34))\n",
        "print(\"xxxxxxx\")\n",
        "print(showData(0,6))"
      ],
      "execution_count": null,
      "outputs": []
    },
    {
      "cell_type": "markdown",
      "metadata": {
        "id": "qOnqEqufIiJ9"
      },
      "source": [
        "Interpretation of Linkage data with created dendogram OR given linkage data, how a dendogram can be created:\n",
        "\n",
        "![image.png](data:image/png;base64,iVBORw0KGgoAAAANSUhEUgAAA70AAAHOCAYAAABU9G7qAAAgAElEQVR4nOydd1hUR/v3Dx1EepHOsiAdQcpawQrYpajYC2CvUVSMSexdE0tMjCVqFMSGWLFrxJLYFQtlKQLSOyxlWfb7/rG/M+8edlETNXken/O5Li8v9rQ5c2buudvMUGBhYWFhYWFhYWFhYWFh+UKh/u0CsLCwsLCwsLCwsLCwsLB8Llijl4WFhYWFhYWFhYWFheWLhTV6WVhYWFhYWFhYWFhYWL5YWKOXhYWFhYWFhYWFhYWF5YuFNXpZWFhYWFhYWFhYWFhYvlhYo5eFhYWFhYWFhYWFhYXli4U1ellYWFhYWFhYWFhYWFi+WFij9yOoqalBTU3Nv10M1NXVoaqq6l8tg1gsxtu3b9HY2PivluM/jdraWlRXV//bxWD5C1RVVUEgEPzbxXgnIpEI5eXlaG5u/reL8l9LU1MT3r59C6FQ+G8X5R+jubkZ5eXlEIlE/3ZRWP7DqK6uRm1t7Uff57+tjX2q934XlZWVqK+v/6zPkEdDQwMqKir+8ed+DJWVlSgsLPy3i8HyAdTV1aGysvKDz/8n+tr7+KKM3ps3byIuLg5Hjx7FuXPncPLkScTFxSEuLg6lpaXvvV4sFv8lJTIiIgJTpkz5mCJ/EtasWYN+/fr9a89PS0uDj48PzMzMsGrVqk9674sXL2LRokUfrJg2NzdDLBb/5ef83evex7x58zB69OiPusdfbZf/ibx48QKxsbG4fPky412Sk5NJH6X/nT17Fqmpqe+9Z0lJCc6fPy8zQKampuL+/ft/u6z9+vXDt99++7ev/yd49uwZLC0tkZub+0nu19zcjGXLluH48eOf5H4fwqdQiv9uv338+DFcXV1hZmaGH3/88aPL8Xe5f/8+YmNjP6q9/hX4fD5sbW3x8uXLf+R5/ySf2sgSCAQ4e/Ys4uLikJmZKfecrKwsxMXFIT4+Hvn5+R9879u3byM2NhY3btz4LI7z5ubm944ZLetr9OjRmDp16kc/OysrC5aWlv8xbex9MmLEiBGYOXPmZy1D165d8f3333/WZ8jj0KFDcHNz+8ef+3fZvXs3zM3NYWtri4cPH/4rZWhqakJiYiKOHDmCrKysVs/7FHpZVlYWjhw5gtOnT7cqB+7cuYPY2FjcunXrg/Tg2tpaXLhwAUeOHEFsbCzu3r37UWV8F+vWrUOPHj3kHpNXPyEhIZg7d+5nK8+H8EUZvWPHjgWXywWHwwFFUdDR0QGXywWXy8Xjx4/fe/2WLVswbty4D35ecHAwRowY8TFF/iQsWrQIPj4+/9rz586dC2dnZ+Tl5SEnJ+eT3nvXrl3w9fX9YC9pnz59/pbiPmzYMGzduvUvX/c+Jk6c+NEOicuXL6Nr166fqET/PF999RW4XC58fHygq6sLX19f4oT6/vvvSR/lcrlwcHAARVGYN2/ee+/7888/g6Io+Pr6Mn6fM2cOeDze3y6vl5cX5syZ87ev/yd4+PAhlJWV3zko/xVEIhH69euHdevWfZL7vY+CggLweLyPLr+/vz9iY2P/8nUjRoxAt27d8PbtW+Tl5X1UGf4uERERMDU1hY+PD/T09D6JwfE+Xr9+jbZt237QePjfRFFREdzd3ZGdnf1J7vfkyRO4uLjAx8cHLi4u0NLSwv79+xnnrF69Gu3atYO3tzdcXV0/6PvV1dVh+PDhsLCwQOfOnWFlZYWvv/76k5RZmtmzZ2PhwoWtHr958yb8/PwYSmlgYCCGDx/+0c9OT0+HsrIynj59+tH3+hSEhYVhy5YtrR7v06fPRzum34ednR1WrFjxWZ8hj127dsHY2Pgff+7fxcDAAGvWrEFeXh7Ky8v/8efn5ubCw8MDjo6O8PT0hK6uLmJiYuSee/DgwY/S7Xbs2AEOhwMfHx+YmJjAwcEBKSkp5HhRURF69uwJGxsbdOnSBQ4ODkhMTHzvfS9evAiKouDt7Y3OnTvD2NgYgwYN+izZoEuWLIGTk5PcY4cOHZKpnx49emD8+PGfvBx/hS/K6KVpbGyEtrY2fv31V7nHi4qKwOfzGam4xcXFmDBhAtzc3MDn8xmR4ZKSEvD5fJlOOGLECLnCUiwWo6ioCIDEW9zSSywSiVBYWIimpibyW1lZGUkTqK+vJ896+/YtI5JVUVEhM7AvWbKEeFvevHmD4uJiue+dlZUFPp/P+E36WW/evHln6kFeXh4yMjIYXtO3b9/Cz88Pw4YNQ15enoxnRyQSkfLU1NQgIyND7r3r6+tl6h0AhEIhqRfpeq2rq2PUa3NzM7Kzs2FoaIhvvvkG6enpqKurI8fT0tJarZfc3Fy0b98eEydOBJ/Pl6kDPp//QRE1sVgMPp+PkpIS8ltkZCQGDx4MQJJqVFRUxKi/4uJiRiqtSCRCamoqSUmqrKzE5s2boaGhgZcvX+Lt27eMZ+bk5CAtLY3x24d+09LSUqSnp8vUeXl5ORobG9Hc3Iw3b94wIgIlJSVITU2V8ThWVlbKFarNzc349ddfSZtNTk4GRVHYs2eP3DJlZGRATU0NN2/elHtcmk2bNsHMzAwqKio4dOgQ+X3BggXw8/OTe+/WnDJVVVWkbfbo0QNfffUV43hFRQVSUlLe6XypqKggxzMzM2XSfkpKShjeXIFAQNqzdNuuqalhtG2xWIyMjAyGvHj06BHatm2L8vJylJeXt2o8VlZWIiUlhdEXxGIx6QslJSWkvVZXV5PyCwQC0gbz8vJQUFAg9/5paWnIyspCbm4ucnJyWo2oSPe/hoYGXLx4Eaqqqjh9+jSys7OJ3KitrQWfz5f5TtLlyc7OhkAgQE5ODoyMjLBo0SK5/Z2uz5bk5ubC3d0dU6ZMIf2ppqaG9MPs7GxG+66rq5Mrm6TT4LOyshjtPz8/v9U6AyQKgaKiIslouHnzJiiKwuXLl+WeLxAIwOfz8ebNG8bv0n09Pz9fRj7Q5OTkoLCwEHl5eTA0NHynQZKZmQk+n4+8vDxkZmbKrYuysjK51+bn5yM1NVVuO8jIyGhVjorFYhQWFjLG5IqKCvKcxsZG0k7LysoY/aO+vh5XrlwBRVE4c+YMsrKyGONQdXU1+Hy+jHwSiUQy8pjm/v37iI+PJ38PHToUpqam5Nz4+HiZ79VanUizf/9+KCkpke9UUVEh03cbGxvB5/NbHa+kycnJAZ/PZ3yj/Px8+Pn5wd/fH3w+X0YOVVdXY/v27dDR0cHTp09JWQYOHIjw8HAAkm/V2hSPtLS0dzq3+Xw+NDU18ezZM8bv+fn54PP5DDlWVFTESL8VCoUy/ba4uJgxhtXU1CAlJUXutKG3b98ydJycnBw4ODhg/Pjx4PP5cqNp/fr1k1HEy8rKkJKSgoaGBvJbQUGBzFhaVlbG+O7V1dVISUmReY6zszNWr14t8+yWfKjcLS0tBZ/PZ8g8aejvd+TIEZibm8scT01NlZuZIBAIkJqa+s5xrjVZVFdXx9A7pNtPY2MjUlJSWs24FAqFuHfvHnR1dXHy5EnS1+k+UFFRIZPRRbenlhkL9DXNzc0y+mpGRsY7ddyQkBB4e3uT77548WK0adNGpg+VlZVh/vz5MDExAZ/Pl2mzOTk5req6NCdOnCDOx8rKSmhpaWHWrFnkeGBgIHg8HqkzgUDwQVPlEhISoKamRq57+fIlKIrC9u3bGee9S6eh+5G89iUSiZCRkQGhUIj169ejQ4cOMueUlZUhKipKpn769OlDsioyMjJabWepqamfzRn9RRq99fX10NbWxr59+2R+nzx5MjgcDmxsbGBvb4+TJ08CkHhttbS0oKGhAS6Xi02bNkEsFiM8PBw2Njaws7ODubk5tm3bRu7XmtFbU1MDHo+H+fPno3PnzjAxMUHPnj2JAMvNzQWHw2GkbwQFBWH+/PkAJJ4aHo+HuXPnwsnJCYaGhti2bRtJVdHR0UFkZCQZ6JYtW0aUOHt7exgYGGDjxo3k3mVlZQgKCoKnpyfc3d0xaNAgIkASExPh4+ODyMhIaGtryxXMJSUlCA4OBofDgbW1Ndzd3XHnzh0AEqNOTU0NWlpasLe3J7/TvHnzBn5+fti4cSM6duwIMzMz+Pn5MZSfPXv2oH379uByubCwsEBUVBRRWg4ePAhnZ2cAks7m7u6OBQsWoFu3bjA1NYWvry8KCgogFArRs2dPKCkpwcjICPb29nj58iWKiooQGBgId3d3uLu747fffpN5v5CQEKioqEBPTw92dnZEkbl58yY6duwIDocDCwsLBAUFtep9/PPPP8m5lpaWWLZsGQBg8uTJxOi9ceMGuFwuGSSbm5vh7u5OIgjPnj1D586d4enpiY4dO+Lu3bs4f/48jIyMoKSkBBsbG6KUCAQCjB07Fh4eHvDw8EDv3r2JAn3p0iV07twZERER0NbWluthnjNnDjgcDuzs7GBqaoo1a9aQY1999RWCgoLQu3dv6Orq4sGDBwCAb7/9Fm5ubvDx8UGHDh1w6dIlck337t3Rp08fuXUjTVZWFiiKQkJCgtzjkydPhqen53vvA0j6rL+/P5YvXw5DQ0MioKOiohgpN3fv3gWPxyPfZsCAAYwB9MCBA7CwsICVlRVCQkLg6OiI6Ohocnzjxo1wc3MDj8eDs7MzQxmWZuHChejXrx8mTZoEa2trmJmZIS4ujhzv0aMHaRcAsHfvXtK2Gxoa4ObmRmSGkZERwsLCcP36dfTt2xfm5ubw8PAgCt3jx49hYGCAr776Cp6enjAyMkJQUBBjUPzhhx/g6uoKHo8HJycnHDt2DIBEPnXp0gWzZs2CmZkZunfvDkASNaXLd/z4cdLXHBwcoK+vz0j5Tk9Ph6+vL7y9vWFoaAgNDQ0MHDiQoSQCksE/ICCA9L+TJ08iOzsbHA4HCgoKsLCwQM+ePSESiXD48GE4ODjA1tYWJiYmGDlyJFEeT548iY4dO2LKlCnQ1tbGunXrEBoaCiUlJRgaGsLe3h7Pnz9HcXEx+vfvT57XMjoHAMOHD4eKigp0dXVJhsr27dsREBCAoKAgaGtr4+zZswAkkRI7OztwuVyYm5sjOjqaKFFr1qxBQEAAGSOsrKwQHx+PtWvXwsHBATo6Oti0aZPctuLv74+wsDDGb66urnLTLI8dOwZHR0dwuVyYmppi6NChRDG+dOkSPD09MX/+fLi4uEBPTw8LFiwg8rO+vh7jx49Hu3bt4OTkhDFjxsDExATPnz+XeU5VVRWGDRsGLy8vcDgcqKqqokOHDsRh9dNPP5G6sLCwQHR0NHlOU1MTZsyYAXd3d3h6eqJTp04kZbu6uhqjR4+Gm5sbPDw8GLJG+tl2dna4ePEi+W3ChAkYOXIkAIl87datGzZt2gRXV1cYGhoiKCgItbW1SEtLI+3J0tISvr6+RLFdv349bGxswOVyYWlpifXr15P7X7x4EYqKih+URjlixAh07NiR/N2zZ0/MmDHjvde15Mcff4SysnKrcxZ/++03ODg4kDqeMWOG3HUycnJy0LlzZ9ja2sLGxgZOTk5ISkoCAEydOhXq6urQ0tKCra2tzJiXkJAAY2NjKCsrg8PhYOLEieQde/bsifHjx8PKygocDgdXrlwh17148QJ+fn7w8vKCq6srwsPD5SrFLY3eyspKjB49GhwOBxwOB05OTuQ7L168GJ07dybXHjhwAHp6esQgKywshJmZGf78808AwL59++Di4gIejwdHR0fiPG1ubsaSJUvg7OwMDw8PREZGorm5mfR1emyXFylrafSuXbsWrq6u8PHxgbOzM06fPg0ACA0NRXBwMDmvsbER7du3J2XYtWsXo2wHDhwg536o0Xvy5El4eHggKioKjo6O0NfXxzfffMN45ty5c8HhcMDlcmFra4uDBw8y6r5r166wsLBAp06dEBQUBAcHB3L8zz//BI/Hg5eXF5ydnTF79myiR168eBEuLi7w9vaGt7c3Xrx4IVO+uLg4hiwKDg4mBuGFCxfg4+OD8PBwhi55+vRpkjXh6OiItWvXytw3MzMTjo6OUFRUhJmZGYYOHQqhUAh/f39MmzYNHA4Hzs7OEIlEqK6uxqhRoxjtSVoX6dOnDyZPnoz+/fvD3NwcXbt2xe+//45Ro0aRcf7333+XKUNVVRU0NTXJOAlIdHVFRUVcvXqVce7OnTuhq6sLFRUVcLlcklXx9u1bDBgwABwOB1ZWVvD29v6grBqRSAQtLS1SZ2lpaVBTU2t1WsW7OHPmDDQ0NBi6AB0Motm8eTPR5ZydnXHq1CkAEluhV69eJPPOzs4O58+fJ9c9evQIHTp0gJWVFXr16oW+ffuiW7duMmVorX4GDx4Mf39/jBkzBlZWVuByuYwAx9OnT9GtWzd4eXnBxcUFU6ZM+eRz4b9Io1cgEEBbWxt79+5l/D5nzhwYGRnhwYMHKCwsxPLly6GgoIBXr15BIBBg+vTp6NKlC4qKiiAQCNDc3IwTJ04gLS0NDQ0NOHLkCCiKIh4uaaO3vr4eT548QWNjI+rr62FsbAwul4t79+4hMzMThoaGJJc9OzsbOjo6uH37Nilb7969MX36dAAgXutRo0YhNzcXP/74IyiKQteuXfH8+XMkJSWBoigijNetWwdFRUV89913yM/Px759+0BRFO7duwdAYtQFBQVBJBJBJBIx0pjoZw0YMADPnz9HVlYWxGIxnj9/ThSr/v37w8XFBSkpKSgoKMD48eOhp6eHsrIyVFdXo3fv3hg+fDhKS0shFApRXV2Np0+form5Gfn5+Wjbti14PB7u37+P7OxsWFpaYtiwYQAkhiBFUdi7dy+Kiopw5coVKCkpYfPmzQCAX375Be3atQMgiQYYGhrCxsYGd+/eRWZmJtq1a0e8Y+Xl5bC0tMSGDRtQUlICsViMadOmkUE1PT2dDJ41NTV4+vQpRCIRKisr0aFDB8yePRvFxcVobGxEQUEBtLW1MWvWLBQWFuLFixfgcDgYOnQoAMng8+TJEzQ0NEAgEMDc3ByTJk1CYWEhkpKSiPCSNnqvXLkCPT094vUSiUSwtrbG7t27AQC9evUi6fLPnj3Dixcv0NTUhJ9//hmGhobIyckh0YoZM2agS5cuxCgYP348SfO9fv0645tmZmaSb1pWVgaxWIxTp07h5cuXaGxsxOnTp6GoqIhXr14BkKSrUxSFDRs24OXLl6iursZvv/0GU1NTEpXYvn07TExMyIA3ffp00r6lnwVIBGl0dDQmT54MKysrhkEpTWFhIZSVlRmGYkukPYCrV69Gly5dUF9fDwMDA2KUSRu9ZWVlMDQ0REREBAoKCpCSkgIHBwcEBAQAkAwuFEVh27ZtyM/Px8aNG6GgoIDly5cDkAzYBgYGRAE4dOgQ9PT0SHSEdqzQz6UoCps3b0Z+fj7mzZsHHR0dooB7enpiwYIF5F1+/PFH4oUXCoXQ0dGBnZ0dHjx4gOTkZKioqEBfXx/Hjh1DXl4e7O3tMWbMGADA8+fPoaioiH79+uHVq1d49eoV2rRpg0WLFgGQOLP09PRIRO/o0aPQ0dFBfn4+RCIRTExMYGxsjBs3buD169cy5aMjWZGRkcjNzcWhQ4dAURS5X9++fREaGoqamhpcvnwZOjo6xDlSVFRE5vNFRkaiU6dOACT9jzaEaK/+9evXiSMpKSkJSUlJqK+vR3Z2NrS1tfHTTz+R70BRFMLCwvD8+XO8efMGlZWVsLa2xurVq1FSUoLm5mbMmjWLTPXg8/n4448/AEgiyNL93cvLC9OmTSP9YdOmTaAoCgsWLMCrV69QUlKCa9eugaIo7N+/H0VFRbh48SKUlJSI43Pt2rWgKAqrVq1Cfn4+IiIiQFEUxowZgzdv3uCnn34CRVGkzxQUFJC6dnR0lJk3PmTIEAwcOBCAxDlERwru3r2LGzduoK6uDm/fvoWxsTEx3q5evUrqJScnB6dOnQJFUbh16xYAYOXKldDW1sbz58+Rnp6OPn36QEFBgXyf3NxckikSFRUFBwcHEkk1NjbGgQMHIBaLcfnyZVAUhYMHD5K6UFBQwI4dO0hftLe3J1GWJUuWwNHREYBEATI0NERjYyOKioqIklNXV4cnT55AKBSiqqoKhoaGDGdYSEgIBg0aBEDi5KEoCgMHDsTLly/x6tUraGpqEifE/fv3oaGhgRs3bpD2FBMTAyUlJZw6dQpFRUU4duwYKIoiSu39+/fRrVs34iwsKChgzEM9fvw4Zs2ahb59+8LV1ZU4nIRCIezt7bF06VKsWrUKY8aMwZo1a1pdMKiqqoq0vbKyMri7u8PY2Bg7duxgRAT//PNPUBSFHTt2oKioCElJSVBXVyeOKOn7FBQU4Pjx4yS7ZMKECfDw8AAgcTIEBgYiODgYxcXFRGl88eIFGd9+/fVXmJmZISMjg4wpY8eOhaqqKvbv34+CggKEhobC3t6evLO7uzsWL14MQBIl4nK5xKFaWVlJjNyMjAxoamoSx8qoUaPA5XLx/PlzFBYWYu7cuSQS9eeff0JRUZEo92PHjgVFUThy5AgAidPbyMgIDQ0NePjwIXR0dIjBcvXqVWhoaCAzMxNPnz6Fqqoq0tPTIRAIcPXqVTQ2NqKqqgoeHh6YOXMmeffm5mY8e/aMjF3SRu/x48dhZGRE0kz3798PfX191NTU4OjRo1BVVSXj2o0bN6CiooLi4mL8+eef0NHRIfMnL1y4gDZt2pC+9S6jV7qvJyQkgKIoREREIDc3F4cPHwZFUXjy5AkAieNZW1sbd+7cQVFREbZs2QKKoojjpkePHujatSvy8/ORlJREDAtAovPY2tqSgEhhYSHatWuHXbt2AQAsLCywatUqiMViJCUlEbmVmZlJynfnzh0ii+isEdqxR8uIwYMH49mzZ8jOzkZ2djYMDAxw9OhR0gbbtGlDjFQ6+1AkEuHFixcwMDDAqVOnyLdxdnZGmzZtcO7cOdI3x4wZAy6Xi+TkZBQWFmLOnDlQV1cnYzKPx0Pbtm1x/vx55OTkgMvlQl1dHd9//z3evn2LwYMHw93dndT/ixcvSORcTU2N6IiAZNwwNjYmWaPJyckoLS1FXV0dvv32W9ja2qKoqAg1NTVobm5G9+7dwePxkJGRgfz8fISEhMDMzIzoACkpKaScdKR02rRpcHJywogRI0gWxMmTJ2FmZobY2FhMmzYNY8aMaTVQAEhsivT0dADAuXPnoKqqiri4ONy4cQNz5syBjY0NOU7rNHR9xsTEQFdXF4WFhaisrERcXByKiorQ0NCAhQsXwszMjKwRYG9vj9DQUBQUFODcuXPQ1dVlZNVJ18+yZcsY9QNIphGqq6vj8OHDKCgowIABA0ikuL6+Hs7OzkTelZaWwsLCgrRXab3iY/ifMXoFAgF0dXVl0irNzMyI52nx4sXo2bOnzP1yc3Nx5swZ7N27F6qqqkSRkjZ6L1y4AIqicP36dQCAiYkJw2M0c+ZM9O3bF4DES2toaMiYYB4QEECMtwsXLsDAwIA0lIqKCqipqTFSqZydnbFhwwYAwNKlS+Hl5cUoM5fLxfLly9HQ0AAtLS0sW7YMJ0+eRHx8PCIjI6GpqQlAEinQ09NjpFLl5eWBoiisW7cOFRUVUFJSIl5kQDLAKSsrk4jXoEGDMGHCBHJ87969oCgKr1+/RmVlpYyBv3PnThgZGUEsFmPcuHEyqajTpk0jA/i+fftgYWEBQGIkGhoaMubwzZs3j+Fp4nK5+OWXX8jfGzZsgKGhISOCAEgGM+nBhMfjYcmSJeT4rl27oKury7jm2LFjUFdXR2NjIx4+fAiKopCYmIj79+9DTU1NbnqbdHrz1atXYWxsTOpaJBLBzs6OtNMpU6bA1taWUVf0c9u1a0ciTHV1dTA2Nsbs2bMRHx+PEydOIDo6GioqKmhqasKNGzego6PD+Kb5+fmgKIrxjgUFBTh79iz2798PbW1t4tWPiIgghgqNn58f+vbtizNnzuD48ePYvXs3KIqS6zEtKChgPKu4uBjTp0/H+PHj4eLigoCAAJk0ewD45ptvYGJi8s4VwDU1NUk/WrNmDYkK79+/H4qKiqiqqsJ3331HjN5Dhw6hTZs2jJS68+fPQ0lJCY2Njdi2bRusra0Zz/D29ibGX3BwMDp16oQzZ87g2LFjRAmhI4EURZF1AGbMmMGIWtCDKP2uPB6PGKWAJHLG4XAASJwourq6OHHiBDnes2dPRr9avHgxiTY9fvwY6urqjIyJqKgoEjkePXo0vLy8SLlphx2d2aKvry+TCSNdviNHjkBPT4+RJmpsbEwcEhYWFoyympqakvYzY8YMUBQFkUiEzZs3w8DAQKb/ZWRkMAZeGqFQiCtXruDUqVOwtbUlHuJjx45BV1dXJjXNzs6OGF6AZF0GAwMDXLhwgXEe/d1ow7xbt26MOY8rVqxgREQAidFFO0doJk2aBG9vbwCSDBvp6N/NmzehoqJC0sqqqqrQpk0b3LhxAwAwbtw4KCkpob6+Hq6urjLzp0eNGgV/f38AIJkJNM3Nzbh+/Tri4+PRsWNHEmW8ePEi2rZty0gltLe3x88//wwAcHJyYswZ5fP50NbWJgZK//79yVjQp08fxlx2Ho9HxpihQ4fK1MXEiROJnHB0dMSoUaOQkJCA48ePY+PGjaAoCoWFhbh06RLU1NRw+PBhRqoh7chISkqCWCyGqakpzpw5Q46PGDECQUFBAIAHDx5AR0eHkVY7f/58Mp8sNzcXbdq0IY47AOjUqZNM2mpgYCAGDBgAeURGRoKiKGIE/vbbb4iIiEBAQACsra3Jmg/V1dXQ09ODvb09Zs6ciaioKHC5XHh5ecmNfNLOD9oIrKysxMKFC6GtrQ1LS0tcu3aNPL/lOL5o0SLY2toCAJG5ycnJ5PijR48QHx+P2bNnM9JYQ0JCGFlolZWVoCiKONbPnDkDS0tLRmbGoEGDiDMakLRnQ0NDNDU14dGjR1BSUsLu3btx/PhxnDp1Cr169SIOpq1bt4KiKOTm5qKgoACamppISUlBbW0tVFVVce7cOXJfoVAITfPDkPMAACAASURBVE1NEgk1MTEhY3aXLl3A4/FI2UNDQ0m0f86cOeByuTh79iyOHTuG+Ph4qKur45dffkFBQQE0NDSwatUqGRnRuXNnYqwDEiOOoiii9/Xr149EuwcMGICuXbuSZxw8eBAUReHKlStobGyElpYWmUoTGRmJXr16AZDoLA4ODuS6EydOQEVFheib7zJ6vby8YGVlBUBidOvr6zPkromJCZG7pqamJCBAY2tri2+//RZ1dXVQU1MjDi9A0mbMzMwASByhampqOHToEI4dO4aEhAR07NiR9OuePXuie/fuMhFeT09P0gYBid5y7do1xMfHw93dHbNnzwbw/w19aT3ohx9+gL6+PhISEsgzTUxMyPShTp06ETlXXl4OY2NjRrYgh8NhLI5aXFwMFRUVMv4C/7890YZphw4dGN977ty5jH517NgxGBgYAJDYBRRFYc6cOSgqKoKuri4jC6axsRHm5ubYvXs3mpqaQFEUoqKiyLtJjxn01C3ptP68vDwoKioSR1/btm0RGBhI7r106VKEh4fD29sbPj4+5Nvt2bMHKioq6NevH6KiohAeHg6KovDDDz9AHr6+vuQ7X758GQoKCujQoQNMTU1BURQj2hwaGsrQaWJjY0FRFCODLTk5GadOncI333wDPT09NDU14eXLl1BTU2NMp1u6dClxIJSXlxPHMQBs27ZNZkz19/dnrJuUmJgIY2NjiMVi3LlzB8rKyvj1119JW+nWrRsJ5syaNQsURX30XO//GaM3Ly8PGhoaMukt3bp1I2nFUVFRDANMLBZj0aJF4HK5CAkJwcCBA6GsrEy8atJGb2pqKiZNmoSsrCwIhUJYWloyPDNLly4laYS5ubkwMjIikVhAInhpo/f8+fMwMzMj3q6qqiro6OgwUo06dOhAFmdYsmSJjOHYuXNnzJkzBwUFBVBUVERgYCBCQkIQGhqK4cOHE0XowoULMDc3Z8x3qqmpweTJk3Hr1i08efIECgoKjIYuFothaWlJ6nfAgAGMhnz//n2Eh4ejrKwMRUVFMDIyYnjPEhISoKenh8bGRvTt25eh2AOSAZTuLL/++ivD6DU2NmYo29999x1D8bSxscHOnTvJ30KhEKtWrQKHwwGPxyMOi4cPHyI8PJxE6by9vRkGSXR0NIlU0NDe3IKCAhQUFGDSpEnIzMxETEwMDAwM5M4VaWn0tmvXjsxXEYvFsLe3JwNjTU0N5s2bB3Nzc/Tp04d45mJjY2FsbEw89vn5+dDW1kaPHj0QGhqKkJAQDB8+HHPnzkVzczMuX77MaD+AxGM5efJkYnwsW7YMHA4HISEhGDx4MNTU1IgBO3HiRPTv35/xHh4eHnB1dSXPCw0NxdixY+UuHCMQCDB58mS5qWS1tbXgcrno3bu3zO86OjpEyW6NxYsXEwVp9erVjMHMwcEBc+fOxbp164jzas2aNaT90CQnJ0NVVRXV1dVYsWKFTDq1r68vEdy+vr5o3749471HjhxJokOzZ88mCsn06dOJEgRIUvs1NTXJgMPj8RiD8S+//MIweg0MDEj2BiBJBZo2bRr5e+HChWSBrsePH6Nt27aMOZw7duwgA19gYCBsbW1lyv3q1SuIRCIYGRkxnkWXj+4DsbGxaNeuHcMBYW1tTYwp2vi7dOkSabO0k+XkyZOYMWMGmpubIRKJsGrVKlhbW4PH4xE5kJKSAn19fcbc0tOnT8Pa2hoBAQEICQmBnp4e8frGxcXBxMREZi65ra0tQxFoamrC2rVrYWNjA29vb+JYfPLkCcLDw0naZJcuXYjcByT9oUuXLox7e3l5ySxORKc+0tdIO9xu374NLS0tUg/FxcXQ0tIiikxsbCzmz58PkUgEFxcXmYWG+vfvTzI9tmzZQpS9y5cvw8bGBn379kVISAjatWtH2icd0ZeOGLq6upJ+xOFwGPIwIyODMad39+7dpE3++OOPMDU1xdmzZ7Fz505oaGjg0aNHAECmwEizbt06uLi4AACsrKzA4/FIexs2bBgiIyOJArxnzx44OjrC3t6ejIuvXr3CpEmTkJOTg/r6evJsmpEjRxKj9/79+zA2NmbM8/r++++JoZeVlYU2bdowFE4bGxtGSh8gUZykHVPSHD16lJHuKQ29aB4daW3pfH316hUoipKZ3gNIshoiIiJk5ugWFRUhODgYOjo6EAgEGDp0KIYMGcI4Z+/evTAxMQEgGX8iIiJQWlqKsrIy+Pv7w93dHaGhofD29oadnR25LigoiBiLgES+zJgxgyi2J0+ehIWFBSMFctCgQRg7diz5+48//kDbtm1RV1dHHIXBwcFEnoSFhRGHU1JSEiIiIlBbW0vkXnp6OrKysqCkpCSTQm5ra0va6OjRoxEUFITHjx+ja9euSExMBJfLRXFxMaytrYmjbtSoUTAzM8OwYcMQEhKCkJAQjBw5kvTxxMREeHl5wdLSkrEoJY/HI4YKIHEAREREEGcUPSUFkKyy7ODgwJCbo0ePJvJ+xIgRJPvA3NycpBaHhITA0tKSXEeXje4/7zJ6t2zZgpUrVwKQtMGWjl8bGxuia7VMvwUkGWKzZ89GaWkpNDQ0GI4feuoOIAkgqKqqMt4tLCyM3LuwsBBjxoxBu3btMGrUKKKnbN68mZT90qVLsLGxgb+/P0JCQmBsbEzkx7lz56Cnp8dw/ERHR0NXVxfDhw8n9RIWFkZSZr///nsi5/Lz82FkZMRId7WxsSFjDiCJyiooKMi0Jzs7OxIRdHd3J5lagKx+HBsbCxMTE4jFYjQ1NWHmzJk4c+YMCgoKoKSkxHAaVFdXw9DQECdOnEBzczOmTp1KHDgbN24kmRCAxAGpoaHBcEQLBAKYmpqSb7Zo0aJW1zMJDAyEpaUlAJDMOmkn4dSpU2V0Uprt27eTsfLs2bNQV1dHUVERKisr0aVLF9JmAclUtJZtnNYNamtrERwcDGdnZ4SGhqJbt26krm7fvg1DQ0OGHFu5ciUxehsaGjB16lQiwzdv3syoH0CSITZ58mTy982bN6GlpQWRSISTJ09CWVlZpn3SmQjx8fGYOXPmR2+L+j9j9NbU1MhNeabnywKSqKG00kpH82ilVSwWQ1NTkyhurc3pra6uhoWFBRHWgKTzSxu9WlpajI7r6+tLPGbnz5+Hqakp8WhUVFRAW1ubMW/Bzc2NGL1Lly5lGH4AyPyluro6qKuryx2MAYmgkn5WS1JTU6GgoMCIPhYXF0NRUZGUp6XRK01ubi50dXUZgmTjxo1EOR85cqTMkucTJkwgCmjLSK+xsTFJlaHfXdposbS0lIlgARLjd/z48bC2tpa7zLyHhwdDQdqxYwf09PQY5xw8eBBaWloyixqcPXsWKioqjAWsaKSN3suXL0NXV5ehoEo7D2gqKyvRs2dP0hYPHz5MUrwBSaRXS0uLUQ/SnD9/HiYmJq0urPL69WtQFEUGfUDiTaYzCSZNmiQT1fHx8SFRgr+CvEViwsLCYGNjw/jtp59+gpqa2l/aU7Cl0Xvt2jXo6uqiT58+JJpz4MABmUjviRMnoK6uDpFIhB9++EFmoQ8PDw9iVPTv3x+hoaEfVJ7p06cz2jKtiNPyo2PHjgyjd+vWrcTDTxu90t7WgQMHMrZEi4qKIkbvkydPoKamxnA6zJo1i8iB4OBg0u5aUltbCyMjI4bzCJA1eqUdLYDEsNm9ezfEYjGZyzpy5EhERES8dxVmuv/Rg2Bqair09PSIM00kEsHc3JzRB7t27UoM07i4OLRr105mfo+1tTVJgZamqakJ4eHhsLCwYHx7GnlGb8sVv4cMGSLTD0aOHEk8z99++y3DUL516xbatm1L5msWFRUxjF5pBgwYQDIWaCwsLGScPmKxGE5OTowFToKCgki7SExMhK6uLsNp6ezsTNKfHR0dGcY1vXpzy0WGAEm0KigoCBMnTsTIkSMZ2T2DBg2SqYuwsDAio6ytrRnrSLTG2rVroampKWMAVlRUyETohwwZQuZQ0pFe6fY+depUkhGUnp4OdXV14igEJI7Mlg7Vnj17/q0VirOzs0lmDwC0b9+esVbCmzdvoKioyHBkfwj0IjNv377FrFmzZCK9s2fPJk4WaZYvXw5TU1Mylp0+fRqmpqbk+KBBg965E8WxY8dgaWnJGAsHDRrE0Gfu3r2Ltm3boqamBg8fPoSCgsIHLaSTnp4OTU1NpKamorq6GkpKSoxILx2RpFfFPXXqFDgcDiIiIhAZGUmcwXTAgR5vp0yZ8kG7VNAZBPS38PT0fOcK2dKR3l69er1zJefExESYmZkhJiYG5ubmZLwaP3480e/k8aFzeuXJOQ6HQ6ZAGRkZyUR6aV2vvr4eysrKJNsQkGTV0brW2bNnoaam9t4yvHnzBhwOh+FwBSSyiHYs0wwaNIhkndDprtJtZMOGDTJO59Z4+/atXKNXOpOHngIl3Z5qa2uhoaFBnM/u7u6MqSOLFy9mfJuYmBiYmJjILIBVU1MDTU1NYmQBkmlECgoKcuc3r127lmGEPnv2jJHRAUiyChQUFGT0b3l60caNG6GqqgpA4kBVVVVlzP2PiooiTsZ3cebMGairqxMHLz1tgs5qHDhwICOjQ5pdu3ZBQ0ODBHDu378PbW1tNDU1ITk5GcrKymSKDiBxxEunikuzfv16GSO9b9++iIiIIH9fu3YNWlpaEAqFSEpKIhl4n5Mv1uhVU1NjpLkCkrRNQ0NDJCUlIT09HdOnTyeRO0ASFaLnwb19+xbPnz8ni+7k5+eTuY50ilxwcLDcAbS6uhpGRkYMj5y0wkrP+R07dizS0tKwYsUKUBRFlJOzZ89CX1+fGC10erO0QmBvb0+UjFWrVkFBQQGLFy9Gamoq1qxZQ9KLAYnibmtri3v37iErKwuXL18mE/PPnDnDeFZLxGIx/Pz84OLigqdPnyI1NRX9+/eHo6Mj8ej17duX4VWWJj8/H1paWnB0dMSdO3fw8OFDaGtrE8GZmJgIiqLw888/g8/nIyYmBoqKikSA7dq1C0ZGRgAkirGOjg7Dw7548WKGUmBvb4/Ro0fj9evXqK6uxvHjx/H7778jNzcX06ZNg729vVyjt0ePHujZsydevXqF0tJS5OTkQENDAzNmzEB6ejpu3boFQ0ND4piQprKyEnp6ehg5ciTS09Nx7tw5MshKb1lEL+K0du1apKSkYOLEiaAoCocPHwYgMaofPXqE3NxcDBw4kFxHL0F/5coVMrcmMjISRkZGuHHjBrKysnDz5k0SuaM9rq2tlJieng6KonDo0CEUFhYiOjoaFEWRwWbs2LEyaf6//PILFBQUEBcXh6ysLDx+/BixsbEkKjJu3DiGMKPJzs7G6NGjceHCBWRkZODo0aNQUlLCd999R86pq6uDiYmJ3EV85s+fj379+skdJJYvXy6zB+Hw4cNBURTxbNKGx6RJk5Ceno47d+7A1NSUlJXu45s2bUJaWhqio6OhoKBAjK8TJ06Aoij8+uuvyMzMxPPnzxETEyN3FdDIyEiGEZSZmcmIcoSHh8PExAQvX77E6dOnYWRkROZbNTY2om3btozttgICAkgEApCkadFK/tOnT0FRFHr16oUnT57g5s2bUFRUJHtB0orf7t27kZmZieTkZMTExKC2thYNDQ3Q1taWcZp4eHgQQ/DQoUPQ0dFhKF/S8788PT0xevRoLFmyBFu2bMGlS5fk9qu4uDjcunULOTk5mDZtGumrhYWFUFJSwo4dO5Ceng6hUAg7OzuEh4ejpKQEcXFxoCgKS5cuBfD/5x21NHqdnZ0xfPhw0t9PnDiBmzdvIicnB7NmzYKtra3c/Vtbbku1dOlSUrc0dB3u2bMHGRkZZMVl2lkQHR3NMFJu3rwJZWVlMp4UFhZCRUVF7krk9Ny93377DXw+H1FRUWjTpo3cVXHd3d0xfPhwlJSU4PTp01BXVydlP3/+PDQ0NBiOODs7OxI5io6Ohrq6Oh48eIB79+6hS5cuMimyNGFhYejduzeWLFmC9evXIz4+nsh4urz79u0Dn8/HwYMHoaCgQJw03333HTQ0NHD+/HlkZWXh3r17pC0nJibiwoULyMnJIemOLWUTHf0OCAhAeno6SZelI49Pnz6FgoIC/Pz88PTpU9y4cQOKiookopefnw8FBQVs374daWlpEIlE2LNnD5nDy+fzydoYtBPizp07cHFxkTtPbP369Vi+fDlSU1Px6tUrDBgwAEZGRsRY//rrr6GpqYl79+4hLS0NAwYMgIuLC5qamlBYWIgOHTrIdUp+9913WLBgAR4/fow7d+6gW7ducHZ2hlgsxt27d0kKI5/Px8mTJxkpsi3L17ZtW+Tk5CAlJQXe3t4kIgxIjDAHBwe8ePFC7ore9LoPFy9eJGNKyy2Lbt++DWVlZRQVFZH+6e/vj+TkZGRmZuL06dNy95dOT0+HkpIScawMGTIEHA4HDx48QFpaGllQiG6zFRUVMDExYczlHTFiBJmrLl0ees2EjIwMvH79GocPH4ZAIMDjx48RFxeHN2/eIDExEcrKykRP69OnD/z8/PD69Wu5K7r37t2bGLoxMTFk7npmZiaePXuGw4cPk37Q0NAAZ2dnaGtrk0Ulpetz27ZtpGyHDh0iRrGtrS2JPubl5WH9+vVydS55cs7U1JQYfgsWLICWlhauX78OPp+PRYsWQUNDgziDvL29wePxkJaWhhMnTsDc3JxkE1VVVcHY2BgjRoxASkoKMjIyEB8fj5cvX6K+vh579+5FamoqMjMzZYxbQKILurm5ISwsDCUlJUhISICqqioZM+gFlKQdcGlpaVBSUkJUVBTS09ORlpaGI0eOyM0Qy8vLg7a2NsNoNzMzk9lKcsiQIbC2tibtKSwsDJaWluS5Tk5OjGlcCxYsYDg0f/vtN+jp6ckdFyIiIqCvr48HDx7g9evX8Pb2bnUf2r1790JRURF//PEHsrKy0NTUBE9PT/B4PLx48QKvXr0iiz22zB4RCASYMGECjhw5goyMDFy7dg0GBgYk04fOfBkzZgzS09Nx+fJlaGhokEDXzz//DC8vL5kADCBxIikoKDAizvb29kRHb6nTPHv2DEeOHEFTUxMZ4169eoXs7GwEBARAU1MTtbW1EAqFMDc3x+DBg5Geno59+/ZBV1dX7kJWgCRLU7p+ANkti65cuQIVFRVUVlaivr4elpaWGDRoEF6+fImMjAwkJCSQbIlPxRdp9NbX18POzo4IUJq6ujqEh4fD0tISHA4Hfn5+RDACkk7n6+sLU1NTEv3dsGEDHBwcyPyg7t27k2umTJkidwVHgUCAjh07MozUVatWkUWQAIkh0759e3A4HEydOhVjxowh3qlr166hQ4cOpBPTK1tKRwx69+5NIhzr1q3DpEmTMGPGDFhbW8u8e0lJCVktrX379nBxcSEpb1evXmU8Sx5v377FkCFDYGlpCVtbWwwZMoSxqty4ceNa3dw9Ly8PVlZWmDJlCry8vGBubo4JEyYwUmCkV0h1dnYmXk1AMgjQkdzm5ma4uroy5n2tXbuWEYE4efIkLC0t0b59e2RkZGDjxo2wsbGBra0tOnXqxPje0vz++++ws7ODlZUVUVKvXr0KDw8PcDgc2NvbIyoqqtXNwZOSkuDl5QUbGxs4OjoSh0RUVBSjk//8888wMzODg4MDoqOj0b9/f2LET58+HTY2NiSVkY5aNDQ0ICwsDIaGhsT7KhAIMG3aNFhbW6N9+/ZwcnIihuSNGzfg5uYmVyDS0PMtvL29MXHiRHTp0oW0r3nz5sk4McRiMTZs2AA7OzvY2dnBwcEBo0ePJgNHQECA3MhifX09FixYAEdHR9ja2pK55tIDzqVLl2BoaCh3pcLx48ejQ4cOco1eesVdaTIyMhgrkgKSCBy9Iq29vT3mzJnDmMu2b98+0ma++uorTJkyhRgNgCTt08HBgbx3UFCQXKM3OjqasbpnTk4OOBwOY9GgPn36wNLSEoGBgfjmm2+Ic0EoFMLZ2ZkhM8aMGcOIDK9atYo4Qh49eoT+/ftj1apVcHJygrm5OebMmcOIau7atQuOjo6k3IMHD0ZtbS2amprg4uLCWJURkDjH6GjEqVOn4OrqyvC6enp6knmZw4YNQ8eOHTF9+nQMGzYMpqammDJlisx3Wr58OVllVHpFX0Ayj9bAwAD+/v4QiUT4/fff0aFDB3h5eSE0NBT9+/cnkc/Tp0/Dzc1Nxgt8+vRpWFlZwdbWFunp6diyZQvp79Lp1C0ZPHgww/GyefNmmZR+QJLxQbdbV1dXRhbJhg0bGGlj9+7dg62tLTHoysrKYGdn12r0j5ZN9HzQ1rbpunPnDjw9PeHp6YmgoCAMHjyYOGWuX78OBwcHRnv09fXFjz/+CEAy5o0dOxYmJibw9PTE9u3b0bt3b7mrNy9fvhxWVlaYNm0aRo0aBScnJ/To0YMo4C3rQnplbKFQiMWLF4PD4aB9+/ZwcHAg0ekDBw7A3t4ednZ2cHNzY8jvlu/p4uoKaxcXTIyMREREBGb8n5PxwaNHMDUxwcwFC+Dm4wNzc3MsWLAA0mrr8lWrYGhtjd7+/mR8WfX992SlW48uXXBCKn366s2b0NHVJREQaa5fv45u3bqBy+WSlUqlz6uvrye6hI2NDQYMGEDkV05ODvT19WUyeACJQ9vLywtGRkYwMjLCgAEDGFubHDhwgKze7OTkJLPNCE1lZSX5Rj179sTEiRMREBBAHE/Pnz+Hi4sLTE1NZfQgQOJkGzt2LIyMjEjWwIQJExj6zIMHD2Bra0sM/devXyMgIIDoER07dpT7LbOzs8HlckmabWlpKUaMGEHqKjAwkJGCC0gcgsbGxsRAj42Nha6urkwqb0xMDFxdXcme7r1790ZtbS3++OMPdOjQAXZ2dmjfvj1jl407d+6gffv2sLKyYkwRoxk9ejTDAbZt2zbSXuk0UGl9ZcWKFdDS0mJkQgASp7WLiwtsbW3h4OAAf39/Ytj26NGDGG+0o186YkYjT855eXmRFbgbGhowY8YMWFlZwcbGBl27dmXohSkpKejcuTOsra3h7++PLVu2IDAwkLSLBw8ewM/PD1ZWVrC3t4e3tzdu376NpqYmDB48mOxsMnLkSLnZf7dv30bHjh3h6elJsonotNorV67AwcFBZpoXnXZOj79dunRh7EdLU1xcDBcXF8ZaNzweT2br0bKyMtKeuFwuAgMDGXXZp08fRtbJypUryTQJQOLAc3V1lWv0VldXE12Zw+EgODi41a3vysvLERgYCGNjYyKP37x5Q9KUbW1tMWzYMLlbQwGSMadDhw6wtbWFtbU1pk6dyqi7u3fvwtPTExwOBw4ODozMkvXr16Ndu3ZyHSdXrlyBtbU1I0q8Z88e2NnZkfvv3LmT6DT04lQNDQ0QCoWYMmUKHB0d4evri0mTJqF3796kLfzxxx9wc3Mji7quW7dOZhcCmoqKCpn6CQsLY2RYJSUlwc7OjjiHkpOT0adPHyJjvLy8ZNYD+Vi+SKMXkDReeWltgGTAeNceeCUlJYxrq6qqGHtM0sfq6upaXU67pqaGcY/6+nqZfe+EQiFjfictWEUiEUOJEYvFqK6uZnRSgUBABGN9fT05Rq9Q2Np7015bmpbPehelpaVyo4f19fWt7heXm5sLQ0NDPHv2DA0NDe/cp624uFjmmwmFQkb5WtYrvXqyNAKBgCGwa2pqWhVc0rRWvpb7BL6L4uJihkElr25qa2tJJ29sbGSc/662WVpaKrMlTHV1NVlpj+ZDv2lNTQ0RjI2NjaRdvOt70nsNt7x/Q0PDO9NS6JVb5fWX2traVtPmhEKhzDtLH5P3XVrrl8XFxa3WS11dHfn2IpFI5v2bmppQVFT0TudQy7bY3NyM6upqmQiodBr8u9q2QCBgvHtjYyN5X5FIRJ5VXV3dalq4vHKLxWKZZ7V8XlNTk0xd0dfcvHkTqqqqDDmyfft2suBFS97V/8rLyxnPoVd8p6G/g7zySJdbur/X1ta+t78LBAJGG5Gu25Y0NjaiuLhYRklq+b3l9buamhq5yhVNXV3dB+3HCoCxZyf93Na+U0vnXElJCXnf2tpamTIVFRVBSUmJ4ZR49OgRKIpiRJ9bqwvpctG7H0hDyw2519XVAf93fjOA4lOngP9rh7UFBcDdu/jzjz+gb2GB4nv3UHPvHirod374EJCKZFacPo0aWoYXFgKvX6OusRHFZWXAs2eAVLsQl5ej9h39GZDIXHnTVsjzKirkHhcIBK3uWQ1IFPd39dni4uJWHazSFBYWknbbsv2KRCKyi0FrlJaWknbRUm62No6UlpaiuLhYbmYH0LrcKy8vb7Uum5qaZMaA1py29D7jLeuvubkZRUVFcseuxsbGVnUPeeMFvV+wvHFJLBa3Wja6DC3LVltbS8bHuXPnonv37nL7wof2Z2mdVB7Sx+R9Q+n92aVpTcdryYfKopZlet9e1i3lpbx3p2mtPdHZTDQt9Rl5bU3evT+kHgCQXUukKSkp+aB9u+n28q7yFBcXy7RpeTqK9LHq6mqZfl9RUcGo23fpNCUlJaSNt5RldP+jeZ+uKV0/Lcfd1toMLWPeJbv+Ll+s0cvynwE916m1KAYLC8t/FykpKTA0NMSoUaOwc+dOrFy5EhwOhxEdZ/nvoqamBm5ubujVqxe2bt2KDRs2oGPHjhg5cmSrxs0no6QEoKM5V64A+/cDv/0GNDYChw8DMTFIWrkSBqqqKF29WnKsoAB49Aj45RfJP4EAOHFCcu2ZM0BtreT3XbuAV6+A3Fxgzx7gp5+AqiogMxN4x9ZoLCyfgzdv3sDFxUXuHFEWFpbPD2v0snxWqqqqsGTJkvcudMPCwvLfQ2pqKqKjozFu3DhMmTKFsbAIy38npaWlWLt2LcaOHYsJEyZg375974xSf1L++ENioP7f4ka4fRtYv17yP4CcjRtxyMNDEr0VCIAdOyRGLAC8fAls2ADQ6frnzkn+plMo9+6Vd3inLwAAIABJREFUnF9fLzF+f/wROHAA+IBIDAvLp6SkpERuWjMLC8s/A2v0srCwsLCwsPy7lJYC0unxLY1S6VS32lqJEUvTcv6h9LUNDYB0Cl1FhSSKzMLCwsLyPwVr9LKwsLCwsLCwsLCwsLB8sbBGLwsLCwsLCwsLCwsLC8sXC2v0srCwsLCwsLCwsLCwsHyxsEYvCwsLCwsLCwsLCwsLyxcLa/SysLCwsLCwsLCwsLCwfLF8cUavUCjE6tWr4ePjg7Vr1773/MOHD2P+/PkAJJs3jxw5Ei9fvvykZSosLMTly5cZG2az/D0aGhqwYsUK8Hg8bNy48b3nHzx4EFFRUQAkW3KEhoYiLS3tcxfzLyEQCFBSUoIm6ZVL/wf5kH4yYcIEXLp06W/d//z58wgPD/+7xXsniYmJmDhx4me59z+BWCxGeXk5iouLkZeXRzamZ2FhYWFhYWH5EvjijN6YmBgoKChg69atSEhIgFh6mwM5LFy4EC4uLgCAvLw8qKio4Pr165+0TIcPH4aKigpyc3M/6X0/lvXr1+PUqVOf7H55eXmYNWsWyj7j/ocHDhyAiooKduzYgYSEhPeeP2/ePLi5uQGQbAxPURTu3bv32cr3V6iqqsKMGTNgZWUFAwMDODg4IDo6Go3/o9tpxMTEQFVVlfSTvXv3Yvfu3YxztLW1sXPnzr91/x9++AH6+vofXU55bN++HTo6Op/l3p+b/fv3w8vLC/r6+rC1tQWPxwOXy0V+fv6/XTQWFhYWFhYWlk/CF2f0zps3D927d//g87/99lt07twZAJCfnw9DQ0PcunXrk5apvr4eBQUF7zXA/2nc3NywYMGCT3a/5ORkUBSFnJycT3bPlkybNg3+/v4ffP6SJUvQtWtXAEBubi7atm2L+/fvf67ifTBCoRC+vr4wNTVFfHw8kpOTcejQIQQHB6OgoODfLt6/Qst+EhwcjMGDBzPOMTc3x8GDB//W/fft2wdra+uPLaZcDh48CAsLi89y78/J9evXQVEU+Tdz5kyUlZXB0tISr1+//reLx8LCwsLCwsLySfiijN5169bB0NAQ2tra6NSpE86fPw9AYoyNHDkSPj4+CAgIQGJiIrnmfUZvbGws+vTpAx8fH0yaNAlv3rwBAOzcuZORKnn37l30798fpaWlACRGTXBwMB4+fIiMjAyMGzcONTU1ACSGeWxsLBYuXAgvLy/Mnj0bVVVV5F537tzB0KFD0b17d3Tq1Al+fn44duyY3HeOiYlB79694e3tjfDwcEY0OTIyEidPniR/Hzp0CDNnziTHNDU1YWZmhk6dOuH27dsQCoWYOnUq7t27h7Fjx8LT0xNLly6FUCgEADx9+hSDBw9mlHXMmDG4cuUKMjMz4erqCkVFRbi7uyM4OJhcR1NWVoY5c+agW7du8PHxwZQpU1BUVESO7927Fz169EDfvn1x5MgRmXddsWIF9PX1oaOjg06dOpE016dPn2LEiBHw8fFBv379cOXKFXLN+4zeQ4cOkfqLiIgg9bd161ZMnTqVnJeUlITAwEBUVFQAkKRZBwcH48GDBxCJRPjmm2/g6+uLoUOHfpBRfeDAAVAU9c5U67t37yIoKAg8Hg9DhgxhRKg3bdqETZs2YevWrfDy8sL48eNRUlKCU6dOoVu3bggICEBycjI5f+nSpUhISMC6devg5eWFYcOGITs7GwDQ2NiIlStXokePHuDxeAgLC2OUa9asWThw4ADGjBkDPz8/0o537tyJvn37ws/PDxs3bkRzc7PMO6xcuZJMHwAkKcaDBg1CfX09AKCyshKDBg1CRkYG0tPTMW7cOAiFQixbtgx6enowMDAAj8fD0aNHAQBcLhdr167FggUL4OnpicWLF5N7taS+vh6LFy+Gp6cnwsPDER0dDQcHB3K8vLwcc+fORY8ePRAYGIgzZ86QY9u3b8fy5cuxd+9e+Pj4YOjQoQwjsKGhAUuWLIGnpycmTZqEJUuWwM7OjhyvqanB0qVLwePx0KlTJ2zYsIFRPwkJCejfvz+6du2KLl26wM/PDw8fPkRlZSXGjh2LhIQEdOrUCV9//TUaGxuxZMkS+Pr6gsfjYfz48UQOAZK+fOzYMcyaNQuenp5YvXo1qqursWbNGlK+1rIvZs2axTB6v/76awCAg4MDUlJS5F7DwsLCwsLCwvLfxhdl9D558gT+/v5wcnLCiRMnkJOTAz6fD21tbYwaNQrHjh3D/PnzoaSkRAymdxm9P/30E5SVlbFhwwYcPXoU3bt3B5fLRX19PRITE0FRFPLy8gAAX3/9NSiKQnx8PACJ4aqgoIDCwkLcvHkTGhoaKCkpAQD4+PhAVVUVixYtQkxMDNq2bUuM0YyMDOjq6mLN/2PvvKOiuN4+PtgQsaJi74oliQU71kQTe4+JsZdYojEaNYnG3msSo8YasSGC9F4UAcGCUi1IU3rvZYEFdr/vHw8zu7NFwdeUn7mfczi6M3Nn7tz6tHtn/364u7ujffv2GDVqFGJjYwFA5C0+efIkatWqhSNHjsDCwgImJibo1q2boJR27twZ+/btE67fsmULevXqBQDw9fVF165dMXPmTNjY2CA1NRV5eXmoX78+jIyMsHfvXly+fBl16tQR1sR6eXmB4zhR2GOzZs1w8uRJFBYW4tixY9DV1cWpU6fg4eEhCPl8niMjI7F06VKYm5vD3t4ePXv2xMyZMwGQMtSoUSM4OTnBysoKx48fF9Lx9wkKCsKoUaPQu3dvWFtbIykpCREREahfvz4WLFiAmzdvYu3atahRowa8vLyEd9am9B4/fhy1a9fG0aNHYWFhgSFDhqBbt26QSqWwt7cHx3GCUr5x40ZwHAdnZ2cAgI+PD3R0dJCTk4O9e/eiZ8+e8Pb2xqlTp2BlZfXGtjp58mQhX5p48OABdHV1sXr1aty8eRNLlixBnTp1EBISAgBYsWIFOI7D4sWLYW5ujs6dO6NLly4YO3Ysrl69itGjR6Nr165CqPSECRNgYGCA5cuXw9zcHAMHDkTPnj1RVlaG/Px8rFq1CufOnYOjoyPGjRuH3r17C2uM+/fvD47jsHz5cvz++++QSqU4fPgwOnToADc3N9y6dQtdunTB5s2bhfzzdXb27Fno6uoKivKSJUvAcRz8/f0BALa2ttDV1YVEIoG3tzfq1q2LzMxMBAUFYejQoRg2bBisrKwQExMDgJQxAwMD7Nq1C5cuXULt2rWxc+dO4bnK/WPZsmVo3rw5zMzMsGPHDtSrVw8ffvghAKCiogJjxozBxIkT4efnB1NTU+jr6wvtZv369eA4DrNnz8b169dhYmKCHj16CIaclStXomnTpjAzM8OuXbugr6+Pnj17Cu/+2WefoVu3bjA3N8fZs2ehr68v9HF/f3/o6+vD1NQUTk5OaNCgARYsWICsrCwkJiaC4zgYGhpi9+7dsLW1RUZGBpYvX47Lly/DwcFBUJJ5OnfujHr16mH37t24cOECateujR49emDx4sUwMzND8+bNta5l5sct/u+nn34CABgZGTGll8FgMBgMxnvDe6X0AqScfPzxx8Lv1atXC2s6ecaNG4fRo0cDAHbs2KGm9N6/fx9yuRwtWrTAoUOHhHQFBQWoVasWzM3NIZPJYGBggMuXLwMgpaJ169b4+uuvAQA//fQTBg8eDAC4ffs2WrRoIXiB+/bti+XLlwv3PXDggLCu2NTUFJ06dRLOHT16VMhfXl4eunbtijNnzgAAWrRogcOHDwvX5ufno2bNmrh+/ToAoHfv3jh69Khwfvfu3Rg4cKDwe+TIkdi1a5fwOysrC3Xq1BGFjx48eBDNmzcHQMJ6w4YNkZaWJpzv1KkTTp06BYAU9vr16yMjI0M4f/LkSXTr1k3N0ySRSHDs2DEh3NTMzAz6+vpqob1RUVHo2LEjHBwcAFB9jh8/Xji/dOlS9OvXT5Rm9OjRwjU///yzmtIbHBwMmUyGZs2a4ddffxXS5eTkQEdHB9bW1igvL0fjxo0Fj/PYsWPRqlUrfPPNNwCA77//HsOGDQMALF68GP3790dFRQVex/Lly4XQ7OHDh2PJkiVar504caLoPQHggw8+EDZLWrp0KYyNjYVzZ86cQa1atYS6CQsLg56eHqKjowEAn3zyCSZNmiRc/+LFC3Ach/v374ueUVxcDBcXF9StW1eox379+mHq1KnCNRKJBE2bNsXZs2dRWFiIwsJCHDp0CK1atQJAkRUdOnSAv78/CgoKoKenJxiZhg8fjlatWmHLli0AgIULF2Ly5MkAyKhiaGgovMPixYsxf/58Uf5at26Nbdu2Cb/XrVuHAQMGAKD227lzZ1y9ehVSqRR6enqidd/btm0T2pufnx/q1auH8PBw5OfnQyKRYOTIkfjiiy8AkNJrZGQkpH3y5Alq1aqF1NRUFBYWol69eqIoil27dgnhzX5+fuA4Di9fvhTOX79+HTVq1IBUKsXPP/+MESNGCOdWrlyJhQsXAgBiY2NRs2ZNmJmZQRPFxcUwMzNDw4YNBQ93p06dRN70qVOnonfv3sLvo0ePol27dhrvFx0djfbt2wtKL2+4YEovg8FgMBiM94n3Tun99ttvRQLloEGD1Lwc+/btE5TMnTt3qim9jx8/Rm5urshjyPPRRx8JIYAzZszA559/jszMTBgbG+PcuXPo0aMHpFIp+vfvL+wefevWLZHS269fP5Eyeu3aNSE0MigoCM2aNUNQUBDy8/MxfPhwfPXVVwBIKevQoQPOnj2LnJwc1KlTR23TrX79+gmKrKrSu2fPHpHSa2JiIigfACkNjRo1wr1794Rjbm5uqFu3LkpKSvDgwQONSi+/sVBoaCj09fVFwv7x48fRsWNHZGdnQy6XY/fu3TA2NsaQIUPQqVMnfPjhh5DL5ZBKpVi0aBFatmyJuXPnCveIjIxEmzZthA23li1bhrFjxwr3HzhwoKCI8uzevVsQ+rdu3aqm9D59+hQZGRmoWbMm/Pz8RGm7d++OPXv2AAAmTZqEuXPnIi0tDQMGDMDZs2fRs2dPSKVS9O3bF8eOHQNAisqIESPQvn17bNmyRfBqqrJkyRLB2DJy5EhMnz5d43V8ue7YsUN0bNWqVULbXrhwoUgRtbS0RKdOnQTv7JMnT2BgYCAoLiNHjsS6deuE64uKimBgYIBr164BAC5cuID+/ftj6NCh6NWrFxo0aCBEJvTu3VsUMRAZGQldXV307dsXQ4YMwZAhQ9C3b1988sknwrNbt24ttM1hw4Zh3bp1iI6OxtChQ4WQbKlUis6dO+PSpUsAyDhkaGgoeNfnzp2LL7/8UlQGbdu2FRlljhw5InhYs7Ky0K5dO1y9ehUpKSmoW7euKEz74sWL6NixIwAKpa9VqxZMTEwwePBgDBkyBEZGRsIa9zVr1oiMZwkJCdDX10dkZCQSEhKgq6srUgovX74sKJYnT56EoaGhyAgSGRmJOnXqID4+Hk5OTmjXrh3i4uKQkZGBzp07C32WNxypKpy//vorjI2NMXToUBgZGaFFixaC0tu5c2ecPXtWuHbFihWYMWOG8PvkyZMiQ5oqKSkpOHbsGAYOHIj169cDYEovg8FgMBiM94v3XukdPXq0muC8bt069O3bF4BmpffRo0eQSCSoVasWXF1dRWnbt28veH+vX7+OLl264NixY5g4cSKKiorQsWNHmJqaon379sKnjzQpvfv37xfuefnyZUEYDwoKQteuXTFmzBgMHz4c06dPFymZvCCdmpoKXV1duLu7i/LXoUMHwXvZq1cv/P7778K5gwcPCl4xABgyZIhIscrKykKDBg3w8OFD4ZiFhQXq168PmUwGPz8/NGjQQFjXCoiV3pCQEOjr66ttZMXn+cKFC2jQoAH8/PyQl5eHCxcuoGvXriLlIDg4GJMnT0anTp2E5yivDVZVekeMGIEFCxaInrd69WoMGjQIgGal98mTJ4JX/Pbt26K0LVu2xG+//QaAvO5GRkY4cuQIpkyZAolEgg4dOuDSpUto06YNIiMjRWnd3d1hZGQkUjiUkcvlQtjvunXr0LRpU43rYAFSvn/44QfRsVmzZmHixIkASOnl/w/Q2vMOHTqguLgYABkgDAwMhDyOHDkS3333nXB9dnY26tWrBx8fH4SEhKBGjRqwsbFBbm4u7t69i4YNGwrKZ58+fbB9+3YhbUJCAmrWrAk3NzcUFBQgLy9PeC6Pcp398ssv6NevH3bv3o358+cjOztbVI58uLyq0jtnzhzMmzdPdN+2bdviwoULwu9Dhw6J1unySn9UVBRq166NJ0+eCOeUN7K6cuUKGjdujKysLOTl5SEvL0+U5zVr1ojGkbi4ONSrVw/Pnz9HWloaateujdDQUOH85cuXBU+vqakpGjZsKPoEVWBgIGrUqIHMzEy4u7ujQ4cOGDduHExMTLBo0SJIJBIApPTq6+uL7m1vb49atWrBw8MDubm5cHBwgIGBgVDmnTt3xokTJ4Trv/76a9EGYMePH0fnzp3xJvbv348VK1ZALpczpZfBYDAYDMZ7xXun9K5Zs0a0ezO/bpMX/uPj49GwYUPs3bsXAIU88mHIKSkpaNq0qbDecMCAARgzZoywLvLatWvgOA7Pnj0DAGRmZqJ169Zo1qyZoAjPmDEDzZs3h4mJibC+8NatWzA0NBSFNyt7zpSV3mPHjqF///64ceMGLl68qHUHVblcDmNjY3z66adC/q5cuQKO44Q0gwYNwrRp0wCQN9LIyEi0jnTw4MGCF7yiogI5OTnQ1dXF559/LgjhQ4YMETxez549A8dx8PT0BABcvXoVOjo6MDU1FZ0PDg4GADWFbv369ejWrZvwe9GiRejYsSNkMhni4uIEJff+/fvgOE5Yx6zM0qVLMWbMGOH34cOHUbduXWHN58uXL1GvXj3hG75btmzB0KFDAZDSq6+vj8DAQKEeJkyYICg7Fy9eBMdxQltJSUlBq1at0LRpU8GQMHnyZBgaGgoeW4C8eLzivmfPHrRp0wZyuRwhISH48ccfkZOTo/YefHjx4sWLBY9qYmIiTp48ifz8fPz4448wNDQUwr3DwsLAcRyuXr0KAFiwYAEmTJgg3M/c3Bzt27cXFKGQkBA0adJEeJdJkyahbdu2CA8PB0Ae0lq1akEikcDc3Bx16tQRlSmvoAHk6VUOKZbJZOjVqxdmzZol1HFpaanWXaejoqLQpEkTNGvWTGgro0ePhqGhoSjk+vbt22jevLlg5Jk7dy5GjRoFQGE4adOmjegzRgcPHhQpvTx8CPbatWsB0Oe0BgwYgC5dugAAXr16BY7jcPHiRSFNTk6O0AZXr14tGkfi4uKgp6eH0NBQVFRUwNDQEKtXrwYAJCcnY/DgwUIf5u/Ne1/Ly8sxdepU9OnTBwB57MePH49r167h2rVrok2pYmJiUK9ePZHSe+TIETRp0kT4/eOPP0JfX18U3qxs3Fq2bJkQMg7Qp5p4T69MJsOOHTvg5OSkVmZbt27FypUrmdLLYDAYDAbjveO9U3pXrlwp8mYWFxdj1qxZaN68OQYMGID27dtj7ty5KC0tBQBs3rxZEEZTUlKgp6cHHx8fABSm2aVLF3Tt2hXGxsZo3bo1zp07J3rehAkTwHGcsDnS2bNnwXGcaHMdDw8PNGjQQFB6e/ToIVpLe+HCBbRs2RIArbGrV68e+vbti8GDB6Nr164YPXq0aJdjnrCwMHTu3FmUP2WFwNnZGfXr10efPn2EXWKVBflz585BV1cXffr0ga+vL8rKymBoaIiBAwfC2NgY3bt3R6dOnQQlXy6XY+HChdDX18eAAQMwYcIEGBoaCp7e0tJSjBgxAgYGBpg2bZrarrrPnj1D586dMXLkSEyYMAEffPABevToAUARBj1kyBC0bdsWmzZt0viJp4ULFwpraQFSbqZPnw5DQ0MMGDAAbdu2xaJFiwRFlt/lFyAPZY0aNQRPdmBgIDp16oRu3brB2NgYbdu2FSlBADBmzBhwHCdsIHXixAlwHCfy1M+bNw9GRkYYNGgQ2rRpIyimv//+OziOE3kblbG3t0ebNm3QrFkzdOrUCW3btsXw4cMhkUhQUFCAjz/+GK1atcKAAQPQunVrkaf2yy+/FCn/V69eRfPmzYUyDw0Nha6urmAAmTJlCrp27QoTExP069cPjRo1EtpyRkYGBgwYgH79+mHKlCkwNjaGgYGBoHwaGRkJGxzxBAQECH1j6NCh6N69u9o1yhgbG4PjOME4sWvXLnAch9OnTwvXeHp6on79+sJzXVxcoKenh169eglrXA0MDIQ17QAZGbR9hsjc3Bz169dHvwEDMHDIEMyYMUO01vX3339Hc0ND9OnfH4MHD0b37t3hUrmz+/Lly0VLAWJjY8FxHB5XtgNLS0s0aNQI/QYOxMCBAzFjxgx82KcP5Er3btK8OfoaG+ODDz7Ahx99hGeVSqSbmxu4mjUx2MQEAwcORKdOnTDziy9QWlaGuLg46OjoIFhp5+2EpCT06t0bgwYNwuTJk9HH2Bit27UTDFOt2rXDL5XRCQAwf8kSjBs3Tvj9y/HjaNGiBQBAWlYGjuMwZ84ctfJiSi+DwWAwGIz3lfdO6Y2MjNT4yZj79+/DwsICjx8/Fh1/+fKlcL1UKoWPjw/y8vKE80VFRXB0dISlpaXoc0DK6T09PQVPVH5+Ptzc3EQbN+Xk5MDX11cId3z48KHIi5mcnCyso120aJEoHLuoqAh6enoiT44yhYWFr81fTEwMLC0tERcXh4KCAgQEBKiVi5WVFfLz85Gbm4vGjRvj3r17wnHlsuC5c+cOHBwcIJPJEBYWJnz6hs+Pra2t1m8dZ2dnw8LCAj4+PigoKBAU0IqKCvj7+8PCwuK1n/yJiIgQPLXK8GmDgoLU3p+v89LSUty5cwcFBQXC+YKCAjg4OODmzZtITk5Wu29MTAw8PT0Fj2ZeXh7c3NxE3tuCggK4ubnBwsJCtIY0MzMTPj4+ap9uUqawsBDu7u64efOmWt4BwNvbGxYWFmqK87NnzwRFHKBwdz8/P8FQwO+GzCtGI0eOxMaNG5GQkABLS0u1CIKSkhLY2dnBxcUFhYWFCAgIEBTohw8fitZp80gkEjg7O8PCwgL37t1DUVGR1vcMDw8XrY/PysqCm5ubaP1zTk6OWnmFhYXB0tJS8CL7+fmJ6unVq1dqm3FByVgSGRMDy4sXERUSgnKZDA+CgoCsLKCyPuMSEmD5xx+wsrPDk2fPUCGRAHl5iIiOxuPQUCA3F5BKUVJaCi9fXxQq9duoFy9geeYMIl+9QgWA+56egFIZxAQEwPLGDbi5u6OsvByorItho0bhp+++E/IQ8fIl6nMc/Ly8UFZejjt374qeAwCF8fGwsreHh5cXClNS8NDbG+WV6e85OCBByVv8zNcXYZVLK1BSgsTwcPgpldF9f39Rn+XZsmULli9fDrlcji5durDv9DIYDAaDwXhveO+U3v91Jk6ciMGDByMwMBBRUVH4888/0ahRIyHk+q8kIyMDNWrUUFvnyvjfR9OGbu8tMhng4ED/VlQAZmZA5S7rSE4GDh4E+F2d79wBTp8GeIPRxYvAb79R2oIC4OhRoHKzLzx7Bhw6BPAGHXt74Px5QTHGpUsAv6FUeDhw/DjAb5Tm7k5pIyMxZPRoHDAyQvQPPyA6PBw3fvsN2xo2RMbx43RtWBhdy/f569fpXpXRKTh9GuC/Y/30KXDqFMB/m9rBga7l19WfO6fIEwBUflJNE9u2bcOqVasgl8vRs2dPtTXrDAaDwWAwGP+rMKX3X0ZCQgKWLl2KAQMGYOjQoRgzZozwbdi/mry8PJiYmLzW08r432Tp0qWikOz3ngcPSDE8fx54+ZIUyfPnSQEsKgLs7Oi3lRV5YP/8kxTEoCAgPp7+f+YMkJMDeHvTtZcvAyUlpASfPw/cvk0KL39tbCwQEkLnzp2j+9ra0m9ra/p96RKyDx/GD5MmYYaxMTY3a4Z97dsjMiAA8PEBLlwArlyh51y9Sve5cwfIzlY8Jz6e8nn+PP1JJHT/8+fpeUVFdJ+zZ4EnT4CYGHq/69cVirQGMjMzhdDyuLi410YoMBgMBoPBYPwvwZTefykymUzYoIrBYLwFERGk9PEEBwNJSfT/8nLg3j1SLgEgIwNQNvaEhwOV3zgGQEo0v2t5YSFw/74ijDo2VvycoCCgckdqlJXRc3gvbVqacG2ZXA48f07eZ+Xn8EsKCgroOTyvXpFnlycwEOA3D5NK6Tn8mJGaSud5nj+nd2IwGAwGg8H4D8KUXgaDwWAwGAwGg8FgvLcwpZfBYDAYDAaDwWAwGO8tTOllMBgMBoPBYDAYDMZ7C1N6GQwGg8FgMBgMBoPx3sKUXgaDwWAwGAwGg8FgvLcwpZfBYDAYDAaDwWAwGO8tTOllMBgMBoPBYDAYDMZ7C1N6GQwGg8FgMBgMBoPx3sKUXgaDwWAwGAwGg8FgvLcwpZfBYDAYDAaDwWAwGO8tTOllMBgMBoPBYDAYDMZ7C1N6GQwGg8FgMBgMBoPx3sKUXgaDwWAwGAwGg8FgvLcwpZfBYDAYDAaDwWAwGO8tTOllMBgMBoPBYDAYDMZ7C1N6GQwGg8FgMBgMBoPx3sKUXgaDwWAwGAwGg8FgvLcwpZfBYDAYDAaDwWAwGO8tTOllMBgMBoPBYDAYDMZ7y/++0hscDPj5iY/J5YCTE3DuHGBmBlRUiM+HhwOXLwMnTgDR0VV/Vnk58OQJ4OOj+byvL3DqFBAQUL13YLwboqKAP/4ArlwB8vI0X/PwIXD1KpCe/vfmjfFmEhIANzegqOjt0nt6Ut0XF4uPFxQAXl7Aq1fa01pbA1ZWNHYo4+ICnDypuc+XlgKPH2vu78XFgKUlpb1zR3wuLEwx/pw4AZw9C+Tmqt/j/n1qz05O6mPY301JCXDjBo1vYWH/bF7+zfj6Up1dvQpkZb2be5aXU/lXF5mM2lVenqL95ObSX07/IaT3AAAgAElEQVQO3beqSKXAtWvUv16+rH5eXkdpKWBrCxQWio9HR1Of1tT2nzyhtujuXv3nOTpSv1SVG5Tzc/UqcPu24lhFBWBnR+X2byAigsYNOzv1MUuZ9HQaY/5NffbFC+on1cXXl97l8mWS4f4OysuB69cVfVrTOP06ysqAmzeprQYFvZs8lZRQPrKyqG9nZ1O7lEhIHj5/HnB1fTfPepekptL8LpP90zn5+7h/n8aaP/7Qrjf81cjlinG/rIyO5eUp5gGptOr3kslITrpy5d31wdBQ6h9//gmkpWm+JjiYytDaWjwXOjgAFy4AFy/SeFiFce5/W+nNzQUaNgRWrhQfr6gAWrYEmjQBpk1Tr9RduwCOA/r0ATw8qvas06eB9u2BmjUBExP187/8AujoAD16ALVrk4DA+PuwsQH09YEuXYDmzYHevUmJUiYlBahXj+r+nxqAGOrcvw988AGgqwvUrQskJVX/HkFBVK8cByQn07HSUmDmTMDAgI5fvKg5rY0NnW/cWDEhl5YCs2ZRm/rgA6BWLWD3bkWaffuAVq0o3ezZ4vslJwOdOgFNmwIffUTvtW2b4vzGjZRuyBBg6FBg2DAgNlZxvrgY+OILSte1K41jyuf/blJTgf79gWbNACMjqiMLi38uP/9mDh6kOuM44N69d3NPa2uaz44epXZZVVJSgI4dqR3OmUPzYJ8+9Ltp0+qPgV98Qe915kz10r2JzZvpvrzA4+FB7ax2baB1a3Wl18mJznXtqt63XkdxMTB5MlC/vqJPHzqkft2OHZSfkSMVx6RSGh/mzn27d3zXODnRPNegweuvy8wExo4F7O3/nnxVhS1bSE6qLgcOUPvlOGDPnnefL02UlAAzZgCdO9Nzg4OrnjYri2RFAwN63zp1SGH//7JvH/XfZs0UfblpU2DCBMDUFGjUiOaffxtOTlQG/xUuXiT5YfBgmuO/+eafyUdeHsnDTZvSWFBaCowerWg3ZmbVu98331Bf2Lv3/5+3o0fpXj17Am3aUD+LjFScLy8HVqygdtO5M+l7jx+TgXTMGHqPbt1onvjkEyAk5I2PfK3SK5fLkZmZiZCQEAQEBKCgoEB0PioqCiGVD0lLS8ODBw+Qn58PAMjLy8Pjx4+RU2kZDQwMRExMjJC2sLAQz549w6NHj5CYmCh65tOnTxEWFgaJRAIAiI2NRUhICHJVrWw7dgA1agDx8eLj5eVUgCdPan6xHTuA7t1f9+okePPCM0AW1cOHgREjSFhVJjmZFN7Dh+n3zz/TBKlquX4TcjlZtyvLUI30dCAuTvM5qZQaizaPQGIiCUGaKCoiL6k2b9KrV9q9Fjk52i3/Mhndt7rlAFDHjIzULuQlJIitQt27k1DGp23aFNi0SZzm889JSNLXfztLc0UFvY82T2RKCpWzJkpK6H14S5sqcXHavc/5+dQuNFlI5XIgJka7ZzszU7vCVF5O76PqGa0KxcWUVpu3KDaWnq2JvDzKM++hePaMDFFr1gB6etrbqTbkcmDAAOpzzZop+m1ZGfXJX38lIdnUVD1tfj4pFM2aURvi+8Dt2zQYP3hAv01N6XdqKv02M6P79uxJyrEy6ekkTPPj1YED9Hy+rDZtIgNaUpLm/jxnDtChA3mzALpPdayxALW3qKjXt7eMDM3n8vPF9XP4MCm6fPtcuZLKrLq8qb0lJ2uv+6q0N21jVF6e9jGKH3NV5jaB9HT1+YWnrIzypDpGxcXROFNVpVcuJ6t5cLD6X0wMvdcPP1D769aNjDTakMnofYqKqKzs7RXGIBcXOtesGbUxfhwLCSHFc+1a9aiEtDQSsteuJU+/vj55knjs7YFvv6X0fF/RxMuXmr1kiYlkSFZWXB8+JIHqq6/IsKQ8L0ml1HfmzaPfN27Qu0VEaH82j5MTXcsLRqdO0e/sbMU1YWEkUzRtCkycKE7/5590/Zs8dpmZ6v06MZHKcfVq4PhxuhffrsrKSEBes4aM53xb3L+fZJUDByjt9evA999T1ApAnsfWrYFHj4DvvqMyU+4/trZUbwcPiutGIqH7HjxInpI1a8iQody3pFKq5zVr6Pna+o9qH6iooAiXH36gtH/8Ie4f586R4tqkCZXF6tXaFcFXr8R1w9O9O80XqoSGUjv89lvyrgI0Dv74I7B9O52Li6N637mTypJv776+wPr19KcpeiAigvr065TewkLxPH36NLVt3vi+aRMJ7dWN2uHljkp5GEuXUhk8fEjt8dQp4KefqM0CpEh060bt5dtvSXZVJjWV5ie+3lXlTRcXSrdlC9VXaKi4HLZvp/NmZtrnF9U+4OQEfPopzYNLl1K9//ILjW27dlH/NzenawMD6X22bFF47h4+pPJbv56M5NpQljvu3aP7WFhQO1y7Vn1M5vvlmjUKQ65MRn1v+3byHgLU/jdtonyqGgtV+wAfEdqjBzBwIEU2qMp+/v7Ahg309+iR4nhcHOVz+3Zq/5aW1G5DQymfe/eS8f3wYfK2bthAZaMKLxfm59P7BAbS2M0b/+PiyEH06aeKcTkqisaFb7+l+lKmoAA4dozK6cYNmkP271ecv3WL8r1xo/ocolo/yvO0jQ21U57GjWns4NmwgcYKvt4KC6kcL12id8nLA5YvByZNoiiQKvBapVcqlcLW1hZubm5wdXXFzp07Ea8kADx58gQ//PADNm/eDFNTU5iZmeFm5WCTnZ0NS0tLLF68GGfPnsWNGzdw8uRJpFUqKr6+vrC2tsbdu3exf/9+eHt7AwBkMhkOHDiAb775BsWVwpGnpyemTp2KdGWloLwcMDRU97Lw59q2JaFUEzt30qDwOnr3Bvr1Uz++YAFgbCw+5uZGVmO+swUHV98qCFDH4jiajDQxeTK9s6aBxsuL0traqp+Tyeh9hw/XfN8zZygtL2Qrk5tL77Z8uea0a9dSWk1hX+HhdO733zWnfR3OzpRW0wRUVkb1++mnimOhoQrF7/lzyrNyp+S9eadPk8D+Np5evl4vXNB8fuhQ7RZsKytKq0nZLi2lQWT6dM1p9+yhtJqE76QkOrd1q+a0c+aQN0CTonH/PqWtrqUPIIGL4zSH9hYVkTeFF0xV4T07vALJY2VFQkJ1ld7Dh6m+z5yhclRNX15OAsuff6qnXbQIaNeO7tG+vULRy8kRWw03bBD3cZ6RI4GpUzXnKziYBBBjY/E1P/5I79+0KZXTtGkKwSMmhspg+nSyYn7++duF4ltY0DMCA9XPFReTN2DOHM1pd+6ktPxzExIUSoVcThbVnj2rnyd/f7qvNq9Tz57UhzTBT3JPn6qfKyig+l22THPaTZsorSalKyaGzh0/rjnthAlkQNXErVuUVjVa6MWL6im9JSXkDWjRQv1PeUyIigK+/JLax9Sp1H9VBehnz8RjVFQUtbN+/YC+femYkZFCsLhxg6zogweT5ZzjSPABaPxu3ZqunzCB3klHRxHFtHSpoh198glF0Zw+rf5+GRl03y1b1M8dO6Z9bDt6lPKu/I5pafT+t27Rb6lUXRHXRlaWWID/5hvKs7LQb2wMfPYZCeXKnl6AxjV9/Td7bGbNIu8en++wMJq3u3Wj+uQjT6ysaGwaMYKUoalTyTPfvTsJh19/Tde1a6eIKunVi8bz1FSa0+rUoXMTJpAQ26YNtT+A+sz06ZROWZAsKqLrOY7S8t5vPmIuO5s8Ux060PjYpw/l+e5d9XfljYP8PC2V0vg2e7YiUmb2bMW4ykdCNGxIeZs+XbOclpNDxofvvlM/162bOOoGoDmscWOqu9mzyXjKG3b4CIVevUgp3bCBfnfvTu3o2DEq02nTqCx0dUl4VyY09M1KL++14pXc5GRxCOiUKVSm1Q3v5eUOfp7euROYP5/KtFYtegcHB2pHAPDbb1R2vXop6pmf+wIDaZ7r3x9YuJDay0cfKebMffuoTX31FbVH5fHA0ZH64+jRdL5RI/Ic8sq4MrNnk7LC9wEzMzJM165NeZo+neSAtDR6PsfRHHzpEhksDA3pWGgoGUVq1iT5ddQoejdNbYafB5Ysod+3blGb4DiaV0aNonfjlebHj0le6NmT6p1/bwAYN47S/fwz5d3entodx5FsqgzfB9zc6HdaGvXFGjXIWNy8OT2Hlzl//ZXOjRxJdVazpiJ6JjpaUWc9egAffkj19dFHFLXGcYroL/6ali3V5ZLMTLFcWFZGba93bxpPAOrjCxcqykpfn+aIceMoT2vW0LnkZOor7dpRG27YUDxnbtpE48esWcD48fTOfJtRpqyM+pmmaJnz5+k+TZrQkhaAxgC+T3/2GSm2vOOUN+Y+ekTz0GefaY7a0UCVwpuLiopQWFiIw4cP49KlS6Jzf/zxBzYpedRkSh06KysLkydPRpySxUf5fGlpKQoKCuDp6YmNSoNMYWEh1q5di8JKD+HFixdho2rdjorSLqzwSu8vv2h+oaoovXfuAJWKuIg5c2jAUMbRkSZPXuniBym+8qpKSQlNhNrWGT98SGs1NK3hyc4mq5C2mPhbtzRPWgAJHDdvavbIVlRQA1MWFpR5+pQUbU3WS4mE7vs2oZkZGfQ+mryFcjlNspqESm9vqosxYxQW8/R0GkQXLiRhoV49hdBUHQoL6X1Uw6Z57t4VrwNTJjWV3keTcUAuJ+uqtrXgUVHULjR5vaVSEn54QUeVwECy2mmaaPPyKE/KEQ1VJSmJ0mryMMtk9ExNChdAebWxUTfeXLlCk3h1lN6ICIWBIziYBlxVATozU7PSyystdnYk/Ddvrtmjuno1XXflivq5YcNIWNLEpUs0KXEc3YOvAwcHYNUqMs6EhlJ75CenO3foen19svYOGkSTcnXXOfPtTVPUiExGE/fjx5rTRkVRSK1q/eTnk6FJV/f11nZt8O1N2xjl5aU9AiMpSfsYJZPRGKwttCk8XPsYxY+52jxZDx4ohBlV+DFXdYwKD6+e0svfKy1N/U9T/f32G7WRGjXU8yaR0PvwfSAsjIRTd3cSOM6fJ8Xuhx+ofhs3Ju8JDx/REBNDysIHHyjagbs7PdPamtoOx9GY6uhI/adtWzqm6nEvL6fy17QGbNYs7VEDe/eSsKhcb6mpVLa8t7Oigt7h6FHtZauKTEYGEo6j+uM5fpyOvXhBZTJkiPq4aWKiPv+r8vixWDAeM4YEfn5siY0lZfP+fTJO6Ooq9hsoKiIjw6JFVP+1a1Pb3LyZ8pOSQnl8+JDGkRo1FM8qLSXhePJkcX769BErvQAJi7VrKzzAe/Yo6mHvXnrGrl00L/FG8Y8+Upc9+D6gLWpkzx56jnI73r5dYYDRBi93aDLEqyq9ubnUBj78kPLi4EDGQo6j/wPAxx9TPQDkUeTzlJ5O1336KbVRa2sqZ44Trw8MCXmz0vvypeZ5WiIhZaFWLc0y5Zvg5Q5+2U95ObWl1FRSTq5fp3bKP3fvXpJ3ePln9GiF8WzsWJpvzp2jdrN1K70rPwYsWUK/N26k+fL338kbWlpKBpmOHel5jo6kbHAc3UuVwEC6v3J7cXERLyHicXam/nDtGt1v3z4yoq1fT+2gTh1xKO0vv9B1qnIlPw8o19GcOeLITENDhXI0bBgpwnx++DHNyYnGz0aNFJEk335LDq/x49XfVbUPyOU01xkbU7RITg79VVSQ7KijI9ZN9u2jfszLYfyYtnQpGajz8mguefqU2lBODjmhJk4k+YHjSJZQpqyMZCzeWJ2XR2PptWukRO/bR21+wQI636WL2AjOO52CgqgttGyp6MPBwdR//viDyonjyEBiZ0ftnzdiqOox/F5LqpEyJSUkQzVpQsozP4/HxVH7rl2bPPbjx5MhODOT6mz7djLm9u5N7ftdKL3x8fH47bffYGpqips3b2LRokW4oiL4nTlzBve0TO7R0dE4pCEjxcXFMDU1xenTp2FpaYkdO3bg+++/F11z7tw5mJqaoqysDCtXrkSJatgub9HWFML8LpRebcybRyELyvj6ijsh70GLinq7ZzDejosXaVBYulR8/OxZqo+WLWnQ1tGhzvI2YdeMvw5zc8WgXlV4L1779mS11tGhyUA5VK+wkAQWVaV1yhRK26ULTQg1a4q9OLm5dE39+to3zBkxgiywr4OfQLQZNaZMUQhkL14oQtYAmjjeJmrkXRMZSUJlt27iNTcMdaqr9JaUUDtq3179j1+yAZDC8803dO/Ro8nD/KYNrsLDSWjMySFPSuPGJDjs3ElCDMeRB54nJ0fhuevdmyJ5eORyupeDAykIHEfCyIED9HfuHHlltIWKa2LaNO2e9IMHyRClTFYW9VM+ZDM/n8YMZeX1dWRlkVegUSOxAlJeTusg+RDyBg2onFWN6qNGUblUh44d1SNxeAVl7lz1yLFly8jzHhlJHsvCQvJ4Tpyo8OCEhZFS2LixOO26derRRh99RB4rZXx8SPnhDTa//EL5BEjh1tMjQ8LevcCRI6QAaYoiUyUnh8KGR40ib99HH9G8qxxptGGD5ii6qmJkJI7i4gXvyZMpr/v2KTbG4Y3BvIzm5kb1y8sIPj50fNkyEpr37SMl//x58d4SfJ9WVS7exKtX9K7Ky1XeFdnZ1BdU2/7eveI2MGWKwoPZpQud+/VXuu6336iceGNjcTGV4ahRVM7t2lHUUFmZYtzh28WJE5RWm0NEFXNzaq+qnuH0dMUSIx0d8ibXrKnYfJI3RPHwx5THLW1Mny4eQzt1UoTBNmpE76qMoaFivbiREeWJ40gh09UlRa+qDB2qvvSJj3ZSNszzugyvDBYUkDdV1TETEEBG/fJyMjbOm6dwsCktHdVIcTGNaQ8eUHupW5fqdsUKOl+rFkXv8cjlNAZYWJByrCrjNGlCcnVAgMKof/Ag9cszZ6hdVHcjR7mcvPmffEK/+bGOjxAqK6Pf1taKNMnJ5JmeMOHdKL3ff/89bit5rnbt2oVrKhs0Xbx4Ef5aGl9qaioOHDigdvzy5cvYq2S5cXNzw4YNG0TX5OfnY8OGDThy5AjM+Vh/ZUpKyBuiKez2r1B6c3PJ8jBxInle4uIUE4ZEQs+bNo0aMD8xKntKysrIquvoWL3nvq+4uVEo3LvYlVYqVYQsrVpFHSE5WeEdS0khQ4SbG3VMHR2yFCsrRsXFlJ+38QC/j9jYaF4D+1dQXEz9iQ91fPSI6k/ZIlxaSoOsqvL56hXVraOjQgG+dk1hYU5OpolBR4fqPi5OMemGh1Naa2uaQPT0FOtRnjyhfl6/Pt07O5vaEX/frCy6V9++NEjHxSmU9Xv3aNCPiyND2MGDlK9nzyjdmDEkAMTFUeRG3bqKNY1lZRS+NH48Cb18WlWrtp0dPePv2AnT2ZkEhO7dyRqemanu2Sks/Gd3qPw38SalNzKS2jof3i+TkTDi5aX+FxJCc8+BA9ROWrbUviGbJvhlL97epCC2bk2/t2+n8yYm1N54T8LHH1Moa14eeRf19Um5josjhYo3NCcm0rlZs6hf5ORQ37x+vXqbbW3fTgKXcnsqKqLnff89CWqvXinKSi4npbVnT+qjK1dSH1UVsOLjSbBX7jdBQfSujRvTXJCVpejTMhmNE/fvU98cNoyUQGVvX1kZCcHalm1oY/lySufoSO/16BHdw8qKooN4r2psrCKM/+hR8ubq6FC9rFlDQjQvIDs6KtYYb9xIZeThQf2UN1TwewZ06UJ5UJZZLCxIsQgMpPf64QdqW9nZZNTgOBL+Cwqorq2s1MM6NcFvchMbS/eaNYvarbKhbPNmymdkJL3/5Mlv3uCpooLyERdHsta6dYr3KS8nYbldOxqfJBIqY1NT8brS0aNpjK9bV+GFys2ldIMHK/br8PWl/OTmkpwZF0deSh0dKoO4uKpF3ty6RUabjh2pXWVmqi9VKS4mJUFbhJg28vLoHTmOFFc+OkoqJQNJmzbU34uLyaA2bhyVy+bNimgNiYSUyatXFVFZS5ZQv0lJof7VtKliycn06aTs+Poqdoq+dKlq6+kBeia/xCssjPoAb4z5+GM69+OPVEe1a1P/LC+nMO2+falug4PJ6dS+vfZ9THiKiui+n3yi8Ji2aEFlUFZG3tt69ch4FBOjaLv8GtkFCxRe3nbttC8BVKW0lMafDz9UyAaJidSGCwupPw4aRO/y+DFFYnTtSufy82mcqluX5lN+7w25nPKpo0N9a/58khH4aDVtUZw80dGKaLfiYoU3dtUqOj9rFpXN7dtUn7Nn0/WpqZQPHR0aA+LiSHbmONKjcnLIUDBmDOWroIBkqCtXtO9NxCOVkkzn60vl9eAByRh8pAqvBBsbk7GJHxtV59U5c0gxfxdKr4uLC44dOwZXV1c4OTlh5syZ2LJlCzIrB04vLy+sW7cOhw4dgqurK4KVvBEvXryAqakplixZAldXV7i7uwvhys+fP8fevXvh6uoKFxcXrF+/HtOnT8dzFSuamZkZjI2NIdW2icvKlTQpqjZ+fiMrfhG6Kjt2VH/3wM2bSRioX586ioEBNTyee/docGvYkCZk1a2zc3Io3fDhr//EwH+B8nKa9GbMeDdlERlJE3idOmRRbd6c6kfViufmRoOXnh51JGVPLx92oi1U9b+EREKDC28F/KtxcqL6atSI6qZJEwqrVA4b5UO5VDeX4bl0iQR6PT1a+yGT0cTWrx/dT0+P+qaBgbplfNs2GvCV1+vxO7g2bUpCloEB9W9eOF+5ko7p69OfgQEJYgBNDm3a0LEmTcRjUVERTfaNG9P5xo1pclVuiw8ekFGuUSNqy6pr4iUSUhSWLft7xpLJk6lvtGxJYWgGBiRAKsMvN+HDpf7LpKaS0KJN6V2wQH0t6eu4eZPmua1bq/fJlNJSElj19KidubhQ26xblwQWgBSjSZOorTVsSOMiL/QVFQGLFys2iBs0iOq/YUMSbPz9SVhr0ICuad6cxs/qRNBERFC7UfagmJlRG2vQgPJuYEDKOe8tjI+nEOMGDajPa/o8C28AUw6l5481a6bo00ZG6vLD7Nl0rmFDsaeXj9iormE0P59kBb7PN2lC5cwrGmfP0rxkYEAC5PbtNHYNG0bvP2YMKbL6+tTn27Shd2jShMat7t3p/02akNJSXEwKQ7dudM969aiseJlFKqXxVU+PFJmwMBrn6tUjjw2g2PuiSRNqG61bk1f/TeONhweNuQsW0LM+/ZSeM2SIIiohOpoUl0aNKE/Dhr35M48JCTT+qr7PokV0Pi2N2nH9+ooy/vBD8X1v36Y55Ouvxfd+8oSUXj4tn6fMTDIu8uM0348MDKr2dY7Zs2ncbNGCys/AgMpB2dDPyx1vihZSZds2xbzWqBGFz5eXkyLVsCGV0aFDpCjxc5SpKc2L332nKPvGjcn7yW8mNGgQ1buhIbUJExPFeJCbS15TvuwbN6a2V1WFPS+P2luDBpT3nj0VG45t307HCgvJMz1kiKKtRUWR8tiwIeV72DDNezuocvWq4t3t7MiAXK8e3ef+fRofV62i92zShHYHVpYNzp+ntGlpVGbt21dtQ8m7d6l/KssG/MaVAClw/Dr+Ro1oLuWNQseOievVwIDk5OxsRZ+dM4f6af36ND7r61N/0rZBpFxOczgvA126RHmsW1exbjc3l6IBGjem5/booVieWV5OBki+b/Tvr9B1LCyoLvr0ofw0aULl+fHH2pcx8ZSUUFg0f99GjWisU/605IsXZPBo2JDurWmt8FdfkVGninsHvVbpBYCUlBRERj6FRJIGubwcUVFRqKigSS0iIgIxMVFISopAdPRTJCitdczMTEV4eDgSE6MRF/cU4eHPIZUqLMBFRUUID3+KzMxXAOR49eoVsrLEa/ns7W/AwuI13qbceECHU1+vUl5OBd+9O3kAVdembd9Ok9ecOa/fcVKZnByyZCQkkNUmNlbd28F7rF63o111Qr/eVwIDyYr0rsIky8poQOEt27GxmndzlUjoOL8zt+oEnp7+9t+IfZ/w9KSBVHWjqb+K4mKql/h4qpvYWOpjql7MjAztAnVBAdV9UpI43/z9kpLo/rGx6uFV2dl0LjFRoWjn5VGahARFe4qNVUQH8LtiJyYqrlHeaZR/p9hYzW0qI4POaZsYpFL1e/LcuUMT1tusxX4bMjPF5ce/typpaZo3NfkvcekSMOGzynB2Dd+BlUqBTi2AC9XY3K+8RHM7qAopKYpxka+bpCR1hVvbTuIA9Sf+XEYGtQP+XhUVijH3TZ4XbcyfT0Yc/h2LihTjAT/XqrZ1uZyeq2k+lctJQFQNKc7N1dynVaONUlMV8zz/TmVlpGyqbm5VHfg+r+mTbPx4oby0IzlZMZ7l5lKeeO90fDy9f1YW5U11LOHXD/J9le+7vMzC3zs9ndLz76tsaCwsVMg81dnhv6SEBOGMDBrDVb+EwecvNrbq+zdUVCjeQdP7KJdZbKz2zf+SkrQrLprGcb4t8nML39arYtjJylIfNxMS3o3ckZsrntf48pVKFf0mL4/qLSGB/pT7SlaWol8pz7NFRfRufPvSRGrq6+euNxEfr74vikSiuF9BgeYlTvx7VJWiIkUaiYTKg287ystC+H6pKreXlirKtbhY+9coVCktVZcN4uPVxxlN5ZCXp6hXvq2lpVGb4WXcjAzxeJCU9OZ+lJamuCffDpKS1MuZr1tNxi2+nGQyhcyk3Kb4dl7db5nzz9Qmz8hkmvt0UBAZLfiQ/YEDq/RVFq1Kb1KSoh9mZFC0Iy/vBQSI92hyd1eElGdn09pvvixiYsQRiR4eYj3Tzk4xByQnkyE6IuIlnj17CBOTDTh3LkZ4b+W9MLKygBvWQO4lO+CmOQoKlOYSmYxCm7/5huLBVRvz3bukDC9eLN4unPH3sGOH9p1jGf88a9Yowl4Y/z6+/177TsWMf4ScnMo5+YYZJF8tg0W7TUh+SIaBV6/IoVEOAM8f4a7BZHi50+Qqk9Hcytv/0tPF82deHpD8lrLl/wzZ2bSWsrprwLQRFUUe3LfZ9Vwb5eWUx9DwPtwAACAASURBVDetnWMwGAzGX09aGimiAQG0rtzfX/snQ5XQqvSGhtLkm5ND+1PY25PS+eIFLXcwN6dICg8POn7hAin6ly7RcpNr12iy//NPCuX39qYoCQsLirKIjlZstPfnn2S04Je87twZiN9+c8O2bS/w66/pePqUIphsbSniID6e7uHoCFyxA3Ir6B5sPvofITz83QokjHfL06fVt9Yx/j7Cw9+dgsB4J2RkUJRqbgVw1Q1wuA9cvEpz1fnzZNx1dgOe+ufg2tlCXLtJyzOdnOjchQs0B168SHPitWvUBc+ff7vN7//T5OZS4TIYDAaDocRrw5v9/GijM37+cHGhsGn+u/cXLpBiDJCCffSo4ksW/v70m480NDdXfDEkN5fuw39t4ckTWn7Jb9B2+zYpz3I5/Z09qwi1j49X7PEA0L4pJ06oL6FlMBgMBuPv4sULWprKR0GFhNCGyfyeOfZ2wKkzQImMoutOn1ZsRPnyJc2B/DJPLy/aL6oqS9cYDAaDwWC8mTeu6f07Ngf9//Jf3xeKwWAwGP8873IuYvMag8FgMBjvjjcqvQwGg8FgMBgMBoPBYPyv8p9UemMl6XBLDYB1kh8Si6u+Ni5dmgf71ADYpTxAWqn6TpX+WeGwSfLDo5yod5ldRhVJLMmGbcoDOKQ8RHaZ5t0QXxQmwT31EXLKqvFZDcbfQm5ZER7kRKK4ogqfBdBAYO5LuKcHoVQm3rhOBjmCcmOQXKJ9B1yfrOfwznwKOcTutYc5kbBJ8kdYvuadLCMLk/G8QH1HSTkA78wnsEnyQ2herOhcTFEq3FICYJ18H9bJ92CfEoCCcvXdUV8UJsIu+R4e5ETin3b6yQF4ZYTBNvkeYosz3nj9f5XgvFewTfKDe3ow8sr++Z2sK+QyyOQytd8V8uqFcJXJyuGeHgz31AAkvaYfvW0e72Y9h6RC8XUHSYUUbulBsE32R3SR+s6kIXkvYZPkB+/M6sd/38t+AZskPzzM0fz1gAq5DO7pQQjMVWwSIpPLcDcrXJTHf5I4SQYcku/hbtZztTFLmWxpIayT/BCloQz/KeIkGWpjYlUIznsJ6yQ/uKUGIFby9+wJUi6vgEdGCOyS78E9PVjjOP0mvDOfwjb5HmKK3s3XEOSQo0IuQ7m8QujLFXIZ5JAjojAJjsn38CCnit/O/RvJlhbgYU4UZP+hEJbwgkTYJN+DbcoDhOS9enOCvwhN80DFW8wDcshxJ/MJ3JMfIE7ybuSAV5J02Cbfh1PqI+Qr9a+kkmy4pT6CTcp9WCffh3NqAPyynqNcrtgF2y/rORxSHsIp9TFskvzwolDDzvgq/CeV3t0vLMBZjEIH1wVwSK3a7s3OaYHQd5iJpi7z0NR5Ltq6LcTjXFqsVVBejOF+P6OO3VS0d18KXbsp2Bpu9p/q3P80Zok+qG03Dc1dF6Cx05fo6rFcrQNkSgvQzGUeuBsmbyUsMf4aHuVGw8RnI5o4z4G+05xqGaJ4nhUkQMdmEjibCUipFMqlsjIsCT6Btm6LoXNzLC7Fe2lM65oWBO7GMDRzXShMDBVyGb4OOYU6dlPRxm0RattNxfGXTkKa32IcYeSxDHWtx+Orx7+I7pdSko3ed76Dnv0MtHNfgjr203Ak2k44/9Pzq+BujIDR7dXofmsVenl9i8hCxXb9FXIZVoX8gdp209DMeS7qOX2JV3+TkKeJnLJCjPHbinoOM9HCdQEaOs6Ga1rQP5affzM/h19DS8fPwVl9Cv/s8HdyT6vke+juthim8VX8HmYlKSXZ6H57Dbq4zseK0NMok1VggM9GdHFfio7ui+GTVb3Nnsbe2wnu+lCciXWrVro3sTfSCpztZKHfh+XHoY3rQjR0+gKtXBdC33EWLJLo809yyLEw6HfUsJ2E9u5LUdd+GmY/OlwlQ1lBeTFG+28T5uk6dlOx8ekltXn6cLQduCt98In/duFYqawM9Z2/wvLQ0+/wzd8eiyQ/1LedBAPX+a+9LqkkGwNur4F54t2/KWdv5udwM/S8vaba6TY/v4oOLvPBWYzC3gjLNyd4BxRVlOBj/+0wdPoSnPU4BOW9rHLagvJiTLi3C3r209HSdSHqOc6CbUoVP5H5Gg5F2aKT63y0cV+Grre+QTuPr9HebSFmPzqC3186Qc96PLre+vd9fcE5LRB1HWdD/h+Riy2T/NHAcTa6eq5ET88VmB90/M2J/gJyy4pg7LMBXVzm4/NHR1Amr8An97ajs9tidHRbiKuJPtW635ePj4EzG4QDkdb/77ydfOUCznYyWrktRkOn2fjw9hrEVxrVf4txBHetP9p5LENHzxWoZz8DBq7zUSKTQlJRis8DDqH/nXVo7/E1mrouwDDvDbiX/WZjz39S6d32whwdPVe89pr8cgnyyxWWeue0QGx9fkX4beS5EtMCDgAA8sokWPvkAh5XWoZPx7qBs5nwWs+SNjKlBWqeKp6i8hLkaPFgyuRypEvzRVYQZfLKJFqtlGXyCmRI87VajLPLCrVauEsqpMiSav/2cIY0H1JZudbz2pDJZUiX5mu1ROWVFaFQ6X0skvyw+8UN4XcLl/lYFnJKlGZx8AlwNuNRx2FWtQU+gLxdGdJ8lGl5n4LyYq3enYrK95FpeZ/csiIUlpdoPCeVlSPzNWWcJS1AiZY2I6ko1erVlkNO76OlzbyO8so2o82wk1NWiCItbaZUViZqMwE5UVgefAJfPDoMXcfZb9VvRvptRS2biWjiMl9IL5WV4funF/H9kz+hYztFo9IrqZCio+cK1LWdDKNbq4X68cwIBWf5MRxTAyCHHMei7cDZTkF6ZYTHiZfO+D7sPNq5L8HsR0dE90wszsK3YWcF78pPz69A13E2KirL+Ydnl9HSfQnSS/OQVpqrlqevQ/5AU6cvBcNMdFFKtb3fFXLZa+snt6wIRRVVa28HomzA2YxHeGEiyuUVmPP4KNp5fF2t/ACK/qNtjMovLxaNucq86X1yXjNGqbY3VV475laUIlfLmMv3H9Ux6nlBAmo4zKiy0isHkFqag4TiDCQUZyr9ZSBDmo+44gx8FXAY3M0xGHjnO9x5g8EuQ1oAqawcpbIynIv1AGc9DpzlJ7idEYb72RGo7/QFJt7fjWwpjQsvJWk4HuOAg5HWCFbxRhSUl+BCrAcORlrBITUAuo6zRUqvb9ZzHIy0wvEYR4S/xsqeJS3U2IZTS3NQx3461oSdE44F573E+rDzwlg6+cE+dK9UkuSQ4+dwM9ilPBSez90co9Vrq0xeuQTfPbkgXHs21gOczQShTwNAVGEKajvMgp7tZEx6uFeU/ki0HTirT/G0IP61z9E05uaUFeFCrDv2R1jAPNEXdikPkFqi2CHfISUA+yMscS3hDioq2/i5WA+cfuWGi/G3cSHOE27pwTgaaS14oE+9ckMr96WILErGoShrnI91R65S//HMCMX+F+Y4HeMgUtaKK6Q49coFF+O94JcVjgORVrBKvqf2HnYpD7A/whIX4zyRLs1XOw8o+kC5krHQIz0Ex6LtsD/CEjeT/ERyhWWSP0y8N8LAZT72R1ph/wtzrYpgdlkhijX06Y6ey7FDaa7neSVJx/EYRxyMtIJXBu1sWiorwy8xDjj90hnHYxyRVJKF64l3cfqlM45GWuF+pZAcmh+Lw1E2OBJtiwANkXpBuTGo4TBD5P1XpUxWgUxpvvC2J1+6gLP6FCF5r1Ahl2FZyCk0c13wVs4Qkjto3FwQdBydPL6GfepDcDYTsDfyJlYEnxQMILsjLNHl1mq4p4fgQMQN+KrIOvnlxTCNu4UDEZawTvaHVGU8vp8dgQORVjjx0hnWSf6IUDLIJpfk4NRLZxyIvAm3tECt+VXtA3cyn+CLh/tR02Emtjy/hv0vLHAp3gvZ0gKcfuWGU9F2cK6835P8OByPssWJGAfBcRFemIRj0XY4HGWD8ALtn6XJKSsS5I7gvJc4HmkFz4xQ3Ey+h0MRN/FUJSqL+qUHDkRY4nZlm6mQy3AuzgOno+0EY1t8cSZ+ibbFqWh7tfah6ANUjjK5DMkl2fjQ6zv09V6P+OJMJBVnieaYpwXxOBpti6NRtogsUi7fbByItMIfMU5ILc3F7YwwHI9xRHRRCs7Fegh/l+K94JT2GMeibDRGmgE0r0ll5SiTV8A9PRh1HGaCuzEc1xN9EZgbg5ZuCzHc90chcie5JAd/vHLBwYib8M9+IbpXmbwC1xLu4EDkTTikPkJjl7nYH2klnA/MjcHBKGsci7ZH0Gs82tSnFfPAhbhbOBptCwAolklR3/FzbHp2GQDwICcSu5T6+af3dmK4388AgGsJPuBujkVicRaWBp/EKL+tOPXKVetzlamy0pubmwsHBwdIJJqFEm9vbzzVstVkYmIinJ2dNVp45HI5XF1dER+veSJ5/vw5vLw0e2hKSkrg4OCA7GzNQvLDhw8REBCgdnz7G5ReOeTo6/09BvpuUjvnlfEEZ146o4XLPJH3BqAGa5Hgg+kP9uCjO+u0KjHaiC5KQQ2bSTgYpdmCMvXhAbRxX6pR6bqVEQru5hiNE0iFvAI9b3+LkX5bNd739Cs3cNbjEJYfq3Yuu6wQek5fYKUWC/d3Ty6gtuMsjULls4J4cNbj8ftLZ41pX4dT6iNwVmPhlhasdk4qK0dHz+UYf3+P2jm3tCCcjHGAgfNX+DPulnDcPT0EnM147Ii4gWauC+GV+aTaeQrMjQFnPQ7nYz01nh92dws+uLNW4znLJH9wVmPhk6mubBdXSNHSfTFmPjqkMe2eCEvo2E7WGNKVUJyJmnZTsT3cXGParwJ/gYHLfEg0CJz+2S/AWX0Ks2pa+gDgcsIdcFafahQ2C8qL0dhlHhYE/aYx7ebnV1HTfppI6AOAm0n3wNlPr7bSeyrWDZzdFOyKsERT1wVq6aWyctRy+BwXlNoDz5onF9DYZR5+eH4V7T2XCwJJSkkOPDJChOt2vjAHZztFbVnD0LubBeOXKjFFqTCP98JI358wyn+rIPz99PwKOIsRaO66EA2dZmNJ0O8oqayfWEk6ajjMxIyAw/ji0RGsCT0tnKsO5kl3wVmN1SikFVaUoJnrAswP1Fw/OyMsUNNuqqAMPC9IFE2CUx7sQYc3GA01cTfrObibY2Gfqj4my+RyfHjnO4yonNRUMY33Amf1GZ7mq88TeeUS1HeegxUhZzSm3fTsMmo7zNSovEYVJkPHZgJOaBmjJj7Yi06eKzWe88gIAXdzLDzTQ0XHnxckoqbDzCorvZIKKfp5b0BT5y/R1HWB4s9pNiY8UIxx/tkvMNxnEzibCVgc+KtG4e9Jfjw463HC2BdZmIRGLvPQxWM5hvj+BADocmsVNlYKFk6pj1HfYQa6eCzHR15roWM7Gcdi7AGQEtHdcwWaO8+Fsff3qOkwEzpWioiJDU9NUddhBkbc3YIPbq9BA/vpuKZhLEktzUUd+2nYFn5d7dzxGCdwVp+JIh14gnJf4nKcB4xurcTi4BOic8UVUlgk3sXqkD9g6LoA8dUItUsrzYVFog9mPNiHHre/FRlLht/dDGPvDZgXdByj/LeJ0mWXFaKO/XSsfXLhtfef/egIWrovEYwhUYUp6OS+FE2d52Co74+o7TgLnLkJLJL8IIMckx/sRS27qRjsswlNnL7AwDvrkVSShekPD4IzN0FD57lo7DIPnM0EtHCZh6au85EhzcONJD/UtZuCVu5LYOy9Hk2d56C75wrEVXpKfo1xhMmddeBufoJNzy4J+csrk2Cw74/gLEbBwGU+BvhsRG27KdjwzBQAUFhegon3d6GJ05cYe2872rotQlvXBQjKVfdyelb2Aff0EKFeloWcwkjfH2Hi+xNq2k7C0pCTwti36dkltHaeCz2nL2BydzNM7qzDVg3tIktagLqOn+P7p6Zq5zp6LsdOFaXXMfURmjt9id5eazHs7mbUtJuCVaFnIKkoxcf+28CZm6CDx9d4kh+PJSEnwV0fAkPnObBJfoA/426hvsNMDPLZiP7eG1DHdgp2R9wU3T8o7yVqOsx8rdJ7JNoOOraTkFCcCYCWvtzNei6c/+rxUTR3XaTV8K2NwNwYcFaf4nqiLwBg/dOLmB5wCIAcOvbT4ZP1DDeS/NDLi2SPo9H2qGkzHu08vobxne+gYztFSBtekIienivRwW0JxvhvR0PH2Rjmu0mQ336NcURdh5kY678dQ3x/Amdugu0vSLbwznyK1i7z0fPWKozy+xm69tMwK+CQRqfGF4+PooXbYqEP/PHKFUbuS1DDYSYG+myCifcGfB1yCvHFGejsuRLcjRHYGm4G57RAXEvwRiOHWeBujsG97BewS3kIXbupMLq1Cj1vr0Ztu6ki2Y6Hnwe+DvkDACid7SRwNuPR4/a36HVrFRo4zhbq8FlBPNq7LUYLl3kY4L0BnO1kfFMp5w7x/RHc9SFYFXoGHhkhsE15gDauC8HdGAbzyrLkuZURJuoDqaW56OC5HDp2k1HX6Qs0c52PZs5fCUr1n3G3UNt2MnpURnrp2k+DWeU9nxckoL/3enBWn6Kv11p08FyB+o6fo6fXt9SOb4xAM9cF0HP6ApztZLRwmYsOHssFAyZPprQANe2nY2u4GQBa4tXecznauy1Bl8oogEG+Pwjj6v2cCDRznoN2bovR9846cLaTsK0ybaY0HwO916OR42wM8tn0f+ydd1hUV97Hb4xpmsRYdrO7KZusm2yS3c2mvNFsko3GGDVq7L1GY41i7IjRGIHYK6goiqgUAWkDDB3pDL1LL4PA0JkZmGH6fN8/DneYYe5FcIm64X6eh0fnnjn3nrmn/do5B08FzMNjnl/gdFkAAMC62AtDeHPw79jd+NftH/C03wycKPU3qx+NXotRwSuwlEHuCKxLw8kSHwwLXAAvBgNcg1KCQf6zDLK3e00cKK+JKGqvwbeZdvgkbg+Olvia5WOi10pvYWEhxo0bB5GIeW3I6tWrYWdnx5gWFhaGKVOmQKMx7xwajQbTp09HUBCz0HHx4kUsX76cMa2xsRHjx49nVbb37NkDKysrs+u00tvTWpibNfHwrEkwuabV6zAn5Qie9p0OynsybndTnFyrY/ASfwmom5+xCpQ90abpwNmyANYQGn59OpyqIhkthTWKFpwq9UWFvN4sTQ89XKtj4cNiUb3TdhenS/3RwuARVOs0uFAZwhoOHN9cgHMVfKgYPCVitQxnyvyRy7IesieqOhpxqtTPMIEYo9Prce3ubQR0C02Xa5WYlPQzBvtMxeO+3yCjc3BrUbfj1dDVmJ96DE1KKZ4MmM+ofN6LZlUbTpf64w6LpdG7NskwuXSnXFaPU6V+ECnMz7/V6nVwqopgDRlNF5fhbFkAoxFFrlXCrjyQ0ToNEGv/pcowRo95g1KC06V+KJGZC5z3ori9FqdL/dDIsLZdo9fiUmUYIhqzGXISC55deaCZ58e5KgqP+c/uk9JbKW/AEN4c7C90R7a0Ek8GzEODyrRM9UoxBvPmmk2UCS2FoLwnw7M2AZ61CfhdyErGZ+wvcAXlOc6gDBgzJnYXZqUcZsxnVx6EFwMXgLr5GbYYCcqu1bGYmXgAUU25CG3IwCDf6bDuDNcLa8gE5fM1nuDNxreZZ/HXsO/wfzE7GD0ePVEmqyP1w+Ch0ep1uCwMR3hDFkNOIE1cCrvyQDNlW6nTYEHKYVC3vjJY5ftCvVKM06V+jMYbPQD36jh41yYx5iXtjWWM0mtxsTKU1QOa1FIE+3I+o3BGxlwe65rtoPo0XKu6zZhWo2jB6VI/s3D8PGlVn5RegAhKd+XdPL3yBjQx1N/hEm9QbmMxyHc6AuvSTNLEahnOlPobFOJ0cRmG8ZfAu1aAJwPmweVuDP4VvQ3b865Crdfi98ErsDTthGEmPFLiA6rTwLYs/TReCV1leOcu1dGgvCbAszYBWZIKUJ5fYGn6KcQ05yOgLhV/5C8D5TvdzACq1KlxrjyI0UA2L/UYfheyEjqYj0878p3xgv9sUB6fmxklklqL8HrYGlCe4/F/0dv6ZGD2rE3AS/yloG7+B3NTjhjm08vCCFDek5Dfdhfb8pzwaZy57PBh7E58ELO9x/uHNmTiijDCIF98nWSNN8PXG6InMiRleNp/FiIbc+BaHQvKdzpSO5dK1Sha8Kfg5diQ7YCqjiY87j8TmZIKbM1zwgfR21AiqwPlOw2CliL4iJJAeU2AU2fYe5OqDa+Frcbc1KMm5Xk7ygI78k2Vx4SWAgzynQZ+Zz/edYdEnwDA4RIfUJ7jcbDIEwkthXCqigTlOR7vR28zk5lqO/sA0zwNEK/jIP/ZJgYnqzsuBgWNDbVOgwsVwYhvNu1DOr3eTOmVqOUYFbwCb4avR1B9OqKb8jAn9Qio6+8iqJ70jw+idxgMSLdqE0H5TUeNogVNKiko32kYH78XEY05CGvIwpjo7aDc/41cIwNbmrj0nkpvtqQSZ8oCzCJotNBjZfopUF5fsspgPUHkjq55ul2jQKu6HbWKFlD+s3CzJg4KndowVvxc6IHhgQsMdfJRzE7MSSEG9a8F1njSbwacq24joaUQ+wvdQV3/F3Z0GkXmph4F5T0ZNkWeuFkdi6MlPihqr4FCp8YbERvxp+Dl8BEJENt8B6sy7UFd+yejAhrWkIXLRn0AAHh1qXg2cCEUWlNZ0bMmAb8P+RYeNfGgbn6GY6W+mJh4AGuzL0APPYYGLoBFzkXD9y3zr+Fx/9mo6tbmNJ3zgLFDY27qMbwbtdkgawwLWoRjnZ7FCQn78c/IzYaIkqD6NFDekxHemI2ithoMDVqEW7VJoG59he15V7Ey097MEAaY9wGtXodKeQPeibLA+IR9KJPVoawzWkukaMUTvLmwNDJCbclxxFMB81CnIFFfHToVngtajJkCW9QqWlDV0QQ/UTJypJUY5DcDFfIGfJd1DuMT9iG+uQCU7zQzmVSpU8OuPMggF9J9xK6Cj1EhK3CyjIfxCfuwojPk+u2ozZicuN8wR16tigTlPRnZ0kpYFbji+YD5hvcd3piFQV4TcaEiBNUdzaC8J2NqkjWimnIR3JCBtyM2gvIYh9Jua9j10MNRGI6IRtPzZeVaJT6P34vHvKdgCG8O7rSbe64vC8PxmN8Mg6OkQ6vCmkx7/CNiI969/QO+SjrQ/0rvb4neKL090a5RYGHKEbwevp7R6xpUnw7Kd5phwOV4sEg0cnyVsA/vRxPh5EJFCCjXj/BS6Gq8E2UBync6PorZiXaW8E6Oh8ONu9F4zH82o6LGxta8K6BcPsLoiA0YHbEBj/lMxYzkXwyhYAAxegzmzTULb56SdBCU27/x96gt+FPoajzuMxWbcx0N6UqdFsvTToDyngRnlvWUY2N3s3roaa5WRYHynWZY/tCdKQIbfNE5mWZLK0F5TcShzmiPLGklKJ8pD3UTDACoVYrx7+jtGM6bg7h+Wqv6W6WvSq9Cq8IUgTXejfwe797+oesvYgOWZ5wxzFNSTQd+KnDFCwEL8I+IDXCuimJd7kKTJanA47w5aFK1YXf+dfw+eAVeDFmJ/YVuaFa3gfKZgkQjZVSq6QDlNwO8ulT8PcoCFrlXTO43OGAefEUCeNQkgPKaAIvcy9iZfw278q/BtsgTtsW3egwl7843yb/gpR5C5VU6DfYXuOKpgHmMSwFypVUYwpvba4HHmJCGTFA+0wzGxpdCV4PymoD3orfhBf5SDPH7xixK6T/xe/FWH9ejvhz2HfZ0ek1oGjrf0bzUo/ggZodJ2prsC3g/ejtypJV4KnA+2jQd2JB9EdOSbdGglIDym44McTk8ahIwjL/UJO/3uZfxVuRmk2tvRW6GpdHSLIAIrk8Gzkdjp4HwUIm3IfptcfpJPO0/Cz8V3sS2vKvYW+AK28KbuFAZck+ZSa5VwrrwJiYk/Ij5qUfxr9s/YFTwCpNlP9vynPD3eyi9PfF6+FqDkRAgBmXKdxomJf2MvQWu2J53FdZFnrAucEGKmAj9gXVpoHy+RmxLAd6JssCcTsNAZGMOKK8JWJp+GpZ3rmNHvjNsijzxc6G7yQZqdD/q6wZcjao2jIvbg2f9ZyK8m7D/31KnEIPyn2UIwaX5qdAdfzVqo5OTDmJR574Tfw5bhzfC1+FA0U1sy3PCgcKbsC5wNUQItqrbsTXHEW9GbMCLwSvwRvg68OvJ5pCDeXPxaZwl9hW4YVveVRzsfMe9XSrmXhOLZwMXQdptCVh1RzNGBi/HH0O/BeU9CS+GfIvBvNng16ejRFYLynuySYi1sKMJlM/XvdqXZWqSDeamdS0/eiVsDc527s0xNHAhjpfxTL7/++CV2FfgBh30eC18Hf4YshKUzxSMCl6BZ3hzzKI7e+L/YnZiRrJpFNjtplxQ3lNw18hQWtheC8pnCpJbyDjcom7H04ELENpgGuWY3FqMwQHz0KFTYVWmHeanHUdyazEovxn33KhOplHi2aBFiGnKh0NlCIYELsTLYd9hfRbxbD/Om4Nrd02jdJ4MmIsbd2MwLn4f5nZbwvUcfykuVoYhtjkflOcXWJVph93517Ez/xpsijxxsMgDtQwOnp5oUrXhvSgLTBWYR3B+Hr+X0eCQI6nEuPgfMS7+R07p7Yn7UXr59elIailEm6YD1YpmzEz+BX8IWQWlTo0SmQg+tUloUrVBplUSS6L3JNwy8lpo9Trw6lLNYuUHKsmtxfCsSWBd39cX9NCDV5eCdHEp2jQdEMobMC7OyiCclMvqECgS4GZNHA4U3gTlNwM/FriarGVV6tTwqRUYNicb6MQ05cNPlHzfhqG+oNXrIFHLcb4iGJTfTBS1V5t5btQ6DfxEyWbeohxpJQJFArhWx2BzjiMe8/sGTlVdFuZ2jQKlslo85j8bduVBkKjlhjaX1FqEQJEA16puY17qUQzhzTVMNCUyEf4dvQ3P+M+EjygZOr3OJAxSoVVBopbh/ehtmCqwgUQtM6yrzpJUgCdKhkQj0XXofAAAIABJREFUh0Qtx6XKUFDek5AhLkOzqg3zU4+S3X01ciS1FOG5gHmwyCGeYKVWjRdDvsWC1GOoV4rJO/H52mxSi22+Ax+R4IFslhfTnI+Xg5fjtZBvkSoug06vM/PSd2hV8K5NfOjK+aPAvZTeux3NcK2KMoSPa/U6BNSlwv1uNNyr47r+7kYjojEbMq0ClypDMSpoMZ72+wbWhR6s6+W7E99cAMp/JrIkFRCrZRjGXwLq5qfYV+gGPYgX8IMoCxS0V6O6oxmzkw/hKd5c1CvF2JhzESODFiJNXAqJWoafi8gGkE5VkaiQN2CQz1SszrSDTKuEVq9DqrgUEY3ZfdrDYXveVTzhP8vEox3XfAfhnTvlNqqksLxzDZTfDNQrxWhQSuBRE4+7HU1o1yiQ0lqMwf4z8XORh8l9G5QSuFdFmXggS9pF8K5NRJNKinatAv6iZFDek+BTSwT+yMYcBIiScUUYgTExO/Fa6GoTz55Gr8OLISvvaeTqzrzUY3g5eAUSWgog0chRIhNhZ+4VBNanIbA+DdStr2BfHoQWtQy8uhQ87jMN+wrckCEpxyD/WSiX12NdtgPGJ/yIUpkIlN90RDXm4vrdaFCeE/BLp6EhVVyC3wUtwYqMswC69pgYHbEBm3MdIVHLDP3WVyTAIN4s3Gm7C51ejz0FLng5dDUUWhVu3I0B5fkF7DsVfqmmAzHN+Yb1rz2xOdcRlM/XyJJUoF4pxuzkQ3gmcIFJNMS2PCeMCFqCeqUEeW1VWJV+0hDeyYYeerRpOiBWyfBy2Grszr9u+D1KnRr/uL0Fb4atMSiqJTIRguszDJFVeujxYcx2jAiYj8G8uYZxqkEpwfCgRZgYvxeNStIGc6VCw07N9NwU3ZQHyn8WYpryIVHLTYyqbCS1FGF0yCr8kb8MCS2FjOOmUqeGryipz3KHUqdGQdtdUH4zcFkYBlnnfKnV67AzzxmvhH4HlU4DjV6L/8TvxczkX6DRa7E+2wFP+k4zhNqKFC0Ia8gyrJ3dke+Mq1VRaFa1IU9ahRFBi/Fhp1FmfMI+vBi0xLAMrkJej5CGjF7v4nuzJg6Uz1RkSSoglDdie+5l2BSTMPJP4vaAuvkffJtpjycD5mGQ/2zUKcVQ6tR4KXQ1xsVZolRWhwp5AyYm/Ijh/CWMUWbGqPVafJmwH5OSDkCj10KuVeLF4JWwKfaCTq/HkvRTGB64AHHNd9CkasPeOy6gbn1liFCbl3oMlNtYLE4/iRdDvgV166te1ZNWr4NUI8c/orZgYuIBw346eujRom7H74KXY1LCflTIG1Amq8N/YnfjxeAVaFW3Q6XToERWiycD5sG5KgoStcwgd0Q05uAx/1moUbRgZeZZTBVYI6oxF5TvdLO9GLojUrTimcD5cLkbA6VOjT+HrwXl9jG+zyZ7KUxI3I/RoauRKSmHSNGKDdkXQPlMQ7m8HodLfDDYbwaiGnMg0chhVxEEynM8jpX6oVXdjiG8OZidbGswwGZJKhDakGlok2yodBp41yYhVypEm0aBUpkI70ZtxhdGGwgCZNkn5TMNLnejGe8zP/UYPomz5JTenthX6IbRERv7lGdR2gk84z8Lo/jLMDRwIV4KWWkQkAPq0jAsYB6G85diFH8ZhvjPwuacSyaTf6NSAsp/Jt6L3t7nbcJ/a2j1OowKXoGJiQf6RWjX6nWYIrDGEN5s8v4DFuCvoWvMDAz8+nT8OXgFKJ+v8X63kLhyWT2oW5MwMfHAf12e/3XkWiUG8+aY7Ur8a+EnSsaowIUYGrgQlN8MjAhchLejLEw8O3c7mkB5f43xLOvSr1Xdxp86d9icKrCBVq+DWqfF+9HbMSJwASi/GRgauBCjAheYhaDvL3THKN5cUN6TsaEzjGpvgSso148wJHARXgtfh1FBS/B6xHqDF3pd1gWMCpiLQbzZGMybi1EB8wyb8VytisRzvDkYGbwMw/lL8SxvNn4uJEK5RC0jO8h2jiVP82ZjYsI+kwmcX5+OEUGLMSxwAYb4z4JVgYuJ8aFDq8IzgQuwIO34AzFKTEr6GZT7vzE8eDleCVuDUQELTHa2Bcju2ZTnF2ahlQORWkVrj0rvd1nnMJg3q9ceUbfqWFBeE7Ey43SfjouSa5X4MHoHKO/JGMabg4C6VLKxlesYg+cvT1qFD6N+wJCAeXg2cCFeDl5pCF1vVrVhcsJ+PMObjVHBy/GXiPUYEjAPQ/1mIqIxG351KRgWuBDPBi7EC/yleMp/Nj6Ns7qn99mYdHEZKK+JuGoUhbGv0A1D/GdhVPByPBe0GMMDFxhCeLOlFZ07fS7CKP4yPOU/C7OSfzHbOGpvgSso78kmIZCBdWl4IXABhvOXYCR/GZ7xn4VN2ZfMNjFbmHYCz/rPwpO+U3Gqc90a0Ll2z/ML+HZuotVb6hSt+DJ+L570J/MTec8rDB6yA4XueI43DyOCFmMIbw6+yzgLqUaOsbG7QHl9iXEJP2J5xhk87j0ZyzJO4/mgxRjBX4ZhQYsxJGAeXgxZieH8JRjCm4MpiQfQrGpDk1KKv0ZsxCj+ElD+s/BUwHyMCpiH5emnSahq5PegPL/AjORDyBCX4dnAhaBuTcS6zjWNPxW44Sm/mRjBX4JngxbjGf9ZWJN1/p7jzc2aOPw5fC02Zp3DsvTTGBuzE9StifgodpdBeM+UVOD1sDUYFrgQQwMXYHToaoSxLLWgqZQ34NXwtYbf83TgAowKmGsIzyxpr8WHURZ4gjcbo4KX4amAefhD8HITb6CvSADKbSxmp5gaLWKa8vFayLd4OmAeRgYvw1O8OfhbxEbUKFrgXZuEUQHzibHIbwaG8ZdgFI94wO7FrJTDoNw+xgv8ZXg1bA1GBS7Ev+P2mKzpLZPVgbr1FaYIDt7zfsbsLXDFcP9ZoPxm4FneXHwQvR1qnQbp4jI8zZsDyutLHC72gXdtEh73+RqDfabikjAMHVoV5iUfxmC/GRjFX4ZnAhdgWMA8OFSGAiDr/Z/2n40/hHyLUfxleDN8nSEEvkbRjP/E7sJgv865K2A+RgUtZtyjgYl6pQT/jt2NoQFz8XzQYowKWozzFWRTvK25ToZ9JD6P/xFvR202yMnJrcV4J2IDhgTMx7OBC/DXsDWINVorzYZzVRQe95mCwd6T4SsSwKbIC9StL/FMwFzENd+BWC3DNwJrDOHNwfCgxXghcIHJMopTZTxQtyaiXFaHbzPtMIy/tFdHlkU15mIUfwke85+Jx3lzMIq/BK+GrUWNghh+4prv4M2wdRgauABDAxbgrfB1EHQa84+W+GIEbzap16BFGBW4ADOSD6FBKcGbkZtAeU7A3NSj+DbTDoN9vsb81GOg/Gbg/ejtrEs8dHo9pggOgvKehKGdTgFeXSoot7FY2+npre5oxvi4PXiGN5eMrUFL4Na547tcq8Si1KN42n8WRvGX4i/h6/FC4EIM8Z0K95o4RDfn44/8ZXgmYD5G8JfhSf85+GfUFhNvNhPtGgU+iduDoby5ne1pLv4Z+b2Z4dy1OgbDghazzpeL0k7gP/FWsO/vjax+S9AT4raci8jswxb0Re01SG0tRqakHG3dGliDUoI0cSlSW0tYz5Arbq/t9zMO/xfJklTgqfAZyFP0/t3fC51ej4K2aqS2FiNbUsG4U2izqg1prSXIlVQgVyo0MT7ooUdhWzVjCN1AI7opD4N4c1AuM18f/mvQqm5HamsxMsTlyJUKkdZagmxJpVkUQFF7DeOaaICsiUzvrFt6PaMeeuR03i9XKkSGuByprcVmg2elvAGZ4lLkSMoNZynWKVuRKylHlqQCqZ39Ok1cajBklcvrkdpahGxpJflOa5FJvxcpWjvzlDAewUSPJT3tvJjWWsx4Rml8cwEe85/NmPZrUCGvR66kApmS8s53UWy2Tp/uf7S3ZKByqzYRy9MOgwqZgCSpuWCm0Wnxeuy3OH7XiyE3M+162X2d8anT65Hfdhe5kgqktZYY1ubmSsrNNpHLllQiXVzGuOFdflsV0sSlaNd0oEQmQkZriUHJbFG3I11cijRxKSoZ9pPoDVMFNngmYIGJ4lopb+jsP2Vmyx3aNApkSEhfLmbZMfqft3/AJqOlCjRNqjbDPM20/wUAFLZVI0tchmxxuWF/AY1ei79EbMC7t7fct6GpsL1rflJ284aT8aLYpJ7zpVXIlZSjoI144bPFZSiX16OgrRoZ4jKki8tQJq83zGvGY4lKp0GmpAKprSXIkVZ2/r8IpTIR9NAjVypErqQcJe21kGuVyJJUIEdSjnKjd1Ld0Yy01hKD96e31CvFiG7MRnF7Ldo0HcgVlyG/rQo6o/fWqpYhrbUEedIqhtXc5qh0ms46p39POVJbi0zel7bzd6W2lqCgrRodDPuM5EorGTe0k2tVnfcsQYms1iAbNKmkSG0tRrq4DLlSIdLFZUhtLWJca98dobyxc9ysMIyb2ZJKk/ajhx6F7X2XO+52NCGtcxzOEJciVyqEHuSIpUxJOXI6z6VvUbUjW1KOLHGZyTNK2msN47ixkYrsIt+EdHEZ6fMMS8Dy26oMc1dvI05olJ2Keaak3GSsaVJJDd5mkaIVwm4ytEavQ6akHBmScrO+w0ajSopscRmyxWVoVbejRtGCHEk5MiXlJiHWRe01SGstNqtTqUZu2O25WdXW6/lWqulAaqcMky2pRGprCTLE5SZOMLVeiwwJeQ/GEYe1ihajeiVjXFF7DTR6bVeflYlQo2hGlrgM5bJ65EqFpH/14EAqaq9BrqQCGeISQ4RRrqQSNd1kk/y2KqS1ljCeQkLLLFKNHBXyBmS0Fhvu1aZRIKOzzZTK6no9Qmr0OuRJSXvKkVaa7SQOkOWKTNEEWZIKWOZdxWvh6/BK2Bp8Er0Nib2IpB2QSi+/Ph1Lkm0xJeFH7rzWPqDTAfVGckJKCpDeuZ+NXg+EhgK1nUsvmpsBPh9QdY5rd+4AcZ1HBR4p98KrJ07jrtESR5GI3IPj4bMh+yIWph1/2MXgYGFrnpNhYxKORwOpFJBIgHPCIEy6vRcjrU8hpYoI5CIRENJ5ys8dVSmGnLFEREKX4SU8HKAPL5BIgKAgQNEpa3Z0AK3MewT9ZqjqaML32RdR108Gx1KZCH8MXcVqfL4f1DoNNuU49umcVg4ODg6OX4dKeQPc7t4Gvz4dUU258KtJQFEPx+bRDEill+P+0OsBV1cioBUWAk5OwOXLwN27RKhzdQWuXAFaWoCrV8nngACiCDs6kmuFd4DL4UI4Oqvg5EiERYEA4PE4pfdRIb65gItIeIRJaS0xHODO8WhQX0/GPmiBSD8gxAtwu0HGwsuXARcXIOY2kFosweHzYrg6A5WVQGQkGScvXybfvXYNcHMDPD0BpRJwdgZKuW0G+kSTSmpyVAwHBwcHBwfAKb0cfaSxEbhxA3BwIN4IsRg4fZoIaQCQkwMcPky8wABReo8fJ55fjQZwuAi4kyMiUVEJ2NkBXl6A2jwSiYODg+N/hsxM4Px5IKBzQ1CBgIyF9Il6Hh6A/RlALQfa28nY59Z5ROmdO8CRI0BC5yl5fD5JT001fw4HBwcHBwdH3+GUXo4+o9V2hS0D5gqrotsyEKXRsg+tlvyxfZeDg4PjfxV5t6VQ3cc343FTozGNbun+3Y6O/i0bBwcHBwfHQIZTejk4ODg4ODg4ODg4ODh+swxIpVetViMtLQ0CgQAqlflulf8NKpUKqampUCr7tqsdx3+PWq2GQCBASgrzFvrFxcVISEhAQ0P/bXDC0X/k5+cjPj4eLS19X0+cm5uL+Ph4SKXmu2qKRCIkJiYiMzOTISehuroa8fHxKCgogN7I/dbS0oL4+HhUVlay5i0tLUV8fDwqKshW+yqVCikpKUhMTERiYiJSUlJQU2O6wYJOp0NiYiIyMjIY75mfn4+EhAS0t7czpj8MCgoK7rt+BgpSqRSJiYnIysqCVtv3M8jT09ORnJyM5ORkpKSkQMGFwnBwcHBwcPQLA1Lpzc7OxoIFC5CQkNDvSq+9vT1ee+01FBbee+tsjv6jsbERBw4cgK+vL27cuAEbGxvIjWIN3dzccPr0aYSGhsLS0hKp3GK5Rwa9Xo8rV67AwcEBfD4fu3btQn5+fq/yarVanD9/HleuXEFAQAB2796N8vKuHVbj4uJgZ2eH2NhYODg4wM7ODjqd6SEZzs7OOHv2LEJCQuDj4wONpvNYovJy/Pzzz+Dz+bCxsUEcvf14J0qlEmfPnsWlS5fA5/MR0rlFb3l5OSwtLREXF4e4uDhcuHAB+/btM+RTKBSwtrbGtWvX4O/vj1u3bpkoSB4eHrh+/TrCwsJw4sQJVFdX9+2F9jN6vR5OTk44f/48QkJCYGlpibw8btd7JiQSCeLi4jB//nwIhcJ7Z+ikvr4ea9euxcmTJ2FlZYV9+/bB0dERHVyMMwcHBwcHR78wIJXetLQ0WFpa9vt9S0pKsGPHDlhaWiKdPsuH44Hg7OwMT3o3LQC2trYIDSUHrtfU1GD37t2GtIKCAmzfvv2Bl5GDmaKiIvz444+GzwKBAHv37u1V3pycHPz000+GzxEREbC2tjZ8lslMz2Rcs2YN6uq6znZ0cXHBuXPnGO994MABQz9uaWnBjh07TJSQEydOwNfX1yxfd6XaxcUFLi4uhs+RkZE4fPiw4bOnpyeSk5MBEI/z5s2bDWn+/v64dOkSY/keFOXl5dizZ4/hc1pamslnDnO2bt2KsrKye3+xk1OnTmH16tUAgBs3buDWrVvIycn5tYrHwcHBwcEx4Oi10iuTySAQCFjDdnNyclhDAJuampCSkmISNkij1+uRlpbGGnJaVVWF7OxsxjSVSgWBQMAaAlhYWIiioiKz6+np6dixYwdjHpqsrCzcvXuXMa2hoQFpaWlm13fu3InMzExYW1szpt8LpVIJgUBgJqjT3LlzByUlJYxpYrEYAoHA4KXqTkZGhlmIJY1IJGJV0rVaLZKTk9Haynw4fVlZGavXp6OjAwKB4L68FS0tLUhJSTFTIGjS09NNlJe2tjaT9rVjxw4kJSUBIO3EuAwRERHYv39/n8v03/aB1NTU++4DWVlZjGl0H2hra2NMLyoqYuwDAHlnAoEA6vvYOpvuA2y/JyUlBU1NzAeMVlZWmgj0CoXCJIzTx8fHRCnsCYVCYVIf169fh52dnVl5kpOTceTIEZw/f97QphQKBXbu3InGxkbExMSYtGOdToddu3aZRAvs3LnToMhUV1dj7969kEqliI6O7lHB2bZtm4nXj8/n4+TJk4bPZ8+exfHj5FxkqVQKS0tL3LlzBxKJBHZ2dgYPcl9obGzssb2lpqaisZH52COhUGgy5iqVSpP68ff3x6FDh/pcJqlU2uMYlZmZyerVrq+vZ21vOp0OycnJrGHX5eXlyM3NZUxTKBRISkoyqWdj8vPzUcpyZlBrayuSk5MZw5gtLCxMIg7uhaurK+bOnQuFQoHr16/DxcWFdZkGBwcHBwcHR9/ptdJ7584dfPTRR6itrWVMX7x4sUFw6w6fz8fnn3/OKOxoNBpMmDABfn5+jHnt7e0xb948xrT6+nqMGTOG1SK+detWRo9eb5TeOXPm4Pz584xpPj4++PLLL00UstjYWIMitWfPnh7XD7JRXV2Njz76iDU0esOGDawesKSkJIwdOxYSicQsTa/X45tvvoGTkxNjXjc3N0yZMoVRoGxvb8cnn3yC6OhoxrwHDx7EqlWrGNPKysrw0UcfGdY69oXbt2/j008/ZRRGdTodJk+eDHd3d8a8J0+ehL29PWNaVlYW1q9fz9qOe6KgoAAfffQRq/FgyZIlrH0gODgY48aNY+wDWq0WEyZMYPQaAsC5c+cwd+5cxrSGhgaMGTOG1TC0bds2bNu2jTEtMzMTY8aMYVVOe8LX1xcTJkxgFPiVSiU+//xzVmXt2LFjWLJkCWNafHw8Nm3ahObm5j6XKSIiAtu3bzczAOh0OqSmpsLKygrnzp0ztPOqqiqsXbsWx48fR1BQEK5evYqIiAgApE727t1rYoCysbExKEDJycn47rvvYGdnh9DQUDg4ODAauqqqqrB161aTa21tbbC0tASPx0NISAg2bdqEAwcOGNJDQkJw/Phx+Pn5wdramlUh6wkej4fx48czGjQ0Gg3Gjx+PwMBAxrynT5/GwoULGdMEAgEsLCzuq82kpqZizJgxrMrpzJkzcfHiRcY0Ly8vTJw4kbG9KRQKfPbZZ4a6686hQ4ewfPlyxjShUIgPP/wQxcXFjOlr1qxhNZDFxcXh448/ZjS69lXp1Wq1cHBwgJWVFQ4dOgQvLy9O6eXg4ODg4OhH+hTe3NPGHDqdjlFpAojS1VNerVbbY142b19vysSUtzdK773KZPxcpVKJxYsXIzw8HBUVFVi7dq0htLav3M/v6U3evvyeB1WmnrjfNnP48GETL5oxiYmJWLt2LasHvzf8VvpAb/L2xK/RZsLDw7Fhw4b7Uqh4PB5++OEHxo2sjNm2bZvBgNPQ0ID33nvPZP3wnj170N7eDr1ej61bt5ooNLt37zYovWlpaXj//fcNERASicQkRJvGzc0NDg4OZtflcjlCQkKQnp4OHx8fnDhxAgBRko3Ds8PDw+Ho6NjLt9DFr1E/UVFR+P7771k9xL3hf22Mut8+3Vell6a+vh729vZwc3PjlF4ODg4ODo5+ZECu6e2N0tsXVCoVfH19wefzERoaivnz58PNzc3kO3TIJ1uY3UBCIBBg+fLl/bqZlE6nw5EjR1g9vMnJyVi/fj2rl4neTZfbgIx4TJcvX447d+48sGdGRkZi06ZNrF5NvV6PpKQkFBQUmKUFBARg27ZtZl50vV5vtlGdlZWVSdTC5s2bTZTe3bt3GxTdvXv3Gtpoa2sr1q1bZyifTCbD6tWrIRaLAZBwfKYoDEtLS9bQdOMy0ONCTk4ODh48aEhLTU018QIDRPlcvnz5A91M6vbt29i0aRPr0gutVouEhATWUOCBBpvS29LSgtWrV7MaMpRKJa5cuQJXV1dO6eXg4ODg4OhHOKW3nxGJRFi2bJlZ6KBEIsGTTz6J0aNH39cayt8SS5cuxRNPPNGvRwdZWVlhzZo1yMnJQXp6Ory9vQ3rLFNTU/H5558jODgYOTk5iIuLQ3BwsEl+kUgEiqIwZsyYfivT/ypfffUVRowYwRgq/2sQGRmJL774AtHR0cjOzsbt27fNQlWbmppAURTee+89k+s8Hg8TJ040HBMTGRlpUGq1Wi2cnJzg7OyMtLQ0XL16FXZ2dibeuby8PFhbWyMuLg4ODg4ICAgwpJWUlMDW1hZxcXGwt7c3K1NUVBSOHTuGhIQEnDx5EgkJCSbpjY2NsLCwMOvvTU1NiIyMRGJiIi5cuIDIyEhDmkqlwpUrV+Dv74+EhAScP3/eLPR22rRpeP7551nX2fc3MTExGDduHKKiopCdnY3o6GiEhYWZfKeiogIURWHixIkPpEyPOmxKr6+vLyiK6jESyMnJCW5ubpyBlIODg4ODox8ZkEpvRkYKdu/e9Kvcu6QkC7GxUWbnb9Kb6Qz0HTmVSiVeeuklVo/s/ZKamoqkpCTcvn0bUVFRCA4ONoRhikQiREdHIz4+HlFRUYiIiDBbf6nT6ZCQkMDoSRxISCQSDB8+HB4eHg/smUKhEDExMYiNjUVUVBTCw8PN1ijr9XokJiaaeZ/Ly8sRGxtrktfYc0ufmx0VFcUaWVBXV4eIiAjGddG1tbWIiIhgXfNZXl6OyMhIxnS5XI6qqiqz621tbYiIiEBcXBzr2mWBQICIiAgzw5BMJsPIkSPh6urKmO/XoLq6GjExMYiLizO84+7ea41Gg7i4ONaN9gYaa9asYfR6L126FF9++SVjnrq6Onh6esLGxgb29vY4derUI3VOMwcHBwcHx/8yA0bpFYsB2sGTnV2FsWO3w93dDWq1HMXFgHGkoEAA1NeT/ysUQFwcQDtrqqsBY30pMxOg92nS6YDumyCzRNMOWPLy8vDFF1+w7oDM8XCJi4vD5MmTe1wDyfHwSExMxOTJk+97LTbHr0t9fT1u3LiB3bt3mxk0NBoNJk2aBIFAwJhXJpOhvLwcTU1NEIvFEAqFAz4qiIODg4ODo78YMEpvYiIQFgbo9YCzM3D1KhAVpUZ9vR4ODoCDAyASAUlJwKVLwOXLQEcHcPMm+RwQAEil5P8XLwIFBeTv4kXyJ5UCgYEknT6SMzCQKNAcXSgUintuNsTx8JDJZKzHH3E8fORyOef9e4TR6/Wsiqper2fdU4CDg4ODg4Pj12XAKL1qNeDvD5w7B9D7g7i5AadOEW+sWAycPUsUYgDIygKOHgXCw8lnf3/g2DHi1dXpiHJ7/jzxHguFwPHjgLc3+W5EBHlOYCBRsjk4ODg4ODg4ODg4ODgeDgNG6aUxPg1FqyUeWpr2dsA46rb7PjGdG7UCIGHPxhvNSiREGWZ6DgcHBwcHBwcHBwcHB8fDYcApvRwcHBwcHBwcHBwcHBwDhwGp9IrFYjg5OcHX1xcKhaJf7qnT6RAcHIybN2+aHEHC8WDQ6/UQCoXw8PAw2b2XRiwWIyoqCt50DDrHI4VCoYCvry/c3NyQnJzcp7zt7e3w9vaGi4uL2a7pUqkUsbGxuHXrFm7evMl4DJNGo0FkZCTc3d3B5/NNNvFKS0uDm5sbwsLCoGdYq9De3g4+nw83NzfExcUBIG3N0dER3t7e8Pb2hoeHB+Lj403yVVdX49q1a/Dx8TFb59nR0QEej4ebN28+0LOSe0KhUMDPzw/u7u6sGzFxkGOqvL29cf36ddYzp9m4e/curl+/bvjz8PDg1m9zcHBwcHD0EwNS6U1NTcWyZcsgEon6ZRdUrVaLw4cP48aNG6ioqMDRo0dx9erVfigpR2+prKzE+fPnsXHjRjg6OpqkaTQaeHh44Pjx41i8eDG38+0jhkwmg5WVFYKDg1FSUoK9e/eanaPMhkS46PghAAAgAElEQVQiwc6dOxEZGYmioiLs3r0bMTExhvT4+Hh4enqipqYGkZGRsLS0REdHhyFdLBbjwIED8PLyQmlpKdLS0gztIyYmBjY2NigpKYGDg4PZMUFCodBQ1pKSEsORR9XV1XByckJtbS1qa2vh7u6OvXv3GvI1NDRgy5YtEAgEyMnJgZOTk2HzMLVajePHjyM6OtowlqR33xL+ASOXy2FlZYWgoCCUlpZi3759CAoKeqhlelRRqVSora3FokWLDOeE94asrCxMnToVgYGBOHLkCE6cOAEejweNRvMrlpaDg4ODg2PgMCCV3vT0dOzatavf7tfS0oLz588bPstkMqxfv77f7s/ReyIiInDt2jXW9P3790OlUj3AEnHci+LiYhMjUVFREbZv396rvHl5ebhx44bhc1paGqysrFi/v3HjRpOzb48cOcIambFr1y5UV1cDIJEcW7ZsQWvnQn+tVgtLS0vW83uNOX36tIkS7+/vDwcHB5PPfD4fAFGkN2zYYEgLCgrq9zOt+0pFRQUuX75s+FxaWoqtW7c+xBI9+mzZsgXl5eW9/r6trS22bdsGAHBycoK7u/tDN3ZwcHBwcHD8lui10isSiWBjYwOx8W5ORjg6OiIsLIwxLTc3F0ePHmX0sOl0Opw4cQJZWVmMeaOiokwERGOkUilsbW0Ngml3PDw84OnpaXY9PT0dO3bsYMxDc+HCBdy+fZsxLSMjAydOnGAMdwQANzc3HDlypMf7M9Ha2gobGxvU1dUxpru4uMDX15cxraysDL/88ouJF8sYOzs7sxBLmuTkZJw+fZoxTalU4vDhwygqKmJMDwgIgDO95XU3GhsbYWNjg6b72NWrsLAQhw8fZlRQ9Xo9Tp8+jRR6G24jeDweq9Lb0dEBKyur+1Z6e9MHQkNDGdPy8vJw7NixHvtAZmYmY97bt2/jwoULjGltbW2wtbXF3bt3GdM9PT3h4eHBmFZVVQVbW9v7CqHMzMzEiRMnGM/z1Wg0OHr0KPKMD782IjQ01Mwbb8zx48d7NFz0hLW1tVkIu1arRUBAAJYuXQp3d3fDdalUCisrK+Tl5eH69evw8/MzHDdDK7XGIap79+5FSUkJAKKo//zzz8jNzcWNGzdYxz6NRoNNmzaZhDAnJCSYeH6trKxgbW1t+P6pU6dw69Yt5ObmwsbGBrm5uX1+D9nZ2aztTavV4tixY8jJyWHMGx4ejosXL7Le+9SpU/cVyVJZWQlbW1vIZDLGdHt7exMvvTFpaWk4efIkY3tTq9U4cuQICgoKGPPy+XxcuXKFMa25uRk2Njaopw9m78a1a9fg7+/PmFZSUoJDhw4xnjluYWHRJ6U3JiYG06dPR3Z2NpycnODm5sY4vnFwcHBwcHDcH71WeisqKrBq1SpWBWb//v1wc3NjTEtKSsKGDRtYBbDNmzcjNjaWMa+Xl5eJgGhMa2srVq9ejdLSUsb0M2fO4OzZs2bXe6P07tmzh3X9Z3R0NDZv3swogPn5+WHnzp2symdPNDQ0YNWqVRAKhYzpR48eZTUA5Obm4rvvvmMUKPV6PXbs2IHAwEDGvKGhodi6dSujEt/R0YG1a9earZWkcXJygq2tLWNaTU0NVq1ahdraWsb0nkhPT8e6desYBUqdTocffvgB4fR5Ukb8mkpvZWUlVq1ahcbGRsb0n376ySwEliYpKQkbN27ssQ+wCfy3bt1i9V7SfYBWxrpz5swZnDlzhjGtuLgYq1evZlXieyImJoa1D6jVamzYsIF17aerqyt++uknxjQHBwccOnSI1aDUE2z9Xa/Xo6GhATweD/v37zes6xUKhZg5cyZOnDiB0tJSREVFwdnZGXq9HlqtFlZWVib9ydra2jDWJCUlYdq0aXByckJFRQV8fHwYDVI5OTlmdafT6XDhwgXY29vjxo0bOHjwoEHp1ev18PPzg5eXF+Lj43H27FmIRKI+v4u4uDhs3LiRMTxWq9Vi48aNrEawmzdv4scff2RMu3z58n3XT0FBAVavXs16TveuXbvg5+fHmBYVFQULCwvG/qNSqbBu3TqkpqYy5r127RoOHjzImFZXV4dvv/2W1Wh06NAhXLp0iTEtKysLa9asYRzr+6r0AkBKSgpsbW1hbW0NLy8vTunl4ODg4ODoRwZsePO9lN774fr169i2bdt9KbwDDZ1O96uEGf+aSu9AQqfTGbyeD4pjx47BxsbmvvJaW1vj1KlT9/ze/v37ERAQAICsB/74449NvHy7du0yKMUWFhYmBoEffvjBYJDKz8/Hp59+akhTKpWMSyYuXLjAagwUCoWQSCRwcXExeFbv3LmD/fv3G76TlJTEaFR6GPVz8uTJ+66fgUZPSq9er+9xA8XLly/D1dWVU3o5ODg4ODj6EU7p7Qe0Wi3c3d1NhNXuqNVq/PLLLzh//jyjd2wg4ebmhtdeew2JiYn9fu+QkBBWJQMAqwdLLpdj//79rKHaA4lz587h9ddfv6+w2vtBoVDAzs6O1SMNEKXyp59+MgtTlclkOHr0KGO4tE6nQ2lpqcE7qFKp8MMPP5j8rl9++cWwnra1tRX79u0zRBecPn3aENpaWFiIbdu2Ge6l1WqxY8cOw70KCgrwyy+/mD3fwsIClZWVrL9LKBTCwsLCsM64tLTUxAseHh5u9l4uXryI1157jXVJSH+jVCphb2/fo1Ghra0Ne/fuxc2bNx9ImR512JTeiooKjB49GocOHWLMJ5fLOaWXg4ODg4PjV2DAKr39uZFVVlYWJk6cCF9fXwQGBsLLy8tMCG9ra8Mrr7yCsWPHPnAPzaPGpEmT8Pbbb/fre2huboafnx8OHjwIS0tL+Pn5mQidMTEx8PLywsqVK+Ht7Y3o6GiTEM2GhgYMGzYMX3/9db+V6X+VDz74AJ9++ukDM84EBgZixowZCA4OBo/Hw40bN8zW4re0tGD48OGYOHGiyXUPDw/MnTsXoaGh4PF4cHZ2NoQZ63Q6eHh44OTJk/Dz88OJEyfMdoVuaWnB6dOn4e7ujuPHjxt2YAbImt+zZ8/C3d0dZ8+eNVtGUVZWhpMnTxp2Bu+u3NbV1TF6aUUiEa5duwZvb29cuXLFbDlDeHg4Ll++DA8PDzg7O5sdszR27FiMGTPmge1CHhYWhunTp4PP54PH48HFxcVkbTRAjtt59tlnsWDBggdSpkcdto2sLl26BIqiWHd2lsvlOHfuHK5evYqkpKRfu5gcHBwcHBwDhgGp9ObkpGLDhmWorxdBp+sPwVGN5uZmiER30dRUidpaIePaZ6VSOeCPoGhpacHIkSMREhLSr/dVKBSorKxEbW0t6urqUFlZaTgGBiCKhlAoRGNjI4RCIeM6SYVCMeCPMxIKhXj++ecfqJdJoVCgubkZQqEQlZWVEAqFjOuMmeqHKW/3NaMSiQSVlZWMZ/TSCIVCk/ZCQ5//zBaOqlarIRQKGdeea7Vaxvak0WhQVVWFmpoa1vI0NTUxru2vqanBsGHDHqhCpFQq0dzcjKqqqh7rp6OjY8BHsdzryKIJEyaY7M5tDH1287lz5+Dq6oqzZ88ytkkODg4ODg6OvjNglN6KCoCWeRMTxfjsMye4u/tCq1UgNBToXOYHlQq4fh2gIwdraoDLlwFahxUIAGMnx61bQFwc+b9MRvLSsmxjI8Cy6fGApaCgwHA0B8ejR3JyMvbs2fOwi8HBQmpqKlc/jzCNjY3w9vbG9evXTXb+BoixY8uWLaybZtEbqHW/xsHBwcHBwfHfM2CU3oIC4No1ovw6OQHp6UBwMJCaCnh5Ad7eRKH18QEiIoArV4A7d4jCGx1NlNnsbPJvcDAQHk7++Hzgxg0gJ4ek3b4NODqS51y6RP7l4ODg4ODg4ODg4ODgeDgMGKUXADIzgXPngKoq8jk8nCioajWg0QDOzgB9qo9IBJw5A9BHjSYnA/b2AB056eXV5fFtawPOnwcSEsjnggLynMLCB/bTODg4ODg4ODg4ODg4OBgYUEovBwcHBwcHBwcHBwcHx8CCU3o5ODg4ODg4ODg4ODg4frMMTKW3sJAsxD13DmA5OoIRjYbEO9M7V3UnIIDEOQsE/VNOjr6hUpEdyHra2TYlBXB1JbuMcTw6SKXAzZum6wT6Qnk5Wa/AdgxWUxPg4kLWM1RXd10XicgC/itXyP+7ExJCyhQba3o9OppsDnDuHEl3celaC1FTQz6fP0/Sr1wB/P2B7psStbeTdRKXLgHFxebPFggABweyccDD3lVcoQA8PYELF4AHdH7z/yRxcaTOXFyA5ub+uadGQ95/X9HpALGY7OBItx+xmPy1tpL79haVCnBzI7+L4Sim/wqlkvSP9nbT66WlQGQkc9vPyyNtMSys788LCup5nFGpyBwRFdV1TasFeDzy7h4FiovJWMY0rhjT2EjGoJycB1e2e1FUxC5D9URcHPktN248uLVjGg2ZlxwcSJvoa/2r1WTDmAsXyPq6/kChIOVoaSF9u6WF9Ge5nDzjyhUybz1q1NeT/jqQdvgXCMhY4+BgLkM8KPR60k7E4i75iP7c2krGu96i05H27OLSf30wJ4e8Iycn0kaYyMoi79DXl8wXnQQHB+PKlStwcnKCo6Mj8vPz7/m4gan0/vwzQFHAv/7V+0nzwgXg1VeBxx8HPvnENE0uB6ZMAZ57Dnj7bWDwYOD48f4vNwc7R44Af/oTMGgQ8M03zN8RiYChQ0ndx8Q82PJxsFNZSerud78D/vEP4Mkne99/oqOBt94ieUaOBDo6zL/j7Q2MGgW89BL5zu7d5HpyMvD73wN//jPwyivkj1bolEpg3jxgyBBSpsGDAWvrrnu+807XGPLBB+T/9H3d3cnnd94h6SNHknZnLLzHxJDn/eEP5G/Jkq60jg5g4ULgqaeAv/4VGD784e6IV18PfPgheYd/+xvw9NNEAeYw5/BhUmcUBSQm9s89vb1JGzlxwmTCvyciEWnbI0cCixYR4YZujyNH9n0MnD+f/C4Hh77luxdWVuS+tMATHg68+SbwxBNkXOiu9AYFkbQ33iB9ZP/+3j1HoSBzw7PPAn//O+nTR4+af+/AAVKeceO6rqlUwAsvmPbTh0lgIBkvn3uu5+81NQETJxLl+FHByorISX3l0CHSfinKdCz+NVEogNmzgdGjyXP7org2NxNZccSIrjnq+vX/vky2tl192Pjv66+Bq1eBYcOA11//75/T3wQFkf46ULh6lcz7Y8cCn34KbNz4cMohkQDvvkvayFdfkTlk3LiuduPq2rf7bdhA+oKNzX9ftuPHyb3efpvIZ3/5i6kDQKMB1q8n4/1f/gI8/zyQlgapXI4pU6Zg8uTJeOuttzB69GiMHz8eub0wyA9Mpfenn8ik2hO1taaeHz8/MkF+9hnw8cem3/X1JRVHv/CTJ4HHHuu7pV+vJ1Z0trMZGxsBluMuoFYTyzibR6CmBqirY06Ty0leNm9SZSWxJjIhFrML5Dod8aR3t+D3BpWKlInNClVdDTQ0dH12cyNC4b/+BUybxpxn3jwy6A4den9WN62WlKnbUSQG6uq6zqvqjkJB8rJ5Iu/eZfc+t7WRdsFkIaXbDNsZtM3NAMN5rwDIgFJayqwo3ouODpKXzVtUVcXe/iUSUmbaQ1FTQ4wW9Hvds4cIpr3xbqanEwFoxQoiXHRv/wkJxFB16FDXNfr8sSlTgI8+6nrOP/9JBByAeJgoqitqwMmJfKb7kLs7EB/fdb/Bg4nXFgBKSojlkmbePDLp0RQXk9/3ww9d78/Ywrl4MVFWaO9MX62xQO/aG8NZ4gC62htdP0ePEkWXLuP69UQJ6yt0e2Mbo0QiZm87cO/2JhSyj1ESCfsY1R9jbndFVCgk40xvlV69nljNs7LM/8rLST3t3Ena3xtvkCMG2KDHXJmMlM/Pj+SjKHLsQHExMV4sXNg1Lmdnkz5nYUGMSMY0NAC//ELSPDzI2HnpUlc6jwds3kzyJyezl6uigtlLVl1N+uePP3ZdS04mAtWiRcAf/2g6DqhUpG/QyufNm+S39eZswKAgU8XF3p58Nm43ubmkPCNHAlOnmua/fJl8PyOj5+c0N3ftlklTU0Pe4/ffA2fPEm8c3a40GiIgb9pEZAe6Xg4dIrLKoUNE0XF3B7ZtI0dEAMTj+ac/AWlpwJYt5J0Zz/F+fqTeDh82jT7r6CD3PXyYRKdt2kQMGcZ9S60mv3fTJvJ8tv7TvQ9otWQc3LWL5L1wwbR/ODqSOXr4cPIuvv+eHKvBRGUlGfu68+abxHHRnZwc0g43byZnSQJkrNm9mxhG9uwhffPcOWLYMH6XsbHA1q3kj8kRUlRE+nRPSq9MRvoePU9fuECM8HQ979hBFNK+Ru10lztWrybGR4GAtEd7e/IbR44k6cePk3fk7k7eRXeDR309mW83bQIuXjQf+4KDST4rK1Jf2dldacXF5F1u3kxkLrbxuHsfCAwkCtcTT5Dyf/89aevNzaQu9+3r2hk2PR2wtCTPp2Xq5GQyBm7d2nMkpVDYJXckJZH7eHiQurCwMI8CpPvlpk1dhlydjlzbv5+8H4CMwzt3knJ2lx279wE6IvStt4h8UVxsPnclJgLbt5O/tDTT8ltYkGdXVJAy7dlD2ratLenj1tbAsWOk/2/fTqIXu0PPa1Ip+T1paV0On6tXyb1HjyZ1QvexkhIyLmzeTMZKY9rbSX1t2kTe56hR5B3RREaScu/YYT6HdK8f4/HWx8dU6X7hBTJ20GzfTq7Rc2lbG6BWw/n6dVAUBalUio0bN2Lp0qU4e/Ys+3ON6LXS29jYiEuXLqGNRTjw9vZGIsskX1JSgqtXr0LHILTrdDpcu3YNhSyu8pSUFHiyeBVkMhkcHR1Rz+ISDwkJQWhoqHnCgQNEeOiJd98lHpzuLF9ufr2x0TR8aO1aYoFlU0TYKC8njfLwYeb0b74BXnyRWZCNiiJ5fX3N03Q6Mgh+9hnzfR0cTJV2Y8RiMlCtW8ecd8sWouAzTU4FBeS+dnbMeXuCFlCY6k+tJl6ySZPM06ZMIR25Oz4+5H4XLhCB/X48vZmZ5B6XLzOnf/IJGeiYuHWL5GUK61IqidV+1izmvDY2JG93QQoggzZFkcGYicWLiXWMSbFNSiJ5+2rpA8iAS1HMA65MRtr/0qXMeffsMVUgaQQComD94x/sedk4f54okt0VKlpwXr4c+L//I+WmuXOnS8lqaCBe37VryefW1q7DugEy+A4ezKwonjpFns00NorFRFiiJ0+ATMRDhwLffkvKdPp0V1pZGRG6Z80Cxo8nCrOxcae3eHiQd5yebp7W0UEmksWLmfPSni76uXfvdikVej0wYcL9eWoSEsh92bxO77wD/PvfzGnOziQvHUJuTFsbUcq/+445765dJC+T0lVWRtLOnGHO+/XXwMsvM6fRhpHwcNPrhYV9U3oVCmJIpb3+xn+0EQYgQsnChaR9zJxJ+m93ATo/33SMKi0lwvD77wPvvUeuvflml2Bx8ybxQI0dC3z5Jcn7008kraCAWN//9jfyHp56ioz1Li4kffVq0o4WLSJtYsgQMr52p7GR3HfvXvO0EyfYx7bjx0nZjX9jfT35/RER5LNKRfqSo2PP7xggwrCxAL9xIykzfSQDQOb2SZOIUP7556b5ZTLyrHt5bObNMy13Tg4ZW954g/TrESPIb751iwjC//kPGaNnzCAeur/9jSh8a9aQ773yChnD6OiR554jY6ePD6m7P/2J1M9f/0rqi5alrl0jz6MoU0FSJiPfpyhy3+nTyfi1fj1Jb2khRro//xlYuZK0mxEjmOcuWu6g52mViihgCxYAc+eS9zV/fpcBjY6EeP55UrZZs8j42Z3WVqIwbtlinvbGG8DBg6bXXF2JIj1pEnnekCGkXcpkpCz0uystJWM5RZH3HBFB2uBzz5GyTJ9OxpIdO0zvn519b6WX9lrRSm5tLZljaL75hrzTvob30nIHPU8fOAAsW0be6eDBZBzi8Ug7Ash8MmgQiWag6/nKFZKWnk4iFj/8kBiKX36ZyLr0PGhrS37n4sWkPRqPBwEBpF2PH0/SX3iByFpMToD580mbofuAmxuZ6554gpRp1iwiBzQ0EGMzRRFFztmZGE1+/3tyLTubtOPHHyfy67hx5LcxtRl6Hli1inyOiCBlpCgim40bR34brfimpRHl7e23Sb3TvxsAJk/uGrNcXcmc9cYb5Fp3hZDuA3RIeUMDUSgHDQKeeYbIdr/7XZfMeeoUSfv8c1Jngwd3Rc+UlnbV2VtvkXfz6qukjubM6TJ8Dh/e9Z0//MFcLmlqIum0MVGtJm3v3XfJ/QDyPles6HpXzz5L5onJk8n73rSJpNXWkue8+ippw88/bzpn7txJ+s/cuUT+fvrprjZjjFpN8jJFyzg6kjFq+PCu+bS1ldTfpEnkb9o0w3LUwMBAUBSFjIwMrFu3DvPnz8dhNr2pG71WektKSjBjxgxWBXPLli1wZJl4oqOjsXDhQmgYrEJarRZLlixBeHfBoZNr167h+++/Z0xramrCzJkzWRVma2tr2DC54Huj9N6+zWyxWLSIDBhMaLWkEVEUsbL2FYWCTISlpczpyclkfR/TGp6WFmIVYouJj4hgX0dTVUUGGiaPrFZLOryxsGBMXh5RtJmsl3I5ue/9hGY2NpLfw6Rk6PVkkmUSKidONFeGaYVmxQryfoYM6RKa+gK9BpPN8xMXRyYgJurqyO9hMg7o9aRemRRIgAi7t24xhzaqVET4YVtfkZ5OrKxME61EQspUW8uctydqakheJsOOTkeeyaRwAaSsPj7mxht7eyKQUxSZEPvCyZNk4O2u9I4bR+43dSqZACiKKITG5OURwfGdd5ijIb7/nuRjC0374AMi6DLh5kYUBWMP5pIlXRMxvdSCnsRv3yafhw4l1t4xY8ikLJP16jUYoNubsUBPo9ORidvYwmxMSQkJqe1eP1IpEXKMBYe+QLc3tjEqKoo9AqOmhn2M0umIQGZspDCmoIC0N6Yxih5z2dapCgTs6+PoMbf7GFVQ0Dell75Xfb35H1P9nT5N2sigQeZlk8vJ76GVyJwc4l0KDSX9w9GRtNddu0j9vvAC8Z7QXL1K7l1WRpSFd97pagehoeSZ3t6k7VAUGVMDAojy/PLL5Fr3CA+NhswRBQXmv2XuXPaoARsbIpQa11tdHXm39HpbrZb8hr4sJ9LpiIGEokzD9M+cIdcKC8k7+fhj83Hzk0/Y53+atDRTwfjLL4nAT0drVFYSZTMpiRgnnnqqa45sbydj4MqVpP6feIK0zT17SHlEIlLG5GSi6Awa1PUspZIIydOnm5bnX/8yVXoBIDWV3Jvux9bWXfVAG1l//pnMS7RR/J//NJc96D7AFqVkbU2eY9yO9+/vMsCwodUSGYrJEN9d6RWLSRv4xz9IWXg8Mh5TFPk/AHzxBakHgHgU6TI1NJDvTZxI2qi3N3nPFGXqyMjKurfSW17OPE/L5URZGDy4Zy8YG7TcQUeRaTSkLdXVEeXEzY20U/q5NjZE3qHf+fjxXQb1iROJ/HPpEmk39JxIjwGrVpHPO3YQRfnsWRKNoVQCr71G/tzcSJ9fvZp81zjygyY9ndzfuL3w+aSeuvepoCDSH1xcyP1sbYkRbetW0g6efNI0lPbkSfK9ykrT+9DzgHEdLVpkGpn5+98TLzdADDvjxnWVhx7TAgPJ+DlsWFckyebNxHA+ZYr5b+3eB+g1tB98QOSO1lbyp9US2fGxx8hvoLG1Jf2YlsPoMW31amKglkjIXJKXR9pQaysxzk+dSuRyijI1rgBkzPbx6TJWSyRkLHVxIcqrrS2Zy5cvJ+mjR5N3ZVwndFTLjh1kbKDbU2Ym6T/nz5P3RFHEQOLnR9o/bcTorsfo9eTddo+UUSiIEXf4cKJ40/O4UEja9xNPEEfBlCnE6dfUBD2Ifvfxxx/jww8/xMqVK/tf6f1N0Rull42lS0nIQnfq60lHHTHi4S1Y5yAKb/eB6eJF0gn/8AcyaD/2GLFo3U/YNcevD+2lZPLqsWFnx7y+7ZtviEJL8/nnZID+f/bOPDyqKs3/5c/uaW0VBOxue3p07HHsnp6ebltt0dEeUERFREBAQBYxgApCWBICBEgAE8ISlgBZIBvZ931fKnsq+x6ykqSyVip7JamkKrV9f38cbi2pWyGJYWlzPs+TB+49de49996zvO953/MehsREMsAsW6avWA4MaNYAsnkcAERY1RauxrNsmb7FyNiYzAAzysS2bWQGFiCDFIdDXPAAMnBMdS3Z/aCujgiVr7zCHnSLomGqSq9EQmb8X3xR/2/9es3vBAJiZfzFL4ggm5h47wBX1dVEaOzvJ14Uzz5LBIeTJ4kQw+HoBnTq79dY7v76V1JXGVQqcq3ISM2SniNHiPurjQ0Rfj08DLuKs7FqFbFOsnH2LLGQaNPbSwQhZlJ5cJAIgpNdY97bS8aIuXN1FRC5nFhZGUvKM8+Q9zzeA2DxYk1bnSwvvaTrvg1oFJRNm/Q9x3bsIJb3ujrSTwwPE4vn8uUaC055OZmMfvZZ3bz79+t7G/3lL/pW9vR0ovwwEzaXLpFyAqQ/evJJMpFgZUUscK6u7F5k4+nvJ27DixcTa99f/kLGXW1PIxMTMv5Olz/8Qde1khG8V6wgZbW21gQQZCaDMzI01rhXXiEKBfMeOBzyzs+dI3mdnMjkkPZSJaZNj1cu7kVTE3nWf//3mQ8A2NdH2sL4um9lpVsHPvtMY8F8+WWSdvky+d2VK+Q9MTLr6Ch5h4sXk/f8wgtkPJbJNP0OUy+uXSN5DRlExuPnR+rreMtwVxepI889R2SzBQvIc6WkaMZX7Ul95txkAl6uXq3bh/7+9xrPw7lzybNq8+tfa9aL/+EPpEwcDlHIfvEL3WVL9+J//5dM6mnDeDtpe7Yw3jmMMjg0RCyi4w0z+fnEiiqXk8nGzZs1XgD3Csg7Okr6tNxcUl+eeB+yVFQAACAASURBVIJ8W8aD82c/0/WCU6lIHxAQQJTjNWt0rzdvHpGr8/PJ/b//nvTXZ86Q9uPqOr3lnf/4B9GjAE1fZ25OjmUychwSos4iEAjw6aefYuPGjVTpnZDpKL0DA2TmYflyYnlpbtYMGAUFpDE99xwxzff26q9NY9bIREXNyCP80xMfT1zhZioqbV8f+SZvv01m47XXDggEZEY7Pp40zMceIzPF2p4Ho6OkPNOxAP8UCQ0lVp8HQXo6EZZbWsiAZmFBOjdty5BUSjrZ8crnyAj51seOkUGpro58b2aG2dmZfO+EBDKDOH8+EQwBjWvlZ5+RWePOTo3luqKCtPOnnyZttq9P97oMx46xW5gBUi4OR3/NWnw8Oe/rS4SoV17RKOJyOXH/W7aMPMvZs+yz2uHhZGB5EJEwY2KIgPDHP5LZ8J4efcvO8DB7lOvZyL2U3ro6omQwXgVKJRFGUlL0/0pLydhjY0OEkOefJ+vLJwvjepeWRhTEf/1XcswEf3rnHVL/GEvC+++TNiISadbWJyaSurx/v2YNYVsb8UZYu5a0i/5+0sZ8facWbMvCgghc2vVJLCb3O3iQtK2mJs27UqmI0vqnP5E2+t13pIzjBayWFiLYa7eb4mLStp59lrRBZpxWqcg3KCkh44SfH7ECvfSSrrVPJiNj/JYtk38+gFhlnnuO9CPNzURe2LyZWEUyMzVWVT5f48Zva0usuY89Rr7Lnj1EiGYE5Kgo0v4Zq1xTE/lOc+dqJira28n9Xn6ZlEFbZgkIIIpFURF5LjMzUrf6+sikBodDhP+hIfKtg4OJpe5e7N6t6a/6+kj9eOIJ3Ymyo0dJOevqyPOvWGF4XS+DQkHK0dxMPAr279c8j1xOhOUXXiD908gIece3bunGs3jvPdKGnnxSY4UaGCD53nqLeLiIxaQP8/AgaRIJuUZsLPkWMTHkeDKeN8nJZNLmpZdIverp0V+qMjpKlARDHmKGEInIM3I4RHFl5M2xMTJB8rvfkfY+Okom1D7+mLyXo0c13hojI5qdTBivLCMj0m4EAtK+FizQLDlZvZooOxkZmkjRt25Nbj09QO7J4ZD85eWkHTGTMe+/T9IOHybf5+c/J+1TLifeJn/7G/m2JSXE6PTii/dePigWk+suWaKxmP7mN+QdyGTEevvLX5L63tCgqbtMbIKtWzVW3hdfNLwEcDxSKel//ud/yL2bm0ndVSjIOPnyy8SDq6SEPNOrr5J+aXiYfLPiYtJmHBxI3u5u0kdFRJA6yOeTd7dsGaljhpbNaXPnDhmTXF3Ju2Cssbt2kXTG44bLJd9z/Xry+85OUo7HHiN9QHMzkZ05HKJH9feTiYIPPiDlGhoi3mqenuxeStqMjRGZLiODvK/cXCJjMIFoGSX49deJnMT0jePG1S1btmDdunVU6Z0QS0vDay8NceQIEQaefpo0lPnzNa4BTDSzX/2KdDZMtD7tBdt9fSTfu+9OvMXAbEAuJ4Pe55/P3Lv47jvy3p96ivzNn69Zk8AQF0cGuCefJA1J29LLuJ2sWjUz5flnZmSE1GdD67hnmlu3SIc7fz4RSP/t38g5bRhXrvHBZYKDSb45c8h3nT+fDIqMtUkmI3VjzhzSdt9/nwgeCgVxqfr5z0md+PWvSV7GzevECfIOFiwg5Zk/nwgv45W9lSs164DHExdH8rK56J84QZ51zhxSF7VnsnNzySA4dy7pU8Zbm0ZGiKKwffuD6UtWrCBt4/nnyTubP58IkNrU15P3xfSJs5nOTiK0GFJ6v/pKfy3pRAQFEeXv2LGpbZkilRKB9cknSV2LjSXXeuIJIrAARBhbvpzUtTlziFWKEfrEYmL1mzuXtIM33yR1YM4cIthkZxMB7plnyPWfe460h6l40NTUkHqjbUHx8SF17JlnNG36nXc01sLmZtJmnnmG1Ec2ZYxZx63tSs8EA3vuOU2b/sMf9IVnZj3inDm6bY9x+ZvqxOjgILHoPvuspo977TWNouHkpCnPr35F+gaZjMgKTz5JBEpjYzKubd9OZIznniMKyG9+Q55h3jzy9/XX5D319pLJjPnzSV175hny/y1biLD55z+Ta69aRRSQBQvI75ilZA4O5Nrz5pHv/9vfEoXkXv1NQgJRULZuJff68ENyn7ff1kwM3rlD3L3nztV8W0NLexhaW0n/O/55tm0j6Z2dpB4//bTmHf/5z7rB1bhcMoaMX/tfXk7qNpOXKVNPD7FuM9dj2tH8+Zp17RPxxRek3/zNb8hk0/z55D1oT/S3tJDfjLek3Yvjx8m3efJJ8h7//nciVxUXk3r7y18Sy3VEhEYmcnMjkzvGxpp3P3cuea/MeuGFC0l5f/1rjcLLBI4aGCBu48y7f/ZZUvcm2x5EIlLfnnmGlP2//ksT/NHCgpwbHiZKz9tva+pafT0Zb+bMIX/vvDM5LzAvL82zh4eTCeRf/pJcIyeH9I+M3DhvHjFcaVvNnZ1JXqGQTCS8+OLkAkpmZpL2qS2LvvCCxnPg9m2izM2ZQ97/okWaiQNbW93vOn8+kZP7+jRtduNG0k6ffpq096eeIt/fUEBSlYqM4U8+Se7p7k7K+MQTGhl5YIBc99lnNRPczJJTuZzIRfPmkfK8/jrxXJgzh7h/V1YS75enn9b8ZvFiw8uYGCQSUi6mzc2dS+Qz7eWQNTVkUmDOHHJtlrXCW7duxYYNG2BnKC7HOGan0stYkjZtmjjipDb9/WQmo7WVCAp8vkYA7u8nFbq1lZzn88nAPH4Nc3f31Fy/fqoUFgJzHgeaZ9BNsrdX832Y7zB+9n9khJxvbyfrJ8YP4F1dU187+VMkKYkMDoYi6d4Phoc1bcdQdOzubn2BmvmmLS3ku/L57N+2o0N31l+lIs/HWEOYezMz8SKRfpvm8/Xb9MCAYcuWVMq+hpuhq4tck81aOzbGXocBonA88YThSOEzTU8PuVdLi+Y9aO91zCAUGv52swUPD+DTZXeDvGXpp4/JgN//BnCeXKRJAIBcYjgy9b3QruPMt2lv11e4md+w0dmpSevuJvWAuZZcrmk/Uw3cyLBlC5nEYZ5RLNa0aWasHR93QKkk92UbT1UqIiCOdykeGGBv0+O9jTo7NeM880wyGVE2mWBB06G7WzP+jIfpx7T7i44Oza4LAwOkTIx1uqVFE6lWJiN5tYVMZv0g01aZtsvILMy1u7pIfuZ5tSfomD65tXVqEf4lEiIId3eT78SMt9rI5eTakx1jFArNM7A9j/Y70+7Hx9Pebri/ZpMbmLrY3Kw7VkxmYqe3V7/fbG2dGbljYEBTl1paNO93bEzTbkQi8t0YmUi7rTDyUkeHbv0fHiZ/TP1io7NTv75NheZm/bgoIyOa6w0NsY+bzHNMFrFYk2dkhLwPpu5oe2Yx7XK8QiuVat7r6Kjh3Q7GI5Vq6ilTp1pa9PuZlhb95xGJNN+VqWtCIakz7e2aNqvdH7S3s3uhaSMUaq7J1IP2dv33zHxbNpmEeU9KJemrW1p06xRTz6c6VjH3NBRbRqlkbdMVFRXYvXs3XnnlFbz22mt48803DQZT1mZ2Kr2ZmWRdyddfExcRyqRg6h5DaqrGm1Eu140H09FBPKgY2aigAIhjYq6ct0HUK/tQfkdz3dpaagB/ZNizR+P2Qnn0MDExHKmY8lDo778rswV4Y+TLHQh44RA68sjEQFMTMWjIAaC6EJnzViAlgQi5SiVZScB4f3Z1kclzRpYQCoF2AzvN/WTo7SVrKae6BswQ9fXEAjWdqOeGkMtJGQ0FmaRQKBTKA6O7uxsJCQnIy8tDaWkpMjMz0T4JQ8DsVHop0yY4mCxFKC4my7c8PYkHQng48aRxdiYTUK6uZKlEcDCRQW7dIsJcQRGQ4s5HaLACzu5kgioyUrNdHuURoLJyYgsl5eFSXT1zCgJlRujrI16qXaOAdwIQmQO4eZHJb2dn0j/GxAOV2f3wvjEM7yDi5RYdTdJcXEi/6eZG+kMfH6KzOTo+WIeLnwQDA+TlUigUCoWiBVV6KVNidJQor87OZPJbLCaBEpngtXV1JEgoE/8jKYnEWRgcJJZcNzfA5+4yjk4BCaRnaEcQCoVC+WehsZHEeGKWQpWWkr6QMQ5GhAP2ToBESbzrHB01gSgbG0kgUWaZZ2oq2S3E0E5KFAqFQqFQpgZVeikUCoVCoVAoFAqF8pOFKr0UCoVCoVAoFAqFQvnJMiuV3tHRUaSkpCAtLQ3SKewpKJFIkJKSguTkZIywRCmtra0Fl8tFXd0MRiWmTJqhoSFwuVykpKRgjCW0fH19PRITE1GjvT0M5ZFCKBSCy+VCMcX9m3NycpCQkIDOTsNRf5KTk/XSZTIZ0tPTkZSUhCEDkdVFIhHS0tKQkJAAEUuE2oKCAlSw7N9XW1uLxMRENGmH4NdCpVIhLy8P8fHx4I/bh7e4uBiJiYlonUq0yvtMfn7+I1emR42BgQFwuVxkZGRAJpNNKa9MJkNqaiq4XC64XC7S0tJYxxkKhUKhUChTZ1YqvcXFxdiwYQPKysomLZh0dXXh+PHjiIuLQ3R0NA4fPoxurXD5iYmJsLe3R1FREa5fvw7uVDcbp/woWlpacPToUSQlJSE0NBTHjh3DoNa2HDweD4cOHUJmZia8vLyQk5PzEEtLMcSePXvwt7/9Db2TDNQ0NjaGc+fOwdfXF6mpqTA1NcVtliA20dHReOGFFxCotQ9ff38/LCwsEBUVhfj4eBw6dAgd48Lm83g8nD59GomJiYiKitJTTpuamvDqq6/i4MGDOufT0tJw5swZZGVlwcLCAqWlpTrpra2tOH36NEJCQsDlcpGntXVacHAwTp8+jaysLLi6uqK+vn5S7+J+oVAoYGdnBzc3N2RlZcHMzAz599pXc5YyPDyMkpISfPHFFwYnO9hoaWnBpk2b4OTkBEtLS5w+fRpeXl5TmpSlUCgUCoVimFmp9BYWFuLw4cNTyhMaGoqAgAD1saOjI3yYDb0B7N69G31396fq6uqCqanpzBSWMik8PT0RGxurPj5//jxiYmLUx+bm5rijtd3ElStXIKZ78j5SxMXFwdLSEubm5pMKPQ8A5eXluHDhgvo4MzMTluM2MBeJRDAxMcHZs2fh6+urPh8fHw9XV1f1sbe3N27cuKE+bmhowMGDByEfvzevFidPnoStrS2srKzU56RSKQ4cOID+uxGwGxoacPToUaju7skllUpx+PBhVFdX611PKpVi3759GL27L2Zvby+uXbs2qXdxv2hoaNB5voqKChw6dOghlujR58CBA2hoaJj07y9cuIDdu3cDADw8PBAUFISysrL7VTwKhUKhUGYdk1Z6BwYGEBkZadDdKi0tDZWVlaxpbW1tiImJUQt92qhUKsTFxaGlpYU1b1VVFVJSUljTJBIJIiMj1crmePLy8lgtEkVFRfdUSrlcro5QOt5d9vDhw0hLS1MfOzg4ICAgAAKBAEFBQXBzc5vw+myIxWJERkayulACxOpUxIT3HEdXVxeioqIMWq6TkpIMul03NDQgISGBNU0ulyM6Otqg22hJSQkyMzNZ04aGhhAZGYnhyWzkPg6BQIDo6GhWN1eVSoWEhAQ0aoU2Hf999u3bp/OuzM3N1S6ocrkcK1eu1FGCJ8Nk2gCbmytA2kBsbOyEbaDZwGbw1dXVP6oNaFsRtent7UVkZOS0rEnNzc2Ii4tjfR6lUomYmBiDimtFRYVO2wHIkoNvvvkGHR0dOHjw4KSVXrlcrlMGR0dHODs76/zG1tYWMTEx8Pf3h4eHh/r8+LZiaWmpM3Hi5OSEqKgoFBQUICYmRq9dpqen4/Tp06iqqsLRo0fV57u6unDs2DGdMu7bt089ycLj8XDx4kXw+XxER0frKEdjY2PYu3ev+l5tbW1YtWqVWgmeLC0tLYiNjYWSZZN5lUqF2NhYg27Kt2/fRqrWHmJyuVznOj4+Prh06dKUygMAPT09iIyMZF16ABD389raWta0pqYmxMfHs9Y3hUKB6OhoPSs9Q1lZGTKYDcXHMTw8jIiICB2vEG2ysrJQXFzMmiYUChEVFcU6KWJsbKzTP92L0NBQrFq1Cr29vfDw8ICPjw+1plMoFAqFMoNMWumtqanB4sWLITCwaeD27dsNWiQSExOxbNkyVuFALpdjxYoVOlY5bW7cuIGtW7eypnV3d+O9994zqGwfPXoU5ubmeucno/Ru3rxZT3hmsLW1hYODg865qqoqnD17FlFRUThz5oxB4W0i2tvbsXjxYoPK6YEDB3D69GnWtPz8fCxZsoRVeFOpVFi/fj28vLxY8wYGBmLNmjWsAqVYLMaHH36IrKws1rznzp1TWyjG09TUhMWLF+u5hE6GjIwMfPjhh6zCvlKpxOeff47g4GDWvKdOndJRbgDi0m5mZobo6Gh4eHhg3bp1KCgomFKZamtr79kGrl69ypqWlJSETz75hLUNKBQKrFixAlFRUax5b968iS1btrCmMW3AkLJtbm6uo5BpU15ejvfff3/SrsTaREVFYcWKFayTEmNjY1i2bBmSk5NZ89rZ2WHHjh0651xdXdX109jYGEKhcMplCgkJwfHjx3WU+IaGBhw4cEB9Dz8/P9a8Dg4OeoqctbU19uzZg7CwMKSmpsLBwQE9PT3qZzQ2NkZfXx+qq6tx/PhxdT6hUIiTJ0+qj+VyOY4fP65eMxwWFoYtW7bAzc0N2dnZcHBw0OnDYmJiYGlpiaioKDg4OGDjxo2TngRgiI2NxfLly1knweRyOZYvX454A3uF2dvbY9u2baxpCQkJMDU1Nbj+eSKKi4vx3nvvqS3g49m4cSPc3d1Z08LCwrBy5UrW+iaRSPDRRx/pTaQwXLx4Ed9++y1rWmtrKxYtWmTQKrt3715YW1uzpvF4PHzwwQesk3pTVXoBICAgAMeOHYO1tTWCgoKo0kuhUCgUygwyK92bJ6P0GsLKygp2dnY65yQSiY5Q29XVBXNz8ykH46H8OORyOY4dOwYXFxfW9I6ODmRmZkIkEuHQoUMPfa0khSAUCrFy5Urk5+ejvLwcGzZsMOjRYAhPT08cOXJEz4q4f/9+2Nvbo7KyEseOHcP58+f1Jh4uXryI8+fP613z+++/15kw8Pf3V68J9vHxwa5du1BdXQ0vLy9s375d3f57enpgYmKizieTybB37161h0BQUBA++OADdXpdXZ2O+zBzLjs7G11dXdizZ8+0lMyZJjQ0FPv375+W58ZsYzpKL0C8YxwdHeHr60uVXgqFQqFQZhCq9E4SuVyOc+fOwcnJSS9NLBbDzMxMLUwPDg5i3759OsI14/KZnp7OalGdTXC5XCxbtsyg2+10GB0dhaWlJby9ve/525SUFBw/flznO8jlcoSHh9MAVyBWtWXLlhn0oJhphoaGkJCQgOTkZKSnp2P16tXg8Xg6v1EoFIiIiNA7DwC+vr6wsLBgvXZubi64XC5SU1Nx8OBBnDp1Sm39VCqVuHLlit4kFkNSUpLOdV1dXREdHQ1AE5k5OTkZTk5O2LRpk9qCqVAocODAAbWHA9PfMPWts7MT3333nbochYWFOuuStXF3d8f169d1zkVFRWHZsmUPdM1nZGQkzMzMDPZdY2NjCA0NRWFh4QMr06OMIaVXKBTis88+M+gRIpFI4OrqSt2bKRQKhUKZYajSO0l++OEHbNu2Dfn5+cjKyoKPj49ORFYul4ubN28iPT0dzs7OesqTSCTCE088gVdeeWXKW1n81Fi7di3mzp2LgYGBGbumqakpvv/+exQUFCAzMxOenp46LuaFhYVISUlBREQEHBwc9O4tEAjA4XDw9ttvz1iZ/llZtGgRXnzxxYeyXUpNTQ3WrVunpzz19PSAw+Hg9ddf1zkfEhKCjz/+GJmZmeDxeIiMjGR12+3t7cWRI0dgY2Ojnoy6fPkyNmzYgLy8PGRlZSEwMBC5ubk6+ZycnODv74/Q0FBcu3ZN753I5XJ4eHhg27ZtOksLSktLce7cOSQlJeHChQt6Sxaio6Nx7do1JCQk4Ny5c+r13CqVCqmpqUhPT0dgYCDc3d31PEaWLl2Kf/3Xf31gFlcul4v3338fXC4XOTk5iI2NRWRkpM5v+Hw+OBwOPvroowdSpkcdQ0qvv78/OBwOsrOzDeZ1cXHRG18oFAqFQqH8OGal0pufn49vv/0WY2Njk7a6NjQ0oKKiAgUFBcjPzwePx1Ov72Nobm5GXl4e2traWK9RX18/6/e4HBkZwfPP/wZBQbdm9Lp1dXWoqKhAfn6++vtoK7atra3Iy8sz6NKsUqlQW1trMBjObKGnpwdz585VWzQfJCqVCuXl5SgpKWHd7qWurk5vbatAIEB5eTkKCwuRn5+P3Nxc1rytra0oKipCeXm5Wunl8/k6bTonJ4c1YFt5eTny8/NZlyuIRCIUFhaipKREL9BVR0cH8vLyDAYZ4/P5yM3N1VvjWldXh7y8PNbgfgMDA5g3bx4iIiJYr3k/6OnpQVlZGYqKitTveHw7UqlUqK6untZa7J8SSqUSY2Nj+Prrr1kD5a1ZswarVq1izdvR0QFfX1+cPXsWN27cwOXLl6krOYVCoVAoM8SsVHoFAgEsLS3h6+s75aiosxmVCtDWCfLzAWbppUoFJCQAjM7Y2wvExgLMEsuqKoDHA+rrK7Fu3WqkpSmgLTc3N5NrUB4uWVlZ2LBhw8MuBsUAPB6Pfp9HGKFQCC8vL1hZWel5k8jlcqxZswbl5eWseaVSKYRCIUZGRiCRSNDb20vjQlAoFAqFMkPMSqWXMj1UKiAwEKipIX9uboCLC9DaCsTHAz4+gKsr0NcHuLuT46googg7OwO3bgHl5TJkZcnh5wfcuAGIREBSElGYKQ+fsbExKmg/wtDv88+LSqWa1vZgFAqFQqFQfjxU6aVMCZEI8PICHBwAiQQYGACuXCHKMACUlwNnzxIrMECUXltbYvmVy4GbNwFPT5LG5wN2dkB4+EN5FAqFQqFQKBQKhTILoEovZcqoVIB2LK7xcbkkEt1jbeOGQkH+2NIoFAqFQqFQKBQKZaahSi+FQqFQKBQKhUKhUH6yzEqlVyaTqSORjjGRliZJU1OTwQilPT094PF4rNFjKfcfsViMoqIi5OTkQDLe3AwSLTcnJwddXV0PoXSUyTA4OIiSkhIolcpJ52lqakJeXh5yc3NZoyFLJBJkZ2ejpqaGNf/t27fB4/EwNDSkl9bS0oKcnBzWSMoMd+7cUe/Jq01HRwd4PJ5eNPfGxkZ1WXNzc1FRUaHzvA0NDTrPMz4q9MOitrYWOTk5BqPTU0j9zc3NRVlZ2bTWXhcXF6OgoAAFBQUoLCxk7ccoFAqFQqFMnVmp9JaVlWHDhg3g8XiTVno7Oztx7do1fP3117Czs9NLr6urg6mpKWJiYuDp6am3Ty/l/tLR0YFLly4hKSkJoaGhOHHihI5ym5ycDHt7e6Snp+Py5csoKSl5iKWlGOLQoUN47bXX9BTXidi5cyd8fX2RlZWFrKwsnS2Cent7YWVlhYiICFy9ehUhISE6ef38/GBjY4PY2Fi4urqit7dXnRYTEwMbGxtwuVxYWloigSXamkAgwBtvvKG373dRURHMzMwQHx8Pd3d3nYi9Fy5cQEhICLKyssDj8bBp0yadurpt2zYEBwern2cm97OeDgqFArdu3UJAQAAyMjJgaWkJLpf7UMv0qCISiZCVlYX169er916eDEKhEN988w0uX76MY8eOwcLCAi4uLnR3AQqFQqFQZohZqfQWFhbiyJEjU8ojkUjQ39+PzMxMODg46KVbW1sjKytLfXzt2rVHxkIzG5BKpTqRUc+cOYOoqCgAZO/MXbt2qQXI6upqnDhx4qGUk2KY9PR0HD58GGZmZlPaL3nv3r3o7u5mTbt+/TrC70ZKU6lUMDU1hUAgAAD09/dj37596r26q6qq4Hk3yppYLMahQ4fU+6T29/fj+++/h2zcAvYzZ87g1KlTsLa21jlvbm6OyspKAMSz5OrVq+oJNm0L4ODgIExNTXWuu3v3blar88NCpVLp7Bd7+/ZtHDhw4CGW6NHnwIEDaGhomPTvL1++jO3btwMAvLy8EBQUZHBrIwqFQqFQKFNn0kqvWCxGbm6uwS0XysvLWV38AOL2m5+frxYutVGpVCgsLDToctrS0oKysjLWtLGxMeTm5uoIZNrU1NSgtrZW73xRUZGeZWY8paWlaG1t1Tufnp7OqvRaWlqiiNm0FsCWLVtQWlo64T3GI5VKkZubC7FYzJpeVVWFeu3NbbUYGBhAbm4u5HI5a3pxcTHa29tZ0wQCgU7ZtVEoFMjLyzNoeWtoaFAL9+MZHR1Fbm7utKwVfX19yM/PN+jmWlRUhE7tTYPvUldXBy8vLxw/flxt8VOpVLCyskJaWhpEIhGCg4Ph6uo65TL92DZQUFAw7TZgqC4xbcCQklRbW8vaBgBgaGgIubm5eorcZOjq6kJhYaHB58nPz0dPTw9rXj6fryfQy+VyfPfdd2hsbISJiYnBusqGkZERXFxc4O3trbf3tqWlJRobG9XHNjY2SEtLA0C+yb59+9RplZWV2LJlCwBS77X7laqqKuzfv1+nfRUUFOD48eOoqKjA0aNHdcpkZmamo/Rs2LCB1fIXEhKCa9eu6ZzbunUrPDw84O3tDX9//2ltc9Pd3T1hfSsoKDA4UdDc3Mza5w4MDIDL5cLU1FRngm+yMK6/hvqokpISg67TQqHQYH1TKpXIy8vTsfBr09jYiIqKCtY0iUSCnJwcjIyMsKbfvn0bd+7cYU3r7+9HXl4eqxuzsbGxTr27Fz4+Pli7di0kEgk8PT3h7e2NfCYEPoVCoVAolB/NpJXeqqoqvPnmmwYtMF9++SVsbW1Z02JjY7Fo0SJWYUcul2PJkiVqa8x4rl+/jnXr1rGmCYVCLFy40OCM+IEDB2BiYqJ3fjJK75o1a1iV27S0NNbzJSUlMDExQWpqKgIDC099NQAAIABJREFUA7F69WqkpqZOeI/xtLW14c033zS49nDXrl04duwYa1pOTg7eeustVuuySqXCZ599Bjc3N9a8vr6+WLZsGatAOTw8jHfeeUetKIzn9OnTMDIyYk1raGjAm2++Oa01zqmpqXj33XdZhVGlUomPP/4Yfn5+rPd0dHSEiYmJjhBcXl6O06dPIzQ0FJaWltNal1hdXY0333zToEK2adMmg20gLi4OixcvZm0DCoUCS5YsQVhYGGtee3t7rF27ljWtq6sLCxcuNDgxdPDgQRw8eJA1raSkBAsXLjSonE5EWFgYlixZwirwS6VSLFq0CPHx8ax5L1y4gE2bNumc8/X1haOjIwBiuWWb0DBEVFQUeDweBgcHERISgkuXLqnTrKysdOrf9evXkZmZqT6+ceMG7OzskJKSoi7X+EmalpYW7Nq1S6ddKpVK7Nu3D21tbaiuroa5ublOnrS0NBw5cgRpaWnw8vLCmjVrUFhYqFf2EydO6Ck34eHhyM/Px+DgIPz9/fWU4skQGRmJ9957j3VCQy6X47333kN0dDRr3itXrmDDhg1650UiEaKjo/Htt99Oa/lGQUEBFi5caFA5XbVqFW7cuMGaFhQUhKVLl7LWN4lEgn/84x9ITk5mzWtjY4OtW7eypjU3N+ONN95AXV0da/rOnTthYWHBmpaZmYm3336bddJ1qkqvQqGAk5MTzM3NYWNjg6CgIKr0UigUCoUyg0zJvXmiwBxKpZJVaQKI0jVRXoVCMWHeiYLa3KtMbHkno/QaKpMhpRcgAXXi4uLQ1tYGCwuLaQkt03meyeS91zu+V977UaaJ+DF1BgACAgLULqfDw8M4efKkWpmpqanB2bNnp1Wun0obmEzeiZjJOtPd3Y3Vq1ejtLQUjY2N2LJli0HL3L1QKpU6Fllzc3Md74hz587pTUbxeDwkJyejrq4O+/bt01EU6+rq8M033+hNKgQFBWHXrl1obW1FSEgIvvvuOz1lubq6GnFxcejs7ISZmZmeYjU4OIg9e/ZMGFdgbGwM+/fvn7Cus3E/27RIJMLWrVunFWTpn62Pmm6bnqrSyyAUCnH9+nX4+vpSpZdCoVAolBlkVq7pnYzSa4icnBw4OztP+Jva2loYGxvruCUyLp+GXIFnE7m5udi2bRur5Wu6jFccIiMjYWNjA4AoVYcOHVKndXV16SkSSqUSOTk5Bl2BZxPJycnYtm0bqqurH8j9+vv74e/vj+joaMTGxmLFihV6ngUqlQq5ubl6ZRIKhTrKRVtbG/bs2aP+tnZ2djrBq3bt2mUwErODgwNcXFzUx4zCy7akoKSkBCEhIYiKisKVK1fwxRdfGLSY5+fn49ChQ3rKU3Jyst5a4I6ODh0X+YaGBhgbG+v8JjU1Fdu2bXtgfcl474Th4WHs2LFDR+lVKBTIzs426Ao82zCk9Pb19WHnzp069UwbqVQKV1dX+Pj4UKWXQqFQKJQZhCq9k2R0dBSFhYVwcHCAiYkJCgsLdVy9q6qq1BajS5cu6a3tFIlE+Jd/+Re8/PLL01pD+VNi8+bN+PnPfz6jWwcx7z07OxvR0dE4ceKEjotscHCwWpB0cXFBdna2Tn6BQAAOh4OFCxfOWJn+Wfnwww8xf/78hxKIrampCWvXrtWLrt3T0wMOh4PXXntN7/eHDh1CaGgoMjIycPz4cfB4PHV6d3c3rKyswOVy4enpiYCAAHWaQqFARkYG8vPzERAQABcXF7VFsKWlBYsXL0ZAQAAqKyuRl5eHsLAwPcueUqmEr68vvvrqK521+CUlJcjNzUVCQgIuX77MWtdtbGyQlJSkc66+vh6mpqYIDw9HWloazM3NUVBQoPObTz/9FHPmzJlShOsfQ2dnJ86fP4/o6GhkZ2fjhx9+0IvezOfzweFwsHTp0gdSpkcdQ0pvWFgYOByOQdd/AHBzc4Ovr++0vR0oFAqFQqHoMyuV3vz8fOzZs2dKeYaHh5GSkqLzp71WkM/ng8vloqioiNWVTqVSIS8vb9ZH5JRKpfjd734HV9frM3pdpVKJ2tpacLlcpKenswbPKisrQ0pKCqswqlQqkZ2d/cCsm48qIpEI8+bN01EOHxRMQKKUlBS976BSqcDj8VBVVaWXTyaTITMzE8nJyazB5wYGBpCUlKQXDIxpkykpKXqRdkUiEbhcLng8nrq9Z2Vl6Vlr+/r61Onaa1Xr6urA5XINrrUGSJ/BFqRKKpUiIyMDSUlJeuvHxWIxFixYAB8fH4PXvR90d3cjPT0dXC6XdY2+XC5HZmamwUB7s42dO3eyWr03b96MDz74gDVPZ2cnAgMDYWVlhevXr+Py5csGgzRSKBQKhUKZGrNS6W1paYGJiQl8fX0NRu2k6KNSAdpbhlZVAdoxt3g8gNnmdHgYyMoCGP2fzwfKy4H6+kp89NH7yM2VQjuWlFBIrk95uGRmZuLjjz+ecA0k5eHB4/Hw8ccfT3stNuX+IhQK4eXlhcOHD+vs+QyQiYGPPvoIubm5rHnFYjEaGxvR09ODgYEBNDc3z3qvIAqFQqFQZopZqfQyyGSyKQeImc2oVEBAANDcTP5u3ACcnIiim5YG3LwJuLsDEgng5UWOExOB/n7y25s3gdpaCbKyBuHuTs5JpUBmJhAbS5XeRwGxWPxI7RFL0WVkZIRa/x5hVCqVQUVVpVIZjFxNoVAoFArl/jKrlV7K1OnuJort9evA0BA5vnwZ8PYm6Xl5wNmzQEYGOQ4KAi5cADo6iDLs6EjyA0BtLWBnRxRpA1t3UigUCoVCoVAoFMqPgiq9lCkjlQKDg5rjwUFA27ihbcxQKnVdokdGAO3ltv391MJLoVAoFAqFQqFQ7h9U6aVQKBQKhUKhUCgUyk+WWan0DgwMwM3NDWFhYTp7TU6EUqnE7du3ER4eDm9vb70ozENDQ8jIyIC/vz8NAvSQ8fPzQ1xcHGtaQ0MD7OzsaACzR5SKigpcv359ygF8oqOj4efnp7e9D0NbWxtCQ0Nx69Yt1NXV6aTJ5XJwuVz4+fkhNjZW3X7Ly8vh6emJkJAQhISE6LR5iUSikxYTE6O3VzRAtiC6evWqXjTx+vp6+Pn5ITw8XK8udnV1ISYmRm87o4dJW1sbYmNjERwcjKSkJBoLwQDd3d0ICQmBp6fnlPuY1tZWeHp6qv8CAgLo+m0KhUKhUGaIWan0FhQUYMuWLRAIBJOOgtrT0wMXFxfU1taipqYGZmZmKCwsBEAClISFheHy5ctYt24dVageIuXl5Xj11Vdx8OBBvTSVSoW9e/fitddeY912hfJwkclk+Prrr/H222+ju7t70vlcXFxw+fJlNDQ0ICAgADk5OTrpKSkpOHnyJAoKClBRUaGzZdXAwABOnjyJoKAg3LlzB4WFheo+4fz587h48SI6OzvR2dmJQS2f/paWFqxbtw4CgQBCoRBCoVBvskuhUOD777/H3//+d519uysqKmBjY4M7d+4gJycH58+fV29dNDQ0BDc3N/zwww8wNjae9Du4nygUCvj6+oLH46GtrQ1XrlyBm5vbwy7WI8nY2Bg6OjqwceNGvW2wJqK0tBTLly9HdHQ0zp07h4sXLyIyMhJyGuyAQqFQKJQZYVYqvUVFRTAzM/tR17h27RrrXqanTp2CSCT6UdemTA+VSgUzMzO4u7vj9OnTeunh4eGwtbXFqVOnUFtb+xBKSJkIT09P2NnZ4cSJE3r70xpCLpdj//79aivr2NgYbGxs1ApoW1sbDhw4YNAyee7cOXC5XNY0Ozs7BAUFQSwW6ykfLS0tMDY2hlKpNBjtOigoCJcvX8bJkyd1rMsXL15EaGio+tjExARt2vt3gUyysdXhR4Hi4mIcPXr0YRfjkWbfvn2s+4EbwtraWj1R5+bmBj8/PxQVFd2v4lEoFAqFMuuYtNLb0dEBKysrDGhHJdLC2dkZiYmJrGkVFRU4f/48q1VVqVTi4sWLKC0tZc2bkpICJycn1rTBwUFYW1vrCYwMAQEBCAwM1DtfVFQEU1NT1jwMDg4OSE1N1TtfXl6O06dPY9++fXqCsEqlwvHjx3UsQlOhv78fVlZW6OzsZE339vZGWFgYa1pDQwPOnDmj50bJcO3aNWRlZbGm5eXl4cqVK6xpUqkUZ8+eNagkRkVF4datW6xp3d3dsLKyQk9PD2v6RNTU1ODs2bOsLqMqlQpXrlxBfn6+znnG2l5XV4cjR47opA0PD2Pnzp3o7++HmZnZtJRegUBwzzaQkJDAmjaZNlBSUsKaNyUlBY6OjqxpQ0NDsLa2RmtrK2t6QEAA6+QMQBQ3a2vrablQFhcX4+LFi6yu/HK5HOfPn0dlZSVr3oSEBDg7O+uc6+npwc6dOzE0NIR9+/ZNWulVKpUwMTFBzd0No2tqavDRRx+pt4YJDAyEq6srUlNT4eHhgbKyMnXewcFBmJubo7KyEp6enggPD9dxq7a3t8eePXsQHBwMW1tbZGdnq9M6Ozvx+eefIyQkBDdv3sTNmzfV1lqAfJcdO3ZAJBLB1NQU9fX16rTq6mpYWFigqKgI8fHxuHjxol495/P5OHny5KTeARtlZWW4cOECa31TKBS4cOGC3hINhqSkJNy4cUPvvFAohKurK9atWzctTwk+nw9ra2uIxWLW9OvXryM9PZ01rbCwEJcuXWKtbzKZDGfPnkV1dTVr3tjYWLi6urKm9fb24ocffoBQKGRN9/DwQEREBGtafX09bGxsdL47g7Gx8ZSU3vT0dHz66acoKyuDm5sbfH199fo3CoVCoVAo02fSSm9TUxOMjIwMKjAWFhbw9fVlTePxeNi1a5dBAWzPnj3IYPa4GUdQUBDMzc1Z0/r6+mBkZIQ7d+6wpl+5cgV2dnZ65yej9B49ehQhISF654eHh1FUVISjR4/quVH+WKW3q6sLRkZGaG5uZk0/f/68wQmAiooK7Nixg1WBUalUMDU1RVRUFGvehIQEg9aw0dFRfPPNNyguLmbN6+bmBisrK9a09vZ2GBkZoaOjgzV9IoqKivDNN9+wrrlWKpXYv3+/ziSLSCTC3r17oVAoUFtbCwsLC508Tk5OCAoKAgAcOnRIx910svD5fBgZGRl0vbW0tISPjw9rWk5Ozj3bgCGBPzg42KBlrb+/H0ZGRjpKlTZ2dnasbQAA6urqsH37doNK/ESkpaVhz549BpWQXbt2ITc3lzWvj48PLC0tdc7Z2tqq17Du379/Su7NpaWlOH78ONzd3eHu7o7t27erFQ5HR0esWbMG8fHxaGhogKOjo3pyobm5GatXr8bFixdRX18PLpeLW7duqduBQCBQv1exWIwDBw6oJ6TkcjnKy8vVSrKzszO8mX27QBQ4RlkyMTHRadNCoRCOjo5ITU1FSEgIAgIC9Nrej1V6MzMzsXv3blb3WIVCgd27dxucBPP398fx48f1zo+NjaG+vh6XLl2Ch4fHlMtUXV0NIyMjg/2jmZmZwUk9LpcLY2Nj1vYjlUrx7bffGlzP7eHhgVOnTrGmdXZ2Ytu2bQYnjWxsbHDz5k3WtNLSUuzYsYN1OctUlV6ATD5aW1vDysoKQUFBVOmlUCgUCmUGmbXuzfdSeu9FSUkJ9u7dq3Puxyq9swmlUslqxZ0uPj4+2L17NzIyMmBvb4+NGzeit7cXAFm3ySg+KSkpWLNmDWJjY2fs3j9FlErllINJTZf29nasXr0aXC4XKSkpWLVqFTIzM6d0jaGhITQ2NmJoaAi7d+9WT/7Y29vDyMhI/bu8vDzY2toCIBMlb7/9to6V7/Dhw+jv72e9x8mTJw1a4/Pz82FtbQ2AWA9Xr16NxMREpKSk4PPPP9fxALh48aLO81laWuq5st5L6X2Q34eNTZs20dgFEzCR0qtSqSYMoOji4gIfHx+q9FIoFAqFMoNQpXeSdHR0oKurS33s6emJq1ev6v3OwsKC1Rohk8lgY2MDR0fHWR/d2c/PDy+99BJ4PN6MXbO3txdVVVUoLy9HYGAgjIyM1G6UMpkMdXV1KCsrQ01NDTZt2qRn5RoZGYGlpeW0LFg/Nezt7fH73/8eFRUVD+R+UqkUNTU1KC0tRXV1NdavX6/jhsz85tSpU3B3d5/wWleuXNGxuLa1tWHv3r1qJSMwMFDHI+XMmTPqSN/9/f04ceIEJBIJxGIx/P391Ypdb28vdu3apbZAc7lcdSA7gCiyjJVfJpOhtrZWXd++/PJLHa+QGzduID4+Xn1sYWGh5wre1dVlcE3vzZs38dJLLxlUwGeaoaEhHXfmyspKHDhwQMeKPDQ0hBMnThh0pZ9tGFJ6m5qa8PLLL+PMmTOs+UZGRqjSS6FQKBTKfWDWKr1TDWRVUlICa2tr+Pr6wtXVVW8bkpycHISHh8PIyAj+/v5ITk7WUX6Hhobwwgsv4K233nqoFppHgY8++gh/+tOf7st7GB4ehqOjI3bs2MHqil9QUICtW7fqbWnU1dWFuXPn4pNPPpnxMv2z8frrr+Pdd999KJMz2dnZ2LRpk56lt6+vD/PmzcPSpUv18sTGxiIsLAze3t6IiYnRS09NTcW1a9fg4eEBR0dHHStbX18frly5Aj8/P9ja2qqVbblcDh8fH5w7dw5hYWH44YcfdBTXiooKnDp1Ch4eHnBycoKjoyNrfc7Pz8eWLVt0XPH7+/vh7OwMPz8/uLu768QOGBsbQ1xcHFxdXbFjxw6Eh4frKNcA8NZbb2HhwoWTjjz/Y+nt7cXFixfh7OyMgIAAWFtb6yl0ra2teOqpp7B+/foHUqZHHUOBrG7evAkOh2MwsvPIyAjs7e3h7u6ut3yGQqFQKBTK9JmVSu90tiwCiEthc3Mza5AdoVAIPp+P7u5u9W/Gr9OTSqWzfguKvr4+PPfcAmRmxt/7x9NAIpGgra0N3d3drEG9BAIBuru71a7P4/M+KEXiUaW5uRlz5sx5KFYmlUqF9vZ29PT0qANRaWPo+/T19YHP508YkGtgYMDgWnmAPDdbFObh4WHw+XyDwZdaWlomXLMuEAgMPk9zc7Pe2mWlUonW1la0traiq6tL3acwtLe3Y+7cuQ9FIRIIBGhubjY4GTI6OjrrvVjutWXRkiVLsGvXLta8bW1t8PDwgL29PXx8fHD16lWDkcEpFAqFQqFMjVmp9A4MDMDNzQ1hYWETrq2i6KJUAneD5AIAoqMBxktTIgFu3QKqqshxUxPg6gowy5vT04GwMKCxsRoHDx5EaCjAxDkaGwPKygADu8pQHiB5eXl0O5pHmIKCAvp9HmG6u7sREhICT09PvTXPcrkc+/btMxg0S6VS6U3qGNpqi0KhUCgUytSYlUovZfqEhwPZ2UBWFlFiAwKAoiLyL5cLuLgA1dXk39RUwNcXKCkh/0ZFARkZQEoKkJQEuLsD9fVAUBC5JoVCoVAoFAqFQqHMNFTppUwJmYwovp6exPIrlRIFl1my2NwM2NkBdXXkODMTcHQEGE9jX18gNJT8v68PuHGDWIEpFAqFQqFQKBQK5X5AlV4KhUKhUCgUCoVCofxkoUovhUKhUCgUCoVCoVB+ssxKpbd6qA1ezYmwb4hCvVgw6Xz1YgFu8hPg1BSHunH5FCoVIgR5cGyMRnZf9UwXmTIJbg+1wqkpHjf5CWge1WxXxB/pglcLFw5NcbBvioMrPxFhglzIlLM7kvajglghRXAHDy78RNg3xcG+IRIpPZPbI7heLIBXc6L6297iJyKxq1TnNyL5CJK7StE0ItQ53zs2BJ/WNNzgJ9y9bxQqBvUjPFcPtcGHn4BWrTqV1lMJd3487Jvi4NAUB29+IioHW/Tylg3y4dQUh8D2LIwopOrzjSNC3GiKQ0gHDypoghVVD7fBk3kPd58nubt8Uu/ifjIoH4V/WwYcGqOR3nP7YRfnkSW95zacGqLg05qG3rGZibwsVykwqpz69m5KlQoDMjFEY8NQqEhU7QGZGAMyMfplw5CrJh+pXqqUwbstHT78RDSKO6dclomQKGQIE+RiUK6Jtt81NgjPlhQ4NsYgv79eLw+3uwwODdEIas+CdArvRq5SIFKQB4eGKMR0FrL+RqKUwac1VacPUqiUCBfkoW/McIT4B0n1UBtcGmMQ0Zmv03+MRygVwb4hEmWiJoO/edBUD7UhvXfqfUhaTyXsGyLh1ZyE6qG2+1AyfWRKOXzbMuDUGAOftnT0y9ij+BtCqpQjqD0Ljo0xKBxg36ZsqkgUYxiQDaNvbAgimRh9smH0jw1DrJCiaKABro0xiBMWz8i9ZhKBpB9xwmJ1XzQbyO6rgUNjDByb4iYt08w0KpBxYGBsGGN3ZV6RTIwB2TD6ZZpzk0GpUiKogwfvpnjUDOvvYjMdSkSNcGyKhWtzEjok/erzjeJOeDUnq2U79+ZERHbmQ3Z33FIBiBDkwq05CbdaUnCzMQalk+jnZqXSa1HjB07AIryavAtxXZPrHII6eOCELsdLiTvx7wk7MC96PdJ6KgEAYoUES3kWeDLic/wxeRceC1uBs/Wh9/MRKOO4yU8AJ2QZXk76Dv8W/zWej92CYhEZZJz4CeB4/x3/k7oPr6YdwK9ivsTjkWswKB+5x1UpDwL+SBc4YSvwfNxWvJN5FAtT9sKyxm9Sea3qgsDxfh1/Td2Pv6UdxJMRK/GfybsBEEF9Zd4ZzIleD07AIri1JOvk5fXVgBOwCP+VvAfvZB7F31P2wq9Nd3/gYbkELyXuBMfjrwhoz1Kf/+8UY3CCl+LVtAN4Pc0EHP93cbjKU52uggrG5TfxWNhn+PfEHXgqcg1S7w56xQONmBu9Hi/Ef42nIlZjQ6EtlHej9B6t9gLH+w28mnYAf0s7iF+ErcD/pOyb+kudQRrEnXg+7ivMi9mIP3P34PHwz3C6NvChlulRxaouEP8ZtxWcoCXI6quakWv6t2fhV1HrcK4+ZErKb4ekDy8m7sSCiM+xruACpEoZ/pK6HwuiN2BBzAak3h2/JsuagnPg+L4Fh6a4e/94Chy67QlO2KfokJBtvQoH7uDpqHX4TdxW/DF5N34Wvgo3+SRohFKlwmd5Z8AJXY6/pBjjmci1+CDbAkPye+/CIJKJ8WraATwRsRp/TTHGL8JX4euSa3pC+PFqX3Bu/TcWZx9XnxtTyvB0zJdYX2g7g08+fcIEuVgQ8Tmeiflywt8JpSIszTyCUEHuAyrZvTlc5YmXk76bcr7TtQH4a9J34AQswqka//tQMn3ECglW5p3Bf8R/DU7wUhRNQXHtGRvEwjRTzIlahz8k78Lj4Svh1sL90WWyrPHHgsg1WBC3VfMXvR4f5ZzCDX4C5oStwL8nfvOj7zPTRAkL8FjEavVY91PHpTkZv4j4HAvTTfFuuim+K3N6KOXolw3jzynGWBDxOZZkW2BUMYZ/ZJljQfR6LIj6ArdaU6d0vZ2lDuD4vAmruqAfXbaz9SHghHyEP3K/x/NxW/Fi/NdqZfpSQyQ4Xq/jf1KN8be0g3gmci3mxHwJqVKGAZkY72cdwzvph/AfSd/iubitWJJ5FEUDjfe856xUek/U+OH3yRN3uh2SPvUgDABpPbdxvTFaffxn7vdYnmsFAAjqyAYndBlK7s4ynK8PByd8JbrHBqdULiVUaBB3GlTGuqQitIx2s6aNKeWoFwswqhhjTW8b7YVAaxZFG7FCinqxwODMf9NIl0GrRb9sGI3jLGgMCpUSd8QCDMn198u9F1KlDPVigcFZ/NbRHgilA+rjWGERnPkJ6uPfxW/DtpKrAIDa4XbYawlqXxTa4o30Q1BOMEPOhlylRL1YALGCXcASSPrRNqq//y8ASJRjqBcLDM6qtYx2o0sqYk0blI/gjriTdbBQ3a0zAwZmoHvGBsEf6WJNk6sUqBcLdCyQk2X0bp0xZC1vHulCj4H6L5KNoEHcqbZQNI924/HINbBtiECDuBMjBuowG4UDd+DSrFFm30g3xRcFRDCVKRU4Wx+Cc/Uh+H/hq+A+TuDI6avFY+GfIamrDA0GPD5MbruDE/YpnohYjaAOnvq8b1sGMnqJUtMlFeHxyM/hr6UUH6/2xZMRnyOhqwQAUZ6H7wrmi7KOY2G6CZRQIbevDpzQTxArLAJAFPFbLZpB6M+p+7Ct+Oqk3wcDU98MfZ+W0W50S9m/z6B8VOf7tI724ExdoNoSZ3rbA09Fb5xymZj6ZqiPGt/najOqGJuwjyL1jb2PEslG0CgWsrZ2FVS4I+402EeRPreHNU12t8+VjOujGsVCPB65ZtIePyqoUD3UhlJRI0pFTVp/jWgQd0IoFeFAuTM4ocvwH/FfI6jdcKh7pYo8z7BcAplSQSZrwz4FJ/A9RHUWoG64A/NiN+GLgvPq+lgsasTh27dgXH4T3O4ynesJpAOwqvWHcbkzfNrS8UT0ejjxNXush3bkYG/5DRy57YHsvlqD5WocEbL2US2j3XgsbAWOVnmrz1UNteJ8XbD6eE3+ObycvEv9rq40RCG7j+ydVzTQCE7QB8iZ4N4Mw/JRnKkPxp27lmrPtnRwQpbpjCNlIj4ei1iNuZFr1OM7gxM/AZygD1A4cGfC+/SMDaJ5RHecbhntwQ81/thT5ojLDZHEG+luvzymlMOFn4g9ZY6wrQ9VK/DWdUGwrPHDmbpgWNUGwas1DSblN5F89xu5NHPx24TtyOuvx74KZ5yu8UObVvsJ7uDBuNQeZ2v8kNOn2WtQrJDiRLUfztaHIlyQh73lN+DQGKO2oADEQnmjKR57yhxhXRugfmfjGd8G5CoFfNsyYVrphj1ljrBvjIZEqWnvTvx4vMr9HnNjN2FP+U3sKbkOt+Zk1ms3jXSxWtZ/n/wtLFmU3hJREw7f9oBx+U343528lCjGYHbbA5ZVXjha5YmmESGuNcbiZJU3DpbfQNLdd5nSU4H9FS44UOGq7ou1uT3Uiscj10yo9A7LJXfHaTKJYtcYjcfCP1OPv/sr3fBMzJdTtnQq7sodzDi9pfgK/sjdjey+anDCPoV9UxxMKt3wbOz4C0YtAAAgAElEQVRmAMDZ+lD8R/IueLelY2+pA0I7dPd075D040xdIPaUOcKhMQYD4+TN6M4C7C2/iaNVXnBojFHLtQDxRDpe5Y29ZTfg2ZKiU2e0Gd8GIgR5+DDLHI9HroFRyXXsKXWA7Z1wdElFOFnjjxOVbvBpywAA5PfX40iFK47dvqW23PH6amFS6Yb9FS4T9qvNI93qcSCrrxpHy27Arz0L15tisa/MCZm9unmb77bLvWWO8Lt7f4VKCau6IFhWuqkn+O6IBThU6YYTle7qyWsGmVKh1wYqB1vwSvJuvJZ2ELXD7bgjFui8q4ze2zhY4YqDFa7I66/TKn8X9pbfhEWVFxrEnfBvz8KR2x4oGmiAVV0QfqgNxKnaAJyrD4VbCxcmFc6sfZ9KS5dQqJQoGLiDp6LXg+P/Lm7yE9E0IsSLiTvwEc8SfTLSxmqG23Giyht7y5wQIcjTuZ5IPooL9aHYW34D3m3peDZ2M2zqQ9TpiV0lMC53hkml24SeafxxukRQBw9erWnq47nR63Gg0g0A6YsdtcaaJTxLLOWdBAC4tXDBCf4Q/TIxtpfYY3HWcVyf5GTspJXe7u5uuLi4YGiIXbAIDQ1FTk4Oa9qdO3fg4eEBpVK/sSuVSnh5eaG2ln3QKigoQHBwMGuaWCyGi4sLhEJ2pSshIQGJTFhhLSxq/PBS0reseQBSYf6Ushd/Td2vl+bfngWL256YH7MRTneVrC6pSMesvr34Kp6IXj9lV5j64Q5wgpbCyoAVZVnOaSyI28oqyCZ0lYDj/38I1hLMGRQqBX6f9C3ezjjMet1rjTHgBL7H6hrQKxsCJ2I1tpdcZ827q8wJnPDP0Mui4FQMNoMT+D4uNUSy5p2ICEEeOAGLEMMyAEmVMjwf/zWWZFvopXm0pMK80h3PRm/QscwxDMjE+EXkWthpTWBMloL+O+AEvgfHpnjW9L+nH8J/3hXOxuPXlglOwCKkdOu7uIwqpHg2djNW5Fmz5rWs8QMn+CM991yACI2c0GU4WuXFmndtwXk8Gb2BVbHN7K0CJ2AxPKc40wfc7XQCFrN2uEPyUTwR9QU2GLCKmN6+BU7oJxDcFdCaR7vBiViFxyNW4dmYL7EgeiO8Wqce0rt2uB2csE8RI9R1W5QqZfhZ5Dq4jhOucvprwQl8D7+MWo850Rvw+8SdOgNQbn8dOCHLYFMfghcSv4F/u64VmMH2TgSejPoCIhkRHoblEvwq/iv8b8ZRLMs5jQ+zjqFySOP6/Fz8V7jYEKE+fjl5F/aWO+tdt2yQD07o8mm5RXm3pYMTsAgFLK6hwwoJnorZaNBqdazaR08ZAIC8/nrY1gXhv5N3YW3B+SmXKb3nNjj+/4cwFquTUqXCK8m78ZaBPsq5OQmcgPdQPsjXSxuQifGzu8IUG/srXMEJW4F+FgG6drgdnKAluNwQxZp3Ke8kfpuwnTUtrqsYHP//Q4KwROf87cHWKSm9o4oxvJlxCM/Hbsbz8V9r/mK+xIpcTZ9QPdyONblWeCx0OVbwTiG7r0ZvEqBskA9O4Htqy2j1UBuejd2Cv6YY4y93x7OXk3fBpPIWAMC7NR0/C/sUb6QdxOKsY+CEfoJj1T7kOYZa8XzsZvxH4g58yDuJn0WuwWNBS+Bxt7/YVnwVT0etw7r8c1iUaY5fhK3A9aZYvecTSPrBCf2EtY86Vx8KTsgy1r4tubsMNjV++F38NhhXuOik9cvEuHwnAl/kncG/JWw3OKHLRoO4E1fqw/Be5hG8kW6qnlhVQYW/pe7H+9knYFRKBCltBuWj+GXUOnxb5jjh9Vfl2eDZ2M1q5aZU1ITnYjbipYTtWJFrjTkxX4Lj8yb82zMhU8rxTsZhPBW5BstzfsC/xX2FVxJ3okHcia+K7cDx+1/8NsEIv47fBk7Ix/hD0rf4ZfR6dEj6ENCejX8JXY5fxW/DhzxLvJRghN/GbkbVENkH2rk5CSt5luAELYVJpbu6fEPyUSzlnQTH///wXNxXWJZzCk9GrMaOUnsAZNnH/6ab4ndxX2Fz0SX8mfs9no1ax7qsgZE7GHdaiVKGg5XuWJt3BqvzbPBExCqsKTinVgR/qA3Ey/FGeDpmI1bmncFKniXO14fpXbd3bAic8JXYW6HbL6pUwEtJ3+DkOKXXszUVcyLXYEnWcXyefxa/iFitnthZW3AeHL938Ifk71E73I69FS7g+L6F/0zYjjhhMc7Xh+GXEZ/j09wfsCznNH4etgL77wreDEUDDfdUem3qQsAJ/lBtmGiX9OL2kGZP7k9zTuGFxJ1TtnTm99eDE7BYrRwcq/bG5uIrkKsUeCxiNVJ6KhDSkYO3M44AAGzvhOOxkA/xCvd7fJh9ApzQ5bjZTPqDgv47+F3cVvyVuxebii7h+dgt+HPyLnSMkrH4VE0AHo9YhfUFF7A81wqcgP9Te11FCPIxL+oLvJthhi8KLuDpyLVYknUcYhbZYnX+WcyN2aRuAx6tqXiDuwePR67BxzmnsTLnFA7dvoV2SR/+nGIMTsBiWNcFw6MlFT5tGfhV9AZwQj5G8UAj3Fq4eCz0E7ydcQjvZh4BJ3Q5bO+E691TJBPjZ5Fr1ZPE8V0leCZiNTjBS/Fm+iH8I8MMP49Yhay7/XJefx3mRa/HK4nfYFnOKTwevhJfFJyHCqTf///s3Xd4U/Xix/F4r9efKKLgvCqO6wALgrgHKjgAmQKlTNniYInKUEBEBGWIspEpIJTSveiAtrSs7kJbVksHbWmb7pWkbcbn90faSJsW2nLSc3LyeT3P9+EpNIdvm+TkvHNGFAfewDeJu7E/MwzOV0/h6YBPoTj4DtzrBaG/Mq7OcyCnshj/C/wM/3IfhNu9HfDA4U9wv+8Y05tVq5LdoXD9CG+GzsMboXNxi2t/03rzUvlVfHhiMRQuffBUwFR0Ojod/z38CZ49+iUGhy+HwrEnngichnY+Y6BwG4CnA6bi/sPjkVdvh0l+ZSkUrv0xL9F49Fm1QYfHAj9FpyNf4BH/KTAAeDV0nul35a+MRRuPj9H16HS8f2IxFG4D8EXNnulMdQGeCZiK//p+go9OLcUd3iOhOPiOaRv6q4SduMNzKIaEL8cHJxfjNreBpteQa1UbdLjTe5Rpp8S1tqcH4tv47bjb26HBQ/Mz1PlQuA8yPQdcs09DcegDhBclYULMOrwVtqDB9UhDmhy9SUlJGDx4cKOBOWvWLGzbZr7hBgAhISFwcHCAVmseazqdDmPGjGkwTgHgr7/+wpdfftngv+Xn52PIkCE4f77hjYuffvoJy5YtM/v72ui93rkwR/LO4Gi9dyx0Bj0mxqzHA14OULj2M9u41hr0GBu1BopD7zUYnzei1lXhYFYYLjVyrPzJwgvwyolscN75VaU4kHGswRd/A4wP6pBGDmdLUynhmBna4N4OnUEP1+xTiClp+LCBs6VpcL56ssE9MBU6DRwzQ3G5BeeAKSuLcSDzWIN7Pw0wwDc3GscL6h4+qNZVwT5yFdp72eM/boNwvMD8ceGYFQaF26BG995cT6lWBcfM0Eb3nIbkJ5j27NV3VVOIA5nHGtxjrocBXjmRje6tuFiehYNZYdA0sIesUl8Np6zjpg2d+iKKkuCeHd7gC21xdQUOZB5DZgt+FxnqfBzIPNbg3ht9zflvDQUXYNyYdso6YdrrrdFVYWrcJmxKPYxMdQFmx2/HrZ5DkalpeK95Y5ZedEJbn1FmgZ9bWYxbPYebRe8VdT7GRq2Gd04k0tV5eCtsPjofnWGck74aXYJm4vXQuSipVuEe37F13pG8VveQrzA04hfT1xfLs/AfL3v8220gZsfvwKBTS3GP9yjTUQAP+k3EH9dE1vPBs/FJzB9my11wbh86HB7XrHMWa9U+3hq+fwzwzIlo8FxJwPiOr1PWcbOjEjak+OJpvwlQOPXGrPgdMDRz462ouqLRdRQABOadMXsXvVbt462xdZRbdnijhzYlll3BoawTDa6j1LoqHMwMa3QddbLwQoNvvAH/rHPrb3AklF5pVvQCxiNmlJXFUFaWXDOKGzzqZ1WyOxT7X4XC9SN45kTW+bcKrabOOiq6+DLu8hmNw7kxuMN7JDanHkb3kDn4JmE3KvXVaOczGjPObDXdflt6IBSu/XGx/CqGRaxE5yNfoLLmceCTG4VbnD/AoasnjRviTr0wJnotPHIicCArDA8fHg+Faz+zdXa1XgfnrBNILDM/531YxEo86Dexwd/JDxcO4HHfsVAceg+/1tugiSpOxovBX0Hh0hfdg2Y261xbj5wIdAmcBsWh9zHw9DLT43xNsgcULn1wriwD0+O34fXQ+Wavta+FzUP3kK+uu/zwokt17pd3TyxCj+CvTHuCkiuy8YDvGIQVnMOfaQH4j8fHpj2ppVo1ng74FONj/kCmOh+3enyMpIpsfJ2wG6+FzkOGugAKt4E4VXgRLldP4RbnD00b4Wp9NeyuOQKtll3QLHyTuKvO350qvIB/uQ80PUYXXtiPh/wnAQCWXHCEwqkXFl84AJ/cKGxK9YPi0HuwC5pp9vsoqCrDgYyGX6cB4KdLh/Avj6F1dgAsPL8fXYJmXvd3qDPo4XL1FM7Ue5NLbzCYRW9RdTna+YxG5yNfwDHrONyzwzE04hco/nredFj328e/R+8TiwAAezOP4VaPISiuViGnshgK137ofXwhXLNPw/nqKbxy7Bso9r9WZ5snqjj5htGbXJGDg5nmr9PlukoMOLkE/3Lth6P5zb8+Q1nN9RRqrymhNehQqa9GlroQCo+PcSAzFDqDHhqd8fG15IIj7vMZY1r3vxm2wPT61PvEIrTx+Bib0/zhnRuFBef3QbHnBUyvedP1k5jfoXDpi68SdmBLii/WXPbAFXUe1LoqdAyYio5+E7A38xg8cyIxIWYdFH91bfB0h4iiJHjmRNR5tPjkRqOt9yiz9bBHdgQe8JtofCN9/2v48YIj3j2xCDPjt0Nr0OFWz2FYcmG/6ftXJrlB4T7IbJ39z+vAP/fR8MhVeCVkjunre33HmuLo9dB5eCt0HrQ1YX6q8CIUrh/BIycCaSol2vqMxp6MECiceuPzM1swOvp39Dm11Oxnrf8cqD2HtlvwbHx48kcU1Zw7qzXojG/wuw/Bymv2kv54wRG3eHxs2j6oMujQ1mcUxkf/jnKtBoXV5QgtOIeE0iv4l/sQ5FaWYNqZzehz6kfjethtAM7VO8e9Wq+DU9YJ07nvJdUq3Hv4E2xLD8QjAVOw5IIjep1YhPE10ftk4DSMiPz1n/skJwIKl76IKE7CVwk78aDvONNzOLI4Cbe69MHmVD+kqnKhcP4QA04tg1t2OJyunsBzR7+EwrEnLtbrGAMM8MiOMDtSRq2rwqDw5WjnORR3eA5DdIn5c2xDii9u9RhqOnpQa9Bhwbk96HLkc9gFzcSHp34UPnrlpCnReyOTY/7AQ34TTS+Y2ZXFeDd0Htp5DsNRkU5Yp38MPr0MnY5ON7uPPzr9E14NnSvSrKgpciqLoXDrb/am0410PjoDY6LXmv197TvAexqJ1lqOWcfxb89hAIAAZRwUB99Be5+xePbol7jFfTA6Bkwxu3jD5YocKNwG1tl7Wfv/TYnbBMD4DqfCfRCcag5LfcBvAn68eND0/Q/6TcTCeu+MGgwGPBE4DVNrliElB7KOQ+H6Ec6UpIk9FUlqbvTWnmP1hP9EPBE47Z/hNx7DIv7ZEMnSFGJa7Hrc5j4YPY99C9/c6EYPFa91tjQd//YchqLqCiy/5Ix2PqNxr+84/HDhAAqry6Fw/Qih17w5WFhdDoX7IHjnRKFr0CxMv2YPqwEG3Oo5HO454XC+ehKKQ70x79werEhywS9JLtiW5o9dV4JMRzw0xeDwFXg4YMp1v2dNsjsUHkMaPPT9qqYId3rZ13k+NVVEcTIUrh+ZorFjwNSa88umo63PaNzuNgBrkj3q3Kbn8e9gFzSjWf9Px4CpmH/N4dsATOdmj4hchReu2SgHgEmxG/BSyDeIL03H/3mPQJlWg8/PbMXA8J+hrCyBwn0g4kpScejqSdztM6bObb84uw3PHa07v85HZ5jtZT+adwa3eY9AXpVxQ31FkguerDnPdkz0WtzuMQSrkt3x86VDWJ3sjh1p/nC5euqGW0yFVWWYeWYr3gqdB4fIVegaNAP3Hx5vOpQeAL6K34EuN3GdgicDp2HZxX/OJ0xVKaFwG4D+p5dhdc2cN6Uexo5UP9Oe1uD8eChcP4JXbjT+F/iZaWM/KO8sFIfew+TYDfg1yQ3LLzlja5oftqcF1LlwYXzN86ihixVeT4pKie5HZ+AR3zGIa+AolZuRV1kKRb3TbgBj9D5zdLrp676nlmJ0zeviE4HT0OnIZ1h72QvLLh3CHyne2JHmV+f6NMsvOuGN0Hl4KnAaHjk8HvszQ1Gl1+JWz+F45/h3WJPsgWWXDmFDqi92pPo1ukOkvv1ZoWjrParOYwEAcjTFuP/weLT3HQOFW3+09x2Hf3kMwZG8M0iqyIbCpR8Sr4m6y6pcKFw/atLF0AacXobhUatMX3cMmIoNKca9qm19RuHX5LqhdP/h8Vh83hjYTx35HO19RkPhNgB3+47Ff9yHYF2KT5N+VsB45N/g8BV1/i4kP6HmyJZ/dpwklGVA4drP9CZ0sVaFNt4OCFTWPdUkojgJt3rZQ62vwsTY9RgRtRrhRUlQuA/G5UZOMayl1lWhrc8ohBacw/7MUNzqORwP+o03nWf8b89h2HklyPT9OoMet3kOw9+Zoeh1YhGG1juy6y7fMdiWHmg8xN6pNz4/uwW/JLlixSUXbE3zx470wGaf3qk16PHasW9Mb05d69Vjc9Hv1E9mf5+hzscHJ3/AO8e/Z/ReT0uid29GCDyyw3FFnY+4klT0Ov49ngz8DFqDHpFFSXjs8Di093bAYWUsCqpKka0pqrP8Kr0Wf9ZcfexmYlsuDufGYFPq4WZdQbQxehiwI/0I/HKjcUWdj8jiZLwU/BV6hHxd5/sy1QVQuA3C1mvO/a2l0lViU6qv2ZV/bZXr1VPYmX6kVR6rK5Pc4BC5EmdL05BckYNJMetwm+fwOnt6NfoqbEn1a/SqlKcKL0Lh0sd0CBFg3Ei/qilEdHEyFO5D8EuSK9JVStOe4Amx6/BNwk6kqHIRU5yCl0K+Mu3NKKgqw6nC8ziadxbrU3zwb4+h+PzMFpTU23M6/9xe3NnA4eMfnvoRnY58jjOladiXEQKFcx/TXszPz2xBe++RiCxOxi+XnKFw7W922G5IfgIUzn0aPFoBANyzw7E9PbBVroQZnB+P7Wn+uKLOw+WKHCw6vw8KtwF1NgDLtGpsSPFu9GgSW3Kj6L1YfhW/JbmYIk5v0ONU4UUcrTm6yDSUcYgpSUFhdTl+uuCI2zyG4H7vkfgzzb9J1yMwwGA8/NR9EI7lJ6C4ugIP+U2EYv/rpsPPXgmdi//5T8LxgvM4W5qGd8IW4B6f0SisKsfcxL9wh+dQ+OXGIE2lxPSz26BwfBvrUryRrsrDHR4f4+Pw5cjSFKCgqgw+OVH4OzP0hiF+rQXn9uHfboPqHErvlROJfRnBuKLOw4WyLEyN3YBbvYYjv6oUmeoC/HHZC2dK0pChzodndgRucRtktsFzRZ2HtZec61xv4kxJGjameCOp/Coy1Pk1Fz/sC++aqzjHlKTgVMF5HMgMw2vHvsUT/pPrnPJTqdeig+84jI76rck/H2CM2A7eDnDLPo10dR5OF13CmMhVOHT1JEIKEqFw/hCLzv+NFFUutqcHQuHSF78kueJ4wXko3AcjvjQdU+M2482weThbmg6F20B4ZEdgc5ofFAffxeyEHUiuyIFvbjTaeg7Hl2f/hAHG17t0lRKPBXyKKXEbka5SmjZE92Ueg8J9EKKKk1Gt12J2wg485DcBhVVlNYcOvocfzu9HiVaFdFUenLKOwzs36oaPuqlxm6Bw6YekimzkV5ViSPhy/MdzOM6XZZpuOzfxL7T1csCF8iyE5Cei/4lFda7L0BCdQY8MdT7SKnLxkN9EzIzfbrpuRLVBhzfC5uMR37EIL7oEla4SpwovYmf6kTqHzfc8bjwE/z+e9qa9UEVV5XjEbyJeCZ6Ni+VXUa7VICjvLHZfCUJRdTk0uiqkq5TwyomAwn0wvHIika5SoqIJF07zV8biXi97dPSbgLDC8yioLDU7ZaR2uyMwr3nbHcXVFThdeAEKt0H4/bKnaV1Spddi+tk/8V+/iSipVkGlq8RroXPR79SPqNBpMDfxL9zi0hcHaz5NIKH0Cv66EoTImr1v42PWYVWSGzLVBYgpScE9PqPwyrFvAQCDwpfjbs/hCMqLh0pXicjiZOxKP9LkK2kfunoCCpd+CM6LR2xJKsZErjJd/PGd4wuhcOyJ2Qk7cLu3A/7tORR5VSWoNujQ6eiX6Hb0S0QUJSG6+DJeDJ6FR/wn3fD0wQqtBm+HLcC7x7+HSleJgqoy3Os7FgvO7UWVXovPz2zF/7kPgWv2KSRVZGNq7AYoXPqZrhcwOvo3KP5+FdPObMYj/lOgcP6wSVcHrtRXI12Vh05Hp+Od498jXaVEhjofOoMeZVo1Hg/4FC8Hf4Xo4suIKEpC16Nf4MnAaSjVqlGiVSGqOAn/9hyGDSm+SFcpoawsgd5ggHvNY/BSRTbGx/yB908shm9uNBRuAxBWcO6622rJFdm4zWs4NqceRoVWg+eCZkLx98v4vOYonyERK/CAz2gEKONwriwDwyN+wW3uQ5ClKTCe/ujaHwezwpCuzqu5EPDb+PGCIwqqynCf7xj0DluAFFUuSqpVCFTG4a8mvPlZqa/G5lQ/BOfH44o6HycKL+DpwE/NjlRJLMuAwqVfo0fPjohchTctcXiznCy6sB9P1Vzhtammxm3E3Z726OA7Fnd5j0SXo1+azv+bGLseikPv4T6/CXg0YAo6+IzCs0e/rHNhlbyqUtzmZY/XQufZ1CXbG1Jdc/jGwPDlzb6YVEP0Bj3sI1ehnZfx/mnrPRIvB39l9vEzAco4POg3vsE9Bte+W2zryrRqKNwHNXoet9C8ciLR0X8i2nqPwj0+Y/Co33gcyqq7gstUF+AW98HoU3Mhg/o2pR7G00c+r3MosFpXhe4hX6G9twPaeDugnc9odPAagf01F6xYe9kT9/uMQnvfMWjrPRLdgmaYHb52viwTT/hPxh2ew/B4wFScL6/7At/v9E8N/p6SK7LxYvBstPWyx12ew/FV/A7TGzylWhXeP7EId3gOQ3uvEdjYwHmQq5PdYRc0s8E3hcq1GtziMRQTYte1ypsSu64cxf0+I9HBdyzu9hmNh3zGYHt6YJ3vOV+WCYVzX4yObl4QyFGWpui60Ts6ei1u97Jv9OJz9e3PDMUdbgMxP/Ev00VHmqJCV4mXj32LNu5DcI/nMHjkRMAx6zhuP9gLi2sOF0xX5aHvicVo6+2Au7xH4vmj03GyZqOvXKvB2Kg1uMvLHh18x+GFkDl48PB4tPMYigBlHEILzuFx/8lo6z0Sd/uOwd3eDvjo9DKUNOOq+IllGVA49zHtfQGMV/Ts4DXC+FrrMxqP+U2AW83e2MSyK3j2yBfG57LvWNzlZY+psRvM3nSak7ATCtf+dQ6lD1SewSOHx+MenzHo4DsW7b0dsOTCAbPX4+ERK9He0x7tPD7G6mv29HrmREDh1LvRU1gaU1JdgZGRK9HWyx4dfMfgLu9ReP7odFNobEjxxX99x6G9zyh08B6JBYl7oNZV4bXQuWjj2h/vnliIqXGbcKf7IIyL+R0P+0/CvYc/QXvfMXjQbzyeOvI57vEZjXbeIzAu6jdU6DTIqyzB/458hg4+o3CH90jc5TMaHTyHY2z0Wmj01eh0dDrauH6EIeErEF18Ge19x+AOt/74tObIkvUp3rjPexTa+4zGXT6jcZ/PSHyVsPOG6xvf3Gh0DZ6FcZGr4RC1Gr2PL0Qbt4F4+di3pgtAXiy/iheCZ+Nubwe08xmFV0O+Mj3mGpOmUqJjwFR08Bl9zc8zDJ9E/w4AyNYUos/xhWjjNdy4DeAzEs8GflZnuf7KWPzbqTcmxqyvs+y4klS8GDQTbbxGoL3vWNzl7YBXjn2D3MpiOF89iQ6e9rjHdwzaeDvgHt+x6OA57IZHDQHGjfFbDr2HB/wm4mH/yejgPcJs+y+lIhcKtwEYFL78hsu71nfn9qG9x8e43dsBd3uNwAvBc1Cl1yKqOBl3eTngDtf+WHHJBc5ZJ3Gn+2Dc6T4YW9P8oTfo8XncZrT1HI4OvmPQ1mcUHjk8znRdjx4hX+Nen1G432882vuOxcvBX5nWY0XV5Rh6+mfc4TnctJ31ZMBk+DXx+VBcXYEBp39CWy97tPMZjWcCPjW9Fn93bh/u9h6JkuoKDDi9DK+GzjWdknW+LBNvh85DW28HtPUeiVdD5jTpKKNdV47iTvdBuNN9IFyzT+Oni05o49Yf7bwdEFpwDmpdFSbHrMPd3g64x3sUOvpNxP5rPr1hc+ph3OE+GFmaQsw4uw2PBkxt0qlGQXnxuNdnNO7wdsCd3qPQwWc0Hg2YYjp8+UxpGl4P+aZmneuAN499azo8+ZckV7T3GIo23g6423cMOniNwKDTy5FbWYzOQTPQxrU/hkeuxOdntuBO98EYGbUad3g7oEfI12Z70GvpDQb0PbUUbdwHo53HEGxPD0Rwfjxud+ptupZIYVU57MNX4C6vEWjnPRJPBXxqul+r9TrMOLPVuH3tMwbdgmejo/9ktHMfiL8zQxFXkga7I5/jjprnx13eDngrbEGjF6WsVaGrRJ9TS9HOywEdfMfiTq8ReCd0PpLrXVT0QFYYOgZMaTSiHSJXo2fYd1ifYr4d1RCbjN7vz/8NxaH3MDriF5xswlUfa+VVliJNlYsMdX6dWCusKkeWOt/4TqRKiTSVEukqpdkGa15lSYuuZCw34cWXcMfRIUipFvaz9nIri5Gmyv6HMZoAACAASURBVG30CspVeu11NxpzK4ub9A6u3PkpY3Gblz2ybrDSEpLWoEe6Kg9pqtxGP5ZFeZ3nj0pXieJ6K0UDDMhSFyBNlYssTQGuqI3Lv/Y+LtdqkKbKxRV1XoObc1V6LdJUStPzu/7VKouqK0znUtWnhwHpKmWj57Be74rDFbrKRlfyR/PO4j+ew+scfmdptb+nNJWy0RfXnMriFl0JXE52XDmCj04ugMKvN06Xmn9kUaWuGh2PfYIt2U2/uJ8WVShowefDGo90KEKWOr/OEQ5Z6nyzx1btXsGGZGuKkKZSQg8D8qpKcUWVa7p4TZVeh/Sa17zmXrix1sio33CLx8d1rvZeXF2BNFUu0lVKs6tj62HAFXU+0lS5ZudTA8Y3QTsHTcf8Bi6cVVnzfE5T5TY63xxNETJUechU55l+T9V6LR7ym4Q3w+a36GcEjB8f1NjrU4WuEmkVOSi8Zn1wVVOILHU+sjVFKKouR4Y6D/k1R5FdUechveZKqMZ1VC5yrtmLaNozWvP/GfeS5pjOO8zSFCJLnYfcymJU6bXIUOcjs2b5tcq06pp1Y36DFytqjEpXiYSSNCgrS6AzGJClUuKqprDO+rXaoEOaKveGG8a1tAa9af2dqS4w3v8VOWb3f5amEGmqXLM9qqZ/Vxdc9xMh0lS5dX4H5VoN0iqMj8MsjfE5klaR2+g68FoFVWXIUufXPFaVpm3H+m8c5FYWN2l51yqqLv/ndU2lNL1WV+m1uFJzXxZXV0Clq0SmOg8Z6rw61wfIqyqtuX1hnde0cq0GpVqV6fHV0GuicX2Qi5xmXDzuWumqPLNrqlToNMituS9LteoGt9My1PmNfnpJQ8q1GmSo85ChyqvZPqhApjrPdI5yLWVlCdIqcs0eFxp9telzY1W6yiYfrqvRVyNNpUSmqQmM2xf131y7os4zew0vqVnvZWkKkF7zeM+tLIbeYDA9Z5WVJSiurkCGyvh8zdIU1Dy/Gn9DKqey2PQ6ULsNlaUuMFsH1t632gZ2zNX+nnQGPQqry3FFlWtalnGdnGd2deamqP0/sxq5hotGX9XgujqiOBlfxG7AkzWnA70aNKvRa4Jcyyaj91h+Ir4+sxkTo9bUuVorXZ9eD6Sl/fN1cDAQanyjDlot4OwMpNSc3nH1KnDwIKCqWc9GRQGHa653sDzZCU/+vA3Jif8s9+JF45UZSXzTzmw2XcmTpGd2/A7TOWkkDUVFgFIJ7M8OxujQNei4aBdOXzZu0KSmAocOAdADiVVJaLdyKQ4fqdlY0AOursClmpchpRJwdARqPyRBqQRyrorwA7WivKpSLL14sNnngDXmUnkWngyc1uKN8oZU63VYetEJl8plfmcQEVmBbE0R/HOjEV50CXElqQjLj2/SmyI2Gb3UMgaDMWxjY41j/37gr7+MwerubhzbtgEZGcCOHYCHh/H7k5KAXbuMG3MxUcBOn1w4O+uxazuQnQ14eRkDmqThbElas66GSq3rfFmmYIFAwigsBLZsATRFQIAzcMoP2LvbuC7cts24bvQ/DJw4U44tu9U4tB9ITAS8vY3/tn278Xt37gQ8PY3rVqUS2LzZuI6kpiuurjA7tYWIiKjR6K2qqkJJSQlKS0vNRllZWbM/roLkQa02xuv27UB1NVBRAWzcaNxQA4wBvGoVcLbmwrsBAcDvvwOlpcZo3rkTcDZ+7Buys4ENGwC/hj/2lojIaly+bFyfBdac7hwXZ1wXJtd8QoO7B7B1E6CrAjQaYyS71HxyRUoKsHo1EF3z6UhBQcC6dcZlEhER0c1rNHqzsrIQHByMEydO1BlhYWGIiIiATnfzV90lIiIiIiIisqRGo/fq1as4duwYIiIicObMGcTHxyM+Ph5xcXGIjo5m9BIREREREZHkXXdPb2RkJEJDQ7Fu3TqsXr0aq1evxooVKxAWFga93rY/doeIiIiIiIikr9HoLSgowL59+2BnZ4cePXrgkUcewYMPPoiBAwciLCyM5/QSERERERGR5DUaveXl5Xj55ZdhZ2cHFxcXfPjhh/jggw9w4MABnD9/noc3ExERERERkeRdN3rffPNNPPPMMzh48CDee+89vPvuu9i+fTsSEhIYvURERERERCR5jUZvfn4+nJ2d8dJLL8HOzg69evVC7969Gb1ERERERERkNa57IauIiAjExMTg+++/R8+ePdGrVy9GLxEREREREVmN635kUWhoKM6ePYsDBw7g3Xff5eHNREREREREZFVu+Dm9Fy9ehIuLC9577z28//77cHR05IWsiIiIiIiIyCo0Gr3Z2dk4ffo01qxZg48++giPP/44OnbsiAEDBvAji4iIiIiIiMgqXHdP78mTJ7F9+3b89NNP+OOPP7B27VosW7YMoaGh0Ov1rTlPIiIiIiIioma77oWsgoKCEBUVhTNnziAuLg5xcXGIiYlBZGQkD28mIiIiIiIiyWs0epVKJaKiokyxWztiY2ORmJgoaPTm5+ejvLxcsOUR0c0pLgYuXwYqK8WeCRERUdNoNMbXrtJSsWdCRJZgMBiQm5uLqqqqZt+20ehtTcuXL8fhw4fFngYR1di5E+jaFbhwQeyZEBERNU10NNCpE+DiIvZMiMgSqqqq8PXXX+Py5cvNvq1kotfX11fsaRBRjZ07gS5dGL1ERGQ9oqKAZ58FnJ3FngkRWUJVVRXmzJljvdG7YsUK7uklkpBdu4Dnn2f0EhGR9YiOBjp35p5eIrmqqqrCN998w+glImEweomIyNoweonkjdFLRIJi9BIRkbVh9BLJmyjR29Dn9Or1erO/NxgMN7zSM6OXSFoYvUREZG0YvUTy1urRW1xcjAULFqB///4IDw8HACQmJmLy5MmYPHkyzp07BwBITk7G9OnTMX78eERGRja6PEYvkbQweomIyNoweonkrdWjt7y8HMHBwbC3t4ejoyMqKyuxYMECHDhwAAcOHMCiRYuQl5eHVatW4ffff0dAQAAmT56MgoKCBpfH6CWSFkYvERFZG0YvkbyJdk7vDz/8ABcXF2RkZGDEiBHQ6/UwGAyYMGECDh8+jAULFiAzMxN6vR7jxo1DQkJCg8v5/fffGb1EEsLoJSIia8PoJZI30aJ3wYIFcHV1RUpKCoYOHWo6n3f8+PE4dOgQFixYgKKiImg0GsycOROnT5823Vav1yMoKAhr1qxB//79ERgYeDNTISIBMXqJiMjaMHqJ5E206F2yZAl8fHyQnZ1dZ0/vxIkTb7in12AwIDY2Fk5OThgzZgz8/f1vZipEJCBGLxERWRtGL5G8tXr0arVaXL58GaNHj8aKFStw9epVzJ8/33RO78KFC6FUKk3n9AYGBmLSpEmNntO7du1aHt5MJCGMXiIisjaMXiJ5E+XqzT/88AP69OmDIUOGIDAwEOfPn8fUqVMxefJkJCYmAgCSkpLw5ZdfYvz48YiIiGh0ebyQFZG0MHqJiMjaMHqJ5E2Uw5u1Wi0MBkOdz+Zt7HN6tVrtdZfF6CWSFkYvERFZG0YvkbyJdk6vUBi9RNLC6CUiImvD6CWSN0YvEQmK0UtERNaG0Uskb4xeIhIUo5eIiKwNo5dI3hi9RCQoRi8REVkbRi+RvDF6iUhQjF4iIrI2jF4ieWP0EpGgGL1ERGRtGL1E8sboJSJBMXqJiMjaMHqJ5I3RS0SCYvQSEZG1YfQSyRujl4gExeglIiJrw+glkjdGLxEJitFLRETWhtFLJG+MXiISFKOXiIisDaOXSN4YvUQkKEYvERFZG0YvkbwxeolIUIxeIiKyNoxeInlj9BKRoBi9RERkbRi9RPLG6CUiQTF6iYjI2jB6ieSN0UtEgmL0EhGRtWH0Eskbo5eIBMXoJSIia8PoJZI3Ri8RCYrRS0RE1obRSyRvjF4iEhSjl4iIrA2jl0jeGL1EJChGLxERWRtGL5G8MXqJSFCMXiIisjaMXiJ5Y/QSkaAYvUREZG0YvUTyxuglIkExeomIyNoweonkjdFLRIJi9BIRkbVh9BLJG6OXiATF6CUiImvD6CWSN0YvEQmK0UtERNaG0Uskb4xeIhIUo5eIiKwNo5dI3hi9RCQoRi8REVkbRi+RvDF6iUhQjF4iIrI2jF4ieWP0EpGgGL1ERGRtGL1E8sboJSJBMXqJiMjaMHqJ5I3RS0SCYvQSEZG1YfQSyRujl4gExeglIiJrw+glkjdGLxEJitFLRETWhtFLJG+MXiISFKOXiIisDaOXSN4YvUQkKEYvERFZG0YvkbwxeolIUIxeIiKyNoxeInlj9BKRoBi9RERkbRi9RPLG6CUiQTF6iYjI2jB6ieSN0UtEgmL0EhGRtWH0Eskbo5eIBMXoJSIia8PoJZI3Ri8RCYrRS0RE1obRSyRvjF4iEhSjl4iIrA2jl0jeGL1EJChGLxERWRtGL5G8MXqJSFCMXiIisjaMXiJ5Y/QSkaAYvUREZG0YvUTyxuglIkExeomIyNoweonkjdFLRIJi9BIRkbVh9BLJmySi12AwQK/XQ6/Xm/2bXq+HwWBo9LaMXiJpYfQSEZG1YfQSyZskojciIgKff/45pk+fjnHjxuHAgQNYu3YtPvnkE8ycORPHjx9v9LaMXiJpYfQSEZG1YfQSyZskorewsBAxMTGIjo5G7969sXv3bsydOxeOjo5ISkpCQUFBo7ddu3Yto5dIQhi9RERkbRi9RPImieitlZCQgNmzZ+PcuXOYNWsWfv75Z8TGxpp9n8FgQHx8PNzd3fHJJ5/A399f6KkQUQsxeomIyNpEx9REr6vYMyEiS5BU9C5evBjr169HZWUl9uzZg++++w7Tpk2Dk5MTdDqd6fv0ej2OHDmCX3/9Ff369UNAQIDQUyGiFmL0EhGRtYk6BzxlBxzyEXsmRGQJkone8vJyTJgwAYGBgXX+Pi4uDsOHD0deXl6Dt+PhzUTSwuglIrKwU6eAxYuBefOABQs4bnYsmYOoievw7B3ZcP54D/DjV+LPSQ5j/nzjn4cPAw1crJaoNUkmep2dnTFt2jTk5+ejqqoKFy9exOXLl7Fnzx7MmDEDpaWlDd6OF7IikhZGLxGRBRkMwOTJwN13A716Gce773LczOj1Nip6fYSz709HYe8hQK+e4s/J2kevXsD77wMPPAB8+CFQXg4iMUkmenfv3o2dO3cCAPLy8rBw4UJMnDgRs2fPxqVLlxq9HaOXSFoYvUREFqTXA8OHAw4OQFkZUFoKlJRw3NQoBUqLgPJsoLTA+LXoc7LyUVpqDN1584A33gCKisR+5pCNk0z0XvtZvAaDAdXV1aisrGzws3uvxeglkhZGLxGRBen1wMiRwIQJYs+E6MZ+/BF4+22guFjsmZCNk0z0thSjl0haGL1ERBZUG73jxok9E6IbW7SI0UuSwOglIkExeomILIjRS9aE0UsSweglIkExeomILIjRS9aE0UsSweglIkExeomILIjRS9aE0UsSweglIkExeomILIjRS9aE0UsSweglIkExeomILIjRS9aE0UsSweglIkExeomILIjRS9aE0UsSweglIkExeomILIjRS9aE0UsSweglIkExeomILIjRS9aE0UsSweglIkExeomILIjRS9aE0UsSweglIkExeomILIjRS9aE0UsSweglIkExeomILIjRS9aE0UsSweglIkExeomILIjRS9aE0UsSweglIkExeomILIjRS9aE0UsSweglIkH9vQd4oTuQmiz2TIiIZIjRS9aE0UsSweglQRkMBhSqC5FenG4cJRy2NK6qUrD6jzI8/QQQEpWNrIpUPg5sbRSnI6M0AxXVFWKvjojkidFL1oTRSxLB6CVBpZekY7jTcHTe2Bkv/vkiemztwWFD49U9z+HxWVPQ5o3d6LLyfby8q4voc+Jo/fHcxuewJGQJqnXVYq+SiOSH0UvWhNFLEsHoJUGdyDiBh1Y/hKleU/Fn9J9YF74O68PXc9jIWHd6PTbF/I4/43/Dhsh1WCeBOXG04ohYjy1RW/DmzjfRc1dPlFaWir1KIpIfRi9ZE0YvSQSjlwR1/MpxdN7YGcfSjok9FSISyaLgRei9pzejl8gSGL1kTRi9JBGMXhLUiSsn0GlDJ/gm+Yo9FSISydzAuXhvz3uMXiJLYPSSNWH0kkQweklQjF4iYvQSWRCjl6wJo5ckgtFLgmL0EhGjl8iCGL1kTRi9JBGMXhIUo5eIGL1EFsToJWvC6CWJYPSSoBi9RMToJbIgRi9ZE0YvSQSjlwTF6CUiRi+RBTF6yZowekkiGL0kKEYvETF6iSyI0UvWhNFLEsHoJUExeomI0UtkQYxesiaMXpIIRi8JitFLRIxeIgti9JI1YfSSRDB6SVCMXiJi9BJZEKOXrAmjlySC0UuCYvQSEaOXyIIYvWRNGL0kEYxeEhSjl4gYvUQWxOgla8LoJYlg9JKgGL1ExOglsiBGL1kTRi9JBKOXBMXoJSJGL5EFMXrJmjB6SSIYvSQoRi8RMXqJLIjRS9aE0UsSweglQTF6iYjRS2RBjF6yJoxekghGLwmK0UtEjF4iC2L0kjVh9JJEMHpJUIxeImL0ElkQo5esCaOXJILRS4Ji9BIRo5fIghi9ZE0YvSQRjF4SFKOXiBi9RBbE6CVrwugliWD0kqAYvUTE6CWyIEYvWZMffgDeeQcoKxN7JmTjGL0kKEYvETF6iSyI0SsvOp18BwAsXgz07Gnc06vXiz8nSw2DQdzHEd0Qo5cExeglIkYvkQUxeuUhIQH44gtgyBDA3l5+Y8QIYMwY4JlngLvuAj7+2Pi4FXtelhhDhwIODoCzs9iPKroORi8JitFLRIxeIgti9MrDtm1Au3bGGJwyBZgwQZ5jyhTg00/Fn4clx6RJwCOPGOO3dg83SQ6jlwTF6CUiRi+RBTF65WH9euCFF4CsLLFnQkKYNg0YNAjQasWeCTWC0UuCYvQSEaOXyIIYvfKwcSPQowdw5YrYMyEhfPqpca89o1eyGL0kKEYvETF6iSyI0SsPGzca9/SmpYk9ExLC1KmMXolj9JKgGL1ExOglsiBGrzwweuWF0St5jF4SFKOXiBi9RBbE6JUHRq+8MHolTzLRGxsbiyVLluDHH3/Erl27AAAxMTH47rvvsGvXLuj1+gZvx+iVFkYvETF6iSyI0SsPjF55YfRKnmSid/Xq1bC3t4eHhweOHTuG1NRUzJ07F6tWrcKcOXPg7u7e4O0YvdLC6CUiRi+RBTF65YHRKy+MXsmTTPSuWrUKs2fPRnZ2NgDgwIEDmDt3LgDgxIkTmDRpEnQNfPbV2rVrGb0SwuglIkYvkQUxeuWB0SsvjF7Jk0z0ent7w97eHlOnTsWePXuwbt06LFq0CIDxMOdhw4ZBW/NAMhgMSExMhJ+fHyZNmgR/f38hp0I3gdFLRIxeIgti9MoDo1deGL2SJ5norZWXl4cFCxZgxIgRWLp0KQBj9Do4OJiiV6/XIyAgAD///DM+/PBDBAQEWGIq1AKMXiJi9BJZEKNXHhi98sLolTxJRK/BYIBGo0FlZSVycnIwb948LFiwAPPnz8fVq1exZ88e/PDDDzAYDGa3/e2333h4s4QweomI0UtkQYxeeWD0ygujV/IkEb0A4ObmhrFjx2LcuHFYs2YNysrKsHnzZgwcOBDTpk1DWiMrBV7ISloYvUTE6CWyIEavPDB65YXRK3mSid7CwkJcvHgRycnJ0Gg0AAC1Wo2kpCTk5uY2ejtGr7QweomI0UtkQYxeeWD0ygujV/IkE70txeiVFkYvETF6iSyI0SsPjF55YfRKHqOXBMXoJSJGL5EFMXrlgdErL4xeyWP0kqAYvUTE6CWyIEavPDB65YXRK3mMXhIUo5eIGL1EFsTolQdGr7wweiWP0UuCYvQSEaOXyIIYvfLA6JUXRq/kMXpJUIxeImL0ElkQo1ceGL3ywuiVPEYvCYrRS0SMXiILYvTKA6NXXhi9ksfoJUExeomI0UtkQYxeeWD0ygujV/IYvSQoRi8R1UZvWWWZ2FMhkh9GrzwweuWF0St5jF4SFKOXiBYGLUTffX2h1+vFngqR/DB65YHRKy+MXslj9JKgGL1k67R6Lfwv++PnsJ/xc9jPWB623KbG6pOr8fqO1/Hob49i6bGl+PXEr6LPSYyxLHQZPC56QKPViP2QJLlh9MoDo1deGL2Sx+glQTF6ydblVeSh566eeGDVA3hr51t4ffvrNjNe2/7adb+2ldFzZ0888tsj6La5G1KKUsR+SJLcMHrlgdErL4xeyWP0kqAYvWTrMkoz0G1zNyw9thQFqgLklufa3MhT5SFflS/6PMQaBaoCbIzciGfXP4sEZYLYD0mSG0avPDB65YXRK3mMXhIUo5dsXWZpJl7+82Wsj1gv9lRIRI4Jjui6qSsS8xLFngrJDaNXHhi98sLolTxGLwmK0Uu2rjZ6fzv1m9hTIRHtObMHXTZ1YfSS8Bi98sDolRdGr+QxeklQjF6ydYxeAhi9ZEGMXnlg9MoLo1fyGL0kKEYv2TpGLwGMXrIgRq88MHrlhdEreYxeEhSjl2wdo5cARi9ZEKNXHhi98sLolTxGLwmK0Uu2jtFLAKOXLIjRKw+MXnlh9Eoeo5cExeglW8foJYDRSxbE6JUHRq+8MHolj9FLgmL0kq1j9BLA6CULYvTKA6NXXhi9ksfoJUExesnWMXoJYPSSBTF65YHRKy+MXslj9JKgGL1k6xi9BDB6yYIYvfLA6JUXRq/kMXpJUIxesnWMXgIYvWRBjF55YPTKC6NX8hi9JChGL9k6Ri8BjF6yIEavPDB65YXRK3mMXhIUo5dsHaOXAEYvWRCjVx4YvfLC6JU8Ri8JitFLto7RSwCjlyyI0SsPjF55YfRKHqOXBMXoJVvH6CWA0UsWxOiVB0avvDB6JY/RS4Ji9JKtY/QSwOglC2L0ygOjV14YvZLH6CVBMXrJ1jF6CWD0kgUxeuWB0SsvjF7JY/SSoBi9ZOsYvQQwesmCGL3ywOiVF0av5DF6SVCMXrJ1jF4CGL1kQYxeeWD0ygujV/IYvSQoRi/ZOkYvAYxesiBGrzwweuWF0St5jF4SFKOXbB2jlwBGL1kQo1ceGL3ywuiVPEYvCYrRS7aO0UsAo5csiNErD4xeeWH0Sh6jlwTF6CVbx+glgNFLFsTolQdGr7wweiWP0UuCYvSSrWP0EsDoJQti9MoDo1deGL2Sx+glQTF6ydYxeglg9JIFMXrlgdErL4xeyWP0kqAYvWTrGL0EMHrJghi98sDolRdGr+QxeklQjF6ydYxeAhi9ZEGMXnlg9MoLo1fyGL0kKEYv2TpGLwGMXrIgRq88MHrlhdEreYxeEhSjl2wdo5cARi9ZEKNXHhi98sLolTxGLwmK0Uu2jtFLAKOXLIjRKw+MXnlh9Eoeo5cExeglW8foJYDRSxbE6JUHRq+8MHolj9FLgmL0kq1j9BLA6CULYvTKA6NXXhi9ksfoJUExesnWMXoJYPSSBTF65YHRKy+MXslj9JKgGL1k6xi9BAAHEw6i2+ZuuFzU/BdXouti9MoDo1deGL2Sx+glQTF6ydYxeluXWqtGRkkGUopSkFqUKomRVZqFtafX4ql1TyEoNQgZpRmizym1KBUpRSnILM1Ela5K7LuNbgajVx4YvfLC6JU8SURvTk4OnJ2dsXfvXiQlJQEAwsPDsX//fjg5OV13coxeaWH0kq1j9LaubTHb8Pzm5/H85ufRY2sPSYxXtr2Cx39/HG1+bgO7jXZ4+c+XRZ9Tj6090HVzV7z454twSnQS+26jm8HolQdGr7wweiVPEtEbHh6O+fPn47vvvsOMGTMQGRmJzz77DJMmTcKqVasQGxvb6G0ZvdLC6CVbx+htXePdx6PThk7YGLkRW6K2YFPkJtHHxsiN2Bq9FTtjd2Jz1GZsjNwo+py2RG3B2lNr8djax/BNwDdi3210Mxi98sDolZdp04ChQwGDQeyZUCNEj16DwQCVSmX6es6cOdiwYQMWLlyIkydP3vD2q1evZvRKCKOXbB2jt3VN9JiIUS6jxJ6G1ei3rx++DfxW7GnQzWD0ysOffwIvvghkZ4s9E+thMAA6nfSGXm/c0ztkCFBdbfxa7DnVnx+JH73Xys7OxoQJExASEoJ58+Zh4MCB+Pbbb5GcnFzn+wwGA5RKJS5duoS5c+fC399f6KlQCzF6ydYxelvXJI9JGOY0DDq9TuypSF5ZVRne2/Me5gbOFXsqdDMYveIxGICyMiAnxzhyc1s2CguBlSsBOzsgNhbIz2/ZcmrnkZcHVMn8XP3gYGDsWGNYDh8unWFvDzg4AI8+Ctx3n/Fre3vx51U7hg41jm3bjEFuwyQTveXl5Zg5cyY2b94MnU6HoqIiZGVlYffu3ZgxYwZKS0tN36vX6+Hq6opZs2bhzTffRGBgoJBToZvA6CVbx+htXYzepmP0ygSjVzyZmcD48cbDkt94A3j99ZaNt98GnngCuP12497et95q+bJefRV45RVg0yaxfzuW9c03QPv2xsf95MnAxInSGp9+ajzEWex5NDSvZ54xPsaKisS+F0UliegtLy/H8uXLsXr1arN/i4+Ph729PZRKZZ2/12q1qK6uxooVK+Dn5yfUVOgmxebEwm6jHULSQsSeCpEoGL2ti9HbdIxemWD0iufUKeChh4BRo4A1a4Dly1s+Vq4EfvsNWLGi5ctYsQL49VfjHuPBg+V9EaWZM4F+/eS/R9sSli41vkmTny/2TEQlieh1dHTEgw8+iC+++AKrV69GcHAwVq1ahXnz5mHSpEk4ePAgdLqGN2h+/fVXSZzTW1pZCscERywLXYYVYStscqw5uQbTvKeh7Yq2GO8+HmtOrhF9TmKOn0N/hvsFd6i1arEfntSKGL2ti9HbdIxemWD0iufECaBzZyAoSOyZ1PXFF8YrB8v58NXZs43Rq+Y2VbP9+CPQsydQUCD2TEQliehNSUlBQEAAAgMDERgY2/17jAAAIABJREFUiJSUFJw4cQKenp44efIk9Nc5AVsqV28OzwrHY2sfw1PrnsLbu97G69tft72xwzje2PGGaYg+J5HG27veRse1HWG3yQ6XCi6J/fCkVsTobV2M3qZj9MoEo1c8J08CnToBXl5iz6SuKVOM523KPXr79gUqKsSeifX54QdGLyQSvTdDKtF7JOUInvzjSbicc0GhuhA5FTm2N8pzoKxQIl+VD2WFEjnlEpiTSKNIXYSt0Vvx9PqnEZcTJ/bDk1oRo7d1MXqbjtErE4xe8TB6xcPobTlGLwBGr2CCUoPQeWNnHEs/JvZUSCIOnTuELhu74EzuGbGnQq2I0du6GL1Nx+iVCUaveBi94mH0thyjFwCjVzBBqUHotKETAlN4JWky2h+/H3Yb7Ri9NobR27oYvU3H6JUJRq94GL3iYfS2HKMXAKNXMIxeqo/Ra5sYva2L0dt0jF6ZYPSKh9ErHkZvyzF6ATB6BcPopfoYvbaJ0du6GL1Nx+iVCUaveBi94mH0thyjFwCjVzCMXqqP0WubSitL8fqO17E5crPYU7EJjN6mY/TKBKNXPIxe8TB6W47RC4DRKxhGL9XH6G09Wr0WEVkR2Hd2H/ae3Yt9Z/eJMg4mHMTGyI14+LeHMcplFA6dOyTaXPac2QOnRCekFqeKffdYFKO36Ri9MsHoFQ+jVzyM3pZj9AJg9AqG0Uv1MXpbT3Z5Nt7Z/Q7uW3kfum3phi6buogyum7uCrtNdnhm/TPovKEzum7uKs48NnXFcxufw92/3I35R+aLffdYFKO36Ri9MsHoFQ+jVzyM3pZj9AJg9AqG0Uv1MXpbT1JhEjpt6ITFwYuRVJiEBGWCaCNRmYgL+RdwLu8c4pXx4swhLxHn8s7hgz0fYJTLKLHvHoti9DYdo1cmGL3iYfSKh9HbcoxeAIxewTB6qT5Gb+tJLkzGC1tewK64XWJPRVLGuo7FJ26fiD0Ni2L0Nh2jVyYYveJh9IqH0dtyjF4AjF7BMHqpPkZv60kuTEb3Ld2xJWqL2FORDIPBAAdnB0YvmTB6ZYLRKx5Gr3gYvS3H6AXA6BUMo5fqY/S2HkavOUYv1cfolQlGr3gYveJh9LYcoxcAo1cwjF6qj9Hbehi95hi9VB+jV0bGjgUmThR7FraH0SseRm/LMXoBMHoFw+il+hi9rYfRa47RS/UxelugqAhITQVSUox/ij3S0oD0dKB/f2DwYODKFePfiT2vlBTjyM837omWK0aveBi9LcfoBcDoFQyjl+pj9LYeRq85Ri/Vx+htpsJCYPJk4NlngRdekMbo0cM4OnQwjhdfNH4thXl16gQMGQK0YIPSajB6xcPobTlGLwBGr2AYvVQfo7f1MHrNMXqpPkZvMyUlAU89BTg4ALt2AZs2SWds324cYs+jduzaBXz5JfDAA0BIiNj3nOUwesXD6G05Ri8ARq9gGL1UH6O39TB6zTF6qT5GbzNdugR06wbs3y/2TKzDyZNA586MXjEweul6GL0AGL2CYfRSfYze1sPoNcfopfoYvc2UlGSM3m3bxJ6JdQgIMAbhsWNiz8RyGL3iYfS2HKMXAKNXMIxeqo/R23oYveYYvVQfo7eZGL3Nw+gVD6OXrofRC4DRKxhGL9XH6G09jF5zjF6qj9HbTIze5mH0imfqVGDYMHlfOZvR23KMXgCMXsEweqk+p0QndN3UFefyzok9Fdlj9Jpj9FJ9jN5mYvQ2D6NXPFOnAsOHAwaD2DOxHEZvyzF6ATB6BcPolQYDDFBr1SjRlKCkUryh0WqwK24Xnt3wLE5nnYaqWiXefDQlUGvVMEC+L4aMXnOMXqqP0dtMjN7mYfQKQ6czXjxtwgTjmDjx+mPKFOCJJ4CHHjJ+PXnyjW8zfjwwaRLg7m65n0NojN6WY/QCYPQKhtErDXE5cRhxaATe2vkWev/VW7TRd19fPLfxOfxn2X/w6rZX0WdvH9Hm8tbOtzDaZTQS8xLFvnsshtFrjtFL9TF6m4nR2zyMXmGUlADvvAM8/jgwahRgb3/9MXw4MHq0cdzoe2uHg4MxkgcPBqqqLPezCInR23KMXgCMXsEweqVhZ+xO3PPLPZjiOQWLgxdj/pH5oox5R+bh+6DvsSRkCb47+h3mHZknyjwWBy/GRPeJuOfXe+CY4Cj23WMxjF5zjF6qj9HbTIze5mH0CqOwEHjzTWDRIuPXBoPxXN3rjVo3+j69/p9DoL/80hiRarXlfhYhMXpbbskSY/QWFoo9E1ExegXC6JWG7dHb0X1Ld2SVZYk9Fcm4XHgZXTd1xd9n/xZ7KhbD6DXH6KX6GL3NxOhtHkavMAoLgbffNu6ds6QZM4D+/QGNxrL/j1AYvS23bBnw7rs2/7tj9AqE0SsNO2J24PnNzyOpIEnsqUhGfG487DbZYX/8frGnYjGMXnOMXqqP0dtMjN7mYfQKozZ6a/f0WsqXXzJ6pSY+Hli40HjfzJx582PWLODbb4EXXwQ6dAA+/xyYM0eYZc+YYfzT1dV4HroVYPQKhNErDbXRe6ngkthTkYyzuWcZvTaI0Uv1MXqbidHbPIxeYTB6G2YL0btiBdC2LdC7t/G+6ddPmDFgADBwoHDL69fPuLyHHzaef15cLPZvrkkYvQJh9EoDo9cco9c2MXqpIX339cXi4MViT8M6MHqbh9ErDEZvw2wher/7zng+t1IJVFYa75ubHWq1cVlVVcIsr3ZUVRkfo6+9BuTni/2baxJGr0AYvdLA6DXH6LVNjF75yCjNgPM5Z/wV9xf2ntnborE/fj92xu7E0+ufRt99feGY4NjiZe09sxe743bDL9kPpZWlYv96LIfR2zyMXmEwehtmC9G7aBHQqxdQXi72TJpm2TLgrbcYva2F0UvXYvSaY/TaJkavfPxy/Bfc88s96LShE7pu7ooum7o0e3TdZLzdM+ufuanldNnUBd22dMNjvz+Gjms74kjKEbF/PZbD6G0eRq8wGL0Ns5XofecdoKhI7Jk0zY8/MnpbE6OXrsXoNcfotU22Er2feX+Gkc4jxZ6GRX3h8wVe2/4aYrJjcC7vHBKUCS0eF/Iv4Hz++ZtaxsX8i3A974rHfn9M1usVRm8zMXqFwehtGKNXehi9rYvRS9di9Jpj9NomKUdvpa4SKUUpiM+Nb3F4JSoTcS7vHAY7Dkbvv3ojXhl/U0EYnxuP5MJkqLXS+8zKmX4zMWD/ALGnUcfFgovouqkrDiYeFHsqlsPobR5GrzAYvQ1j9EoPo7d1SSV6Q9JC0HlDZxxNPSr2VGwao9cco9c2STl6A1MC0X1Ldzy17il02dQFdpvsmj1qD9m9b9V96PBrB9Ohty1d1tPrn4bdRju4nHcR+9djZqbfTPTd1xfqaukEeVxOHOw22jF66R+MXmEwehvG6JUeRm/rkkr0hl0JQ+eNnXEsXcYreyvA6DXH6LVdo1xGYYL7BLGnYWZ9+Hr8d81/8Uf4HziUeAh/x//d4uGU6CTIMrZGb0XHtR2xJGSJ2L8eM4xekTB6m4fRKwxGb8MYvdLD6G1dzY3evIo8rDq5CpM9JmOa9zRBxiy/WRiwfwD+b9n/YcD+AZjlN0uwZU/2nIyVJ1YiT5Vnwd+ifDB6zTF65UNv0ENVrUJFdcV1h7paDbVWjeFOwzHGZQw0Wg3U1eob3q6iugIarQYGg8GiP8eGiA14edvLyFdJ54VSo9XgnV3vYOmxpWJPxQyjVySM3uZh9AqD0dswRq/0MHpbV3OjNyw9DA+ufhAv/fkS7J3sMfjA4Jsegw4MwhDHIbB3sscQxyEYdGCQ8d8cb27YO9nj5W0v44FVDyA0PdSCv0X5YPSaY/TKg0arwS/Hf0Hvv3rjw70fos++Po2Ofvv6od/f/XDvyntx/6r78dHfH6Hfvn7XvU2fvX3wwZ4P0HdfX4s/VjZGbESPrT2QWpRq0f+nOfJV+Xhzx5v46dhPYk/FDKNXJIze5mH0CoPR2zBGr/T88gvw7rtW8xiyuegNvByIp9c9jaOpR2EwGFCtq77pUaWrQrW+Gjq9zvR3QonIikCnDZ1w/MpxwZYpZ4xecylFKei2pRvcL7iLPRWLsYXozSnPQfct3fHytpcx/+h8fOX3VaNjtt9szPabjXmB8zA3cK7p6+vdZo7/HHwd8DUe+/0xjDg0AnqD3mI/C6O3eaQYvcmFyXh+8/PwvOgp9lQsh9HbPIGBxiAMlfGb9Ixe8cybBwwcKPYsLKs1oreyEoiPB4KCgJCQlo+TJ4Hx443PB29vICys5csKDjYuz8J7jG0ueo+mHEXnDZY/9zY6Oxq74nZhZ+xO7Irb1aKxP34/FhxZgPa/tscc/znYe2YvtsVsa9mINo7TGadl/XmWthC9xZpieF70xJaoLTe83/868xeWHluKe1feiymeU7D3bNMeQ1ujt8LtvBsK1AVi/7hNYgvRe7XsKl768yWsC19n0f9nksck2DvZQ2ew3HqC0ds8rRG9xZpieFz0wNaorTdcP+w5swdLQpagw68dMNVratPXK1Fb4XbBDYXqQov9HIJi9DZPWBjw3HPA6dNiz8RyGL3NU1QEeHgAW7can0ctGdu3A3v2GPcoPvMMsGULsHNny5e3dSuwfz9w5Yrlfu6Wao3ojYoCXngBePRR4/O1U6eWDTs74zIeeAB49lmgc+eWLadzZ+Dpp4GHHgJWrbLczw0bjd5OGzohKDXIYnMq1hSj776+6LCyA3ps7YFum7u1aHTf3B3Pb34ez218Dl03d0X3Ld1bvKweW3vg3pX34v0978v6/GBbiN6AywF45LdH8MTvT9zw8VXnMbSpaY+hHlt64Kl1T+GB1Q9Yzd5hW4neV7a9gjUn11j0/5ngNgEOhxwYvRLSGtHrl+yHh397GE/+8WST1yt2G+2avl7Z2gP/++N/eGj1Q/C+5G2xn0NQ6enGjcPdu8WeieVUVwMuLsA33wDffgvMnduysXgxMGIE0KYNMGqU8euWLuvbb43D3R3QasX+DdXF6G0eHx/gv/8FnnwS6NHD+CZSS0b37kCXLsbQaukyapfz3HPA3XcDq/+/vTONiupa03D+dN+1et3uTv+5nU53rww36RhNTIxREmMSxSnG5KrRGzXROAsKBVQxCIhGmeeZEgQsZJBCRUQFRBCZ51mUGRlqYh6riiqq6u0f50JM7lUpOBuV7Getb7GAqv2dffY+39nvHr3I5XumzIXoTU5mysTfnxlhTU+fuU2OFs8mjYwM5ufHHwN795LLN6joJYJ0VIoPQz8E7xYPDwcfoqm/aWbW14SW/hY8HHyIlv4WNPXNMJ3+JjwcfAi7TDu8x38PHUPPYe8WS/weRG9cbRxe83sNNxpvoG2g7al1qLm/malDA9OrQ60DrchozcCbAW8irDzsWWd3WvyeRK9XAdkX9U9Xf6Ki9zljLkRvdE00Xvd7HSlNKUTiSttAG9Kb0/Gm/5uIrIwklg8AgErFTJOTyYDu7plZXx9QXMyMYPj6MkLk0f/LZPrb6CjZfM+E7m7AwIAZsdmwATA0nLmtWcOksXbt7NLZsAF49dXnc4McKnr1QyBgBG9aGtDWxsyemKm1tjJpNDfPPI2WFqCmBli2DLCwIJfvmTIXovf6dabzoLaWnI+Z8P33wMGDRF1Q0UsA2ZgMBuEG8Cn0IeZjJoSUhuDjsI/ROdT5rC+FGBdrL2JJ6BJIRiTP+lKIEX8vHotCFhEV9h2DHfjg7AeIqIwg5oNNqOhlj9+r6O2T9/2uRW9cbRze47+H5v5mYj4eDjzEYv5iRFVFEfMBnQ7w8wOWLmUatgYGM7MVK5hR3j/8gWm0r1z56/+vXMmIs6++erpt3MgIuEOHgJERcnmfCZ2dzOiXuzsjfkZGZm6jo4BczvycTRpKJeDoyJSh5Dl7l1PRqx/R0cD77zOC9XlhYoJ5dq2snvWV/D1zJXoXLAAKC8n50Be1GtiyhYrep/G8it7l4cvhludGzMdM8Cvyw9Kwpc+d6FVpVCjqKoLwnhDCOiES6hJmZMkNyTC6YYRXvF5BYEkgrtZfnXFa8XXxuPLgCtEG4EyJvxePd4PfRY2shpiPht4GvM9/n/yIDEtQ0csev1fRK1fL8fn5z+GR7/GsL+XvmCvRuzBkIWq7yfX+P+h5gPdC3iMrelUqRmguXsxMX3RzA1xdZ2Zubswor6cn4OLyy989PJgG8+rVv4jrJ9mKFcxI6j//M/PdpCQgIeHJJhQC8fGMyCIpSrq6mDwEBpLzMRO8vJjOBSp6yTFXonfRIuD+fXI+9EWrZUSvvf2zvpK/h4peom6o6CUAFb360djXiI/PfYxXvF7Be/z38G7wuzOyRSGL8Hbg23jd/3W8E/QOFgYvnFE6k9972f1lGN0wItr4nwlU9P497YPtWBK6BOEV4c/6UohBRa9+jKnHkFCXgDPZZ+CU4wTnHOfHmnu+OxzuOOBPXn/CqqhV8C70fuLnJ+109mn4F/mjqa+JWD4AKnr1QqkENm0iP3UxIYHZfGXpUmYU99NPH28rVjDrGV9/nZkuvXAhs67wSfbee8y6u8WLgXv3yOVjUvT6+pLzMRPc3KjopaJ3eiiVTEeSoyPg5AQ4Oz/e3NyYs2X/+7+BTz5hOldcXJ78HWdn4MwZwMeHvHj/vYpeANi2DThyhKgLKnoJQEWvfpSISvCa32vwKvDCve57qJRWztiqZdW4130PVdKqGadRJa1CrawWW4RbsC56HZQTz9d2/vNJ9Gp1WoyqRjE8PjxjG1OPoba7FgtDFsK/2B9ytXxW6Y2Mj0ClURHN90ygolc/artr8VbAW3jN/zV8fv5zfBrx6VNtRcSKaX3u04hP8VnkZ1gathR/dPkj3PPdieUDoKJXL5RK5lgTY2NyPgDgxAlGmObmMmsEq6oeb5WVQHU1UFf3y+9Ps3v3gOBg4H//l+wRQFT06gcVvfoxF6K3uZl5Fv/nf5j79qQOqEc7oqbzuU8/ZTq1li0D/vhH5rknyXwSvWo1s2RhePjJNjoKDA0xcfunn5hzmEdHn/694WHms9rpH69IRS8BqOjVj1JxKd4NeRcpTSnP+lJ+hVmaGTbFbaKilyDhFeH4UvAlvhR8idVRq2dka6PX4pOIT/AHpz/g7cC3sT56/YzTWh21GisiVsA0xRSyURnRvOsLFb36UdRVhDf930R0TTQGlYPokfc83saYn/2KfvTJ+6Z+f5L1K/rRNtgGg3ADWN+2JpYPgIpevZgr0fvzz8CqVWQFw927TOM0L4+cDyp69YOKXv2YC9FbW8vMoODzgcFBoKfn6dbfz2xWN93PisXMcgbScWW+iN6xMWYH988+Y+Lk6tWPN0ND5ud//Adz/NGaNb/87Un2xRfM52Jjp31ZVPQS4HkVvWfLzsIg3AADSoIP0wwoFZdiQfACJD5IfNaX8ivM08yxRbjlWV/G3zFfRK9ao8a3F7/F24Fv48SdE7DLtINthq3edjzjOOwy7fDz3Z9x4s4JHM84PqN0bDNscfruaXx78Vv8l/d/oVRUSizvM4GKXv0oFhXj3aB3cbPpJjEfcrUchlGGsMu0I+YDoKJXL+ZS9K5cyTScSZGayggsKnqfH6jo1Y+5EL337jEjvUIhOR8aDfDtt4CpKTkfwPwRvZ2dzDKOzz9nYqWt7ePt+HHm56lTjFA+fvyXvz3O7OwYe+014Icfpn1ZVPQSYK5Eb0NvA86Vn4N/sT+CSoKeaOEV4dgcvxl/8voTnHOcEVoe+tTvBBYHIrA4EFltWVBr1MTyMReiV6fToVRUiuDSYAQUBzwx38ElwQgtD8Un4Z/g7cC3EVAcAH4p/6n3K6A4ACGlISgTlxHLBzB/RK9Ko8K3F7+FSYoJMR8z4U7bHbwb/C7xctQXKnr1o1hUjAVBC4ieNT2oHMSXgi+p6J0mVPTqye9Z9Hp6Mmsue3qe9ZX8Gip69WOuRO+iRUBMDDkfCgVzr6jonR6TZ5yHET72cs8eYNcuZtf+aUBFLwHmSvRa37bGv7r+Kz44+wE+Cv0IS0KXPNE+PPshFp9djA9DP3zqZ5eELsGyc8vwJ88/4dOITyEaERHLx1yIXoVage8SvsPL7i9jadjSaeX/g7Mf4IOzH0zrs0tCl2Bp6FL8u/u/Y8flHUTXhM4n0bs5fjOOXCe7cQHArB1Wa9VPNa1Oi6T6JPxf0P+hqLMIGp0GKo1qWqabZtCdKVT06gcVvfpBRa+eUNGrPxMTzO7aTzONhtlc6OOPAZFo+t9TzcFeDFT06gcVvfoxX0RvRwezeR/pXeF37QJ+/JGK3scxn0Tvnqt7sC56HdoH29E13IX2ofbH22A7Ooc6IRoWoWOoA+2DT/js30w8IoZLrgsWBC8gujvpXIjeofEhrIxciSM3jkA8ImbuwVPuV9dwF0TDoqnfn/T5jqEOiEfE2H9tP1YJVmFMPUYsL/NN9B6+fpiYDwAo7CzEriu7sCFmA76J++aJtlW4FR+FfYR/cvwnfBb5GbYItzz1O9/EfYP10ethmW5J9HxoKnr1g4pe/aCiV0+o6NWPxETgL39hziz+5psn29atwNtvA//yL8D69cDmzU//zqZNzDE0Hh7MWcGkoKJXP6jo1Y/5JnoDAsj50OmAnTvnl+jNzs5GQkICeh4zxeX3LHr3X9uP7y9/T9TH+crz+PDsh0TPq50L0Ts8PozVUatx4g7ZnfdsbttgXfQ6KnqnwVyJXtdcV7zs9jL2Ju0FJ5UD45vGTzSTFBNY3LKASYrJUz9rfNMYFrcssCFmA/7T6z+R10GucUpFr35Q0asfVPTqCRW9+rF7N/Dqq8DRo4zYMjZ+snE4zLFTR48+/bPGxsxnly5l1nZ2Etysk4pe/aCiVz+o6J0+80303rx5E/v378ehQ4fg4OAAtfrv15W6u7sjPT192mnebb+LBSELkN2Rzeal/opeZS8MzhvAo9CDmA8AOHDjALZd2QYdyE2rPFd5Dh+EfYC2IXKN0wpZBd7lv4ukRnKN07GJMRjGGOL4nePEfAAAL4OH9XHrodSSe4kkPEjAwrMLUddbR8xH82AzFocthqBGQMyHBhpsubQFR1LITm92ynPCyqiVkGvI9f7ndeXhnZB3kNuZS8yHTC7D8ojl8Cn2IeYDAPYm78WOxB1EffDL+fjo3EfoGO4g5qNMWoYF/AVIbkom5mNEPYJV0atw4i7ZzjTz2+b46uJXUGkJLpu4H49FZxfhfh+5xmljfyPeD30f0bXRxHxArWY2nDl2jJwPgDm38/PPmd1iSZGeTr5xKpEw04j9/cn5AJjNZvbsIesjNJRpaJMUvcXFTJmkEDxtYmiIET6nTpHzATACbtMm5pkhRWws0xHR0EDOx4MHjI+4OHI+VCrmXnE45HwATJl/+SVzHA8pUlKYOlxSQs6HSAR89BEQFETOB8BMb969e9of12g0sLa2fv5Er1qthrm5OW7cuAGVSgVTU1MUFRX96v8qlQqnT59GcnIyxsfHIZfLn2jjynGk1qfidd/XcavxFsaVT/+OvqZUKNHe144P+R/iTNYZIj4UcgWUCiV+uPQDvon9BmPyMSgUCtb9jCvHEVAQgAVBC3Bfep9IXsaV48h/mI83/N5AfE08sTLpGe7BiogVME81J1Ym48pxmNwwwReRX6B/pB9KhZLI/Yquisab/m+ipKOEWJnUSmrxTuA74BfziZXJ6NgoNkZvxN7EvVAqlFDIydThU5mnsDR0KSQDEqiUKigVSlZNNa5CSn0K3vB7AxlNGWTul1KJh70PsThkMVyyXcjUYQUTV3Yk7MDmi5un/kaiTHzyfLAwaCEaZA1QKsk8JzmtOXjD7w0k1CYQq8OyIRk+Df8UvFQeuVivVMLouhFWCVZhYGSAWFwRVAjwZ/8/o6yzjFhcqRZV4+2AtxFWGkbEh1yphHx4GPL16yE/eJD5nUAdlo+PQ25nB/myZZBLJIwfEj6uXYP89dchv3OH+Z3E/Wpthfz99yF3dyfjQ6FgbPt2yLdtY3yOjzM/2TSVCnJvb8gXLYK8sZFcmdy9C/kbb0CemEiuTCQSyJcvh9zGhlyZKJWQHzoE+Zo1kA8OkrtfERGQv/UW5BUVZPIyPs6k/dZbjC9SZTI4yNyrw4fJxhUbG8gNDCCXyciVSWIiU4dzcsjdr6Ym5ln09iYbV7Zuhfyvf/3l9yd8R6FQYGhoCCYmJmhu1n/2KlHRK5FIYGNjg7IyZgdVLy8vxPxt6oJOp8OVK1dgamoKQ0ND7Ny5EzY2NuByuU80K0srHDh2AKt3rsbBYwdhZWn11O/oa5Y8S5iam2LtD2ux4+AOIj4m/fxl71+w6adN4HK54HF5rPuwsrTCD4d/wJpda3CMcwyWPEv2ffCscMTkCFbvXI29xnuJ3C8ejwdzC3Ns+HEDtu3fRiQfk2Wydf9WfLX7K1hYWIDHI1MmPxn9hNW7VsPI1IhIXix5ljjKOQrDXYb48ciPZMrkb/X16z1fY/O+zcTKxIpnhe8Pfo91P64Dx5xDpg5bWuHA0TmIK2Z/iyuHyMUVHpeHb/d+i00/bQKPyyMWV3Yd3sXEFTNyceWwyWGs3rka+4z3ESsTMwszrP9xPbbt3wYrHrlY/6u4QqhM9hjtwepdq2Fsakw8ruw+sptMHebxwLWwAHfjRnA3bwbXkkxc4VpZgbt9O7jr1oFrZkbGj5UVuPv3g7t6NbiHDjG/s+3D0hJcExNw164Fd+dOMj54PMa++Yaxyd9J3K9du8Bds4bJE6kyOXyYKZN9+8iViZkZuOvXM3WMhI9JP1u2MM+KhQW5MtmzB1xDQ3CNjcmUiaUlk7ahIeOLVB2ejCtbtpCPK+vXk40r+/bNTVxZs4Z5Jp+TuMLj8WBiYoKvvvoKnTOYDUJU9Eql0seKXgDo7+9Ha2srurq6IBKJ0NXVNS2TiCUY6B6ARCyZ9nf0NZFIhH5ZP7ol3cR8dHV1oVfaiz5pH1EfMokM/bJTiYVJAAAYq0lEQVR+iEViYj4kIgkGZAOQiqXkyqSLKZMeaQ/R+9Uj7UGfrA+irunXSX1NKpZiQDZAtEzEIjEGZAOQSWRE71efrA+90l6iProl3eiX9esVJ/Q1Glf0s3kXVyRzE1eIlolYNm/iSldfH7p6ycaVru5udPX3o4tgXOmSStE1MIAuCbm40iUSMfnoJhtXunp7565MxOTqcJdEwpSJlFxcmSqTHrJxpaunh3lWSPqQyZj7RbJMxGLGh2wO4spclMl8iCti8XMZVzo7OyGVSqHR6L9nyZxObzYxMUFxcTFJlxQKhUKhUCgUCoVCoUwxJxtZ7du3DwcOHICDgwMmJiZIu6RQKBQKhUKhUCgUCgXAHB1ZlJeXh8TERPT29s6FOwqFQqFQKBQKhUKhUADMkeilUCgUCoVCoVAoFArlWUBFL4UyD1GpVDNa5K8ParUaSiW5s4wplPkC6WeRQqFQKBTKk3mhRK9arca9e/fmzJ9WqyWS7tDQEAQCATIyMmhjaBpIpVL4+/ujtrb2WV/KrElLS8OFCxfQ0NBAbH17bm4uoqKioCZ4WL1MJsP+/ftx+fJlYj6eFTqdjvU0Gxsbcf78eZSUlEAul7OePmV2DAwMECn3kZERxMbGzug8QX24fv06BAIB+vv7ifmoqKhAQEAAysrKiL0bfwuJMqG8GMyHsh8eHn7Wl8AKAwMD6OnpedaXQfkN822PpLl45l8o0SsQCLB48WJcv36dqB+5XI7IyEiUlJSwnvbIyAhcXFxgb28PR0dHpKenEytonU6Hhw8foq2tbep3EgwPD+PChQtISUkhsm67qakJGzduxPbt21FfX896+pPodDpkZ2fDx8cHRUVFrAeUiooKmJmZITY2FoGBgbh58yZUKhWrPsbGxuDp6YnLly8jIyMDxcXFrL94e3p6cObMGRw9ehQ8Ho94g76mpgbBwcEoKirC6OgoER99fX1wcnJCRkYGAHafFbFYDDs7OwQGBiIyMhIREREYGBhgLf1H0Wq1uHXrFgICAtDe3k7EBwDU1dXBw8MDGRkZxDpXpFIpzp07h66uLiLpA8wIrI+PD44dO8b6s6hUKmFvbw8ej4eqqiqUlZVBoVCw6gMAEhMTYWJiAg8PD0RHR2N8fJx1H42NjTh27BhCQ0MREhKCxsZGYu8TtVqNmpoajI2NEUl/ksLCQri6uiIpKYmYL7FYDD6fj6tXr+Lhw4dEfCiVSsTGxkIoFGJkZISID61Wi7S0NAQGBqKjo4OID4B517u4uKCpqQkAmTaLWCxGWFgYxGIx62lPotFocO7cOaSlpRHzAQAFBQXg8/morKwkElsA5tnfsWMHLl68SCR9gGkXnzt3DhcuXEBNTQ2RTrWJiQnEx8fDz8+PWDtSq9WitrYWra2tRNKfpLW1FX5+fkTrsFKpRExMDC5dukSs3QUAt2/fhq+v75wNBrwwolen06G6uho3b96EqakpEhMTifny9/fH3r17kZubi9u3b6O5uZm1ht3AwABSU1OhUChQVFQEe3t7DA0NAWA/wEulUnz11VfYsWMHJBIJq2lPotPpEBwcjNOnT0MoFMLX15f1EVmNRoO0tDT4+vrC3t4eBQUFRB7CBw8egMPhgM/nw8/PD42NjaymX1tbC0dHRwwPD6OxsRE+Pj6oqqpi1cf4+Dj4fD5MTEzg6+sLHx8fXLlyhdUXolgsxp07d6DT6SAQCHDp0iXW0v4tEokEJ06cQEBAAKKionDu3DnIZDLW/YyNjeHgwYMwNDScOlecLWQyGby8vHDv3j3U19djy5YtuHnzJqs+JsnMzMTRo0fh4+ODkJAQ9Pf3sx5XJBIJOBwOQkNDwefzUVpayrrQmpiYAIfDgYODA0pLS1FWVkakQX/x4kWYmpqCw+HgypUrrKatVqsRERGB7777Dubm5rC3t4dAIGBdYBUVFUEikaC8vBxbtmyBr68vOjs7WfXR1NQEDw8P5Ofng8PhwNbWFrdv3yZSJqmpqVi8eDGCgoKIzYTq7u6GqakphEIhBAIB8vPzibxTgoKC4OnpiYyMDPz888+sxxYAiIiIgLW1NZycnHDx4kUioz+5ubkwMTGBt7c3QkJCiM2MqKurw8aNG7F3715inQRcLhcnT55EaWkpysvLiZR7V1cXXF1dcefOHVy6dAkFBQWsPytisRg2NjY4e/YswsPDER0djcHBQVZ9DA8Pw8HBAXZ2duDxeKy3iSZJTU2Fra0t7ty5A2dnZyQnJ7Nej1NSUsDhcBAeHo7w8HB0d3ez3mHb0dGBtWvXgsPhEBsZ12q1iIuLQ3BwMHJzc5GZmQmxWMz68xgYGAhra2s4OztDKBQSG1UWCoX47LPP4OzsTKzj5lFeGNH7KHV1deBwOEhISEBeXh5rQUulUqG8vBxxcXH461//ij179sDLywtubm6oqalhxcejFbO3txf+/v4oLy9HYWEhqy/40dFRjI6OorKyEpGRkTAzM2P9JaJUKqFWqxETE4MrV65gcHBwqkHE9qhJUlISSkpKEBAQgLfeegspKSmspv/gwQMkJCSguroaAKZeJABTZmwElImJCSQkJCAhIQFarRapqakICwtjXTAUFhbi+++/R2lpKUQiEdzd3Vnt2Xz0XpSWloLL5aKlpYW19CcZHR3F0NAQvL29UVRUBIVCgYiICFbFSU9PD/Lz8zE4OIiSkhK4urrC3t4et27dYnXWQkFBAQICAhAcHAxzc3OcPXuW9QbK2NgYWlpa0NLSApFIhO+++w6Ojo6orKxkzYdcLkdfXx+8vb2RmpoKS0tL8Hg83Lhxg7WptUqlEhMTExAIBNi+fTuOHTuGU6dOITQ0lLWGo06nw8jICAoLC9HT04Pm5ma4uLiwPgKvUqlw9epVlJSUoLe3F25ubkhPT2fVxyT5+fm4fPkyLly4AD6fz+p6e51Oh4aGBlhZWcHMzAx1dXVwcXFhvYOzuLgYSUlJKCsrg52dHYKCglhvzDU3N0/N6ElMTASXy4W1tTXi4uLQ3d3Nio+enh4UFhZCIBDg4sWLGBgYgLm5OWxtbVlr2KlUKqSnp0MgEGB0dBTNzc04fvw4GhoaWEl/krKyMkRHR6OjowOdnZ3YunUrnJycWO2wbWlpQX5+Pvr7+5GamgovLy+cPHmS1dkRAwMDyMzMhK+vL3bv3g0TExOcPHkSYWFhrLUhNRoNSkpKUF5ejhMnTuDgwYMQCoXw8PBASkoKa3W5trYWGRkZCAkJQUNDA/r7+xEcHIxbt26xkj4AiEQiJCYmIicnBwBw/vx5REVFsZY+wLzji4uLcenSJXh6ekKlUqG1tRUuLi548OABa37Kyspw/fp1DAwMoLGxcaoOFxYWsjaq3NjYiKysLNTU1ODixYs4ffr01EgsW23IyQ7TrKwsHDx4EKdOnUJISAj4fD5rsUutVkOhUCAvLw8DAwNoaGiAra3t1OwLtph85iQSCWJiYuDo6AgfHx+0tLQQXfb5QopeAKisrMSiRYvA4XBYebmPjY0hKCgIRkZGCA4ORmxsLIqKigAwPRHh4eFEpvEdP34c27ZtQ0xMDGtpVldX4+uvv/7VaFJERASOHz+OxMREVnqbe3t7sW/fPnh6eqKnpweRkZHw8/ODh4cHHB0dWZ/y2tPTAy8vL5ibm8PV1XWqbNggKysLxsbGsLGxQWpqKgCgqqoK8fHxyMzMZHWae19fH6KjoxEVFQUHBwcEBASwvhmURqPBtWvXwOfzERgYCCsrK2JTkHU6HYKCghASEsJqurm5udi4cSMqKyvR0NCAoKAgiMVitLa2wt3dnZUprx0dHbCzs4OpqSkiIiKQm5uLnJwchIaG4tVXX0VwcDALOWHQ6XSora1FWloakpOT4eTkxGpPcGxsLDZv3gyRSAQAuHfvHoRCIWJjY+Hp6cmKIK2oqMCmTZuQnp6OwcFBuLq64sCBAygpKYGXlxcyMzNn7aOnpwc//fQTvLy8ADBrVRsaGjA6OgonJydkZ2fP2odKpYKrqyv27ds31aAeHh6Gk5MTIiMjib1wRSIRjIyMcOPGDdbT1ul00Gq1mJiYgLu7O1xcXIj0mt+7dw8BAQEIDw/HsWPHWBNYarUasbGxOHDgABwdHSEWizEyMjK1LODGjRuQSqWz9lNYWAhjY2M4ODggKioK7u7uMDY2RktLC7y9vXH79u1Z+2hvb4eNjQ2srKzg5uYGT09P+Pj4wM/PDz4+Pqx0QI6MjMDX1xeHDh2Cn5/f1BKWSZGSmZk56w4cnU6Hq1evTpVJc3MzOjo6cPnyZURHR8Pb25uVTqLKykoYGxvD0tISaWlpyMrKQl1dHezs7PDWW2/h7t27s/YhFothb28PMzMznD9/HomJiejs7MTw8DAcHR2Rl5c3ax8KhQJhYWEwMjKCr68vTp06hcOHD6O/vx/V1dXw9PRk5X6lp6fj4MGDcHV1haenJ4RCIeRyOaqqquDt7c1KrK+vrweXywWXy0VsbCwmJibQ2NgIHo/H2r46vb29cHV1hZmZGdzc3ODu7o4rV65Ao9Hg6tWriI+Pn7UgValUiI2NxeHDh+Ho6Ii6ujo0Nzfj5s2buHHjBry9vdHX1zfrvBQUFEy1ISeXSMXExMDb2xtCoRAlJSWzFr3t7e347rvvEBMTA41GA1NTU4SFhUGr1bLW4TE2NgZLS0tYWFhM/W1kZAQJCQlTo8qTM1Nnw/nz57FlyxZIpVIoFApERUWhrq4OGzZswNq1a4lO235hRW9fXx8iIiJYW1/S1dWF0NBQdHR04NKlSzh37hwAZmSDy+UiLCyM9caQVquFpaUlvLy8WO3NLigogKOjI4yMjKYeQACwsrLC0qVLWRFxbW1t8PX1hampKS5cuACpVIrs7GwUFhbC1tYWpaWls/bxKDqdDunp6aioqGA1Xa1Wi5iYGBQVFeH+/fs4efIkOjs70dLSgnXr1rHasJtEqVTi7t27iIiImBIpJKirq4NAIGB1pO8fIRaLUVtby2odzszMxKlTp2BmZoaioiLk5OTg3LlzcHZ2hoWFBSvT9fPz8xEXFwepVIrAwEBcvnwZcXFx4HA4CAsLI7KmHwCuXLnCqvDRarW4cuUKbG1tweVyfzUFLSwsDPb29qys687Pz59ay11UVITu7m6Eh4eDz+fj2LFjU7MkZkNrayt8fX1hbGyM8+fPT/29s7MT+/btw507d2btY2RkBJGRkbCwsMDPP/88NaJfXl4OOzs71qcGT3L16lUEBAQQXbtUWVkJNzc3Yusu1Wo1cnJyEBAQwOrzMTo6iqioKLS2tiI6OhoHDhxARUUFOjs7sWLFChw5coSVmRFCoRDZ2dloaGiAh4cHsrOzERUVBTc3N3C5XFZifV5eHi5evIju7m54e3sjLCwMNTU1yM3NhbW1NSvPiUgkgkAggEwmg5ubG6ytrVFaWgp3d3esX78eZ8+enXU9U6lUiImJQX19PZKSkqaeP61Wi7CwMJw4cYKVmRepqanIyspCbW0tjhw5gtDQUNjb28PW1hYCgYCVEb+amhrEx8dDKpXCwsICfn5+kEgkaGtrw/79+1npTJPJZDh79iza29uRkpICOzs7REdHIygoCJaWlggKCpp1R5RGo4FQKER1dTVycnLw9ddfg8fjISgoCA4ODrC3t2flObl16xaSkpIgkUjg5OQ0FXcnO9LZaAvfv38fERERkMlkiIqKwunTp3H58mX4+fnByMgISUlJs25TDA4OIjQ0FE1NTcjMzMSZM2emngtPT084OzuzstwkPj4eubm5aGhogL29/VTHFpfLhaGhIe7fvz9rH7W1tXBzc4OxsTGSk5NRXV2NwMBABAcHw9jYGAUFBbP20dPTAz6fDw6HAy8vr6n66uvri7Vr1yIsLIyVOpyQkAAbGxvweDyIRCJUVlbCxsYGjo6OSEhIILI30CQvrOhlW4Cq1eqpOeuNjY1wdnZGf38/0tLSEBERQWxXTJK7+1VVVeHw4cPIyspCT08PhELhr0TwbJgMRv39/bC0tMSFCxcwNjaGW7duTfU8vgjodLqpkVa1Wg0fHx8UFxejvr4elpaWrDRQKDMnOzsbHA4HZWVlyMvLQ1hYGGtTKh8dYU9JSYFAIMDdu3enRvtJoNFoWJ/O/mjDID4+HhwOB21tbcjKyoKjoyPrU8/LyspgbGyMvLw83Lp1C56enqzNvJjMS19fH7hcLqKioiCRSODl5YWoqChWlk08Onrg6+uLkydPQiQSob6+HuXl5cQ2A+rr6yO+6/Hg4OALE3sf5dH7IhAI4O3tjcDAQGRmZuLatWus1eHJZ16n0yEkJASZmZm4c+cOvL29WVvC9I/iilKpxNWrV1lbqzh5v5RKJfz8/BAcHIyAgABYWlrCzc2NlTrwaFwRCoXw8vJCUFAQ+Hw++Hw+a2UymZfi4mI4OzsjJCQEu3fvZq08gF/aizKZDK6uruDz+fD390dQUBAuX77MSkyemJiYmg3Y3t4OT09PdHV1ISUlBVevXmVFjD46TTY5ORl+fn4IDAyEh4cHkpOTWZvR9Wgdjo+PR1xcHHp6enD//n20trayEsdUKtVUOmVlZQgMDIRYLEZ8fDzS0tJYmQGn0Wim3hnd3d1wcnLCw4cPUVRUhNDQUNYGHR6NK4GBgcjKyprKS3l5OSs+Jsu9ra0NHA4HKSkpaGhoQHh4OHJyclgZdJhMQ6VS4fTp0/Dy8kJvby/OnDmDkydPslImj17nhQsXYGNjg4qKCgQHB7Ous7RaLVQqFYaHh6fqwQsrekmiUCjg5OQECwsLREZGPuvLmRXV1dXYsGEDtm/fTqz3v6+vD0eOHMGKFStYmR72LElISACHw4GLiwvray4pMyMvLw+GhoYwMjIi1klUX18PKysrHD9+nLWX1LNCKBRi2bJl4PF4xDrrKioqsHHjRvzwww/ENsnr7e3F4cOHsWLFCiQnJxPxMTExAW9vbyxZsgShoaFEfFCmj0ajwfDwMIaHh3HixAlEREQQ83X9+nVwuVycOXOGtfVwv+X+/fvg8XiwsrKaWhvJJuPj4xgdHUVnZyfMzMyIPCdarRbDw8NQKBRwcXGBh4cHkY6VkZERqNVqXLp0Cba2tkQ6n+RyOZRKJSoqKmBkZMTKtOZ/hEqlgpubGywtLREdHc16+lqtFkNDQxgfH4e/vz98fX1Z9zFJSUkJLCwsYGNjQ+zI0O7ubtjb28Pa2prYngc6nQ5+fn4wNzeHn58fsVMHrl27BjMzM5w6dYqVJRn/iIcPH2LHjh34+uuvie1ErVAoYG9vj2XLliEuLo6ID4CZBm5gYAAXFxfW0hwYGICJiQneeecdLFiwAGvWrMH777+P+vp6Knr/EQqFAlu3bgWPx3she80fRaVS4dSpUxAKhUT9REVFwcnJ6YU/d9jX1xeGhoaoq6t71pdC+RvDw8OwtrYmevxDVVUVPvnkk6n1Mi8ybW1tMDU1JVqHlUolHBwcWN/x+LdERkbCxcWF6Pl9BQUFMDc3J7IrOGVm3Lx5E3Z2dsQajQAQHh6Ozz//nPUlM49SUVEBAwMDxMbGEq3DERERcHV1JXJc1SR3796FlZUV0aPQ2tvbYW1tTaSDYBKFQgE3NzeiHSoTExPYuXMnjh07xsoayMdRWloKHo/H6qZPvyUzMxPLly/HjRs3iNVhqVSK1atXw83NjfVNUB/lyJEj2L17N9Ezh0NDQ/HFF18QX1bm6+uL4OBgonHl5s2bsLGxIbqrcmNjIzgcDmviXafTYefOnXjppZfw0ksvYeHChZBKpVi0aBGys7Op6P1HaDQa1NfXz8n22aSZ3ImNJFqt9oXvHJiko6OD6Dpbiv6oVCrWN/v6LcPDw6yv3X5WKJVKog0HYH7FFYVC8cJ3dMw3GhoaiJ1lPYlIJCK2fnuSoaEh4nFFrVbj/v37xGNkU1MTUbEAYGqdLUlGRkbw4MEDoksNJnc7J3m+KcDsgUBqps0kfX19xDbCnESpVOLBgwfEjsWZpKmpifgMvq6uLuJxZWJigvi7UafTQS6XExXVAPP+ZXPUfXR0FP/2b/82JXoNDAwAAAYGBsjNzaWil0KhUCgUCoVCoVAoLy4qlQp//vOfp0Tv8uXLoVarsXz5cip6KRQKhUKhUCgUCoXy4pOUlIRXXnkFL730Ej7++GMqeikUCoVCoVAoFAqFMr+QSqUIDg7GZ599BoVCQUUvhUKhUCgUCoVCoVDmF62trVi1ahXGxsao6KVQKBQKhUKhUCgUyvyiqqoKX375JRW9FAqFQqFQKBQKhUKZf1RWVmLlypUYHR3FRx99hJycHCp6KRQKhUKhUCgUCoUyP6ipqYGhoSEUCgVWrlyJvLw8KnopFAqFQqFQKBQKhTI/UKlUEIvFAJgzwJVKJRW9FAqFQqFQKBQKhUKZv1DRS6FQKBQKhUKhUCiUeQsVvRQKhUKhUCgUCoVCmbf8P7PUmHPtreeTAAAAAElFTkSuQmCC)"
      ]
    },
    {
      "cell_type": "markdown",
      "metadata": {
        "id": "TmBic1CNEFQd"
      },
      "source": [
        "###Visualize *rfm* Distributions  "
      ]
    },
    {
      "cell_type": "markdown",
      "metadata": {
        "id": "dWJIJlbYdc9u"
      },
      "source": [
        "#####Univariate"
      ]
    },
    {
      "cell_type": "code",
      "metadata": {
        "id": "1QW9-wi8ixt_"
      },
      "source": [
        "# 9.1\n",
        "fig = px.histogram(rfm, x = \"frequency\")\n",
        "fig.show()"
      ],
      "execution_count": null,
      "outputs": []
    },
    {
      "cell_type": "code",
      "metadata": {
        "id": "B-lO-ZPfQtYI"
      },
      "source": [
        "# 9.2\n",
        "fig = px.histogram(rfm, x = \"recency\")\n",
        "fig.show()"
      ],
      "execution_count": null,
      "outputs": []
    },
    {
      "cell_type": "code",
      "metadata": {
        "id": "OgWIlPuOQzfh"
      },
      "source": [
        "# 9.3\n",
        "fig = px.histogram(rfm, x = \"revenue\")\n",
        "fig.show()"
      ],
      "execution_count": null,
      "outputs": []
    },
    {
      "cell_type": "code",
      "metadata": {
        "id": "8c9ZRl1oDU5O"
      },
      "source": [
        "# 9.3.1\n",
        "fig = px.histogram(rfm, x = \"avg_unitprice\")\n",
        "fig.show()"
      ],
      "execution_count": null,
      "outputs": []
    },
    {
      "cell_type": "markdown",
      "metadata": {
        "id": "QunC_bTldkHF"
      },
      "source": [
        "#####Jointplots"
      ]
    },
    {
      "cell_type": "code",
      "metadata": {
        "id": "aA_af9XyRXGS"
      },
      "source": [
        "# 9.4\n",
        "fig = px.density_heatmap(\n",
        "                         rfm,\n",
        "                         x=\"frequency\",\n",
        "                         y=\"recency\"\n",
        "                         )\n",
        "# 9.4.1. Set x-limits\n",
        "fig.update_xaxes(range=[0, 50])\n"
      ],
      "execution_count": null,
      "outputs": []
    },
    {
      "cell_type": "code",
      "metadata": {
        "id": "olxONU9iVFma"
      },
      "source": [
        "# 9.5\n",
        "fig = px.density_heatmap(\n",
        "                         rfm,\n",
        "                         x=\"frequency\",\n",
        "                         y=\"recency\",\n",
        "                         marginal_x=\"histogram\"                        \n",
        "                         )\n",
        "# 9.5.1 Set x-limits\n",
        "fig.update_xaxes(range=[0, 25])"
      ],
      "execution_count": null,
      "outputs": []
    },
    {
      "cell_type": "code",
      "metadata": {
        "id": "8b0btGlqWmQP"
      },
      "source": [
        "# 9.6\n",
        "fig = px.density_contour(rfm, x=\"revenue\", y=\"recency\")\n",
        "fig.update_xaxes(range=[0, 10000])"
      ],
      "execution_count": null,
      "outputs": []
    },
    {
      "cell_type": "code",
      "metadata": {
        "id": "YcT3Y8ScXBae"
      },
      "source": [
        "# 9.7\n",
        "fig = px.density_contour(rfm, x=\"revenue\", y=\"recency\")\n",
        "_=fig.update_traces(contours_coloring=\"fill\", contours_showlabels = True)\n",
        "fig.update_xaxes(range=[0, 10000])"
      ],
      "execution_count": null,
      "outputs": []
    },
    {
      "cell_type": "markdown",
      "metadata": {
        "id": "n1A5Aak9dpYu"
      },
      "source": [
        "### Removing outliers\n",
        "There is no rigid mathematical definition of what constitutes an outlier; determining whether or not an observation is an outlier is ultimately a subjective exercise. There are various methods of outlier detection. Some are graphical such as normal probability plots. Others are model-based. Box plots are a hybrid.\n",
        "\n",
        "Model-based methods which are commonly used for identification assume that the data are from a normal distribution, and identify observations which are deemed \"unlikely\" based on mean and standard deviation: \n",
        "\n",
        "Before we cluster data:\n",
        ">a. Remove outliers<br>\n",
        ">> i) Use IQR method  \n",
        ">> ii)Use z-score  \n",
        ">>iii)Use IsolationForest algorithm  \n",
        "\n",
        ">b. Perform boxcox transformation to make relevant features symmteric"
      ]
    },
    {
      "cell_type": "markdown",
      "metadata": {
        "id": "pbxtrxDNtakm"
      },
      "source": [
        "IQR\n",
        "\n",
        "![image.png](data:image/png;base64,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)\n",
        "\n"
      ]
    },
    {
      "cell_type": "markdown",
      "metadata": {
        "id": "eRvhfNA5vOov"
      },
      "source": [
        "Quantile vs Quartile vs Percentile<br>\n",
        "Refer [here](https://stats.stackexchange.com/a/156787)\n",
        "\n",
        "> 0 quartile = 0 quantile = 0 percentile\n",
        "\n",
        "> 1 quartile = 0.25 quantile = 25 percentile\n",
        "\n",
        "> 2 quartile = .5 quantile = 50 percentile (median)\n",
        "\n",
        "> 3 quartile = .75 quantile = 75 percentile\n",
        "\n",
        "> 4 quartile = 1 quantile = 100 percentile\n"
      ]
    },
    {
      "cell_type": "code",
      "metadata": {
        "id": "jan2A3xqMDdv"
      },
      "source": [
        "# 10.0 One way to look at outliers in rfm data:\n",
        "\n",
        "_=rfm.boxplot()"
      ],
      "execution_count": null,
      "outputs": []
    },
    {
      "cell_type": "code",
      "metadata": {
        "id": "f0ZY2OUFuMXT"
      },
      "source": [
        "# 10.0.1\n",
        "cols = [\"revenue\", \"frequency\", \"recency\"]\n",
        "cols1 = [\"revenue\", \"frequency\", \"recency\", \"avg_unitprice\"]\n",
        "cols2 = [\"revenue\", \"frequency\", \"recency\", \"avg_unitprice\", \"weekday\"]\n"
      ],
      "execution_count": 309,
      "outputs": []
    },
    {
      "cell_type": "markdown",
      "metadata": {
        "id": "jes5GlO9R0Gz"
      },
      "source": [
        "### Box-cox transformations"
      ]
    },
    {
      "cell_type": "markdown",
      "metadata": {
        "id": "ypjQkUaZQDzB"
      },
      "source": [
        "In statistics, a power transform is a family of functions that are applied to create a monotonic transformation of data using power functions. This is a useful data transformation technique used to stabilize variance, make the data more normal distribution-like, improve the validity of measures of association such as the Pearson correlation between variables and for other data stabilization procedures. "
      ]
    },
    {
      "cell_type": "markdown",
      "metadata": {
        "id": "rY9d-SzEf5ZM"
      },
      "source": [
        "##### An example of Variance Stabilization"
      ]
    },
    {
      "cell_type": "code",
      "metadata": {
        "id": "TZxxEd4OST5d"
      },
      "source": [
        "# 11.0 Last amended: 15th April, 2021\n",
        "# Myfolder:\n",
        "# https://stats.stackexchange.com/a/336397\n",
        "\n",
        "x1 = np.random.lognormal(2,1.3, 500)  # 500 elements\n",
        "x2 = np.random.lognormal(2,1.3,500)   # 500 elements\n",
        "X = 2*x1+x2\n",
        "Y = 2*x2+x1   \n",
        "\n",
        "# 11.0.1 Plot \n",
        "_=plt.title(\"Variance increases as X-increases: Heteroskedasticity\")\n",
        "_=plt.scatter(y,z)\n",
        "_=plt.xlim(0,500)\n",
        "_=plt.xlabel(\"X -->\")\n",
        "_=plt.ylabel(\"Y -->\")"
      ],
      "execution_count": null,
      "outputs": []
    },
    {
      "cell_type": "code",
      "metadata": {
        "id": "FLsIyfrnTSyn"
      },
      "source": [
        "# 11.1 Take a log of both 'x' and 'y'\n",
        "_=plt.scatter(np.log10(X),np.log10(Y))\n",
        "_=plt.xlabel(\"X -->\")\n",
        "_=plt.ylabel(\"Y -->\")"
      ],
      "execution_count": null,
      "outputs": []
    },
    {
      "cell_type": "code",
      "metadata": {
        "id": "GSi2Zl3mSBQa"
      },
      "source": [
        "# 11.2  Define a function to perform\n",
        "#       boxcox transformation on a dataframe: x\n",
        "\n",
        "from sklearn.preprocessing import power_transform\n",
        "\n",
        "def boxcox(X):\n",
        "  \"\"\"\n",
        "  X: Dataframe on each feature of\n",
        "     which transformation is to be carried out\n",
        "  \"\"\"\n",
        "  dataColumns = X.columns\n",
        "  X = power_transform(X.values, method = 'yeo-johnson')\n",
        "  X = pd.DataFrame(X, columns=dataColumns)\n",
        "  return X"
      ],
      "execution_count": 310,
      "outputs": []
    },
    {
      "cell_type": "code",
      "metadata": {
        "id": "LW6kFXsKtsVF"
      },
      "source": [
        "# 11.3\n",
        "rfm_boxcox = boxcox(rfm[cols1])\n",
        "\n",
        "_=sns.displot(rfm_boxcox, x = \"frequency\")\n",
        "_=sns.displot(rfm_boxcox, x = \"revenue\")\n",
        "_=sns.displot(rfm_boxcox, x = \"recency\")\n",
        "_=sns.displot(rfm_boxcox, x = \"avg_unitprice\")"
      ],
      "execution_count": null,
      "outputs": []
    },
    {
      "cell_type": "code",
      "metadata": {
        "id": "aeg4HzxVUojm"
      },
      "source": [
        "# 11.4 Calculate few stats:\n",
        "\n",
        "cols = [\"revenue\", \"frequency\", \"recency\"]\n",
        "print(\"\\n\\n----0.99 quantile-----\\n\")\n",
        "rfm[cols].quantile(0.99)\n",
        "print(\"\\n\\n----0.75 quantile-----\\n\")\n",
        "rfm[cols].quantile(0.75)\n",
        "print(\"\\n\\n----0.25 quantile-----\\n\")\n",
        "rfm[cols].quantile(0.25)\n",
        "print(\"\\n\\n----iqr-----\\n\")\n",
        "iqr = rfm[cols].quantile(0.75) - rfm[cols].quantile(0.25)\n",
        "print()\n",
        "iqr  # rev: 1316, recency: 132,frequency: 4.0 "
      ],
      "execution_count": null,
      "outputs": []
    },
    {
      "cell_type": "code",
      "metadata": {
        "id": "wel-JfpcdquB"
      },
      "source": [
        "# 11.5 Use scipy stats:\n",
        "\n",
        "# 11.5.1 Calcluate IQR for each feature:\n",
        "iqr_rev = stats.iqr(rfm.revenue, interpolation = 'midpoint')\n",
        "iqr_recency = stats.iqr(rfm.recency, interpolation = 'midpoint')\n",
        "iqr_freq = stats.iqr(rfm.frequency, interpolation = 'midpoint')\n",
        "\n",
        "# 11.5.2\n",
        "print()\n",
        "print(\"iqr_rev:\", iqr_rev)\n",
        "print(\"iqr_recency: \", iqr_recency)\n",
        "print(\"iqr_freq: \", iqr_freq)"
      ],
      "execution_count": null,
      "outputs": []
    },
    {
      "cell_type": "markdown",
      "metadata": {
        "id": "expqxbYyfDsG"
      },
      "source": [
        "#### Using IQR to calculate outliers"
      ]
    },
    {
      "cell_type": "markdown",
      "metadata": {
        "id": "jOzdK-4ifiVF"
      },
      "source": [
        "#### Remove outlier function"
      ]
    },
    {
      "cell_type": "code",
      "metadata": {
        "id": "ShFyFLu_fJsI"
      },
      "source": [
        "# 12.0 Function removes outliers\n",
        "def rem_outliers(feature, data):\n",
        "  \"\"\"\n",
        "  Given a 'feature' and a DataFrame,\n",
        "  this function removes rows with\n",
        "  outliers in 'feature' and returns\n",
        "  remaining DataFrame.\n",
        "  \"\"\"\n",
        "  # 12.1\n",
        "  q1 = data[feature].quantile(0.25)\n",
        "  q3 = data[feature].quantile(0.75)\n",
        "  iqr = q3-q1\n",
        "  # 12.2\n",
        "  upper_lt = q3 + iqr * 1.5\n",
        "  lower_lt = q1 - iqr * 1.5\n",
        "  # 12.3\n",
        "  return data.loc[(data[feature] >lower_lt) & (data[feature] < upper_lt), : ] "
      ],
      "execution_count": 315,
      "outputs": []
    },
    {
      "cell_type": "markdown",
      "metadata": {
        "id": "3UrZqA6Kg8td"
      },
      "source": [
        "#### Remove outlier from 'frequency' feature"
      ]
    },
    {
      "cell_type": "code",
      "metadata": {
        "id": "AldqDpc37EBr"
      },
      "source": [
        "# 12.3.1\n",
        "print(rem_outliers.__doc__)"
      ],
      "execution_count": null,
      "outputs": []
    },
    {
      "cell_type": "code",
      "metadata": {
        "id": "ntrVj5QPgtHE"
      },
      "source": [
        "# 13.0 Remove outliers from 'frequency' feature:\n",
        "rfm_freq = rem_outliers('frequency', rfm) \n",
        "rfm_freq.shape    # (3913,4)\n",
        "rfm_freq.head()\n"
      ],
      "execution_count": null,
      "outputs": []
    },
    {
      "cell_type": "code",
      "metadata": {
        "id": "a110xvGqgaKD"
      },
      "source": [
        "# 13.1 Do outlier still remain in other\n",
        "#     features also?\n",
        "\n",
        "fig = px.histogram(rfm_freq, x = \"frequency\", width=600, height=400)\n",
        "fig1 = px.histogram(rfm_freq, x = \"recency\", width=600, height=400)\n",
        "fig2 = px.histogram(rfm_freq, x = \"revenue\", width=600, height=400)\n",
        "\n",
        "fig.show()\n",
        "fig1.show()\n",
        "fig2.show()"
      ],
      "execution_count": null,
      "outputs": []
    },
    {
      "cell_type": "code",
      "metadata": {
        "id": "WXqMfgXChQHo"
      },
      "source": [
        "# 13.2 Look at boxplots also:\n",
        "fig = plt.figure(figsize=(8,6))\n",
        "_=rfm_freq[cols1].boxplot()"
      ],
      "execution_count": null,
      "outputs": []
    },
    {
      "cell_type": "markdown",
      "metadata": {
        "id": "FyJbnM3mhCd7"
      },
      "source": [
        "#### Remove outlier from 'recency' feature"
      ]
    },
    {
      "cell_type": "code",
      "metadata": {
        "id": "jorJhLxDtFEF"
      },
      "source": [
        "# 13.3\n",
        "rfm_recency = rem_outliers('recency', rfm) \n",
        "\n",
        "# 13.3.1\n",
        "rfm_recency.shape    # (4244, 4)\n",
        "rfm_recency.head()\n"
      ],
      "execution_count": null,
      "outputs": []
    },
    {
      "cell_type": "code",
      "metadata": {
        "id": "FGjt61aRhY8d"
      },
      "source": [
        "# 13.4 So after removal from 'recency'\n",
        "#     let us look at outliers again\n",
        "\n",
        "fig = px.histogram(rfm_recency, x = \"frequency\", width=600, height=400)\n",
        "fig1 = px.histogram(rfm_recency, x = \"recency\", width=600, height=400)\n",
        "fig2 = px.histogram(rfm_recency, x = \"revenue\", width=600, height=400)\n",
        "\n",
        "fig.show()\n",
        "fig1.show()\n",
        "fig2.show()"
      ],
      "execution_count": null,
      "outputs": []
    },
    {
      "cell_type": "markdown",
      "metadata": {
        "id": "BvzKMivchiek"
      },
      "source": [
        "#### Remove outliers from 'revenue' feature"
      ]
    },
    {
      "cell_type": "code",
      "metadata": {
        "id": "QkN-X2geuEuk"
      },
      "source": [
        "# 13.5\n",
        "rfm_revenue = rem_outliers('revenue', rfm) \n",
        "\n",
        "# 13.5.1\n",
        "rfm_revenue.shape    # (4244, 4)\n",
        "rfm_revenue.head()\n"
      ],
      "execution_count": null,
      "outputs": []
    },
    {
      "cell_type": "code",
      "metadata": {
        "id": "TFzdSySZhs6I"
      },
      "source": [
        "# 13.5.2\n",
        "fig = px.histogram(rfm_revenue, x = \"frequency\", width=600, height=400)\n",
        "fig1 = px.histogram(rfm_revenue, x = \"recency\", width=600, height=400)\n",
        "fig2 = px.histogram(rfm_revenue, x = \"revenue\", width=600, height=400)\n",
        "\n",
        "fig.show()\n",
        "fig1.show()\n",
        "fig2.show()"
      ],
      "execution_count": null,
      "outputs": []
    },
    {
      "cell_type": "markdown",
      "metadata": {
        "id": "Auxu1_-piHdT"
      },
      "source": [
        "#### Remove both 'revenue' and 'frequency' outliers"
      ]
    },
    {
      "cell_type": "code",
      "metadata": {
        "id": "OdOr5vVAu6ht"
      },
      "source": [
        "# 13.6 Remove both 'revenue' and 'frequency' outliers\n",
        "rfm_freq2 = rem_outliers('frequency', rfm_revenue) \n",
        "rfm_freq2.shape    # (4244, 4)\n",
        "rfm_freq2.head()\n"
      ],
      "execution_count": null,
      "outputs": []
    },
    {
      "cell_type": "code",
      "metadata": {
        "id": "FTJEODmqitKS"
      },
      "source": [
        "# 13.7\n",
        "\n",
        "fig = px.histogram(rfm_freq2, x = \"frequency\", width=600, height=400)\n",
        "fig1 = px.histogram(rfm_freq2, x = \"recency\", width=600, height=400)\n",
        "fig2 = px.histogram(rfm_freq2, x = \"revenue\", width=600, height=400)\n",
        "\n",
        "fig.show()\n",
        "fig1.show()\n",
        "fig2.show()"
      ],
      "execution_count": null,
      "outputs": []
    },
    {
      "cell_type": "markdown",
      "metadata": {
        "id": "PBbH1eRQierq"
      },
      "source": [
        "#### Another way to remove outliers\n",
        "Look at 5th percentile and 95th percentile"
      ]
    },
    {
      "cell_type": "code",
      "metadata": {
        "id": "e0dpUn6kyFbb"
      },
      "source": [
        "# 14.0 Another way\n",
        "\n",
        "#14.1  Removing (statistical) outliers for revenue\n",
        "lower_rev = rfm.revenue.quantile(0.05)\n",
        "upper_rev = rfm.revenue.quantile(0.95)\n",
        "rfm_aw = rfm[(rfm.revenue >= lower_rev) & (rfm.revenue <= upper_rev)]\n",
        "\n",
        "#14.2 Removing (statistical) outliers for recency\n",
        "lower_rec = rfm.recency.quantile(0.05)\n",
        "upper_rec = rfm.recency.quantile(0.95)\n",
        "rfm_aw = rfm_aw[(rfm_aw.recency >= lower_rec) & (rfm_aw.recency <= upper_rec)]\n",
        "\n",
        "#14.3 Removing (statistical) outliers for frequency\n",
        "lower_freq = rfm_aw.frequency.quantile(0.05)\n",
        "upper_freq = rfm_aw.frequency.quantile(0.95)\n",
        "rfm_aw = rfm_aw[(rfm_aw.frequency >= lower_freq) & (rfm_aw.frequency <= upper_freq)]\n",
        "\n",
        "#14.3.1 Removing (statistical) outliers for avg_unitprice\n",
        "lower_up = rfm_aw.avg_unitprice.quantile(0.05)\n",
        "upper_up = rfm_aw.avg_unitprice.quantile(0.95)\n",
        "rfm_aw = rfm_aw[(rfm_aw.avg_unitprice >= lower_up) & (rfm_aw.avg_unitprice <= upper_up)]\n",
        "\n",
        "\n",
        "# 14.4\n",
        "rfm_aw.shape  # (3442, 5)\n",
        "rfm_aw.head()"
      ],
      "execution_count": null,
      "outputs": []
    },
    {
      "cell_type": "code",
      "metadata": {
        "id": "4TcVg-1Z1Yul"
      },
      "source": [
        "# 14.5\n",
        "fig = px.histogram(rfm_aw, x = \"frequency\", width=600, height=400)\n",
        "fig1 = px.histogram(rfm_aw, x = \"recency\", width=600, height=400)\n",
        "fig2 = px.histogram(rfm_aw, x = \"revenue\", width=600, height=400)\n",
        "fig3 = px.histogram(rfm_aw, x = \"avg_unitprice\", width=600, height=400)\n",
        "\n",
        "fig.show()\n",
        "fig1.show()\n",
        "fig2.show()\n",
        "fig3.show()"
      ],
      "execution_count": null,
      "outputs": []
    },
    {
      "cell_type": "markdown",
      "metadata": {
        "id": "hUCvtATtRXlQ"
      },
      "source": [
        "#### Box-cox transformation\n",
        "Perform boxcox transformation on 'inlier' data"
      ]
    },
    {
      "cell_type": "code",
      "metadata": {
        "id": "IGGpFqfZRCWZ"
      },
      "source": [
        "# 14.5.1 Now that outliers have been\n",
        "#       removed from data, we can perform boxcox\n",
        "#       transformation here.\n",
        "#       Boxcox transformation will also scale data.\n",
        "#       You can use:\n",
        "\n",
        "# rfm_aw = boxcox(rfm_aw)\n"
      ],
      "execution_count": null,
      "outputs": []
    },
    {
      "cell_type": "markdown",
      "metadata": {
        "id": "P7tbSL10-Jje"
      },
      "source": [
        "##### Scale Data now\n",
        "Scale data from which outliers are removed"
      ]
    },
    {
      "cell_type": "code",
      "metadata": {
        "id": "2pJ7GzKc-Oj6"
      },
      "source": [
        "# 16.0 Rescaling the attributes\n",
        "\n",
        "rfm_df = rfm_aw[cols1]\n",
        "\n",
        "# 16.1 Instantiate\n",
        "scaler = StandardScaler()\n",
        "\n",
        "# 16.2 fit_transform\n",
        "X = scaler.fit_transform(rfm_df)\n",
        "X.shape  # (3096, 4)"
      ],
      "execution_count": null,
      "outputs": []
    },
    {
      "cell_type": "code",
      "metadata": {
        "id": "_xKtxCvD-UXi"
      },
      "source": [
        "# 16.3 Transform scaled numpy data to DataFrame\n",
        "rfm_df_scaled = pd.DataFrame(X)\n",
        "rfm_df_scaled.columns = ['revenue', 'frequency', 'recency', 'avg_unitprice']\n",
        "rfm_df_scaled.head()"
      ],
      "execution_count": null,
      "outputs": []
    },
    {
      "cell_type": "markdown",
      "metadata": {
        "id": "h6gj6RnW-mAh"
      },
      "source": [
        "### Isolation forest for outlier removal\n",
        "See [here](https://quantdare.com/isolation-forest-algorithm/)"
      ]
    },
    {
      "cell_type": "markdown",
      "metadata": {
        "id": "HHd5hdTb-z5L"
      },
      "source": [
        "How do we separate each point? The simple procedure is as follows for each point of the data set:\n",
        "\n",
        "1.    Select the point to isolate.\n",
        "2.     For each feature, set the range to isolate between the minimum and the maximum.\n",
        "3.     Choose a feature randomly.\n",
        "4.     Pick a value that’s in the range, again randomly:\n",
        ">i)         If the chosen value keeps the point above, switch the minimum of the range of the feature to the value.  \n",
        ">ii)        If the chosen value keeps the point below, switch the maximum of the range of the feature to the value.\n",
        "5. Repeat steps 3 & 4 until the point is isolated. That is, until the point is the only one which is inside the range for all features.\n",
        "6. Count how many times you’ve had to repeat steps 3 & 4. We call this quantity the isolation number.\n",
        "\n",
        "The algorithm claims that a point is an outlier if it doesn’t have to repeat the steps 3 & 4 several times."
      ]
    },
    {
      "cell_type": "code",
      "metadata": {
        "id": "lW9uLp_R_par"
      },
      "source": [
        "# 17.0\n",
        "from sklearn.ensemble import IsolationForest\n",
        "\n",
        "# 17.0.1 Instantiate a quick model\n",
        "clf = IsolationForest(random_state=0)\n",
        "\n",
        "# 17.0.2 Train the model:\n",
        "clf.fit(X)\n",
        "\n",
        "# # 17.0.3 PRedict outliers and inliers \n",
        "# predict()\n",
        "#   Returns 'is_inlier' ndarray of shape (n_samples,)\n",
        "#   For each observation, tells whether or not (+1 or -1)\n",
        "#   it should be considered as an inlier according to the fitted model.\n",
        "\n",
        "out = clf.predict(X)\n",
        "out[:10]"
      ],
      "execution_count": null,
      "outputs": []
    },
    {
      "cell_type": "code",
      "metadata": {
        "id": "h5QVhCBbJorI"
      },
      "source": [
        "# 17.0.4 So extract 'normal' data\n",
        "X_normal = X[out == 1]\n",
        "X_normal.shape   # (2220, 4)"
      ],
      "execution_count": null,
      "outputs": []
    },
    {
      "cell_type": "code",
      "metadata": {
        "id": "CC7cyCA1NRkj"
      },
      "source": [
        "# 17.0.5 Transform scaled numpy data to DataFrame\n",
        "X_normal = pd.DataFrame(X_normal)\n",
        "X_normal.columns = ['revenue', 'frequency', 'recency', 'avg_unitprice']\n",
        "X_normal.head()"
      ],
      "execution_count": null,
      "outputs": []
    },
    {
      "cell_type": "code",
      "metadata": {
        "id": "JwBd7th6N085"
      },
      "source": [
        "# 17.1 Visualize the 'normal' data\n",
        "fig1 = px.histogram(X_normal, x = \"revenue\", width = 400, height= 400)\n",
        "fig2 = px.histogram(X_normal, x = \"frequency\", width = 400, height= 400)\n",
        "fig3 = px.histogram(X_normal, x = \"recency\", width = 400, height= 400)\n",
        "fig4 = px.histogram(X_normal, x = \"avg_unitprice\", width = 400, height= 400)\n",
        "\n",
        "# 17.1.1\n",
        "fig1.show()\n",
        "fig2.show()\n",
        "fig3.show()\n",
        "fig4.show()"
      ],
      "execution_count": null,
      "outputs": []
    },
    {
      "cell_type": "markdown",
      "metadata": {
        "id": "Tl3TsETF_Ui3"
      },
      "source": [
        "### KMeans clustering\n",
        "We use data without boxcox transformation"
      ]
    },
    {
      "cell_type": "markdown",
      "metadata": {
        "id": "GejrczkhACxH"
      },
      "source": [
        "#### Scree plot\n",
        "How many clusters?"
      ]
    },
    {
      "cell_type": "code",
      "metadata": {
        "id": "An_ssVxv4oks"
      },
      "source": [
        "# 18.0 Elbow-curve/SSD\n",
        "\n",
        "ssd = []\n",
        "range_n_clusters = [2, 3, 4, 5, 6, 7, 8]\n",
        "for num_clusters in range_n_clusters:\n",
        "    kmeans = KMeans(n_clusters=num_clusters, max_iter=50)\n",
        "    _=kmeans.fit(rfm_df_scaled)\n",
        "  \n",
        "    ssd.append(kmeans.inertia_)\n",
        "    \n",
        "# 18.1 plot the SSDs for each n_clusters\n",
        "_=plt.plot(ssd)"
      ],
      "execution_count": null,
      "outputs": []
    },
    {
      "cell_type": "markdown",
      "metadata": {
        "id": "cQW5N9D3AcSP"
      },
      "source": [
        "#### Silhoutte Score"
      ]
    },
    {
      "cell_type": "code",
      "metadata": {
        "id": "HzsPuv3W4xAy"
      },
      "source": [
        "# 18.2 Silhouette analysis\n",
        "range_n_clusters = [2, 3, 4, 5, 6, 7, 8]\n",
        "\n",
        "for num_clusters in range_n_clusters:\n",
        "    \n",
        "    # intialise kmeans\n",
        "    kmeans = KMeans(n_clusters=num_clusters, max_iter=50)\n",
        "    _=kmeans.fit(rfm_df_scaled)\n",
        "    \n",
        "    cluster_labels = kmeans.labels_\n",
        "    \n",
        "    # silhouette score\n",
        "    silhouette_avg = silhouette_score(rfm_df_scaled, cluster_labels)\n",
        "    print(\"For n_clusters={0}, the silhouette score is {1}\".format(num_clusters, silhouette_avg))"
      ],
      "execution_count": null,
      "outputs": []
    },
    {
      "cell_type": "markdown",
      "metadata": {
        "id": "0x0OZmZ9Aflf"
      },
      "source": [
        "#### Final model"
      ]
    },
    {
      "cell_type": "code",
      "metadata": {
        "id": "1uGsrWgi5BiZ"
      },
      "source": [
        "# 18.3 Final model with k=3\n",
        "#      Why 3? From domain knowledge, I think 3 would be OK.\n",
        "\n",
        "kmeans = KMeans(n_clusters=3, max_iter=50)\n",
        "_=kmeans.fit(rfm_df_scaled)"
      ],
      "execution_count": 339,
      "outputs": []
    },
    {
      "cell_type": "code",
      "metadata": {
        "id": "yjWeXzCH5FgQ"
      },
      "source": [
        "# 18.4 Assign cluster labels\n",
        "rfm_df_scaled['Cluster_Id'] = kmeans.labels_\n",
        "rfm_df_scaled.head()"
      ],
      "execution_count": null,
      "outputs": []
    },
    {
      "cell_type": "markdown",
      "metadata": {
        "id": "_4iq0V2UBm8l"
      },
      "source": [
        "### Are clusters interpretable:\n",
        "Look at clusters, cluster_ID wise\n"
      ]
    },
    {
      "cell_type": "code",
      "metadata": {
        "id": "l0OYAWei5S4h"
      },
      "source": [
        "# 18.5.1 Draw boxplots\n",
        "#sns.boxplot(x='Cluster_Id', y='revenue', data=rfm_df_scaled);\n",
        "fig = px.box(rfm_df_scaled, x='Cluster_Id', y=\"revenue\")\n",
        "fig.show()"
      ],
      "execution_count": null,
      "outputs": []
    },
    {
      "cell_type": "code",
      "metadata": {
        "id": "nX8W1rds52O4"
      },
      "source": [
        "# 18.5.2 Draw boxplots\n",
        "#sns.boxplot(x='Cluster_Id', y='recency', data=rfm_aw);\n",
        "fig = px.box(rfm_df_scaled, x='Cluster_Id', y=\"recency\")\n",
        "fig.show()"
      ],
      "execution_count": null,
      "outputs": []
    },
    {
      "cell_type": "code",
      "metadata": {
        "id": "tvthQrwz53Wo"
      },
      "source": [
        "# 18.5.3\n",
        "fig = px.box(rfm_df_scaled, x='Cluster_Id', y=\"frequency\")\n",
        "fig.show()\n",
        "# sns.boxplot(x='Cluster_Id', y='frequency', data=rfm_aw);"
      ],
      "execution_count": null,
      "outputs": []
    },
    {
      "cell_type": "code",
      "metadata": {
        "id": "XBaJWhc6HQxF"
      },
      "source": [
        "# 18.5.4\n",
        "fig = px.box(rfm_df_scaled, x='Cluster_Id', y=\"avg_unitprice\")\n",
        "fig.show()\n",
        "# sns.boxplot(x='Cluster_Id', y='frequency', data=rfm_aw);"
      ],
      "execution_count": null,
      "outputs": []
    },
    {
      "cell_type": "code",
      "metadata": {
        "id": "_mCDEYY4HicO"
      },
      "source": [
        "# 18.5.5 Are medians significantly different\n",
        "#        If there is an overlap in error-bars, then no\n",
        "#        Note: Some medians are negative\n",
        "\n",
        "ax=sns.barplot(data = rfm_df_scaled,\n",
        "            x='Cluster_Id', \n",
        "            y=\"avg_unitprice\",\n",
        "            estimator = np.median)\n"
      ],
      "execution_count": null,
      "outputs": []
    },
    {
      "cell_type": "markdown",
      "metadata": {
        "id": "uUkxop7tCRro"
      },
      "source": [
        "### Gaussian Mixture Model"
      ]
    },
    {
      "cell_type": "markdown",
      "metadata": {
        "id": "8VmieW9ULPYE"
      },
      "source": [
        "#### Perform boxcox again\n",
        "This time with data without outliers"
      ]
    },
    {
      "cell_type": "code",
      "metadata": {
        "id": "GiAKTS39eGJP"
      },
      "source": [
        "# 19.0 Boxcox transformation\n",
        "from sklearn.preprocessing import power_transform\n",
        "\n",
        "# 19.1\n",
        "rfm_boxcox = power_transform(\n",
        "                              rfm_df_scaled[cols1],\n",
        "                              method = 'yeo-johnson'\n",
        "                              )\n",
        "\n",
        "# 19.2 PErform boxcox again\n",
        "rfm_boxcox = pd.DataFrame(rfm_boxcox, columns=cols1)\n",
        "_=sns.displot(rfm_boxcox, x = \"frequency\")\n",
        "_=sns.displot(rfm_boxcox, x = \"revenue\")\n",
        "_=sns.displot(rfm_boxcox, x = \"recency\")\n",
        "_=sns.displot(rfm_boxcox, x = \"avg_unitprice\")"
      ],
      "execution_count": null,
      "outputs": []
    },
    {
      "cell_type": "code",
      "metadata": {
        "id": "XObYpL9HxQ4i"
      },
      "source": [
        "# 19.4\n",
        "_=sns.displot(rfm_df_scaled, x = \"frequency\")\n",
        "_=sns.displot(rfm_boxcox, x = \"frequency\")\n",
        "\n",
        "# 19.5\n",
        "print()\n",
        "_=sns.displot(rfm_df_scaled, x = \"recency\")\n",
        "_=sns.displot(rfm_boxcox, x = \"recency\")\n",
        "\n",
        "# 19.6\n",
        "print()\n",
        "_=sns.displot(rfm_df_scaled, x = \"revenue\")\n",
        "_=sns.displot(rfm_boxcox, x = \"revenue\")\n",
        "\n",
        "# 19.7\n",
        "print()\n",
        "_=sns.displot(rfm_df_scaled, x = \"avg_unitprice\")\n",
        "_=sns.displot(rfm_boxcox, x = \"avg_unitprice\")"
      ],
      "execution_count": null,
      "outputs": []
    },
    {
      "cell_type": "code",
      "metadata": {
        "id": "g-RymBYnx1cr"
      },
      "source": [
        "# 20.0 Create a dataset\n",
        "#      that mixes boxcox and scaled transformations\n",
        "\n",
        "rfm_mix = rfm_df_scaled.copy()\n",
        "rfm_mix['frequency']= rfm_boxcox['frequency']\n",
        "rfm_mix['recency'] = rfm_boxcox['recency']\n",
        "#rfm_mix['revenue'] = rfm_boxcox['revenue']\n",
        "rfm_mix['avg_unitprice'] = rfm_boxcox['avg_unitprice']\n",
        "rfm_mix.head()"
      ],
      "execution_count": null,
      "outputs": []
    },
    {
      "cell_type": "code",
      "metadata": {
        "id": "zgxIb6Tuftlp"
      },
      "source": [
        "# 20.1 Import GaussianMixture class\n",
        "from sklearn.mixture import GaussianMixture\n",
        "\n",
        "# 20.2 Instantiate model\n",
        "gm = GaussianMixture(\n",
        "                     n_components = 3,\n",
        "                     n_init = 30,\n",
        "                     max_iter = 200)\n",
        "\n",
        "# 20.3 Train the algorithm\n",
        "cols = ['frequency', 'recency', 'revenue']\n",
        "\n",
        "# 20.4\n",
        "gm.fit(rfm_mix[cols])\n",
        "\n",
        "# 20.5 Where are the clsuter centers\n",
        "print(\"\\n-----cluster means----\\n\")\n",
        "gm.means_\n",
        "\n",
        "# 20.6 Did algorithm converge?\n",
        "print(\"\\n-----Did it converge?----\\n\")\n",
        "gm.converged_\n",
        "\n",
        "# 20.7 How many iterations did it perform?\n",
        "print(\"\\n-----How many iteratons?----\\n\")\n",
        "gm.n_iter_"
      ],
      "execution_count": null,
      "outputs": []
    },
    {
      "cell_type": "code",
      "metadata": {
        "id": "ZYARJYTFnBYO"
      },
      "source": [
        "# 21.0\n",
        "silhouette_avg = silhouette_score(rfm_mix[cols], gm.predict(rfm_mix[cols]))\n",
        "silhouette_avg"
      ],
      "execution_count": null,
      "outputs": []
    },
    {
      "cell_type": "code",
      "metadata": {
        "id": "My4VoY2wgC85"
      },
      "source": [
        "# 21.1 Predict clusters labels\n",
        "cid = gm.predict(rfm_mix[cols])"
      ],
      "execution_count": 351,
      "outputs": []
    },
    {
      "cell_type": "code",
      "metadata": {
        "id": "DhHzG-lR92yQ"
      },
      "source": [
        "# 21.2\n",
        "rfm_mix['cid'] = cid\n",
        "rfm_mix.head()"
      ],
      "execution_count": null,
      "outputs": []
    },
    {
      "cell_type": "markdown",
      "metadata": {
        "id": "KswHuddh00jJ"
      },
      "source": [
        "#### In each cluster, one feature is a distinguishing feature"
      ]
    },
    {
      "cell_type": "code",
      "metadata": {
        "id": "OHvzT7ah-DCQ"
      },
      "source": [
        "# 22.0\n",
        "sns.boxplot(x='cid', y='revenue', data=rfm_mix);"
      ],
      "execution_count": null,
      "outputs": []
    },
    {
      "cell_type": "code",
      "metadata": {
        "id": "Kz7oIB8E-Q_Z"
      },
      "source": [
        "# 22.1\n",
        "sns.boxplot(x='cid', y='recency', data=rfm_mix);"
      ],
      "execution_count": null,
      "outputs": []
    },
    {
      "cell_type": "code",
      "metadata": {
        "id": "eHpOLxmU-ake"
      },
      "source": [
        "# 22.2\n",
        "sns.boxplot(x='cid', y='frequency', data=rfm_mix);"
      ],
      "execution_count": null,
      "outputs": []
    },
    {
      "cell_type": "markdown",
      "metadata": {
        "id": "0IDjtK0G1caN"
      },
      "source": [
        "> Cluster 1: High revenue + low recency + high frequency  \n",
        "\n",
        "> Cluster 2: Low revenue + high recency + low frequency  \n",
        "\n",
        "> Cluster 3: Low revenue + low recency + low frequency  \n"
      ]
    },
    {
      "cell_type": "code",
      "metadata": {
        "id": "RihtbjugNQa3"
      },
      "source": [
        "############# I am done ###########"
      ],
      "execution_count": null,
      "outputs": []
    },
    {
      "cell_type": "markdown",
      "metadata": {
        "id": "mPa47ThqNO6M"
      },
      "source": [
        ""
      ]
    },
    {
      "cell_type": "code",
      "metadata": {
        "id": "Nc4hFU_FgTdJ"
      },
      "source": [
        "bic = []\n",
        "aic = []\n",
        "cols = ['frequency', 'recency', 'revenue']\n",
        "for i in range(10):\n",
        "    print()\n",
        "    print(\"No of clusters: \", i)\n",
        "    print()\n",
        "    gm = GaussianMixture(\n",
        "                     n_components = i+1,\n",
        "                     n_init = 10,\n",
        "                     max_iter = 200,\n",
        "                     init_params=\"kmeans\")\n",
        "    gm.fit(rfm_df_boxcox)\n",
        "    bic.append(gm.bic(rfm_df_boxcox))\n",
        "    aic.append(gm.aic(rfm_df_boxcox))"
      ],
      "execution_count": null,
      "outputs": []
    },
    {
      "cell_type": "code",
      "metadata": {
        "id": "sfUX3Ruq-pUA"
      },
      "source": [
        "bic = []\n",
        "aic = []\n",
        "cols = ['frequency', 'recency', 'revenue']\n",
        "for i in range(50):\n",
        "    print()\n",
        "    print(\"No of clusters: \", i)\n",
        "    print()\n",
        "    gm = GaussianMixture(\n",
        "                     n_components = i+1,\n",
        "                     n_init = 10,\n",
        "                     max_iter = 100)\n",
        "    gm.fit(rfm_df_scaled[cols])\n",
        "    bic.append(gm.bic(rfm_df_scaled[cols]))\n",
        "    aic.append(gm.aic(rfm_df_scaled[cols]))"
      ],
      "execution_count": null,
      "outputs": []
    },
    {
      "cell_type": "code",
      "metadata": {
        "colab": {
          "base_uri": "https://localhost:8080/",
          "height": 36
        },
        "id": "8YV1dhBp76-y",
        "outputId": "7c212e37-6d7d-4d3a-f28a-8456132411b9"
      },
      "source": [
        "str(5) + str(\"aa\")"
      ],
      "execution_count": null,
      "outputs": [
        {
          "output_type": "execute_result",
          "data": {
            "application/vnd.google.colaboratory.intrinsic+json": {
              "type": "string"
            },
            "text/plain": [
              "'5aa'"
            ]
          },
          "metadata": {
            "tags": []
          },
          "execution_count": 240
        }
      ]
    },
    {
      "cell_type": "code",
      "metadata": {
        "id": "sZC3OggbL8Us"
      },
      "source": [
        "# https://scikit-learn.org/stable/auto_examples/mixture/plot_gmm_selection.html\n",
        "bic = []\n",
        "aic = []\n",
        "lowest_bic = np.infty\n",
        "n_components_range = range(1, 15)\n",
        "cv_types = ['spherical', 'tied', 'diag', 'full']\n",
        "\n",
        "for cv_type in cv_types:\n",
        "    for n_components in n_components_range:\n",
        "        # Fit a Gaussian mixture with EM\n",
        "        gm = GaussianMixture(n_components=n_components,\n",
        "                                      covariance_type=cv_type)\n",
        "        gm.fit(rfm_mix[cols])\n",
        "        bic.append(cv_type + \":\" +str(gm.bic(rfm_mix[cols])))\n",
        "        aic.append(cv_type + \":\" +str(gm.aic(rfm_mix[cols])))\n",
        "        if gm.bic(rfm_mix[cols]) < lowest_bic:\n",
        "            lowest_bic = gm.bic(rfm_mix[cols])\n",
        "            best_gm = gm"
      ],
      "execution_count": null,
      "outputs": []
    },
    {
      "cell_type": "code",
      "metadata": {
        "id": "gckQFgPsAQPA"
      },
      "source": [
        "aic\n",
        "print()\n",
        "bic"
      ],
      "execution_count": null,
      "outputs": []
    },
    {
      "cell_type": "code",
      "metadata": {
        "id": "_6TyIe8E17-i"
      },
      "source": [
        "rfm_mix.to_csv(\"rfm_mix.csv\",index=False)"
      ],
      "execution_count": null,
      "outputs": []
    },
    {
      "cell_type": "code",
      "metadata": {
        "id": "J67otaVl9SWH"
      },
      "source": [
        "####### I am done ##############"
      ],
      "execution_count": null,
      "outputs": []
    }
  ]
}