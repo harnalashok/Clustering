{
  "nbformat": 4,
  "nbformat_minor": 0,
  "metadata": {
    "kernelspec": {
      "display_name": "Python 3",
      "language": "python",
      "name": "python3"
    },
    "language_info": {
      "codemirror_mode": {
        "name": "ipython",
        "version": 3
      },
      "file_extension": ".py",
      "mimetype": "text/x-python",
      "name": "python",
      "nbconvert_exporter": "python",
      "pygments_lexer": "ipython3",
      "version": "3.9.1"
    },
    "colab": {
      "name": "vector_quantization.ipynb",
      "provenance": [],
      "collapsed_sections": [],
      "include_colab_link": true
    }
  },
  "cells": [
    {
      "cell_type": "markdown",
      "metadata": {
        "id": "view-in-github",
        "colab_type": "text"
      },
      "source": [
        "<a href=\"https://colab.research.google.com/github/harnalashok/Clustering/blob/master/vector_quantization.ipynb\" target=\"_parent\"><img src=\"https://colab.research.google.com/assets/colab-badge.svg\" alt=\"Open In Colab\"/></a>"
      ]
    },
    {
      "cell_type": "code",
      "metadata": {
        "id": "bIpBUxc5pN-J"
      },
      "source": [
        "# Last amended: 31st Jan, 2021\n",
        "# Myfolder:\n",
        "# Objective(s):\n",
        "#              Face image compression\n",
        "#              through vector-quantization \n",
        "#\n",
        "# Ref:\n",
        "#     https://scikit-learn.org/stable/auto_examples/cluster/plot_face_compress.html#vector-quantization-example\n",
        "#\n",
        "#"
      ],
      "execution_count": null,
      "outputs": []
    },
    {
      "cell_type": "markdown",
      "metadata": {
        "id": "EuyNNf-g1IXE"
      },
      "source": [
        "\n",
        "# Vector Quantization Example\n",
        "\n",
        "Face, a 1024 x 768 size image of a raccoon face,\n",
        "is used here to illustrate how `k`-means is\n",
        "used for vector quantization.\n"
      ]
    },
    {
      "cell_type": "code",
      "metadata": {
        "id": "a6CAj4Cr4kFQ"
      },
      "source": [
        "# 1.0 Call libraries\n",
        "import numpy as np\n",
        "import scipy as sp\n",
        "import matplotlib.pyplot as plt\n",
        "from scipy.misc import face\n",
        "from sklearn import cluster\n",
        "%matplotlib inline"
      ],
      "execution_count": 185,
      "outputs": []
    },
    {
      "cell_type": "code",
      "metadata": {
        "id": "OnK1880hIV1j"
      },
      "source": [
        "# 1.1 Display multiple commands output from a cell\n",
        "from IPython.core.interactiveshell import InteractiveShell\n",
        "InteractiveShell.ast_node_interactivity = \"all\""
      ],
      "execution_count": 186,
      "outputs": []
    },
    {
      "cell_type": "markdown",
      "metadata": {
        "id": "6rk8iYwfB-D-"
      },
      "source": [
        " `scipy.misc.face(gray=False)` :  Get a 1024 x 768, color image of a raccoon face."
      ]
    },
    {
      "cell_type": "code",
      "metadata": {
        "id": "kHtpFHpx5U7k"
      },
      "source": [
        "# 1.2 Get only gray image\n",
        "r_face = face(gray=True)\n",
        "r_face.shape    # (768, 1024)"
      ],
      "execution_count": null,
      "outputs": []
    },
    {
      "cell_type": "code",
      "metadata": {
        "id": "ttoJyWGs5jE8"
      },
      "source": [
        "# 1.3 Plot racoon now in gray scale\n",
        "_= plt.imshow(r_face, cmap = 'gray')"
      ],
      "execution_count": null,
      "outputs": []
    },
    {
      "cell_type": "code",
      "metadata": {
        "id": "g-0gMrTk6-WM"
      },
      "source": [
        "# 2.0 For clustering, \n",
        "#     we need an (n_sample, n_feature) array\n",
        "#     We have only one feature with varying\n",
        "#     pixel-intensities:\n",
        "\n",
        "X = r_face.reshape((-1, 1))\n",
        "X.shape    # (786432, 1)"
      ],
      "execution_count": null,
      "outputs": []
    },
    {
      "cell_type": "code",
      "metadata": {
        "id": "SflWlrQr7aQN"
      },
      "source": [
        "# 2.1 Perform clustering now:\n",
        "\n",
        "n_clusters = 5\n",
        "k_means = cluster.KMeans(\n",
        "                         n_clusters=n_clusters                         \n",
        "                         )\n",
        "k_means.fit(X)\n"
      ],
      "execution_count": null,
      "outputs": []
    },
    {
      "cell_type": "code",
      "metadata": {
        "id": "oxo688EW7hZF"
      },
      "source": [
        "# 2.1.1 Cluster labels for each\n",
        "#       pixel:\n",
        "\n",
        "labels = k_means.labels_\n",
        "len(k_means.labels_)    # 786432"
      ],
      "execution_count": null,
      "outputs": []
    },
    {
      "cell_type": "code",
      "metadata": {
        "id": "FuPX19oF8vT_"
      },
      "source": [
        "# 2.1.2 Cluster centers:\n",
        "\n",
        "values = k_means.cluster_centers_\n",
        "values   # 5 cluster centers"
      ],
      "execution_count": null,
      "outputs": []
    },
    {
      "cell_type": "code",
      "metadata": {
        "id": "YCebHWJZ82VF"
      },
      "source": [
        "# 3.0 Remove axes of length one from values\n",
        "#     Flatten array:\n",
        "\n",
        "values.squeeze()\n",
        "values = values.squeeze()"
      ],
      "execution_count": null,
      "outputs": []
    },
    {
      "cell_type": "markdown",
      "metadata": {
        "id": "DFjLAID_H7Ud"
      },
      "source": [
        "`numpy.choose(index-array, choices)` Construct an array from an index array and a set of arrays to choose from. Use index-array to index into choises and extract output."
      ]
    },
    {
      "cell_type": "code",
      "metadata": {
        "id": "eGMX1_gsFAsQ"
      },
      "source": [
        "# 3.1 Learn to work with: np.choose()\n",
        "#     Construct an array from an index array and a set of arrays to choose from.\n",
        "# See: https://stackoverflow.com/a/24450567\n",
        "\n",
        "i_array = [2,2,4,4,0,1,1]\n",
        "i_array\n",
        "print(\"\\n---\\n\")\n",
        "values\n",
        "print(\"\\n---\\n\")\n",
        "np.choose(i_array, values)\n",
        "print(\"\\n---\\n\")"
      ],
      "execution_count": null,
      "outputs": []
    },
    {
      "cell_type": "code",
      "metadata": {
        "id": "5FTYF3Vv9Puu"
      },
      "source": [
        "# 3.2 Ccreate an array from labels (index-array)\n",
        "#     by indexing into 'values'.\n",
        "# Pick a value from 'values' corresponding\n",
        "# to labels serving as index into values\n",
        "\n",
        "face_compressed = np.choose(labels, values)\n",
        "face_compressed.shape   # (786432,)\n",
        "print(\"\\n-----\\n\")\n",
        "face_compressed[:10]"
      ],
      "execution_count": null,
      "outputs": []
    },
    {
      "cell_type": "code",
      "metadata": {
        "id": "19SxiIc6KpFl"
      },
      "source": [
        "# 3.3 To plot face_compresses, \n",
        "#     reshape it, as:\n",
        "face_compressed.shape = r_face.shape\n",
        "face_compressed.shape   # (768, 1024)"
      ],
      "execution_count": null,
      "outputs": []
    },
    {
      "cell_type": "code",
      "metadata": {
        "id": "WGNmp4yDK17i"
      },
      "source": [
        "# 3.4 Also calculate pixel-intensity range\n",
        "#     vmin and vmax define the data range\n",
        "#     that the colormap covers :\n",
        "\n",
        "vmin = r_face.min()\n",
        "vmax = r_face.max()\n",
        "vmin\n",
        "print()\n",
        "vmax"
      ],
      "execution_count": null,
      "outputs": []
    },
    {
      "cell_type": "code",
      "metadata": {
        "id": "TXZqHXsFK4vM"
      },
      "source": [
        "# 4.0 Original face\n",
        "#plt.figure(1, figsize=(3, 2.2))\n",
        "_=plt.imshow(\n",
        "              r_face,\n",
        "              cmap=plt.cm.gray,\n",
        "              vmin=vmin,\n",
        "              vmax=256\n",
        "           )"
      ],
      "execution_count": null,
      "outputs": []
    },
    {
      "cell_type": "code",
      "metadata": {
        "id": "d67YML_MK7v7"
      },
      "source": [
        "# 4.1 Compressed face\n",
        "#_=plt.figure(2, figsize=(3, 2.2))\n",
        "_=plt.imshow(\n",
        "              face_compressed,\n",
        "              cmap=plt.cm.gray,\n",
        "              vmin=vmin,\n",
        "              vmax=256\n",
        "             )\n"
      ],
      "execution_count": null,
      "outputs": []
    },
    {
      "cell_type": "markdown",
      "metadata": {
        "id": "slY_T1LcMYm2"
      },
      "source": [
        "Equal bins plot. Divide (0-256) into 6  "
      ]
    },
    {
      "cell_type": "code",
      "metadata": {
        "id": "Xso3E1HuLTGN"
      },
      "source": [
        "# 5.0 Create 5-bins:\n",
        "# Give as many equally spaced values as there\n",
        "#  are clusters. These values will serve as \n",
        "#   boundaries of our bins:\n",
        "\n",
        "# We want 6 values even though we have 5-clusters\n",
        "# We, therefore, get 5-bins. We then calculate mid-point\n",
        "# of each bin. This will be our centroid:\n",
        "\n",
        "bin_boundary_values = np.linspace(0, 256, n_clusters + 1)\n",
        "bin_boundary_values"
      ],
      "execution_count": null,
      "outputs": []
    },
    {
      "cell_type": "markdown",
      "metadata": {
        "id": "kt0TNdkbNp26"
      },
      "source": [
        "Calcuate mean of each bin:"
      ]
    },
    {
      "cell_type": "code",
      "metadata": {
        "id": "khT1rCmANpHe"
      },
      "source": [
        "# 5.1\n",
        "bin_boundary_values\n",
        "print()\n",
        "# 5.1.1\n",
        "# All but first value\n",
        "bin_boundary_values[1:] \n",
        "print()\n",
        "# 5.1.2\n",
        "bin_boundary_values[:-1]\n",
        "print()\n",
        "# 5.1.3\n",
        "bin_boundary_values[1:]  +  bin_boundary_values[:-1]\n",
        "print()\n",
        "# 5.1.4\n",
        "(bin_boundary_values[1:]  +  bin_boundary_values[:-1]) * 0.5\n",
        "# 5.1.5 Here is the mean of each bin\n",
        "#       These are our 'centroids'\n",
        "bin_center_values = .5 * (bin_boundary_values[1:] + bin_boundary_values[:-1])  \n",
        "# 5.1.6\n",
        "print()\n",
        "bin_center_values"
      ],
      "execution_count": null,
      "outputs": []
    },
    {
      "cell_type": "markdown",
      "metadata": {
        "id": "dj96PzcZZwo3"
      },
      "source": [
        "Our next task is to drop each pixel in `r_face` to correct bin. We will use `np.searchsorted()`. `np.searchsorted()` will tell us the index position in `regular_values` where each value of `r_face` would fall. "
      ]
    },
    {
      "cell_type": "markdown",
      "metadata": {
        "id": "ydYhScvth-Oj"
      },
      "source": [
        "`numpy.searchsorted()` function is used to find the *indices* (note again, we have to find indices) into a sorted array, `regular_values` in our case, such that, if elements (from `r_face`) are inserted <u>before</u> the indices, the order of `regular_values` would be still preserved. "
      ]
    },
    {
      "cell_type": "code",
      "metadata": {
        "id": "76zwa2rTioZH"
      },
      "source": [
        "# 6.0 Learning np.searchsorted()\n",
        "# 6.1\n",
        "np.searchsorted([1,2,3,4,5], 3)\n",
        "print()\n",
        "# 6.2\n",
        "np.searchsorted([1,2,3,4,5], 3, side='right')\n",
        "print()\n",
        "# 6.3\n",
        "np.searchsorted([1,2,3,4,5], [-10, 10, 2, 3])"
      ],
      "execution_count": null,
      "outputs": []
    },
    {
      "cell_type": "code",
      "metadata": {
        "id": "GQWLsZZ-LebK"
      },
      "source": [
        "# 6.4 Get indicies of positions into bin_center_values\n",
        "bin_labels = np.searchsorted(bin_center_values, r_face) \n",
        "bin_labels\n",
        "print()\n",
        "# 6.5\n",
        "bin_labels.min()    # 0\n",
        "print()\n",
        "bin_labels.max()    # 5 (Greater than 4)"
      ],
      "execution_count": null,
      "outputs": []
    },
    {
      "cell_type": "code",
      "metadata": {
        "id": "M3ZCezODT84p"
      },
      "source": [
        "# 6.6 Flatten bin_labels\n",
        "bin_labels.ravel()"
      ],
      "execution_count": null,
      "outputs": []
    },
    {
      "cell_type": "code",
      "metadata": {
        "id": "4a7Zldi0i-N2"
      },
      "source": [
        "# 6.7 Note bin_labels extremes \n",
        "min(bin_labels.ravel())    #  0\n",
        "print()\n",
        "max(bin_labels.ravel())    #  5  More than cluster numbers"
      ],
      "execution_count": null,
      "outputs": []
    },
    {
      "cell_type": "code",
      "metadata": {
        "id": "XEcPNAZZ9k_m"
      },
      "source": [
        "# 7.0 Experiment with mode='clip'\n",
        "# mode: clip:  negative integers are mapped to 0;\n",
        "#              values greater than n-1 are mapped to n-1; \n",
        "# \n",
        "bin_center_values\n",
        "print()\n",
        "# 7.1 Note how index '-1' and '6' are clipped to 0 and to 4 \n",
        "np.choose(\n",
        "           [-1,1,2,6],         # Indices\n",
        "           bin_center_values,  # Get values corresponding to above\n",
        "           mode = \"clip\"       # Clip -ve and high values\n",
        "           )"
      ],
      "execution_count": null,
      "outputs": []
    },
    {
      "cell_type": "code",
      "metadata": {
        "id": "q-8mQ4BIT5fv"
      },
      "source": [
        "# 8.0 Finally replace pixel intensities\n",
        "#     with 'bin' centroids\n",
        "binned_face = np.choose(\n",
        "                          bin_labels.ravel(),\n",
        "                          bin_center_values,\n",
        "                          mode = \"clip\"\n",
        "                         )\n",
        "\n",
        "print()\n",
        "binned_face[:10]"
      ],
      "execution_count": null,
      "outputs": []
    },
    {
      "cell_type": "code",
      "metadata": {
        "id": "hydyZ4T5UImu"
      },
      "source": [
        "# 8.1 Reshape binned_face for plotting\n",
        "binned_face.shape = r_face.shape"
      ],
      "execution_count": 218,
      "outputs": []
    },
    {
      "cell_type": "code",
      "metadata": {
        "id": "xbNhee1fUI82"
      },
      "source": [
        "# 8.2 Plot the binned face now\n",
        "#_=plt.figure(3, figsize=(3, 2.2))\n",
        "_=plt.imshow(\n",
        "              binned_face,\n",
        "              cmap=plt.cm.gray,\n",
        "              vmin=vmin,\n",
        "              vmax=vmax\n",
        "             )"
      ],
      "execution_count": null,
      "outputs": []
    },
    {
      "cell_type": "code",
      "metadata": {
        "id": "m0qzRQeMoe-d"
      },
      "source": [
        "np.sort(values)\n",
        "print()\n",
        "values[:-1]\n",
        "print()\n",
        "values[1:]\n",
        "print()\n",
        "list(zip(values[:-1], values[1:]))"
      ],
      "execution_count": null,
      "outputs": []
    },
    {
      "cell_type": "code",
      "metadata": {
        "id": "s50ecsRM1IXE"
      },
      "source": [
        "# Histogram\n",
        "_=plt.figure(4, figsize=(3, 2.2))\n",
        "# plt.close() closes the figure window entirely,\n",
        "# where plt.clf() will just clear the figure\n",
        "#  you can still paint another plot onto it.\n",
        "_=plt.clf()\n",
        "\n",
        "# Axes boundaries\n",
        "_=plt.axes([.01, .01, .98, .98])\n",
        "\n",
        "# Plot histogram of X-values\n",
        "_=plt.hist(X, bins=256, color='.5', edgecolor='.5')\n",
        "\n",
        "# No y-ticks\n",
        "_=plt.yticks(())\n",
        "# But plot x-ticks\n",
        "_=plt.xticks(bin_center_values)\n",
        "\n",
        "values = np.sort(values)\n",
        "for center_1, center_2 in zip(values[:-1], values[1:]):\n",
        "    plt.axvline(.5 * (center_1 + center_2), color='b')\n",
        "\n",
        "for center_1, center_2 in zip(bin_center_values[:-1], bin_center_values[1:]):\n",
        "    plt.axvline(.5 * (center_1 + center_2), color='b', linestyle='--')\n",
        "\n",
        "plt.show()"
      ],
      "execution_count": null,
      "outputs": []
    },
    {
      "cell_type": "code",
      "metadata": {
        "id": "B_mJydcsmwIR"
      },
      "source": [
        "############ I am done #################"
      ],
      "execution_count": null,
      "outputs": []
    }
  ]
}