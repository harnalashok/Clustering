{
 "cells": [
  {
   "cell_type": "code",
   "execution_count": null,
   "metadata": {},
   "outputs": [],
   "source": [
    "## Last amended: 24th June, 2020\n",
    "## My folder: C:\\Users\\ashokharnal\\OneDrive\\Documents\\cluster_analysis\n",
    "##            /home/ashok/Documents/4.clustering\n",
    "\n",
    "## My R file: quantization_image.R\n",
    "## Ref: Colour quantization:\n",
    "## http://scikit-learn.org/stable/auto_examples/cluster/plot_color_quantization.html#sphx-glr-auto-examples-cluster-plot-color-quantization-py\n",
    "## https://alstatr.blogspot.in/2014/09/r-k-means-clustering-on-image.html\n",
    "## https://en.wikipedia.org/wiki/Color_quantization\n",
    "## http://lmcaraig.com/color-quantization-using-k-means/\n",
    "## https://rwalk.xyz/color-quantization-in-r/\n",
    "##\n",
    "## Objectives:\n",
    "##           i)  Learn to process images: read/reshape/save\n",
    "##           ii) Reduce no of colours in a colour palette\n",
    "##               using k-means\n",
    "\n",
    "## Steps:\n",
    "#             1. Read any image (skimage.imread/plt.imread)\n",
    "#                Shape: 419 X 640 X 3\n",
    "#             2. Reshape it to: 268160 X 3 (np.reshape)\n",
    "#                That is, each pixel falls in a row with its\n",
    "#                three colour intensities listed\n",
    "#             3. Scale above numpy table/color values by dividing by 255\n",
    "#             4. We have three columns of 270000 rows each\n",
    "#                Cluster them into 64 clusters (KMeans)\n",
    "#             5. Find cluster labels of each row (clust_labels)\n",
    "#             6. Replace each RGB row by its respective\n",
    "#                cluster-center (model.cluster_centers_[clust_labels])\n",
    "#             7. Reshape image back and plot it\n",
    "\n"
   ]
  },
  {
   "cell_type": "code",
   "execution_count": 1,
   "metadata": {},
   "outputs": [],
   "source": [
    "## 1. Call libraries\n",
    "import numpy as np\n",
    "# 1.1. For displaying graphics\n",
    "import matplotlib.pyplot as plt\n",
    "# 1.2. For image reading/manipulation\n",
    "#      Images can be manipulated using opencv, pillow and skimage\n",
    "#      Install skimage as:\n",
    "##     conda install -c anaconda scikit-image\n",
    "from skimage.io import imread    # Read image\n",
    "from skimage.io import imshow    # Display image\n",
    "from skimage.io import imsave    # Save image\n",
    "# 1.3 For clustering\n",
    "from sklearn.cluster import KMeans\n",
    "# 1.4 OS related\n",
    "import os\n",
    "import time  # Measuring process time"
   ]
  },
  {
   "cell_type": "code",
   "execution_count": 2,
   "metadata": {},
   "outputs": [],
   "source": [
    "# IPython Notebook cell multiple outputs\n",
    "# https://stackoverflow.com/a/42476224/3282777\n",
    "from IPython.core.interactiveshell import InteractiveShell\n",
    "InteractiveShell.ast_node_interactivity = \"all\""
   ]
  },
  {
   "cell_type": "code",
   "execution_count": 3,
   "metadata": {},
   "outputs": [],
   "source": [
    "# 1.5 Set print options for arrays\n",
    "np.set_printoptions(precision = 3,          # Display upto 3 decimal places\n",
    "                    threshold=np.inf        # Display full array\n",
    "                    )\n",
    "\n",
    "# 2. Set working folder and read file\n",
    "os.chdir(\"F:\\\\vmfinal\\\\lubuntu_machinelearning_I\\\\lubuntu_machinelearning_I_raw\\\\Documents\\\\4.clustering\")"
   ]
  },
  {
   "cell_type": "code",
   "execution_count": 4,
   "metadata": {},
   "outputs": [],
   "source": [
    "# 2.1 Read the image file\n",
    "china= plt.imread(\"china.jpg\")\n",
    "#china   # Image is  a multi-dimensional array"
   ]
  },
  {
   "cell_type": "code",
   "execution_count": 5,
   "metadata": {},
   "outputs": [
    {
     "data": {
      "text/plain": [
       "(419, 640, 3)"
      ]
     },
     "execution_count": 5,
     "metadata": {},
     "output_type": "execute_result"
    },
    {
     "data": {
      "text/plain": [
       "(175, 200, 230)"
      ]
     },
     "execution_count": 5,
     "metadata": {},
     "output_type": "execute_result"
    },
    {
     "data": {
      "text/plain": [
       "dtype('uint8')"
      ]
     },
     "execution_count": 5,
     "metadata": {},
     "output_type": "execute_result"
    }
   ],
   "source": [
    "# 2.1.1 Three colour channels (RGB) of 419 X 640 each\n",
    "china.shape    # 419 X 640 X 3==> Panels of 419 X 640, 3 layers deep\n",
    "# china[0,0,0], china[0,0,1], china[0,0,2] => Colour of 1 pixrl\n",
    "china[0,0,0] , china[0,0,1], china[0,0,2]    # (175, 200, 230)\n",
    "\n",
    "china.dtype    # dtype('uint8')"
   ]
  },
  {
   "cell_type": "code",
   "execution_count": 6,
   "metadata": {},
   "outputs": [
    {
     "data": {
      "text/plain": [
       "(175, 200, 230)"
      ]
     },
     "execution_count": 6,
     "metadata": {},
     "output_type": "execute_result"
    },
    {
     "data": {
      "text/plain": [
       "0"
      ]
     },
     "execution_count": 6,
     "metadata": {},
     "output_type": "execute_result"
    },
    {
     "data": {
      "text/plain": [
       "255"
      ]
     },
     "execution_count": 6,
     "metadata": {},
     "output_type": "execute_result"
    }
   ],
   "source": [
    "### 2.2 Some Experiment on image array\n",
    "#       Observe some colour values in each frame\n",
    "china[0,0,0] , china[0,0,1] , china[0,0,2]     # (175, 200, 230)\n",
    "\n",
    "# 2.3 What are max and min colour intensites\n",
    "np.min(china)       # 0\n",
    "np.max(china)       # 255"
   ]
  },
  {
   "cell_type": "code",
   "execution_count": 7,
   "metadata": {},
   "outputs": [
    {
     "data": {
      "text/plain": [
       "array([[[29, 33, 32],\n",
       "        [11, 15, 14],\n",
       "        [ 4,  8,  7],\n",
       "        [15, 21, 21],\n",
       "        [19, 25, 25]],\n",
       "\n",
       "       [[10, 14, 15],\n",
       "        [ 8, 14, 14],\n",
       "        [12, 18, 18],\n",
       "        [20, 26, 26],\n",
       "        [17, 23, 23]],\n",
       "\n",
       "       [[27, 28, 30],\n",
       "        [23, 24, 26],\n",
       "        [10, 14, 15],\n",
       "        [26, 30, 33],\n",
       "        [18, 22, 25]],\n",
       "\n",
       "       [[13, 13, 15],\n",
       "        [15, 15, 17],\n",
       "        [13, 13, 15],\n",
       "        [15, 15, 17],\n",
       "        [30, 31, 33]]], dtype=uint8)"
      ]
     },
     "execution_count": 7,
     "metadata": {},
     "output_type": "execute_result"
    },
    {
     "data": {
      "text/plain": [
       "(4, 5, 3)"
      ]
     },
     "execution_count": 7,
     "metadata": {},
     "output_type": "execute_result"
    },
    {
     "data": {
      "text/plain": [
       "array([[[29, 33, 32],\n",
       "        [11, 15, 14],\n",
       "        [ 4,  8,  7],\n",
       "        [15, 21, 21],\n",
       "        [19, 25, 25]],\n",
       "\n",
       "       [[10, 14, 15],\n",
       "        [ 8, 14, 14],\n",
       "        [12, 18, 18],\n",
       "        [20, 26, 26],\n",
       "        [17, 23, 23]],\n",
       "\n",
       "       [[27, 28, 30],\n",
       "        [23, 24, 26],\n",
       "        [10, 14, 15],\n",
       "        [26, 30, 33],\n",
       "        [18, 22, 25]],\n",
       "\n",
       "       [[13, 13, 15],\n",
       "        [15, 15, 17],\n",
       "        [13, 13, 15],\n",
       "        [15, 15, 17],\n",
       "        [30, 31, 33]]], dtype=uint8)"
      ]
     },
     "execution_count": 7,
     "metadata": {},
     "output_type": "execute_result"
    },
    {
     "data": {
      "text/plain": [
       "29"
      ]
     },
     "execution_count": 7,
     "metadata": {},
     "output_type": "execute_result"
    },
    {
     "data": {
      "text/plain": [
       "33"
      ]
     },
     "execution_count": 7,
     "metadata": {},
     "output_type": "execute_result"
    },
    {
     "data": {
      "text/plain": [
       "10"
      ]
     },
     "execution_count": 7,
     "metadata": {},
     "output_type": "execute_result"
    },
    {
     "data": {
      "text/plain": [
       "14"
      ]
     },
     "execution_count": 7,
     "metadata": {},
     "output_type": "execute_result"
    },
    {
     "data": {
      "text/plain": [
       "11"
      ]
     },
     "execution_count": 7,
     "metadata": {},
     "output_type": "execute_result"
    },
    {
     "data": {
      "text/plain": [
       "15"
      ]
     },
     "execution_count": 7,
     "metadata": {},
     "output_type": "execute_result"
    },
    {
     "data": {
      "text/plain": [
       "array([[29, 33, 32],\n",
       "       [11, 15, 14],\n",
       "       [ 4,  8,  7],\n",
       "       [15, 21, 21],\n",
       "       [19, 25, 25],\n",
       "       [10, 14, 15],\n",
       "       [ 8, 14, 14],\n",
       "       [12, 18, 18],\n",
       "       [20, 26, 26],\n",
       "       [17, 23, 23],\n",
       "       [27, 28, 30],\n",
       "       [23, 24, 26],\n",
       "       [10, 14, 15],\n",
       "       [26, 30, 33],\n",
       "       [18, 22, 25],\n",
       "       [13, 13, 15],\n",
       "       [15, 15, 17],\n",
       "       [13, 13, 15],\n",
       "       [15, 15, 17],\n",
       "       [30, 31, 33]], dtype=uint8)"
      ]
     },
     "execution_count": 7,
     "metadata": {},
     "output_type": "execute_result"
    },
    {
     "data": {
      "text/plain": [
       "array([[[29, 33, 32],\n",
       "        [11, 15, 14],\n",
       "        [ 4,  8,  7],\n",
       "        [15, 21, 21],\n",
       "        [19, 25, 25]],\n",
       "\n",
       "       [[10, 14, 15],\n",
       "        [ 8, 14, 14],\n",
       "        [12, 18, 18],\n",
       "        [20, 26, 26],\n",
       "        [17, 23, 23]],\n",
       "\n",
       "       [[27, 28, 30],\n",
       "        [23, 24, 26],\n",
       "        [10, 14, 15],\n",
       "        [26, 30, 33],\n",
       "        [18, 22, 25]],\n",
       "\n",
       "       [[13, 13, 15],\n",
       "        [15, 15, 17],\n",
       "        [13, 13, 15],\n",
       "        [15, 15, 17],\n",
       "        [30, 31, 33]]], dtype=uint8)"
      ]
     },
     "execution_count": 7,
     "metadata": {},
     "output_type": "execute_result"
    },
    {
     "data": {
      "text/plain": [
       "array([[[29, 33, 32],\n",
       "        [11, 15, 14],\n",
       "        [ 4,  8,  7],\n",
       "        [15, 21, 21],\n",
       "        [19, 25, 25]],\n",
       "\n",
       "       [[10, 14, 15],\n",
       "        [ 8, 14, 14],\n",
       "        [12, 18, 18],\n",
       "        [20, 26, 26],\n",
       "        [17, 23, 23]],\n",
       "\n",
       "       [[27, 28, 30],\n",
       "        [23, 24, 26],\n",
       "        [10, 14, 15],\n",
       "        [26, 30, 33],\n",
       "        [18, 22, 25]],\n",
       "\n",
       "       [[13, 13, 15],\n",
       "        [15, 15, 17],\n",
       "        [13, 13, 15],\n",
       "        [15, 15, 17],\n",
       "        [30, 31, 33]]], dtype=uint8)"
      ]
     },
     "execution_count": 7,
     "metadata": {},
     "output_type": "execute_result"
    }
   ],
   "source": [
    "##############################################\n",
    "# Experiment begins on reshaping image\n",
    "##############################################\n",
    "# 2.4 Reshaping image and reshaping back. Is it restored?\n",
    "#      Extract colour intensity values form\n",
    "test = china[120:124, 116:121, 0:3]\n",
    "test\n",
    "# 2.4.1 Its shape?\n",
    "test.shape    # (4,5,3)\n",
    "test          #  Or 4-rows of 5-pixels each\n",
    "              #   Inner array is RGB coord of each pixel\n",
    "\n",
    "\n",
    "china[120,116,0]        # 29\n",
    "china[120,116,1]        # 33\n",
    "china[121,116,0]        # 10\n",
    "china[121,116,1]        # 14\n",
    "china[120,117,0]        # 11\n",
    "china[120,117,1]        # 15\n",
    "\n",
    "\n",
    "# 2.4.2 Now reshape it in a 2-d array\n",
    "test1 = test.reshape(20,3)    # 20 rows X 3 cols\n",
    "\n",
    "# 2.4.3 Compare the following two: one reshaped\n",
    "#       and the other not\n",
    "test1\n",
    "test\n",
    "\n",
    "# 2.4.4 And reshape back. Does it compare with original?\n",
    "test1.reshape(4,5,3)\n",
    "\n",
    "### Experiment Ends\n",
    "##############################################"
   ]
  },
  {
   "cell_type": "code",
   "execution_count": 8,
   "metadata": {},
   "outputs": [
    {
     "data": {
      "text/plain": [
       "(268160, 3)"
      ]
     },
     "execution_count": 8,
     "metadata": {},
     "output_type": "execute_result"
    }
   ],
   "source": [
    "# 3. Reshape china image\n",
    "newchina = china.reshape(china.shape[0] * china.shape[1],     # 419 X 640\n",
    "                         china.shape[2]\n",
    "                         )\n",
    "newchina.shape             # (268160, 3)"
   ]
  },
  {
   "cell_type": "code",
   "execution_count": 9,
   "metadata": {},
   "outputs": [
    {
     "data": {
      "text/plain": [
       "(268160, 3)"
      ]
     },
     "execution_count": 9,
     "metadata": {},
     "output_type": "execute_result"
    }
   ],
   "source": [
    "# 3.1 Normalize all image colors\n",
    "newchina = newchina/255\n",
    "newchina.shape"
   ]
  },
  {
   "cell_type": "code",
   "execution_count": 10,
   "metadata": {},
   "outputs": [
    {
     "data": {
      "text/plain": [
       "array([[0.686, 0.784, 0.902],\n",
       "       [0.686, 0.784, 0.902],\n",
       "       [0.686, 0.784, 0.902],\n",
       "       [0.69 , 0.788, 0.906],\n",
       "       [0.69 , 0.788, 0.906],\n",
       "       [0.69 , 0.788, 0.906],\n",
       "       [0.69 , 0.788, 0.906],\n",
       "       [0.69 , 0.788, 0.906],\n",
       "       [0.694, 0.792, 0.91 ],\n",
       "       [0.69 , 0.788, 0.906]])"
      ]
     },
     "execution_count": 10,
     "metadata": {},
     "output_type": "execute_result"
    }
   ],
   "source": [
    "# 3.2 Observe normalized R-G-B colors of top-10 points\n",
    "newchina[:10, : ]"
   ]
  },
  {
   "cell_type": "code",
   "execution_count": 11,
   "metadata": {},
   "outputs": [],
   "source": [
    "# 4. Perform clustering of R-G-B\n",
    "#    Set kmeans parameters. Get 64 colours\n",
    "# 4.1   Instantiate the class\n",
    "model = KMeans(n_clusters = 64 )"
   ]
  },
  {
   "cell_type": "code",
   "execution_count": null,
   "metadata": {},
   "outputs": [],
   "source": [
    "# 4.2 Perform kmeans clustering (10 minutes)\n",
    "start = time.time()\n",
    "clust_labels = model.fit_predict(X = newchina)\n",
    "end = time.time()\n",
    "print((end - start)//60)     # 2 to 4 minutes"
   ]
  },
  {
   "cell_type": "code",
   "execution_count": null,
   "metadata": {},
   "outputs": [],
   "source": [
    "# 5. Look at cluster labels\n",
    "clust_labels[:5]\n",
    "\n",
    "# 5.1 How many labels\n",
    "len(clust_labels)          # 268160"
   ]
  },
  {
   "cell_type": "code",
   "execution_count": null,
   "metadata": {},
   "outputs": [],
   "source": [
    "# 6. And get 64 cluster centers\n",
    "cent=model.cluster_centers_     # Use model.<tab> to get 'model' attributes\n",
    "#cent\n",
    "cent[0]\n",
    "cent.shape      # (64, 3)"
   ]
  },
  {
   "cell_type": "code",
   "execution_count": null,
   "metadata": {},
   "outputs": [],
   "source": [
    "# 6.1 For each cluster label, get RGB values\n",
    "ff = cent[clust_labels]        #  model.cluster_centers_[clust_labels]\n",
    "ff.shape"
   ]
  },
  {
   "cell_type": "code",
   "execution_count": null,
   "metadata": {},
   "outputs": [],
   "source": [
    "########################################\n",
    "## 6.2 Another better way of copying:\n",
    "########################################\n",
    "# 6.3\n",
    "b = np.zeros((newchina.shape[0],3))\n",
    "b.shape     # (268160, 3)\n",
    "clust_labels[0]\n",
    "\n",
    "# 6.4\n",
    "for i in range(newchina.shape[0]):\n",
    "    b[i] = cent[clust_labels[i]]\n",
    "\n",
    "# 6.5\n",
    "ff = b\n",
    "ff.shape     # (268160, 3)\n",
    "######################################"
   ]
  },
  {
   "cell_type": "code",
   "execution_count": null,
   "metadata": {},
   "outputs": [],
   "source": [
    "# 7. Get image back by reshaping\n",
    "modiImage = ff.reshape(419,640,3)"
   ]
  },
  {
   "cell_type": "code",
   "execution_count": null,
   "metadata": {},
   "outputs": [],
   "source": [
    "# 8. Show 64-color image\n",
    "abc = plt.figure(1)\n",
    "abc = plt.title('Quantized image (64 colors)')\n",
    "abc = plt.imshow(modiImage) \n",
    "\n",
    "# 9. Show original image\n",
    "abc = plt.figure(2)\n",
    "abc = plt.title(\"Original image\")\n",
    "abc = abc = plt.imshow(china)"
   ]
  },
  {
   "cell_type": "code",
   "execution_count": null,
   "metadata": {},
   "outputs": [],
   "source": [
    "# 10.3 Save image and check size. It is reduced.\n",
    "plt.imsave(\"modiImage.jpg\", modiImage, format = \"jpg\")        # This does not reduce size"
   ]
  },
  {
   "cell_type": "code",
   "execution_count": null,
   "metadata": {},
   "outputs": [],
   "source": [
    "# Note: It appears that matplotlib's imsave, saves some extra\n",
    "#       meta information about the image such as axes etc. and\n",
    "#       hence the image size is more.\n",
    "\n",
    "# 10.3.1 Use skimage.io utility\n",
    "imsave(\"modiImage.jpg\", modiImage)       # This does reduce image size"
   ]
  },
  {
   "cell_type": "code",
   "execution_count": null,
   "metadata": {},
   "outputs": [],
   "source": [
    "# 10.3.1 Use skimage.io utility\n",
    "imsave(\"modiImage.jpg\", modiImage)       # This does reduce image size"
   ]
  },
  {
   "cell_type": "code",
   "execution_count": null,
   "metadata": {},
   "outputs": [],
   "source": [
    "################# Done ###########################33"
   ]
  }
 ],
 "metadata": {
  "kernelspec": {
   "display_name": "Python 3",
   "language": "python",
   "name": "python3"
  },
  "language_info": {
   "codemirror_mode": {
    "name": "ipython",
    "version": 3
   },
   "file_extension": ".py",
   "mimetype": "text/x-python",
   "name": "python",
   "nbconvert_exporter": "python",
   "pygments_lexer": "ipython3",
   "version": "3.7.6"
  }
 },
 "nbformat": 4,
 "nbformat_minor": 4
}
